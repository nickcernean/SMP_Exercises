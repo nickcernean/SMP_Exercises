{
 "cells": [
  {
   "cell_type": "code",
   "execution_count": 37,
   "metadata": {},
   "outputs": [],
   "source": [
    "from scipy import stats\n",
    "from scipy.stats import norm\n",
    "from scipy.stats import t\n",
    "from scipy.stats import binom\n",
    "from scipy.stats import geom\n",
    "from scipy.stats import hypergeom\n",
    "from scipy.stats import poisson\n",
    "from scipy.stats import nbinom\n",
    "import pandas as pd\n",
    "import numpy as np\n",
    "import sympy as sp\n",
    "from sympy import *\n",
    "sp.init_printing()\n",
    "import matplotlib.pyplot as plt\n",
    "import scipy.integrate as integrate\n",
    "import scipy.special as special\n",
    "from scipy.integrate import quad\n",
    "import numpy as np\n",
    "from scipy.misc import derivative\n",
    "import math\n",
    "from math import *\n",
    "from fractions import Fraction\n",
    "import fractions\n",
    "from sympy import Rational as R\n",
    "from IPython.display import display, Math, Latex\n",
    "%matplotlib inline\n",
    "from IPython.display import Image, HTML"
   ]
  },
  {
   "attachments": {},
   "cell_type": "markdown",
   "metadata": {},
   "source": [
    "## Problems 5"
   ]
  },
  {
   "attachments": {},
   "cell_type": "markdown",
   "metadata": {},
   "source": [
    "## Exercise 1 Recap ch 4. </br>\n",
    "Let X ~ N (3, 9)"
   ]
  },
  {
   "attachments": {},
   "cell_type": "markdown",
   "metadata": {},
   "source": [
    "**a)** Find P (X > 0) </br>\n",
    "$\\mu$ = 3 </br>\n",
    "$\\sigma ^2$ = 9 </br>\n",
    "$Z = \\frac {x - \\mu}{\\sigma ^2} = \\frac {0 - 3}{\\sqrt{9}} =-1 =>$ </br>\n",
    "$P(X>0)= F(-(-1))= F(1)$"
   ]
  },
  {
   "cell_type": "code",
   "execution_count": 10,
   "metadata": {},
   "outputs": [
    {
     "data": {
      "text/latex": [
       "$\\displaystyle P(X > 0) = 0.8413$"
      ],
      "text/plain": [
       "<IPython.core.display.Math object>"
      ]
     },
     "metadata": {},
     "output_type": "display_data"
    }
   ],
   "source": [
    "x = symbols('x')\n",
    "mean = 3\n",
    "variance = 9\n",
    "x_1 = 0\n",
    "\n",
    "z_score = (x_1 - mean)/math.sqrt(variance)\n",
    "\n",
    "fx = (1/(math.sqrt(2*math.pi)))*E**(-((x-0)**2)/2)\n",
    "\n",
    "res1 = sp.integrate(fx, (x, -sp.oo, z_score))\n",
    "\n",
    "display(Math(\"P(X > 0) = \" + repr(round(1-res1, 4))))"
   ]
  },
  {
   "attachments": {},
   "cell_type": "markdown",
   "metadata": {},
   "source": [
    "**b)** Find P (−3 < X < 8) </br>\n",
    "$P (−3 < X < 8) = P(X < 8) - P( X < - 3)$ </br>\n",
    "$Z_1 = \\frac {x - \\mu}{\\sigma ^2} = \\frac {8 - 3}{\\sqrt{9}} = \\frac {5}{3} =>$ </br>\n",
    "$Z_2 = \\frac {x - \\mu}{\\sigma ^2} = \\frac {-3 - 3}{\\sqrt{9}} =-2 =>$ </br>\n",
    "$P(−3 < X < 8)= F(\\frac {5} {3}) - F(-2)$\n"
   ]
  },
  {
   "cell_type": "code",
   "execution_count": 12,
   "metadata": {},
   "outputs": [
    {
     "data": {
      "text/latex": [
       "$\\displaystyle P(−3 < X < 8) = 0.9295$"
      ],
      "text/plain": [
       "<IPython.core.display.Math object>"
      ]
     },
     "metadata": {},
     "output_type": "display_data"
    }
   ],
   "source": [
    "x = symbols('x')\n",
    "mean = 3\n",
    "variance = 9\n",
    "\n",
    "x_1 = 8\n",
    "x_2 = -3\n",
    "\n",
    "z_score_1 = (x_1 - mean)/math.sqrt(variance)\n",
    "z_score_2 = (x_2 - mean)/math.sqrt(variance)\n",
    "\n",
    "fx = (1/(math.sqrt(2*math.pi)))*E**(-((x-0)**2)/2)\n",
    "\n",
    "res1 = sp.integrate(fx, (x, -sp.oo, z_score_1))\n",
    "\n",
    "res2 = sp.integrate(fx, (x, -sp.oo, z_score_2))\n",
    "\n",
    "display(Math(\"P(−3 < X < 8) = \" + repr(round(res1-res2, 4))))"
   ]
  },
  {
   "attachments": {},
   "cell_type": "markdown",
   "metadata": {},
   "source": [
    "**c)** Find P(X > 5|X > 3) </br>\n",
    "$P (X > 5|X > 3) = \\frac {P(X > 5 \\cap X > 3)}{P(X>3)} = \\frac {P(X > 5)}{P(X > 3)}$ </br>\n",
    "$Z_1 = \\frac {x - \\mu}{\\sigma ^2} = \\frac {5 - 3}{\\sqrt{9}} = \\frac {2}{3} =>$ </br>\n",
    "$Z_2 = \\frac {x - \\mu}{\\sigma ^2} = \\frac {3 - 3}{\\sqrt{9}} = 0 =>$ </br>\n",
    "$P( X>5|X>3)= \\frac {1-F(\\frac {2}{3})} {F(0)}$"
   ]
  },
  {
   "cell_type": "code",
   "execution_count": 15,
   "metadata": {},
   "outputs": [
    {
     "data": {
      "text/latex": [
       "$\\displaystyle P() = 0.5050$"
      ],
      "text/plain": [
       "<IPython.core.display.Math object>"
      ]
     },
     "metadata": {},
     "output_type": "display_data"
    }
   ],
   "source": [
    "x = symbols('x')\n",
    "mean = 3\n",
    "variance = 9\n",
    "\n",
    "x_1 = 5\n",
    "x_2 = 3\n",
    "\n",
    "z_score_1 = (x_1 - mean)/math.sqrt(variance)\n",
    "z_score_2 = (x_2 - mean)/math.sqrt(variance)\n",
    "\n",
    "fx = (1/(math.sqrt(2*math.pi)))*E**(-((x-0)**2)/2)\n",
    "\n",
    "res1 = sp.integrate(fx, (x, -sp.oo, z_score_1))\n",
    "\n",
    "res2 = sp.integrate(fx, (x, -sp.oo, z_score_2))\n",
    "\n",
    "display(Math(\"P() = \" + repr(round((1-res1)/res2, 4))))"
   ]
  },
  {
   "attachments": {},
   "cell_type": "markdown",
   "metadata": {},
   "source": [
    "## Exercise 2 Recap ch 4. </br>\n",
    "Let X ∼ N (3, 9) and Y = 5 − X."
   ]
  },
  {
   "attachments": {},
   "cell_type": "markdown",
   "metadata": {},
   "source": [
    "**a)** Find P (X > 2) </br>\n",
    "$\\mu$ = 3 </br>\n",
    "$\\sigma ^2$ = 9 </br>\n",
    "$Z = \\frac {x - \\mu}{\\sigma ^2} = \\frac {2 - 3}{\\sqrt{9}} =\\frac {-1} {3}=>$ </br>\n",
    "$P (X > 2)= 1 - P(X<2)= 1 - F(\\frac {2}{3})$"
   ]
  },
  {
   "cell_type": "code",
   "execution_count": 17,
   "metadata": {},
   "outputs": [
    {
     "data": {
      "text/latex": [
       "$\\displaystyle P(X > 2) = 0.6306$"
      ],
      "text/plain": [
       "<IPython.core.display.Math object>"
      ]
     },
     "metadata": {},
     "output_type": "display_data"
    }
   ],
   "source": [
    "x = symbols('x')\n",
    "mean = 3\n",
    "variance = 9\n",
    "x_1 = 2\n",
    "\n",
    "z_score = (x_1 - mean)/math.sqrt(variance)\n",
    "\n",
    "fx = (1/(math.sqrt(2*math.pi)))*E**(-((x-0)**2)/2)\n",
    "\n",
    "res1 = sp.integrate(fx, (x, -sp.oo, z_score))\n",
    "\n",
    "display(Math(\"P(X > 2) = \" + repr(round(1-res1, 4))))"
   ]
  },
  {
   "attachments": {},
   "cell_type": "markdown",
   "metadata": {},
   "source": [
    "**b)** Find P (−1 < Y < 3). </br>\n",
    "Since Y = 5-X => </br>\n",
    "$P(-1< 5-X<3) => P(6 > X > 2)=> P(2 < X < 6)$</br>\n",
    "$\\mu$ = 3 </br>\n",
    "$\\sigma ^2$ = 9 </br>\n",
    "$Z_1 = \\frac {x - \\mu}{\\sigma ^2} = \\frac {6 - 3}{\\sqrt{9}} = 1 =>$ </br>\n",
    "$Z_2 = \\frac {x - \\mu}{\\sigma ^2} = \\frac {2 - 3}{\\sqrt{9}} = -\\frac {1} {3} =>$ </br>\n",
    "$ P(−1 < Y < 3) = P(2 < X < 6) = 1 - P(X < 2)= F(1) - F(-\\frac {1}{3})$"
   ]
  },
  {
   "cell_type": "code",
   "execution_count": 18,
   "metadata": {},
   "outputs": [
    {
     "data": {
      "text/latex": [
       "$\\displaystyle P() = 0.4719$"
      ],
      "text/plain": [
       "<IPython.core.display.Math object>"
      ]
     },
     "metadata": {},
     "output_type": "display_data"
    }
   ],
   "source": [
    "x = symbols('x')\n",
    "mean = 3\n",
    "variance = 9\n",
    "\n",
    "x_1 = 6\n",
    "x_2 = 2\n",
    "\n",
    "z_score_1 = (x_1 - mean)/math.sqrt(variance)\n",
    "z_score_2 = (x_2 - mean)/math.sqrt(variance)\n",
    "\n",
    "fx = (1/(math.sqrt(2*math.pi)))*E**(-((x-0)**2)/2)\n",
    "\n",
    "res1 = sp.integrate(fx, (x, -sp.oo, z_score_1))\n",
    "\n",
    "res2 = sp.integrate(fx, (x, -sp.oo, z_score_2))\n",
    "\n",
    "display(Math(\"P(X >) = \" + repr(round(res1-res2, 4))))"
   ]
  },
  {
   "attachments": {},
   "cell_type": "markdown",
   "metadata": {},
   "source": [
    "**c)** Find $ P(X > 4| Y < 2) //// Y=5-X => X>3 $</br>\n",
    "$P(X > 4| Y < 2) = \\frac {P(X > 4 \\cap Y < 2)}{P(Y < 2)} = \\frac {P(X > 4 \\cap X > 3)}{P(X > 3)} = \\frac {P(X > 4)}{P(X > 3)}$ </br>\n",
    "$Z_1 = \\frac {x - \\mu}{\\sigma ^2} = \\frac {4 - 3}{\\sqrt{9}} = \\frac {1}{3} =>$ </br>\n",
    "$Z_2 = \\frac {x - \\mu}{\\sigma ^2} = \\frac {3 - 3}{\\sqrt{9}} = 0 =>$ </br>\n",
    "$P(X>4|Y<3)= \\frac {1-F(\\frac {1}{3})} {1-F(0)}$"
   ]
  },
  {
   "cell_type": "code",
   "execution_count": 19,
   "metadata": {},
   "outputs": [
    {
     "data": {
      "text/latex": [
       "$\\displaystyle P() = 0.7389$"
      ],
      "text/plain": [
       "<IPython.core.display.Math object>"
      ]
     },
     "metadata": {},
     "output_type": "display_data"
    }
   ],
   "source": [
    "x = symbols('x')\n",
    "mean = 3\n",
    "variance = 9\n",
    "\n",
    "x_1 = 4\n",
    "x_2 = 3\n",
    "\n",
    "z_score_1 = (x_1 - mean)/math.sqrt(variance)\n",
    "z_score_2 = (x_2 - mean)/math.sqrt(variance)\n",
    "\n",
    "fx = (1/(math.sqrt(2*math.pi)))*E**(-((x-0)**2)/2)\n",
    "\n",
    "res1 = sp.integrate(fx, (x, -sp.oo, z_score_1))\n",
    "\n",
    "res2 = sp.integrate(fx, (x, -sp.oo, z_score_2))\n",
    "\n",
    "display(Math(\"P() = \" + repr(round((1-res1)/(1-res2), 4))))"
   ]
  },
  {
   "attachments": {},
   "cell_type": "markdown",
   "metadata": {},
   "source": [
    "## Exercise 5 Recap ch 5. </br>\n",
    "Consider the set of points in the set:\n",
    "$ C=\\{(x,y)|x,y ∈ Z, x^2 + |y| \\leq 2 \\}$ </br>\n",
    "Suppose that we pick a point (X, Y ) from this set completely at random."
   ]
  },
  {
   "attachments": {},
   "cell_type": "markdown",
   "metadata": {},
   "source": [
    "**a)** What probability does each point have of being chosen?</br>\n",
    "x,y ∈ Z => {x,y}={-oo;oo}/integers =></br>\n",
    "all possible combinations with $x^2+|y| \\leq 2$ => </br>\n",
    "(x,y)= {(-1,-1),(-1,0),(-1,1),(0,-2),(0,-1),(0,1),(0,2),(1,-1),(1,0),(1,1),(0,0)} => </br>\n",
    "p = $\\frac {1}{11}$"
   ]
  },
  {
   "attachments": {},
   "cell_type": "markdown",
   "metadata": {},
   "source": [
    "**b)** Find the joint and marginal PMFs of X and Y.</br>\n",
    "$P(x,y)=\\begin{bmatrix} \\frac {1}{11} (x,y) ∈ C \\cr 0, otherwise\\end{bmatrix}$ </br>"
   ]
  },
  {
   "cell_type": "code",
   "execution_count": 26,
   "metadata": {},
   "outputs": [
    {
     "data": {
      "text/html": [
       "<div>\n",
       "<style scoped>\n",
       "    .dataframe tbody tr th:only-of-type {\n",
       "        vertical-align: middle;\n",
       "    }\n",
       "\n",
       "    .dataframe tbody tr th {\n",
       "        vertical-align: top;\n",
       "    }\n",
       "\n",
       "    .dataframe thead th {\n",
       "        text-align: right;\n",
       "    }\n",
       "</style>\n",
       "<table border=\"1\" class=\"dataframe\">\n",
       "  <thead>\n",
       "    <tr style=\"text-align: right;\">\n",
       "      <th></th>\n",
       "      <th>-1</th>\n",
       "      <th>0</th>\n",
       "      <th>1</th>\n",
       "    </tr>\n",
       "  </thead>\n",
       "  <tbody>\n",
       "    <tr>\n",
       "      <th>-2</th>\n",
       "      <td>0</td>\n",
       "      <td>1/11</td>\n",
       "      <td>0</td>\n",
       "    </tr>\n",
       "    <tr>\n",
       "      <th>-1</th>\n",
       "      <td>1/11</td>\n",
       "      <td>1/11</td>\n",
       "      <td>1/11</td>\n",
       "    </tr>\n",
       "    <tr>\n",
       "      <th>0</th>\n",
       "      <td>1/11</td>\n",
       "      <td>1/11</td>\n",
       "      <td>1/11</td>\n",
       "    </tr>\n",
       "    <tr>\n",
       "      <th>1</th>\n",
       "      <td>1/11</td>\n",
       "      <td>1/11</td>\n",
       "      <td>1/11</td>\n",
       "    </tr>\n",
       "    <tr>\n",
       "      <th>2</th>\n",
       "      <td>0</td>\n",
       "      <td>1/11</td>\n",
       "      <td>0</td>\n",
       "    </tr>\n",
       "  </tbody>\n",
       "</table>\n",
       "</div>"
      ],
      "text/plain": [
       "      -1     0     1\n",
       "-2     0  1/11     0\n",
       "-1  1/11  1/11  1/11\n",
       " 0  1/11  1/11  1/11\n",
       " 1  1/11  1/11  1/11\n",
       " 2     0  1/11     0"
      ]
     },
     "execution_count": 26,
     "metadata": {},
     "output_type": "execute_result"
    }
   ],
   "source": [
    "Index = [-2, -1, 0, 1, 2]\n",
    "Columns = {-1: [0, R(1,11), R(1,11), R(1,11), 0], 0: [R(1,11), R(1,11), R(1,11), R(1,11),R(1,11)], 1: [0, R(1,11), R(1,11), R(1,11),0]}\n",
    "df = pd.DataFrame(data=Columns, index = Index)\n",
    "df"
   ]
  },
  {
   "attachments": {},
   "cell_type": "markdown",
   "metadata": {},
   "source": [
    "$P_Y(-2)=P_{XY}(0,-2)= \\frac {1}{11}$ </br>\n",
    "$P_Y(-1)=P_{XY}(0,-1)+P_{XY}(-1,-1)+P_{XY}(1,-1)= \\frac {3}{11}$ </br>\n",
    "$P_Y(0)=P_{XY}(0,0)+P_{XY}(1,0)+P_{XY}(-1,0)= \\frac {3}{11}$ </br>\n",
    "$P_Y(1)=P_{XY}(0,1)+P_{XY}(-1,1)+P_{XY}(1,1)= \\frac {3}{11}$ </br>\n",
    "$P_Y(2)=P_{XY}(0,2) = \\frac {1}{11}$ </br>\n",
    "$P_X(i)=\\begin{bmatrix} \\frac {3}{11} ,& i = -1 &  and &  1 \\cr  \\frac {5}{11} ,& i = 0 \\cr 0,& otherwise \\end{bmatrix}$ </br>"
   ]
  },
  {
   "attachments": {},
   "cell_type": "markdown",
   "metadata": {},
   "source": [
    "**c)** Find the conditional PMF of X given Y = 1. </br>\n",
    "$P(x|y=1)= \\frac {P(x, y=1)}{P(y=1)} = \\frac {P(x \\cap y=1)}{P(y=1)}  = \\frac{\\frac{1}{11}}{\\frac{3}{11}} =\\frac {1}{3}  $"
   ]
  },
  {
   "attachments": {},
   "cell_type": "markdown",
   "metadata": {},
   "source": [
    "**d)** Are X and Y independent? </br>\n",
    "Start from the premise, assume $P(Y=-1 | X=1)=P(Y=-1) if the equation is true => $ </br> \n",
    "then X and Y are dependent </br>\n",
    "$P(Y=-1 | X=-1)$= $\\frac {P(Y=-1 \\cap X=-1)}{P(X=-1)}$ => </br>\n",
    "$\\frac {P(Y=-1 \\cap X=-1)}{P(X=-1)} = P(Y=-1)$ =>\n",
    "$ \\frac {\\frac{1}{11}}{\\frac {3}{11}}=\\frac {3}{11}$ => </br>\n",
    "X and Y are dependent"
   ]
  },
  {
   "attachments": {},
   "cell_type": "markdown",
   "metadata": {},
   "source": [
    "**e)**  Find $ E[XY^2]$ </br>\n",
    "$E[XY^2]= \\displaystyle\\sum_{} xy^2 * f(xy)=$ </br>\n",
    "$=(-1)*(-1)^2*\\frac{1}{11}+ 1*(-1)^2 *\\frac {1}{11} $</br> \n",
    "$+ (-1)*1^2* \\frac{1}{11} + 1*1^2* \\frac{1}{11}$</br>$=0$ "
   ]
  },
  {
   "attachments": {},
   "cell_type": "markdown",
   "metadata": {},
   "source": [
    "**f)**  Find $E[X|Y=1]$ </br>\n",
    "$E[X|Y=1]= \\displaystyle\\sum_{} f_{x|y}(x|y)=$ </br>\n",
    "$=(-1)*\\frac{1}{11} + 0*\\frac {1}{11}+ 1*\\frac {1}{11}$</br>\n",
    "$=0$"
   ]
  },
  {
   "attachments": {},
   "cell_type": "markdown",
   "metadata": {},
   "source": [
    "**g)**  Find $Var[X|Y=1]$ </br>\n",
    "$E[X|Y=1]= E[(X|Y=1)^2] - (E[(X|Y=1)])^2 = E[(X^2|Y=1)]-0 = E[(X^2|Y=1)] $ </br>\n",
    "$= \\frac { (-1)^2*1*\\frac{1}{11}+0^2*1*\\frac{1}{11}*1*1*\\frac{1}{11}}{\\frac{1}{11}+\\frac{1}{11}+\\frac{1}{11}}= \\frac{\\frac {2}{11}}{\\frac{3}{11}}=\\frac{2}{3}$"
   ]
  },
  {
   "attachments": {},
   "cell_type": "markdown",
   "metadata": {},
   "source": [
    "**h)**  Find $E[X given |Y|\\leq 1]$ </br>\n",
    "$E[X given |Y|\\leq 1]=  \\displaystyle\\sum_{} x_i*f_{x|y\\leq 1}(x_i given |y_i|\\leq 1) =$ </br>\n",
    "$\\frac {f(x_i , |y|\\leq 1)}{f(|y|\\leq 1)}$</br>\n",
    "$\\frac {(-1)*(-1)*\\frac{1}{11}+ (-1)*1*\\frac{1}{11}+ 1*(-1)*\\frac{1}{11} + 1*1*\\frac{1}{11}}{(-1)*(\\frac{1}{11}+\\frac{1}{11}+\\frac{1}{11})+ 1*(\\frac{1}{11}+\\frac{1}{11}+\\frac{1}{11})}$ =</br>\n",
    "$=0$ </br>\n"
   ]
  },
  {
   "attachments": {},
   "cell_type": "markdown",
   "metadata": {},
   "source": [
    "**i)** Find $E[X^2 *|Y|\\leq 1]$ </br>\n",
    "$E[X^2 *|Y|\\leq 1]=  \\displaystyle\\sum_{} x^2*|y|*f_{x^2*|y|}(x,y)=$ </br>\n",
    "$= (-1)^2*1*\\frac{1}{11}+1^2*1*\\frac{1}{11}+$ </br>\n",
    "$(-1)^2*1*\\frac{1}{11}+1^2*1*\\frac{1}{11}+$= </br>\n",
    "$=\\frac{4}{11}$"
   ]
  },
  {
   "attachments": {},
   "cell_type": "markdown",
   "metadata": {},
   "source": [
    "## Exercise 4 </br>\n",
    "The number of accidents in a certain city is modeled by a Poisson random variable with average rate of\n",
    "10 accidents per day. Suppose that the number of accidents in different days are independent. Use the\n",
    "central limit theorem to find the probability that there will be more than 3800 accidents in a certain\n",
    "year. Assume that there are 365 days in a year. </br>\n",
    "$P(X>3800)= 1-P(X<3650)$ </br>\n",
    "$\\lambda$ = 365*10"
   ]
  },
  {
   "cell_type": "code",
   "execution_count": 36,
   "metadata": {},
   "outputs": [
    {
     "data": {
      "text/latex": [
       "$\\displaystyle P(X > 3800) = 0.0066$"
      ],
      "text/plain": [
       "<IPython.core.display.Math object>"
      ]
     },
     "metadata": {},
     "output_type": "display_data"
    }
   ],
   "source": [
    "l = 365*10\n",
    "display(Math(\"P(X > 3800) = \" + repr(round(1-poisson.cdf(3800, l), 4))))"
   ]
  },
  {
   "attachments": {},
   "cell_type": "markdown",
   "metadata": {},
   "source": [
    "## Exercise 5 </br>\n",
    "$ Let $X_1, X_2, X_3, ...,X_n$ be a random sample with unknown mean EX_i = μ, and unknown variance\n",
    "$Var(X_i) = \\sigma^2$. Suppose that we would like to estimate $\\theta = μ^2 $. We define the estimator as  $\\overline{\\Theta}$ </br>\n",
    "$\\overline{\\Theta} = (\\overline{X})^2= [\\frac {1}{n} *\\displaystyle\\sum_{k=1}^n X_k ]^2$ </br> "
   ]
  },
  {
   "attachments": {},
   "cell_type": "markdown",
   "metadata": {},
   "source": [
    "We know that </br>\n",
    "An estimator is unbiased if </br>\n",
    "$E[\\overline{\\Theta}]=\\theta$ /Define: $Var(X)= E[X^2]-(E[X])^2$ => </br>\n",
    "$E[\\overline{X}^2]= Var(\\overline{X})+E[\\overline{X}^2]$ </br>\n",
    "$E[X^2]= Var(X)+\\mu^2$ => </br>\n",
    "$E(\\tilde{\\Theta})= Var(\\tilde{X})+\\theta$ </br>\n",
    "<span style=\"color:red\"> DOES NOT SEEM LIKE THE CORRECT SOLUTION, MIGHT LOOK AT IT AGAIN.</span>"
   ]
  },
  {
   "attachments": {},
   "cell_type": "markdown",
   "metadata": {},
   "source": [
    "## Book Exercise ASPE 7.2.8\n",
    "Scientists at the Hopkins Memorial Forest in western Mas-\n",
    "sachusetts have been collecting meteorological and environmen-\n",
    "tal data in the forest data for more than 100 years. In the past\n",
    "few years, sulfate content in water samples from Birch Brook has\n",
    "averaged 7.48 mg/L with a standard deviation of 1.60 mg/L. </br>"
   ]
  },
  {
   "attachments": {},
   "cell_type": "markdown",
   "metadata": {},
   "source": [
    "**a)** What is the standard error of the sulfate in a collection of\n",
    "10 water samples? </br>"
   ]
  },
  {
   "cell_type": "code",
   "execution_count": 41,
   "metadata": {},
   "outputs": [
    {
     "data": {
      "text/latex": [
       "$\\displaystyle SE\\overline{X} = 0.51$"
      ],
      "text/plain": [
       "<IPython.core.display.Math object>"
      ]
     },
     "metadata": {},
     "output_type": "display_data"
    }
   ],
   "source": [
    "n=10 ##sample\n",
    "mean = 7.48\n",
    "variance = 1.60\n",
    "\n",
    "sigma_sample = variance/ sp.sqrt(n)\n",
    "\n",
    "\n",
    "display(Math(\"SE\\overline{X} = \" + repr(round(sigma_sample, 2))))\n"
   ]
  },
  {
   "attachments": {},
   "cell_type": "markdown",
   "metadata": {},
   "source": [
    "**b)** If 10 students measure the sulfate in their samples, what\n",
    "is the probability that their average sulfate will be between\n",
    "6.49 and 8.47 mg/L? </br>\n",
    "$ X $ ~ $ (7.48, 0,51)$ <br>\n",
    "$P(6.49 \\leq X \\leq 8.47)$ </br>\n",
    "$z=\\frac {\\overline{X} - \\mu}{\\sigma_{\\overline{X}}}$"
   ]
  },
  {
   "cell_type": "code",
   "execution_count": 43,
   "metadata": {},
   "outputs": [
    {
     "data": {
      "text/latex": [
       "$\\displaystyle P(6.49 \\leq X \\leq 8.49) = 0.95$"
      ],
      "text/plain": [
       "<IPython.core.display.Math object>"
      ]
     },
     "metadata": {},
     "output_type": "display_data"
    }
   ],
   "source": [
    "x = symbols('x')\n",
    "n=10 ##sample\n",
    "mean = 7.48\n",
    "variance = 1.60\n",
    "\n",
    "sigma_sample = variance/ sp.sqrt(n)\n",
    "\n",
    "x_1 = 6.49\n",
    "x_2 = 8.47\n",
    "\n",
    "z_score_1 = (x_1 - mean)/sigma_sample\n",
    "z_score_2 = (x_2 - mean)/sigma_sample\n",
    "\n",
    "fx = (1/(math.sqrt(2*math.pi)))*E**(-((x-0)**2)/2)\n",
    "\n",
    "res1 = sp.integrate(fx, (x, -sp.oo, z_score_1))\n",
    "\n",
    "res2 = sp.integrate(fx, (x, -sp.oo, z_score_2))\n",
    "\n",
    "display(Math(\"P(6.49 \\leq X \\leq 8.49) = \" + repr(round(res2-res1, 2))))"
   ]
  },
  {
   "attachments": {},
   "cell_type": "markdown",
   "metadata": {},
   "source": [
    "**c)** What do you need to assume for the probability calculated\n",
    "in (b) to be accurate? </br>\n",
    "Assume that the data is normally distributed or the sample data is large enough to apply central limit theorem."
   ]
  },
  {
   "attachments": {},
   "cell_type": "markdown",
   "metadata": {},
   "source": [
    "## Book Exercise ASPE 7.2.10\n",
    "Researchers in the Hopkins Forest (see Exercise 7.2.8)\n",
    "also count the number of maple trees (genus acer) in plots\n",
    "throughout the forest. The following is a histogram of the number\n",
    "of live maples in 1002 plots sampled over the past 20 years. The\n",
    "average number of maples per plot was 19.86 trees with a standard\n",
    "deviation of 23.65 trees </br>\n"
   ]
  },
  {
   "attachments": {},
   "cell_type": "markdown",
   "metadata": {},
   "source": [
    "**a)** If we took the mean of a sample of eight plots, what would\n",
    "be the standard error of the mean? </br>\n"
   ]
  },
  {
   "cell_type": "code",
   "execution_count": 45,
   "metadata": {},
   "outputs": [
    {
     "data": {
      "text/latex": [
       "$\\displaystyle SE\\overline{X} = 8.3615$"
      ],
      "text/plain": [
       "<IPython.core.display.Math object>"
      ]
     },
     "metadata": {},
     "output_type": "display_data"
    }
   ],
   "source": [
    "n=8 ##sample\n",
    "mean = 19.86\n",
    "variance = 23.65\n",
    "\n",
    "sigma_sample = variance/ sp.sqrt(n)\n",
    "\n",
    "\n",
    "display(Math(\"SE\\overline{X} = \" + repr(round(sigma_sample, 4))))\n"
   ]
  },
  {
   "attachments": {},
   "cell_type": "markdown",
   "metadata": {},
   "source": [
    "**b)** Using the central limit theorem, what is the probability\n",
    "that the mean of the eight would be within 1 standard error\n",
    "of the mean?</br>\n",
    "$ X $ ~ $ (19.86, 8.36)$ <br>\n",
    "$P(19.86-8.49 \\leq X \\leq 19.86+8.49)$ </br>\n",
    "$z=\\frac {\\overline{X} - \\mu}{\\sigma_{\\overline{X}}}$\n"
   ]
  },
  {
   "cell_type": "code",
   "execution_count": 55,
   "metadata": {},
   "outputs": [
    {
     "data": {
      "text/latex": [
       "$\\displaystyle P(-8.49 \\leq X \\leq 8.49) = 0.68$"
      ],
      "text/plain": [
       "<IPython.core.display.Math object>"
      ]
     },
     "metadata": {},
     "output_type": "display_data"
    }
   ],
   "source": [
    "x = symbols('x')\n",
    "n=8 ##sample\n",
    "mean = 19.86\n",
    "variance = 23.65\n",
    "\n",
    "sigma_sample = variance/ sp.sqrt(n)\n",
    "## the idea is that you have to find the prob of the error being +-1, so the  interval we are looking at is -1 < X < 1\n",
    "x_1 = 19.86-8.36\n",
    "x_2 = 19.86+8.36\n",
    "\n",
    "z_score_1 = (x_1 - mean)/sigma_sample\n",
    "z_score_2 = (x_2 - mean)/sigma_sample\n",
    "\n",
    "fx = (1/(math.sqrt(2*math.pi)))*E**(-((x-0)**2)/2)\n",
    "\n",
    "res1 = sp.integrate(fx, (x, -sp.oo, z_score_1))\n",
    "\n",
    "res2 = sp.integrate(fx, (x, -sp.oo, z_score_2))\n",
    "\n",
    "display(Math(\"P(-8.49 \\leq X \\leq 8.49) = \" + repr(round(res2-res1, 2))))"
   ]
  },
  {
   "attachments": {},
   "cell_type": "markdown",
   "metadata": {},
   "source": [
    "**c)** Why might you think that the probability that you calcu-\n",
    "lated in (b) might not be very accurate? </br>\n",
    "The sample size might be too small."
   ]
  },
  {
   "attachments": {},
   "cell_type": "markdown",
   "metadata": {},
   "source": [
    "## Book Exercise ASPE 7.3.3\n",
    "Suppose that we have a random sample $X_1,X_2, ... , X_n $ from a population that is $N(\\mu, \\sigma^2 )$.</br> We plan to use  $ \\overline{\\Theta} = \\displaystyle\\sum_{i=1}^n \\frac {(X_i- \\overline{X})^2}{c} $ to estimate $\\sigma^2$ . Compute the bias in $\\overline{\\Theta}$ as an estimator of $\\sigma^2$ as a function of the constant c. </br>\n"
   ]
  },
  {
   "attachments": {},
   "cell_type": "markdown",
   "metadata": {},
   "source": [
    "Compute the bias in $\\overline{\\Theta}$ as an estimator of $\\sigma^2$ as a function of the constant c. </br>\n",
    "$E(X)= \\displaystyle\\sum_{} x*f(x)$ </br>\n",
    "$E(\\overline{\\Theta})= E(\\displaystyle\\sum_{i=1}^n \\frac {(X_i- \\overline{X})^2}{c}) =\\frac {(n-1)*\\sigma^2}{c}$ </br>\n",
    "In our case the X is $\\sigma^2$, because $\\overline{\\Theta}$ is the bias estimator of $\\theta$, where $\\theta = \\sigma^2$"
   ]
  },
  {
   "attachments": {},
   "cell_type": "markdown",
   "metadata": {},
   "source": [
    "## Book Exercise ASPE 7.3.9\n",
    "$\\overline{X_1}$ and $S_1^2$ are the sample mean and sample variance\n",
    "from a population with mean $\\mu_{1}$ and variance $\\sigma_{1}^2$. Similarly, $\\overline{X_2}$ and $S_2^2$ are the sample mean and sample variance from a second independent population with mean $\\mu_{2}$ and variance $\\sigma_{2}^2$. The sample sizes are $n_1$ and $n_2$, respectively. </br>\n",
    "\n"
   ]
  },
  {
   "attachments": {},
   "cell_type": "markdown",
   "metadata": {},
   "source": [
    "**a)** Show that $ \\overline{X_1}- \\overline{X_2}$ is an unbiased estimator of $\\mu_{1} - \\mu_{2}$.  </br>\n",
    "$E(X)=\\mu= \\displaystyle\\sum_{} x*f(x)$</br>\n",
    "$ E(\\overline{X_1}- \\overline{X_2}) =E(\\overline{X_1}) - E(\\overline{X_2})=\\mu_{1} - \\mu_{2}$"
   ]
  },
  {
   "attachments": {},
   "cell_type": "markdown",
   "metadata": {},
   "source": [
    "**b)** Find the standard error of  $ \\overline{X_1}- \\overline{X_2}$ . How could you\n",
    "estimate the standard error? </br>\n",
    "Formula: $\\sigma_{\\overline{\\Theta}}= \\sqrt{Var(\\overline{\\Theta})}$ </br>\n",
    "$\\sigma_{\\overline{\\Theta}}= \\sqrt{Var(\\overline{X_1}- \\overline{X_2})}$ </br>\n",
    "$Var(Y-Z)= E(Y-\\mu_{y}-Z\\mu_{z})^2=E[(Y-\\mu_{y})^2- 2*(Y-\\mu_{y})*(Z-\\mu_{Z})+(Z-\\mu_{Z})^2] =$</br>\n",
    "$Var(Y)-2*Cov(Y,Z) +Var(Z)$ </br>\n",
    "In our case: </br>\n",
    "s.e = $\\sigma_{\\overline{\\Theta}}= \\sqrt{Var(\\overline{X_1}-\\overline{X_2})} = \\sqrt{E(\\overline{X_1}-\\mu_{1}-\\overline{X_2}-\\mu_{2})^2}= \\sqrt{E[(\\overline{X_1}-\\mu_{1})^2- 2*(\\overline{X_1}-\\mu_{1})*(\\overline{X_2}-\\mu_{2})+(\\overline{X_2}-\\mu_{2})^2]}=\\sqrt{Var(\\overline{X_1})-2*Cov(\\overline{X_1},\\overline{X_2}) +Var(\\overline{X_2})}= \\sqrt{\\frac{\\sigma_{1}^2}{n_1}-\\frac{\\sigma_{2}^2}{n_2}}$ "
   ]
  },
  {
   "attachments": {},
   "cell_type": "markdown",
   "metadata": {},
   "source": [
    "**c)** Suppose that both populations have the same variance; that is, $\\sigma_{1}^2=\\sigma_{2}^2=\\sigma^2$.</br> Show that: </br>\n",
    "$S_{p}^2=\\frac{(n_1-1)*S_{1}^2+(n_2-1)*S_{2}^2}{n_1+n_2-2}$ is an unbiased estimator of $\\sigma^2$."
   ]
  },
  {
   "attachments": {},
   "cell_type": "markdown",
   "metadata": {},
   "source": [
    "The point estimator $\\overline{\\Theta}$ is an unbiased estimator for the parameter $\\theta$ is $E(\\overline{\\Theta})=\\theta => show that E(S_{p}^2=\\sigma^2)$ </br>\n",
    "$E(S_{p}^2)=E( \\frac{(n_1-1)*S_{1}^2+(n_2-1)*S_{2}^2}{n_1+n_2-2})=$</br> \n",
    "$\\frac{1}{n_1+n_2-2}*[(n_1-1)* E(S_{1}^2)+(n_2-1)* E(S_{2}^2)]=$</br>\n",
    "$\\frac{1}{n_1+n_2-2}*[(n_1-1)* \\sigma_{1}^2+(n_2-1)* \\sigma_{2}^2]=$ </br>\n",
    "$\\frac{ \\sigma^2*(n_1-1+n_2-1)}{n_1+n_2-2}=$\n",
    "$\\sigma^2$ "
   ]
  },
  {
   "attachments": {},
   "cell_type": "markdown",
   "metadata": {},
   "source": [
    "## Book Exercise ASPE 7.4.4\n",
    "Consider the probability density function:\n",
    "$f(x)=c(1+\\theta*x)$, $-1\\leq x \\leq 1$ </br>\n",
    "<span style=\"color:red\"> LOOK AT IT AGAIN.</span>\n"
   ]
  },
  {
   "attachments": {},
   "cell_type": "markdown",
   "metadata": {},
   "source": [
    "**a)** Find the value of the constant c."
   ]
  },
  {
   "attachments": {},
   "cell_type": "markdown",
   "metadata": {},
   "source": [
    "**c)** Show that $\\overline{\\Theta}= 3*\\overline{X}$ is an unbiased estimator for $\\theta $"
   ]
  },
  {
   "attachments": {},
   "cell_type": "markdown",
   "metadata": {},
   "source": [
    "**d)** Find the maximum likelihood estimator for $\\theta$."
   ]
  }
 ],
 "metadata": {
  "kernelspec": {
   "display_name": "Python 3",
   "language": "python",
   "name": "python3"
  },
  "language_info": {
   "codemirror_mode": {
    "name": "ipython",
    "version": 3
   },
   "file_extension": ".py",
   "mimetype": "text/x-python",
   "name": "python",
   "nbconvert_exporter": "python",
   "pygments_lexer": "ipython3",
   "version": "3.9.6"
  },
  "orig_nbformat": 4
 },
 "nbformat": 4,
 "nbformat_minor": 2
}
