{
 "cells": [
  {
   "cell_type": "code",
   "execution_count": 5,
   "metadata": {},
   "outputs": [],
   "source": [
    "from scipy import stats\n",
    "from scipy.stats import norm\n",
    "from scipy.stats import t\n",
    "from scipy.stats import binom\n",
    "from scipy.stats import geom\n",
    "from scipy.stats import hypergeom\n",
    "from scipy.stats import poisson\n",
    "from scipy.stats import nbinom\n",
    "import pandas as pd\n",
    "import numpy as np\n",
    "import sympy as sp\n",
    "from sympy import *\n",
    "sp.init_printing()\n",
    "\n",
    "import matplotlib.pyplot as plt\n",
    "import scipy.integrate as integrate\n",
    "import scipy.special as special\n",
    "from scipy.integrate import quad\n",
    "import numpy as np\n",
    "from scipy.misc import derivative\n",
    "import math\n",
    "from math import *\n",
    "from fractions import Fraction\n",
    "import fractions\n",
    "from sympy import Rational as R\n",
    "from IPython.display import display, Math, Latex\n",
    "%matplotlib inline\n",
    "from IPython.display import Image, HTML\n",
    "import statsmodels.stats.power as smp\n",
    "import statsmodels.api as sm"
   ]
  },
  {
   "cell_type": "code",
   "execution_count": 2,
   "metadata": {},
   "outputs": [],
   "source": [
    "# Let us create a UDF which will enable us to shade areas under the curve for standardnormal distribution\n",
    "\n",
    "def draw_z_score(x, cond, mu, sigma, title):\n",
    "    y = norm.pdf(x, mu, sigma)\n",
    "    z = x[cond]\n",
    "    plt.plot(x, y)\n",
    "    plt.ticklabel_format(style='plain', useOffset=False, axis='x')\n",
    "    plt.yticks([])\n",
    "    plt.fill_between(z, norm.pdf(z, mu, sigma))\n",
    "    plt.title(title)\n",
    "    plt.show()"
   ]
  },
  {
   "cell_type": "code",
   "execution_count": 3,
   "metadata": {},
   "outputs": [],
   "source": [
    "# Let us create a UDF which will enable us to shade areas under the curve for t-distribution\n",
    "\n",
    "def draw_t_score(x, df, cond, mu, sigma, title):\n",
    "    y = t.pdf(x, df, mu, sigma)\n",
    "    t = x[cond]\n",
    "    plt.plot(x, y)\n",
    "    plt.ticklabel_format(style='plain', useOffset=False, axis='x')\n",
    "    plt.yticks([])\n",
    "    plt.fill_between(t, t.pdf(t, df, mu, sigma))\n",
    "    plt.title(title)\n",
    "    plt.show()"
   ]
  },
  {
   "attachments": {},
   "cell_type": "markdown",
   "metadata": {},
   "source": [
    "## Exercise 3 </br>\n",
    "\n",
    "Suppose that the random variable X has the discrete uniform distribution: </br>\n",
    "$f(x)=\\begin{bmatrix}1/4,x=3,4,5,6 \\cr 0, otherwise\\end{bmatrix}$ </br>\n",
    "A random sample of n=20 is selected from this distribution. Find the probability that the sample mean is greater than 4.8 .\n"
   ]
  },
  {
   "cell_type": "code",
   "execution_count": null,
   "metadata": {},
   "outputs": [],
   "source": []
  },
  {
   "attachments": {},
   "cell_type": "markdown",
   "metadata": {},
   "source": [
    "## Exercise 4 </br>\n",
    "\n",
    "A normal population has the mean of 20 and the variance of 100. A random sample of size n = 69 is selected. How large must the sample be if you want to halve the standard deviation of the sample mean? State your answer as an integer between 0 and 999.\n"
   ]
  },
  {
   "cell_type": "code",
   "execution_count": null,
   "metadata": {},
   "outputs": [],
   "source": []
  },
  {
   "attachments": {},
   "cell_type": "markdown",
   "metadata": {},
   "source": [
    "## Exercise 10 </br>\n",
    "\n",
    "Consider the one-sided confidence interval expressions for a mean of normal population with known variance. State your answer as an integer between 0 and 99 such that the confidence level is stated as a two decimal percentage.\n"
   ]
  },
  {
   "cell_type": "code",
   "execution_count": 95,
   "metadata": {},
   "outputs": [
    {
     "name": "stdout",
     "output_type": "stream",
     "text": [
      "0.9732\n",
      "0.881\n",
      "0.9265\n"
     ]
    }
   ],
   "source": [
    "# Set the z-critical value\n",
    "z_critical = 1.93\n",
    "\n",
    "# Calculate the area under the standard normal distribution curve up to the z-critical value\n",
    "confidence_level = norm.cdf(z_critical)\n",
    "\n",
    "\n",
    "print(round(confidence_level,5))\n",
    "\n",
    "# Set the z-critical value\n",
    "z_critical = 1.18\n",
    "\n",
    "# Calculate the area under the standard normal distribution curve up to the z-critical value\n",
    "confidence_level = norm.cdf(z_critical)\n",
    "\n",
    "\n",
    "print(round(confidence_level,5))\n",
    "\n",
    "# Set the z-critical value\n",
    "z_critical = 1.45\n",
    "\n",
    "# Calculate the area under the standard normal distribution curve up to the z-critical value\n",
    "confidence_level = norm.cdf(z_critical)\n",
    "\n",
    "print(round(confidence_level,4))"
   ]
  },
  {
   "attachments": {},
   "cell_type": "markdown",
   "metadata": {},
   "source": [
    "## Exercise 11 </br>\n",
    "\n",
    "Consider results of 20 randomly chosen people who have run a marathon. Their times, in minutes, are as follows: 137, 146, 150, 163, 166, 179, 186, 193, 196, 213, 218, 225, 236, 239, 254, 269, 271, 279, 282, 295. </br>\n",
    "Calculate a 90% upper confidence bound on the mean time of the race. Assume distribution to be normal. Use the ceiling function such that your answer is an integer between 0 and 999. </br>\n"
   ]
  },
  {
   "cell_type": "code",
   "execution_count": 104,
   "metadata": {},
   "outputs": [
    {
     "name": "stdout",
     "output_type": "stream",
     "text": [
      "A 85.0 % upper confidence interval for the sample mean is  μ <230.0\n"
     ]
    }
   ],
   "source": [
    "x = symbols('x')\n",
    "\n",
    "sample = [137, 146, 150, 163, 166, 179, 186, 193, 196, 213, 218, 225, 236, 239, 254, 269, 271, 279, 282, 295]\n",
    "\n",
    "## Please notice THIS / since we taking in consideration just one side we have to take the full alpha(error) which is 10 % => aplha = 20%\n",
    "level_of_confidence = 0.80\n",
    "n = len(sample) ## sample size\n",
    "SE = stats.sem(sample) ## standard error\n",
    "sample_mean = np.mean(sample)\n",
    "\n",
    "CI = stats.t.interval(level_of_confidence, n-1, loc=sample_mean, scale=SE)\n",
    "\n",
    "print('A ' + repr(level_of_confidence*100+5) + ' % upper confidence interval for the sample mean is  \\u03bc <'+ repr(round(CI[1],0)))\n"
   ]
  },
  {
   "attachments": {},
   "cell_type": "markdown",
   "metadata": {},
   "source": [
    "## Exercise 12 </br>\n",
    "\n",
    "Assume a random sample has been taken from a normal distribution. You are told that the standard error was 1.55, the standard deviation was 6.02, and the sum of all observations was 797.90. Based on this information find the values below. </br>\n"
   ]
  },
  {
   "cell_type": "code",
   "execution_count": 125,
   "metadata": {},
   "outputs": [
    {
     "name": "stdout",
     "output_type": "stream",
     "text": [
      "Sample size: 15\n",
      "Sample mean: 53\n",
      "A 95.0 % confidence interval for the sample mean is [50 ; 56]\n"
     ]
    },
    {
     "data": {
      "image/png": "[encoded data removed]",
      "text/plain": [
       "<Figure size 640x480 with 1 Axes>"
      ]
     },
     "metadata": {},
     "output_type": "display_data"
    }
   ],
   "source": [
    "SE = 1.55\n",
    "standard_deviation= 6.02\n",
    "observation_sum = 797.90\n",
    "\n",
    "n = standard_deviation**2/SE**2\n",
    "print(\"Sample size: \"+ repr(floor(n)))\n",
    "\n",
    "sample_mean = observation_sum/n\n",
    "print(\"Sample mean: \"+ repr(round(sample_mean)))\n",
    "\n",
    "level_of_confidence = 0.95\n",
    "\n",
    "CI = norm.interval(level_of_confidence, loc=sample_mean, scale=SE)\n",
    "\n",
    "## for some reason for the upper interval I got 56 instead of 57\n",
    "print('A ' + repr(level_of_confidence*100) + ' % confidence interval for the sample mean is [' + repr(round(CI[0])) + ' ; '\n",
    "      + repr(round(CI[1])) + ']')\n",
    "\n"
   ]
  },
  {
   "attachments": {},
   "cell_type": "markdown",
   "metadata": {},
   "source": [
    "## Exercise 13 </br>\n",
    "\n",
    "To estimate the portion of voters who plan to vote for Candidate A in an election, a random sample of size n from the voters is chosen. The sampling is done with replacement. Let θ be the portion of voters who plan to vote for Candidate A among all voters. How large does n need to be so that we can obtain a 90% confidence interval with 3 % margin of error? State your answer as an integer between 0 and 99. </br>\n"
   ]
  },
  {
   "cell_type": "code",
   "execution_count": 159,
   "metadata": {},
   "outputs": [
    {
     "data": {
      "text/latex": [
       "$\\displaystyle z_{0.1}=0.842$"
      ],
      "text/plain": [
       "<IPython.core.display.Math object>"
      ]
     },
     "metadata": {},
     "output_type": "display_data"
    },
    {
     "name": "stdout",
     "output_type": "stream",
     "text": [
      "2.061\n"
     ]
    }
   ],
   "source": [
    "alpha = 0.2\n",
    "z_crit = stats.norm.ppf(1-alpha)\n",
    "display(Math('z_{0.1}='+latex(round(z_crit,3))))\n",
    "\n",
    "n = (z_crit/0.1)**2*0.03*(1-0.03)\n",
    "print(round(n,3))"
   ]
  },
  {
   "attachments": {},
   "cell_type": "markdown",
   "metadata": {},
   "source": [
    "## Exercise 14 </br>\n",
    "\n",
    "A manufacturer is interested in the output voltage of a power supply used in a PC. Output voltage is assumed to be normally distributed with known standard deviation of 0.3 volt, and the manufacturer wishes to test H0:μ0=5, using n = 10 units. The acceptance region for this test is 4.85≤μ≤5.15. Find the value of α. State your answer as an integer between 10 and 99 such that you supply two decimal precision, correctly rounded off </br>\n"
   ]
  },
  {
   "cell_type": "code",
   "execution_count": 191,
   "metadata": {},
   "outputs": [
    {
     "name": "stdout",
     "output_type": "stream",
     "text": [
      "0.3000000000000007\n"
     ]
    },
    {
     "data": {
      "text/latex": [
       "$\\displaystyle z_{0}=-49.54235001$"
      ],
      "text/plain": [
       "<IPython.core.display.Math object>"
      ]
     },
     "metadata": {},
     "output_type": "display_data"
    },
    {
     "data": {
      "text/latex": [
       "$\\displaystyle P-value=0.0$"
      ],
      "text/plain": [
       "<IPython.core.display.Math object>"
      ]
     },
     "metadata": {},
     "output_type": "display_data"
    }
   ],
   "source": [
    "lower_acceptance_value = 4.85 \n",
    "upper_acceptance_value = 5.15\n",
    "\n",
    "sample_size = 10\n",
    "hypothesis_rate = 5\n",
    "\n",
    "standard_deviation = 0.3\n",
    "\n",
    "true_mean = (5.15-4.85)\n",
    "\n",
    "standard_deviation = 0.3\n",
    "print(true_mean)\n",
    "\n",
    "test_statistic_hypothesis = (true_mean-hypothesis_rate)/(standard_deviation / np.sqrt(sample_size))\n",
    "display(Math( 'z_{0}='+ latex(round(test_statistic_hypothesis,8))))\n",
    "\n",
    "## notice we are using sf function, alternative use 1-cdf\n",
    "## additionally this is a one sided tail test, so to test both sides multiply by 2\n",
    "p_value = 2*norm.sf(np.abs(test_statistic_hypothesis))\n",
    "display(Math( 'P-value='+ latex(round(p_value,6))))"
   ]
  },
  {
   "attachments": {},
   "cell_type": "markdown",
   "metadata": {},
   "source": [
    "## Exercise 15 </br>\n",
    "\n",
    "A manufacturer is interested in the output voltage of a power supply used in a PC. Output voltage is assumed to be normally distributed with known standard deviation of 0.3 volt, and the manufacturer wishes to test H0:μ0=5, using n = 10 units. The acceptance region for this test is 4.85≤μ≤5.15. Find the value of α. State your answer as an integer between 10 and 99 such that you supply two decimal precision, correctly rounded off </br>\n"
   ]
  },
  {
   "cell_type": "code",
   "execution_count": 196,
   "metadata": {},
   "outputs": [
    {
     "data": {
      "text/latex": [
       "$\\displaystyle t_{\\frac{0.01}{2},19}=1.66$"
      ],
      "text/plain": [
       "<IPython.core.display.Math object>"
      ]
     },
     "metadata": {},
     "output_type": "display_data"
    },
    {
     "data": {
      "text/latex": [
       "$\\displaystyle t_{0}=-14.69$"
      ],
      "text/plain": [
       "<IPython.core.display.Math object>"
      ]
     },
     "metadata": {},
     "output_type": "display_data"
    },
    {
     "data": {
      "text/latex": [
       "$\\displaystyle P-value=0.0$"
      ],
      "text/plain": [
       "<IPython.core.display.Math object>"
      ]
     },
     "metadata": {},
     "output_type": "display_data"
    },
    {
     "name": "stdout",
     "output_type": "stream",
     "text": [
      "Fail to reject since 1.2986436221214688e-26 > 0.05\n"
     ]
    }
   ],
   "source": [
    "\n",
    "alpha = 0.05\n",
    "sample_size = 100\n",
    "sample_mean = 260.3\n",
    "sample_standard_deviation = 13.41## small s\n",
    "hypothesis_mean = 280 ## null hypothesiss\n",
    "\n",
    "## carefully this is a right sided test hence interval we are looking at is 1-alpha, not 1-alpha/2\n",
    "ddof = sample_size-1\n",
    "t_crit_ddof = stats.t.ppf(1-alpha,ddof)\n",
    "display(Math('t_{\\\\frac{0.01}{2},19}='+latex(round(t_crit_ddof,3))))\n",
    "\n",
    "test_statistic_hypothesis = (sample_mean-hypothesis_mean)/( sample_standard_deviation/np.sqrt(sample_size))\n",
    "display(Math( 't_{0}='+ latex(round(test_statistic_hypothesis,2))))\n",
    "\n",
    "## notice we are using sf function, alternative use 1-cdf\n",
    "p_value = 2*t.sf(np.abs(test_statistic_hypothesis), sample_size-1)\n",
    "display(Math('P-value='+ latex(round(p_value,5))))\n",
    "\n",
    "if p_value > alpha:\n",
    "    print(\"Reject since \" + repr(p_value) + ' < ' + repr(alpha))\n",
    "else:\n",
    "    print(\"Fail to reject since \" + repr(p_value) + ' > ' + repr(alpha))\n"
   ]
  },
  {
   "attachments": {},
   "cell_type": "markdown",
   "metadata": {},
   "source": [
    "## Exercise 16 </br>\n",
    "\n",
    "A recent study among 254 computer science graduates from Aarhus University was made in order to determine how successful the former students were in their current employment. 98 of these students had taken a course in linear algebra and of these 92 were classified as “successful” in their current employment. 136 of the students who had not taken a course in linear algebra were classified as “successful” in their current employment.\n",
    "\n",
    "Is there evidence to support the claim that computer science graduates who had taken a linear algebra course were more successful in their current employment than those who had not taken such a course with a significance of 0.05? Let pA\n",
    "denote the proportion of succesful students who had taken linear algebra and let pAc\n",
    "\n",
    "denote the proportion successful students who had not taken the linear algebra course. First identify the correct hypotheses by dragging the correct hypothesis to the appropriate placeholder. Then state the test statistic, the critical value, and the p-value.\n",
    "</br>\n",
    "\n",
    "**Approximate Tests on the Difference of Two Population Proportions**\n",
    "**1.Parameter of interest:The parameters of interest are $P_1$ and $P_2$ , the proportion of computer science graduates who had taken a linear algebra course were more successful in their current employment than those who had not taken such a course**</br >\n",
    "**2.Null Hypothesis: $H_0: p_1 =p_2$** </br>\n",
    "**3.Alternative Hypothesis: $H_1: p_1 > p_2$**</br>\n",
    "**4.Test statistic: The test statistic is $z_0= \\frac{\\overline{p_1}-\\overline{p_2}}{\\sqrt{\\overline{p}*(1-\\overline{p})*(\\frac{1}{n_1}-\\frac{1}{n_2})}}$, where $\\overline{p}=\\frac{x_1+x_2}{n_1+n_2}$** </br>\n",
    "**5.Reject $H_0$ if: $p_1=p_2$ if the P-value is lessthan 0.05.** </br>\n",
    "**6.Computations: Reject $H_0$ if the true succes rate is bigger than the hypothesed one at 0.05, or the P-value is less than 0.05** </br>\n"
   ]
  },
  {
   "cell_type": "code",
   "execution_count": 199,
   "metadata": {},
   "outputs": [
    {
     "data": {
      "text/latex": [
       "$\\displaystyle z_{0.05}=1.645$"
      ],
      "text/plain": [
       "<IPython.core.display.Math object>"
      ]
     },
     "metadata": {},
     "output_type": "display_data"
    },
    {
     "data": {
      "text/latex": [
       "$\\displaystyle z_{0}=1.71$"
      ],
      "text/plain": [
       "<IPython.core.display.Math object>"
      ]
     },
     "metadata": {},
     "output_type": "display_data"
    },
    {
     "data": {
      "text/latex": [
       "$\\displaystyle P-value=0.043$"
      ],
      "text/plain": [
       "<IPython.core.display.Math object>"
      ]
     },
     "metadata": {},
     "output_type": "display_data"
    },
    {
     "name": "stdout",
     "output_type": "stream",
     "text": [
      "7. Conclusions:  From z-score table we find for a normal distribution with z0 = 1.96 \n",
      " which is bigger than z_crit = 1.71. \n",
      " Therefore we reject the H_0 hypothesis and conclude that true success rate is greater than 0.78, at alpha = 0.05.\n",
      "Test statistic: 1.7143021919557946\n",
      "P-value: 0.0432366203953335\n",
      "Reject since 0.0432366203953335 < 0.05\n"
     ]
    }
   ],
   "source": [
    "alpha = 0.05\n",
    "\n",
    "population_size = 254\n",
    "\n",
    "attended_linear_algebra = 98\n",
    "attended_linear_algebra_success = 92\n",
    "\n",
    "not_attended_linear_algebra = population_size - attended_linear_algebra\n",
    "not_attended_linear_algebra_success = 136\n",
    "\n",
    "proportion_1 = attended_linear_algebra_success/attended_linear_algebra\n",
    "proportion_2 = not_attended_linear_algebra_success/not_attended_linear_algebra\n",
    "\n",
    "proportion = (attended_linear_algebra_success+not_attended_linear_algebra_success)/(attended_linear_algebra+not_attended_linear_algebra)\n",
    "\n",
    "## carefully this is a two sided test hence interval we are looking at is 1-alpha, not 1-alpha/2\n",
    "##carefully this \n",
    "z_crit = stats.norm.ppf(1-alpha)\n",
    "display(Math('z_{0.05}='+latex(round(z_crit,3))))\n",
    "\n",
    "test_statistic_hypothesis = (proportion_1-proportion_2)/np.sqrt(proportion*(1-proportion)*(1/attended_linear_algebra +1/not_attended_linear_algebra))\n",
    "display(Math( 'z_{0}='+ latex(round(test_statistic_hypothesis,2))))\n",
    "\n",
    "## notice we are using sf function, alternative use 1-cdf\n",
    "## additionally this is a one sided tail test, so to test \n",
    "p_value = norm.sf(np.abs(test_statistic_hypothesis))\n",
    "display(Math( 'P-value='+ latex(round(p_value,3))))\n",
    "\n",
    "print('7. Conclusions:  From z-score table we find for a normal distribution with z0 = 1.96 \\n which is bigger than z_crit = 1.71. \\n Therefore we reject the H_0 hypothesis and conclude that true success rate is greater than 0.78, at alpha = 0.05.')\n",
    "\n",
    "\n",
    "## Alternative just use\n",
    "val = sm.stats.proportions_ztest([attended_linear_algebra_success, not_attended_linear_algebra_success], [attended_linear_algebra, not_attended_linear_algebra], value = None, alternative = 'larger')\n",
    "p_value = val[1]\n",
    "print(\"Test statistic: \"+repr(val[0]))\n",
    "print(\"P-value: \"+repr(val[1]))\n",
    "\n",
    "if p_value < alpha:\n",
    "    print(\"Reject since \" + repr(p_value) + ' < ' + repr(alpha))\n",
    "else:\n",
    "    print(\"Fail to reject since \" + repr(p_value) + ' > ' + repr(alpha))\n"
   ]
  },
  {
   "attachments": {},
   "cell_type": "markdown",
   "metadata": {},
   "source": [
    "## Exercise 17 </br>\n",
    "\n",
    "To estimate efficiency of a drug for weight loss, the clinical trial was performed. The results are presented in the table below (data also available in \"WeightLoss.xlsx\". </br>\n",
    "Is there evidence to support the claim that the drug has had an effect (negative or positive) with a significance of 0.01? Let μB the mean weigth before the clinical trial and let μA denote the average weight after the trial. First identify the correct hypotheses by dragging the correct hypothesis to the appropriate placeholder. Then state the test statistic and the critical value. </br>\n",
    "<span style= \"color:red\">CI getting wrong</span>\n"
   ]
  },
  {
   "cell_type": "code",
   "execution_count": 242,
   "metadata": {},
   "outputs": [
    {
     "data": {
      "text/latex": [
       "$\\displaystyle t_{0.01}=2.95$"
      ],
      "text/plain": [
       "<IPython.core.display.Math object>"
      ]
     },
     "metadata": {},
     "output_type": "display_data"
    },
    {
     "data": {
      "text/latex": [
       "$\\displaystyle t_{0.01,15}=8.42$"
      ],
      "text/plain": [
       "<IPython.core.display.Math object>"
      ]
     },
     "metadata": {},
     "output_type": "display_data"
    },
    {
     "name": "stdout",
     "output_type": "stream",
     "text": [
      "Fail to reject since 0.0 > 0.01\n",
      "A -98.0 % confidence interval for the sample mean is [2.08 < miu_1 - miu_2 < 2.21]\n"
     ]
    }
   ],
   "source": [
    "before = [85.2,79.6,75.8,76.2,91,89.8,82,81.7,67.3,68.4,70,74,66.8,60,94,88.2]\n",
    "after = [83.5,78.1,73.5,74,90.2,87,79.9,78.5,64,65.1,67.8,70,64.6,58.6,92.9,88]\n",
    "\n",
    "alpha = 0.01\n",
    "\n",
    "arr1_length = len(before)\n",
    "arr2_length = len(after)\n",
    "\n",
    "ddof= arr1_length-1\n",
    "\n",
    "## did not get why it is t crit and not z \n",
    "t_crit = stats.t.ppf(1-alpha/2,ddof)\n",
    "display(Math('t_{0.01}='+latex(round(z_crit,2))))\n",
    "\n",
    "val = stats.ttest_rel(before, after)\n",
    "display(Math('t_{0.01,15}='+latex(round(val[0],2))))\n",
    "p_value = round(val[1], 4)\n",
    "\n",
    "if p_value > alpha:\n",
    "    print(\"Reject since \" + repr(p_value) + ' < ' + repr(alpha))\n",
    "else:\n",
    "    print(\"Fail to reject since \" + repr(p_value) + ' > ' + repr(alpha))\n",
    "\n",
    "\n",
    "## CI level\n",
    "## two sided\n",
    "level_of_confidence = 0.99\n",
    "\n",
    "## array length\n",
    "arr1_length= len(before)\n",
    "arr2_length= len(after)\n",
    "\n",
    "## Degree of freedom\n",
    "ddof = arr1_length+arr2_length-2\n",
    "\n",
    "## Mean deviation calculation\n",
    "mean_design_lang_1 = np.mean(before)\n",
    "mean_design_lang_2 = np.mean(after)\n",
    "sample_mean = mean_design_lang_1 - mean_design_lang_2\n",
    "\n",
    "## Standard error\n",
    "SE_1 = stats.sem(before)\n",
    "SE_2 = stats.sem(after)\n",
    "SE = SE_1 + SE_2\n",
    "\n",
    "CI = stats.t.interval(1-level_of_confidence, df = ddof, loc = sample_mean, scale = SE)\n",
    "\n",
    "print('A ' + repr(1-level_of_confidence*100) + ' % confidence interval for the sample mean is [' + repr(round(CI[0],2)) + ' < miu_1 - miu_2 < '\n",
    "      + repr(round(CI[1],2)) + ']')"
   ]
  },
  {
   "attachments": {},
   "cell_type": "markdown",
   "metadata": {},
   "source": [
    "## Exercise 18 </br>\n",
    "Consider the following 8 data pairs $(x_i,y_i)=1, 2,...,8$ </br>\n",
    "(1.1, 4.5)  (0.0, -0.1)  (5.3, 11.6)  (3.8, 5.9)</br>\n",
    "\n",
    "(9.2, 16.4)  (6.9, 16.1)  (0.7, 1.8)  (9.2, 20.6)</br>\n",
    "\n",
    "Find the values below. State all inputs as decimal values with 4 decimal precision, correctly rounded off. Note, if a value is used in a calculation, you should use the exact values in the calculation and not the rounded value. Remember to use '.' as a decimal seperator."
   ]
  },
  {
   "cell_type": "code",
   "execution_count": 244,
   "metadata": {},
   "outputs": [
    {
     "name": "stdout",
     "output_type": "stream",
     "text": [
      "9.6\n",
      "4.5249999999999995\n"
     ]
    }
   ],
   "source": [
    "x =[]\n",
    "\n",
    "sample_y = (4.5+(-0.1)+11.6+5.9+16.4+16.1+1.8+20.6)/8\n",
    "\n",
    "print(sample_y)\n",
    "\n",
    "sample_x = (1.1+0+5.3+3.8+9.2+6.9+0.7+9.2)/8\n",
    "\n",
    "print(sample_x)"
   ]
  }
 ],
 "metadata": {
  "kernelspec": {
   "display_name": "Python 3",
   "language": "python",
   "name": "python3"
  },
  "language_info": {
   "codemirror_mode": {
    "name": "ipython",
    "version": 3
   },
   "file_extension": ".py",
   "mimetype": "text/x-python",
   "name": "python",
   "nbconvert_exporter": "python",
   "pygments_lexer": "ipython3",
   "version": "3.11.3"
  },
  "orig_nbformat": 4
 },
 "nbformat": 4,
 "nbformat_minor": 2
}
