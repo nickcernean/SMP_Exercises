{
 "cells": [
  {
   "cell_type": "code",
   "execution_count": 1,
   "metadata": {},
   "outputs": [],
   "source": [
    "from scipy import stats\n",
    "from scipy.stats import norm\n",
    "from scipy.stats import t\n",
    "from scipy.stats import binom\n",
    "from scipy.stats import geom\n",
    "from scipy.stats import hypergeom\n",
    "from scipy.stats import poisson\n",
    "from scipy.stats import nbinom\n",
    "import pandas as pd\n",
    "import numpy as np\n",
    "import sympy as sp\n",
    "from sympy import *\n",
    "sp.init_printing()\n",
    "import matplotlib.pyplot as plt\n",
    "import scipy.integrate as integrate\n",
    "import scipy.special as special\n",
    "from scipy.integrate import quad\n",
    "from fractions import Fraction\n",
    "import numpy as np\n",
    "from scipy.misc import derivative\n",
    "import math\n",
    "from math import *\n",
    "from fractions import Fraction\n",
    "import fractions\n",
    "from sympy import Rational as R\n",
    "from sympy import Matrix as M\n",
    "from IPython.display import display, Math, Latex\n",
    "%matplotlib inline\n",
    "from IPython.display import Image, HTML\n",
    "import statsmodels.stats.power as smp\n",
    "import statsmodels.api as sm"
   ]
  },
  {
   "cell_type": "code",
   "execution_count": 2,
   "metadata": {},
   "outputs": [],
   "source": [
    "# Let us create a UDF which will enable us to shade areas under the curve for standardnormal distribution\n",
    "\n",
    "def draw_z_score(x, cond, mu, sigma, title):\n",
    "    y = norm.pdf(x, mu, sigma)\n",
    "    z = x[cond]\n",
    "    plt.plot(x, y)\n",
    "    plt.ticklabel_format(style='plain', useOffset=False, axis='x')\n",
    "    plt.yticks([])\n",
    "    plt.fill_between(z, norm.pdf(z, mu, sigma))\n",
    "    plt.title(title)\n",
    "    plt.show()"
   ]
  },
  {
   "cell_type": "code",
   "execution_count": 3,
   "metadata": {},
   "outputs": [],
   "source": [
    "# Let us create a UDF which will enable us to shade areas under the curve for t-distribution\n",
    "\n",
    "def draw_t_score(x, df, cond, mu, sigma, title):\n",
    "    y = t.pdf(x, df, mu, sigma)\n",
    "    t = x[cond]\n",
    "    plt.plot(x, y)\n",
    "    plt.ticklabel_format(style='plain', useOffset=False, axis='x')\n",
    "    plt.yticks([])\n",
    "    plt.fill_between(t, t.pdf(t, df, mu, sigma))\n",
    "    plt.title(title)\n",
    "    plt.show()"
   ]
  },
  {
   "attachments": {},
   "cell_type": "markdown",
   "metadata": {},
   "source": [
    "## Exercise 1 </br>\n"
   ]
  },
  {
   "cell_type": "code",
   "execution_count": 149,
   "metadata": {},
   "outputs": [
    {
     "data": {
      "text/html": [
       "<img src=\"../images/Screenshot 2023-06-05 at 19.37.38.png\" width=\"1200\" height=\"400\" class=\"unconfined\"/>"
      ],
      "text/plain": [
       "<IPython.core.display.Image object>"
      ]
     },
     "metadata": {},
     "output_type": "display_data"
    },
    {
     "data": {
      "text/html": [
       "<img src=\"../images/Screenshot 2023-06-06 at 17.37.34.png\" width=\"1200\" height=\"400\" class=\"unconfined\"/>"
      ],
      "text/plain": [
       "<IPython.core.display.Image object>"
      ]
     },
     "metadata": {},
     "output_type": "display_data"
    }
   ],
   "source": [
    "display(Image(url='../images/Screenshot 2023-06-05 at 19.37.38.png', width=1200, height=400,unconfined=True))\n",
    "\n",
    "display(Image(url='../images/Screenshot 2023-06-06 at 17.37.34.png', width=1200, height=400,unconfined=True))"
   ]
  },
  {
   "cell_type": "code",
   "execution_count": 168,
   "metadata": {},
   "outputs": [
    {
     "data": {
      "image/png": "[encoded data removed]",
      "text/latex": [
       "$\\displaystyle \\left[ \\frac{2}{15}\\right]$"
      ],
      "text/plain": [
       "[2/15]"
      ]
     },
     "metadata": {},
     "output_type": "display_data"
    },
    {
     "data": {
      "image/png": "[encoded data removed]",
      "text/latex": [
       "$\\displaystyle 0.04$"
      ],
      "text/plain": [
       "0.0400000000000000"
      ]
     },
     "metadata": {},
     "output_type": "display_data"
    },
    {
     "data": {
      "image/png": "[encoded data removed]",
      "text/latex": [
       "$\\displaystyle \\frac{1}{5}$"
      ],
      "text/plain": [
       "1/5"
      ]
     },
     "metadata": {},
     "output_type": "display_data"
    },
    {
     "data": {
      "image/png": "[encoded data removed]",
      "text/latex": [
       "$\\displaystyle 2.1111$"
      ],
      "text/plain": [
       "2.1111"
      ]
     },
     "metadata": {},
     "output_type": "display_data"
    },
    {
     "data": {
      "image/png": "[encoded data removed]",
      "text/latex": [
       "$\\displaystyle \\frac{4}{15}$"
      ],
      "text/plain": [
       "4/15"
      ]
     },
     "metadata": {},
     "output_type": "display_data"
    }
   ],
   "source": [
    "## a\n",
    "x,y,c = sp.symbols('x,y,c')\n",
    "\n",
    "f_x_y = c\n",
    "\n",
    "s_1 = sp.integrate( sp.integrate(f_x_y, (y,x-1,x+1)), (x,1,4))\n",
    "s_2 = sp.integrate( sp.integrate(f_x_y, (y,0,x+1)), (x,0,1))\n",
    "\n",
    "## sum all the surfaces and solve the ecuation\n",
    "\n",
    "display(sp.solve(s_1 + s_2 - 1,c))\n",
    "\n",
    "## b \n",
    "## it is joing prob so do the 2 integral \n",
    "f_x_y = R(2,15)\n",
    "result = sp.integrate(f_x_y, (y,0,0.5),(x,0,0.6))\n",
    "display(result)\n",
    "\n",
    "## ask teacher maybe\n",
    "## not sure about this\n",
    "## c\n",
    "f_x_y = R(2,15)\n",
    "result = sp.integrate(f_x_y, (y, 0, x+1),(x ,0, 1))\n",
    "display(result) \n",
    "\n",
    "## d\n",
    "f_x_y = R(2,15)\n",
    "ex = x * f_x_y\n",
    "p1  = sp.integrate(ex, (y, 0, x+1), (x,0,1))\n",
    "p2  = sp.integrate(ex, (y,x-1,x+1),(x,1,4))\n",
    "result = p1 + p2\n",
    "display(round(result,4))\n",
    "\n",
    "\n",
    "## e\n",
    "f_x_y = R(2,15)\n",
    "result = sp.integrate(f_x_y, (y,x-1,x+1))\n",
    "\n",
    "display(result)"
   ]
  },
  {
   "attachments": {},
   "cell_type": "markdown",
   "metadata": {},
   "source": [
    "## Exercise 2"
   ]
  },
  {
   "cell_type": "code",
   "execution_count": 26,
   "metadata": {},
   "outputs": [
    {
     "data": {
      "text/html": [
       "<img src=\"../images/Screenshot 2023-06-05 at 21.29.18.png\" width=\"1200\" height=\"200\" class=\"unconfined\"/>"
      ],
      "text/plain": [
       "<IPython.core.display.Image object>"
      ]
     },
     "metadata": {},
     "output_type": "display_data"
    }
   ],
   "source": [
    "display(Image(url='../images/Screenshot 2023-06-05 at 21.29.18.png', width=1200, height=200,unconfined=True))"
   ]
  },
  {
   "cell_type": "code",
   "execution_count": 39,
   "metadata": {},
   "outputs": [
    {
     "data": {
      "image/png": "[encoded data removed]",
      "text/latex": [
       "$\\displaystyle \\frac{x^{2} + \\frac{y}{3}}{\\frac{2 y}{3} + \\frac{2}{3}}$"
      ],
      "text/plain": [
       "  2   y\n",
       " x  + ─\n",
       "      3\n",
       "───────\n",
       "2⋅y   2\n",
       "─── + ─\n",
       " 3    3"
      ]
     },
     "metadata": {},
     "output_type": "display_data"
    }
   ],
   "source": [
    "## a\n",
    "f_x_y = x**2 + R(1,3)*y\n",
    "f_x_given_y = f_x_y / sp.integrate(f_x_y,(x,-1,1))\n",
    "\n",
    "display(f_x_given_y)\n"
   ]
  },
  {
   "cell_type": "code",
   "execution_count": 41,
   "metadata": {},
   "outputs": [
    {
     "data": {
      "image/png": "[encoded data removed]",
      "text/latex": [
       "$\\displaystyle \\frac{x^{2} + \\frac{y}{3}}{\\frac{2 y}{3} + \\frac{2}{3}}$"
      ],
      "text/plain": [
       "  2   y\n",
       " x  + ─\n",
       "      3\n",
       "───────\n",
       "2⋅y   2\n",
       "─── + ─\n",
       " 3    3"
      ]
     },
     "metadata": {},
     "output_type": "display_data"
    },
    {
     "data": {
      "text/latex": [
       "$\\displaystyle P(X>0 | Y=y) = 1/2$"
      ],
      "text/plain": [
       "<IPython.core.display.Math object>"
      ]
     },
     "metadata": {},
     "output_type": "display_data"
    }
   ],
   "source": [
    "## b\n",
    "f_x_y = x**2 + R(1,3)*y\n",
    "f_x_given_y = f_x_y / sp.integrate(f_x_y,(x,-1,1))\n",
    "\n",
    "display(f_x_given_y)\n",
    "\n",
    "result = sp.integrate(f_x_y,(x,0,1),(y,0,1))\n",
    "\n",
    "display(Math(\"P(X>0 | Y=y) = \" + repr(result)))"
   ]
  },
  {
   "attachments": {},
   "cell_type": "markdown",
   "metadata": {},
   "source": [
    "## Exercise 3 </br>\n",
    "\n",
    "Suppose that the random variable X has the discrete uniform distribution: </br>\n",
    "$f(x)=\\begin{bmatrix}1/4,x=3,4,5,6 \\cr 0, otherwise\\end{bmatrix}$ </br>\n",
    "A random sample of n=20 is selected from this distribution. Find the probability that the sample mean is greater than 4.8 .\n"
   ]
  },
  {
   "cell_type": "code",
   "execution_count": null,
   "metadata": {},
   "outputs": [],
   "source": []
  },
  {
   "attachments": {},
   "cell_type": "markdown",
   "metadata": {},
   "source": [
    "## Exercise 4 </br>\n",
    "\n",
    "A normal population has the mean of 20 and the variance of 100. A random sample of size n = 69 is selected. How large must the sample be if you want to halve the standard deviation of the sample mean? State your answer as an integer between 0 and 999.\n"
   ]
  },
  {
   "cell_type": "code",
   "execution_count": 46,
   "metadata": {},
   "outputs": [
    {
     "name": "stdout",
     "output_type": "stream",
     "text": [
      "276.0\n"
     ]
    }
   ],
   "source": [
    "sample_size_old = 69\n",
    "variance = 100\n",
    "standard_deviation_old = np.sqrt(variance)\n",
    "standard_deviation_new = standard_deviation_old/2\n",
    "\n",
    "n_new = (sample_size_old) * (standard_deviation_old / standard_deviation_new)**2\n",
    "\n",
    "print(n_new)"
   ]
  },
  {
   "attachments": {},
   "cell_type": "markdown",
   "metadata": {},
   "source": [
    "## Exercise 5 </br>"
   ]
  },
  {
   "cell_type": "code",
   "execution_count": 50,
   "metadata": {},
   "outputs": [
    {
     "data": {
      "text/html": [
       "<img src=\"../images/Screenshot 2023-06-06 at 12.11.29.png\" width=\"1200\" height=\"200\" class=\"unconfined\"/>"
      ],
      "text/plain": [
       "<IPython.core.display.Image object>"
      ]
     },
     "metadata": {},
     "output_type": "display_data"
    },
    {
     "data": {
      "text/html": [
       "<img src=\"../images/Screenshot 2023-06-06 at 14.19.51.png\" width=\"1200\" height=\"400\" class=\"unconfined\"/>"
      ],
      "text/plain": [
       "<IPython.core.display.Image object>"
      ]
     },
     "metadata": {},
     "output_type": "display_data"
    }
   ],
   "source": [
    "display(Image(url='../images/Screenshot 2023-06-06 at 12.11.29.png', width=1200, height=200,unconfined=True))\n",
    "\n",
    "display(Image(url='../images/Screenshot 2023-06-06 at 14.19.51.png', width=1200, height=400,unconfined=True))"
   ]
  },
  {
   "cell_type": "code",
   "execution_count": 67,
   "metadata": {},
   "outputs": [
    {
     "data": {
      "text/latex": [
       "$\\displaystyle P(X_B - X_A < 90) = 0.116$"
      ],
      "text/plain": [
       "<IPython.core.display.Math object>"
      ]
     },
     "metadata": {},
     "output_type": "display_data"
    }
   ],
   "source": [
    "## Z = X_a - X_b = 90 since cdf\n",
    "\n",
    "mean_a = 2000\n",
    "mean_b = 2100\n",
    "\n",
    "sample_size = 100\n",
    "sample_size_prob = 90\n",
    "\n",
    "variance = 3500\n",
    "\n",
    "## accroding to the formula\n",
    "result = (sample_size_prob - (mean_b - mean_a))/np.sqrt(variance/sample_size+variance/sample_size)\n",
    "probability= stats.norm.cdf(result)\n",
    "\n",
    "display(Math(\"P(X_B - X_A < 90) = \" + repr(round(probability,4))))"
   ]
  },
  {
   "attachments": {},
   "cell_type": "markdown",
   "metadata": {},
   "source": [
    "## Exercise 6 </br>\n",
    "Correlation coefficient: notation Rho = $\\rho$ </br>\n",
    "The correlation coefficient $\\rho_{XY}$ or  $\\rho(X,Y)$ is obtained by normalizing the covarriance. More specifically we use the standardized version of X and Y. </br>\n",
    "u = $\\frac{X-EX}{\\sigma_X}$ , v = $\\frac{Y-EY}{\\sigma_Y}$  </br>\n",
    "$\\rho$ = Cov(U,V)= Cov($\\frac{X-EX}{\\sigma_X}$,$\\frac{Y-EY}{\\sigma_Y}$)  </br>\n",
    "= Cov($\\frac{X}{\\sigma_X}$,$\\frac{Y}{\\sigma_Y}$) (property 4) </br>\n",
    "= $\\frac{Cov(X,Y) }{\\sigma_X*\\sigma_Y}$ (property 5) </br>"
   ]
  },
  {
   "cell_type": "code",
   "execution_count": 71,
   "metadata": {},
   "outputs": [
    {
     "data": {
      "text/latex": [
       "$\\displaystyle \\rho(X,Y) = 0.919$"
      ],
      "text/plain": [
       "<IPython.core.display.Math object>"
      ]
     },
     "metadata": {},
     "output_type": "display_data"
    }
   ],
   "source": [
    "Index = [10,11,12]\n",
    "Columns = {4:[1/14,1/14,1/14],5:[2/14,2/14,2/14],6:[1/14,1/14,1/14]}\n",
    "\n",
    "df = pd.DataFrame(data=Columns, index = Index)\n",
    "\n",
    "## find the marginal PDF\n",
    "fx = df.sum(1)\n",
    "fy = df.sum(0)\n",
    "\n",
    "## Calculate the Expected value for y and x\n",
    "EX = np.array(df.index).dot(fx)\n",
    "EY = np.array(df.columns).dot(fy)\n",
    "\n",
    "## Calculate the square E[X**2] of for x and y, used to calculate the variance\n",
    "EX2 = (np.array(df.index)**2).dot(fx)\n",
    "EY2 = (np.array(df.columns)**2).dot(fy)\n",
    "\n",
    "## calculate the variance for x and y\n",
    "VX = EX2 - EX**2\n",
    "VY = EY2 - EY**2\n",
    "\n",
    "## calculate the expected value of product XY\n",
    "EXY = np.array(df.index).dot(np.array(df)).dot(np.array(df.columns))\n",
    "\n",
    "## calculate covariance \n",
    "Cov = EXY -(EX*EY)\n",
    "\n",
    "## calculate correlation coefficient\n",
    "corr = Cov/np.sqrt(VX*VY)\n",
    "\n",
    "display(Math(\"\\\\rho(X,Y) = \" + repr(round(corr,4))))\n"
   ]
  },
  {
   "attachments": {},
   "cell_type": "markdown",
   "metadata": {},
   "source": [
    "## Exercise 7"
   ]
  },
  {
   "cell_type": "code",
   "execution_count": 73,
   "metadata": {},
   "outputs": [
    {
     "data": {
      "text/html": [
       "<img src=\"../images/Screenshot 2023-06-06 at 15.24.37.png\" width=\"1200\" height=\"500\" class=\"unconfined\"/>"
      ],
      "text/plain": [
       "<IPython.core.display.Image object>"
      ]
     },
     "metadata": {},
     "output_type": "display_data"
    }
   ],
   "source": [
    "display(Image(url='../images/Screenshot 2023-06-06 at 15.24.37.png', width=1200, height=500,unconfined=True))"
   ]
  },
  {
   "cell_type": "code",
   "execution_count": 78,
   "metadata": {},
   "outputs": [
    {
     "data": {
      "image/png": "[encoded data removed]",
      "text/latex": [
       "$\\displaystyle \\frac{x^{2}}{2} + \\frac{1}{3}$"
      ],
      "text/plain": [
       " 2    \n",
       "x    1\n",
       "── + ─\n",
       "2    3"
      ]
     },
     "metadata": {},
     "output_type": "display_data"
    },
    {
     "data": {
      "image/png": "[encoded data removed]",
      "text/latex": [
       "$\\displaystyle \\frac{y}{3} + \\frac{1}{6}$"
      ],
      "text/plain": [
       "y   1\n",
       "─ + ─\n",
       "3   6"
      ]
     },
     "metadata": {},
     "output_type": "display_data"
    }
   ],
   "source": [
    "## a\n",
    "f_x_y = R(1,4)*x**2 + R(1,6)*y\n",
    "\n",
    "marginal_pdf_x = sp.integrate(f_x_y, (y, 0, 2))\n",
    "marginal_pdf_y = sp.integrate(f_x_y, (x, -1, 1))\n",
    "\n",
    "display(marginal_pdf_x)\n",
    "display(marginal_pdf_y)\n"
   ]
  },
  {
   "cell_type": "code",
   "execution_count": 79,
   "metadata": {},
   "outputs": [
    {
     "data": {
      "image/png": "[encoded data removed]",
      "text/latex": [
       "$\\displaystyle \\frac{1}{6}$"
      ],
      "text/plain": [
       "1/6"
      ]
     },
     "metadata": {},
     "output_type": "display_data"
    }
   ],
   "source": [
    "## b\n",
    "f_x_y = R(1,4)*x**2 + R(1,6)*y\n",
    "\n",
    "probability = sp.integrate(f_x_y, (y, 0, 1),(x, 0, 1))\n",
    "\n",
    "display(probability)"
   ]
  },
  {
   "cell_type": "code",
   "execution_count": 81,
   "metadata": {},
   "outputs": [
    {
     "data": {
      "image/png": "[encoded data removed]",
      "text/latex": [
       "$\\displaystyle \\frac{2}{3}$"
      ],
      "text/plain": [
       "2/3"
      ]
     },
     "metadata": {},
     "output_type": "display_data"
    }
   ],
   "source": [
    "## c\n",
    "## or: PX - PY - PX_AND_PY\n",
    "f_x_y = R(1,4)*x**2 + R(1,6)*y\n",
    "\n",
    "px = sp.integrate(f_x_y, (y, 0, 2),(x, 0, 1))\n",
    "py = sp.integrate(f_x_y, (y, 0, 1),(x, -1, 1))\n",
    "\n",
    "px_and_py = sp.integrate(f_x_y, (y, 0, 1),(x, 0, 1))\n",
    "\n",
    "result = px + py - px_and_py\n",
    "display(result)"
   ]
  },
  {
   "cell_type": "code",
   "execution_count": 82,
   "metadata": {},
   "outputs": [
    {
     "data": {
      "image/png": "[encoded data removed]",
      "text/latex": [
       "$\\displaystyle \\frac{1}{2}$"
      ],
      "text/plain": [
       "1/2"
      ]
     },
     "metadata": {},
     "output_type": "display_data"
    }
   ],
   "source": [
    "## d\n",
    "## given: PX_AND_PY/ PY \n",
    "f_x_y = R(1,4)*x**2 + R(1,6)*y\n",
    "\n",
    "\n",
    "py = sp.integrate(f_x_y, (y, 0, 1),(x, -1, 1))\n",
    "\n",
    "px_and_py = sp.integrate(f_x_y, (y, 0, 1),(x, 0, 1))\n",
    "\n",
    "result = px_and_py/py\n",
    "display(result)"
   ]
  },
  {
   "cell_type": "code",
   "execution_count": 83,
   "metadata": {},
   "outputs": [
    {
     "data": {
      "image/png": "[encoded data removed]",
      "text/latex": [
       "$\\displaystyle \\frac{131}{144}$"
      ],
      "text/plain": [
       "131\n",
       "───\n",
       "144"
      ]
     },
     "metadata": {},
     "output_type": "display_data"
    }
   ],
   "source": [
    "## 3\n",
    "## given: X+Y >0\n",
    "f_x_y = R(1,4)*x**2 + R(1,6)*y\n",
    "\n",
    "\n",
    "p1 = sp.integrate(f_x_y, (y, 0, 2),(x, 0, 1))\n",
    "\n",
    "p2 = sp.integrate(f_x_y, (y, -x, 2),(x, -1, 0))\n",
    "\n",
    "result = p1+p2\n",
    "display(result)"
   ]
  },
  {
   "attachments": {},
   "cell_type": "markdown",
   "metadata": {},
   "source": [
    "## Exercise 9"
   ]
  },
  {
   "cell_type": "code",
   "execution_count": 84,
   "metadata": {},
   "outputs": [
    {
     "data": {
      "text/html": [
       "<img src=\"../images/Screenshot 2023-06-06 at 15.42.23.png\" width=\"1200\" height=\"500\" class=\"unconfined\"/>"
      ],
      "text/plain": [
       "<IPython.core.display.Image object>"
      ]
     },
     "metadata": {},
     "output_type": "display_data"
    }
   ],
   "source": [
    "display(Image(url='../images/Screenshot 2023-06-06 at 15.42.23.png', width=1200, height=500,unconfined=True))"
   ]
  },
  {
   "cell_type": "code",
   "execution_count": 107,
   "metadata": {},
   "outputs": [
    {
     "data": {
      "image/png": "[encoded data removed]",
      "text/latex": [
       "$\\displaystyle e e^{- y}$"
      ],
      "text/plain": [
       "   -y\n",
       "ℯ⋅ℯ  "
      ]
     },
     "metadata": {},
     "output_type": "display_data"
    },
    {
     "data": {
      "image/png": "[encoded data removed]",
      "text/latex": [
       "$\\displaystyle 2$"
      ],
      "text/plain": [
       "2"
      ]
     },
     "metadata": {},
     "output_type": "display_data"
    }
   ],
   "source": [
    "## a\n",
    "f_x_y = sp.E **(-y)\n",
    "\n",
    "f_y_given_x = f_x_y /  sp.integrate(f_x_y, (y, x, sp.oo))\n",
    "\n",
    "display(f_y_given_x)\n",
    "\n",
    "## expected value\n",
    "x=1\n",
    "e_y_given_x = y * f_y_given_x\n",
    "result = sp.integrate(e_y_given_x,( y, x, sp.oo))\n",
    "display(result)\n"
   ]
  },
  {
   "cell_type": "code",
   "execution_count": 133,
   "metadata": {},
   "outputs": [
    {
     "data": {
      "image/png": "[encoded data removed]",
      "text/latex": [
       "$\\displaystyle e^{x} e^{- y}$"
      ],
      "text/plain": [
       " x  -y\n",
       "ℯ ⋅ℯ  "
      ]
     },
     "metadata": {},
     "output_type": "display_data"
    },
    {
     "data": {
      "image/png": "[encoded data removed]",
      "text/latex": [
       "$\\displaystyle 1 - e^{-1}$"
      ],
      "text/plain": [
       "     -1\n",
       "1 - ℯ  "
      ]
     },
     "metadata": {},
     "output_type": "display_data"
    },
    {
     "data": {
      "image/png": "[encoded data removed]",
      "text/latex": [
       "$\\displaystyle 0.63$"
      ],
      "text/plain": [
       "0.63"
      ]
     },
     "metadata": {},
     "output_type": "display_data"
    }
   ],
   "source": [
    "## b\n",
    "x,y = sp.symbols('x, y ')\n",
    "f_x_y = sp.E **(-y)\n",
    "\n",
    "## calc the func first then the other stuff then the expected value\n",
    "f_y_given_x = f_x_y / sp.integrate(f_x_y, (y, x, sp.oo))\n",
    "\n",
    "display(f_y_given_x)\n",
    "\n",
    "res = sp.integrate(f_y_given_x.subs(x,1),(y,1,2))\n",
    "display(res)\n",
    "display(round(res,2))\n"
   ]
  },
  {
   "cell_type": "code",
   "execution_count": 129,
   "metadata": {},
   "outputs": [
    {
     "data": {
      "image/png": "[encoded data removed]",
      "text/latex": [
       "$\\displaystyle \\frac{e^{- y}}{- \\frac{1}{e^{2}} + e^{- x}}$"
      ],
      "text/plain": [
       "     -y    \n",
       "    ℯ      \n",
       "───────────\n",
       "   -2    -x\n",
       "- ℯ   + ℯ  "
      ]
     },
     "metadata": {},
     "output_type": "display_data"
    },
    {
     "data": {
      "image/png": "[encoded data removed]",
      "text/latex": [
       "$\\displaystyle \\frac{1}{4}$"
      ],
      "text/plain": [
       "1/4"
      ]
     },
     "metadata": {},
     "output_type": "display_data"
    }
   ],
   "source": [
    "## c\n",
    "x,y = sp.symbols('x, y ')\n",
    "\n",
    "f_x_y = sp.E **(-y)\n",
    "\n",
    "## calc the func first then the other stuff then the expected value\n",
    "f_x_given_y = f_x_y / sp.integrate(f_x_y, (x, 0, y))\n",
    "\n",
    "display(f_y_given_x)\n",
    "res = sp.integrate(f_x_given_y.subs(y,4), (x , 1, 2))\n",
    "display(res)"
   ]
  },
  {
   "attachments": {},
   "cell_type": "markdown",
   "metadata": {},
   "source": [
    "## Exercise 10 </br>\n",
    "\n",
    "Consider the one-sided confidence interval expressions for a mean of normal population with known variance. State your answer as an integer between 0 and 99 such that the confidence level is stated as a two decimal percentage.\n"
   ]
  },
  {
   "cell_type": "code",
   "execution_count": 95,
   "metadata": {},
   "outputs": [
    {
     "name": "stdout",
     "output_type": "stream",
     "text": [
      "0.9732\n",
      "0.881\n",
      "0.9265\n"
     ]
    }
   ],
   "source": [
    "# Set the z-critical value\n",
    "z_critical = 1.93\n",
    "\n",
    "# Calculate the area under the standard normal distribution curve up to the z-critical value\n",
    "confidence_level = norm.cdf(z_critical)\n",
    "\n",
    "\n",
    "print(round(confidence_level,5))\n",
    "\n",
    "# Set the z-critical value\n",
    "z_critical = 1.18\n",
    "\n",
    "# Calculate the area under the standard normal distribution curve up to the z-critical value\n",
    "confidence_level = norm.cdf(z_critical)\n",
    "\n",
    "\n",
    "print(round(confidence_level,5))\n",
    "\n",
    "# Set the z-critical value\n",
    "z_critical = 1.45\n",
    "\n",
    "# Calculate the area under the standard normal distribution curve up to the z-critical value\n",
    "confidence_level = norm.cdf(z_critical)\n",
    "\n",
    "print(round(confidence_level,4))"
   ]
  },
  {
   "attachments": {},
   "cell_type": "markdown",
   "metadata": {},
   "source": [
    "## Exercise 11 </br>\n",
    "\n",
    "Consider results of 20 randomly chosen people who have run a marathon. Their times, in minutes, are as follows: 137, 146, 150, 163, 166, 179, 186, 193, 196, 213, 218, 225, 236, 239, 254, 269, 271, 279, 282, 295. </br>\n",
    "Calculate a 90% upper confidence bound on the mean time of the race. Assume distribution to be normal. Use the ceiling function such that your answer is an integer between 0 and 999. </br>\n"
   ]
  },
  {
   "cell_type": "code",
   "execution_count": 104,
   "metadata": {},
   "outputs": [
    {
     "name": "stdout",
     "output_type": "stream",
     "text": [
      "A 85.0 % upper confidence interval for the sample mean is  μ <230.0\n"
     ]
    }
   ],
   "source": [
    "x = symbols('x')\n",
    "\n",
    "sample = [137, 146, 150, 163, 166, 179, 186, 193, 196, 213, 218, 225, 236, 239, 254, 269, 271, 279, 282, 295]\n",
    "\n",
    "## Please notice THIS / since we taking in consideration just one side we have to take the full alpha(error) which is 10 % => aplha = 20%\n",
    "level_of_confidence = 0.80\n",
    "n = len(sample) ## sample size\n",
    "SE = stats.sem(sample) ## standard error\n",
    "sample_mean = np.mean(sample)\n",
    "\n",
    "CI = stats.t.interval(level_of_confidence, n-1, loc=sample_mean, scale=SE)\n",
    "\n",
    "print('A ' + repr(level_of_confidence*100+5) + ' % upper confidence interval for the sample mean is  \\u03bc <'+ repr(round(CI[1],0)))\n"
   ]
  },
  {
   "attachments": {},
   "cell_type": "markdown",
   "metadata": {},
   "source": [
    "## Exercise 12 </br>\n",
    "\n",
    "Assume a random sample has been taken from a normal distribution. You are told that the standard error was 1.55, the standard deviation was 6.02, and the sum of all observations was 797.90. Based on this information find the values below. </br>\n"
   ]
  },
  {
   "cell_type": "code",
   "execution_count": 125,
   "metadata": {},
   "outputs": [
    {
     "name": "stdout",
     "output_type": "stream",
     "text": [
      "Sample size: 15\n",
      "Sample mean: 53\n",
      "A 95.0 % confidence interval for the sample mean is [50 ; 56]\n"
     ]
    },
    {
     "data": {
      "image/png": "[encoded data removed]",
      "text/plain": [
       "<Figure size 640x480 with 1 Axes>"
      ]
     },
     "metadata": {},
     "output_type": "display_data"
    }
   ],
   "source": [
    "SE = 1.55\n",
    "standard_deviation= 6.02\n",
    "observation_sum = 797.90\n",
    "\n",
    "n = standard_deviation**2/SE**2\n",
    "print(\"Sample size: \"+ repr(floor(n)))\n",
    "\n",
    "sample_mean = observation_sum/n\n",
    "print(\"Sample mean: \"+ repr(round(sample_mean)))\n",
    "\n",
    "level_of_confidence = 0.95\n",
    "\n",
    "CI = norm.interval(level_of_confidence, loc=sample_mean, scale=SE)\n",
    "\n",
    "## for some reason for the upper interval I got 56 instead of 57\n",
    "print('A ' + repr(level_of_confidence*100) + ' % confidence interval for the sample mean is [' + repr(round(CI[0])) + ' ; '\n",
    "      + repr(round(CI[1])) + ']')\n",
    "\n"
   ]
  },
  {
   "attachments": {},
   "cell_type": "markdown",
   "metadata": {},
   "source": [
    "## Exercise 13 </br>\n",
    "\n",
    "To estimate the portion of voters who plan to vote for Candidate A in an election, a random sample of size n from the voters is chosen. The sampling is done with replacement. Let θ be the portion of voters who plan to vote for Candidate A among all voters. How large does n need to be so that we can obtain a 90% confidence interval with 3 % margin of error? State your answer as an integer between 0 and 99. </br>\n"
   ]
  },
  {
   "cell_type": "code",
   "execution_count": 147,
   "metadata": {},
   "outputs": [
    {
     "data": {
      "text/html": [
       "<img src=\"../images/Screenshot 2023-06-06 at 17.25.02.png\" width=\"1200\" height=\"200\" class=\"unconfined\"/>"
      ],
      "text/plain": [
       "<IPython.core.display.Image object>"
      ]
     },
     "metadata": {},
     "output_type": "display_data"
    },
    {
     "data": {
      "text/html": [
       "<img src=\"../images/Screenshot 2023-06-06 at 17.34.43.png\" width=\"1200\" height=\"200\" class=\"unconfined\"/>"
      ],
      "text/plain": [
       "<IPython.core.display.Image object>"
      ]
     },
     "metadata": {},
     "output_type": "display_data"
    }
   ],
   "source": [
    "\n",
    "display(Image(url='../images/Screenshot 2023-06-06 at 17.25.02.png', width=1200, height=200,unconfined=True))\n",
    "\n",
    "\n",
    "display(Image(url='../images/Screenshot 2023-06-06 at 17.34.43.png', width=1200, height=200,unconfined=True))"
   ]
  },
  {
   "cell_type": "code",
   "execution_count": 146,
   "metadata": {},
   "outputs": [
    {
     "data": {
      "text/latex": [
       "$\\displaystyle z_{0.1/2}=1.645$"
      ],
      "text/plain": [
       "<IPython.core.display.Math object>"
      ]
     },
     "metadata": {},
     "output_type": "display_data"
    },
    {
     "name": "stdout",
     "output_type": "stream",
     "text": [
      "752\n"
     ]
    }
   ],
   "source": [
    "margin_error = 3/100\n",
    "alpha = 0.1\n",
    "z_crit = stats.norm.ppf(1-alpha/2)\n",
    "display(Math('z_{0.1/2}='+latex(round(z_crit,3))))\n",
    "\n",
    "## estimate the p/ this part is super weird  \n",
    "n = ((z_crit/margin_error)**2)*0.25\n",
    "print(round(n))"
   ]
  },
  {
   "attachments": {},
   "cell_type": "markdown",
   "metadata": {},
   "source": [
    "## Exercise 14 </br>\n",
    "\n",
    "A manufacturer is interested in the output voltage of a power supply used in a PC. Output voltage is assumed to be normally distributed with known standard deviation of 0.3 volt, and the manufacturer wishes to test H0:μ0=5, using n = 10 units. The acceptance region for this test is 4.85≤μ≤5.15. Find the value of α. State your answer as an integer between 10 and 99 such that you supply two decimal precision, correctly rounded off </br>\n"
   ]
  },
  {
   "cell_type": "code",
   "execution_count": 191,
   "metadata": {},
   "outputs": [
    {
     "name": "stdout",
     "output_type": "stream",
     "text": [
      "0.3000000000000007\n"
     ]
    },
    {
     "data": {
      "text/latex": [
       "$\\displaystyle z_{0}=-49.54235001$"
      ],
      "text/plain": [
       "<IPython.core.display.Math object>"
      ]
     },
     "metadata": {},
     "output_type": "display_data"
    },
    {
     "data": {
      "text/latex": [
       "$\\displaystyle P-value=0.0$"
      ],
      "text/plain": [
       "<IPython.core.display.Math object>"
      ]
     },
     "metadata": {},
     "output_type": "display_data"
    }
   ],
   "source": [
    "lower_acceptance_value = 4.85 \n",
    "upper_acceptance_value = 5.15\n",
    "\n",
    "sample_size = 10\n",
    "hypothesis_rate = 5\n",
    "\n",
    "standard_deviation = 0.3\n",
    "\n",
    "true_mean = (5.15-4.85)\n",
    "\n",
    "\n",
    "test_statistic_hypothesis = (true_mean-hypothesis_rate)/(standard_deviation / np.sqrt(sample_size))\n",
    "display(Math( 'z_{0}='+ latex(round(test_statistic_hypothesis,8))))\n",
    "\n",
    "## notice we are using sf function, alternative use 1-cdf\n",
    "## to test both sides multiply by 2\n",
    "p_value = 2*norm.sf(np.abs(test_statistic_hypothesis))\n",
    "display(Math( 'P-value='+ latex(round(p_value,6))))"
   ]
  },
  {
   "attachments": {},
   "cell_type": "markdown",
   "metadata": {},
   "source": [
    "## Exercise 15 </br>\n",
    "\n",
    "A manufacturer is interested in the output voltage of a power supply used in a PC. Output voltage is assumed to be normally distributed with known standard deviation of 0.3 volt, and the manufacturer wishes to test H0:μ0=5, using n = 10 units. The acceptance region for this test is 4.85≤μ≤5.15. Find the value of α. State your answer as an integer between 10 and 99 such that you supply two decimal precision, correctly rounded off </br>\n"
   ]
  },
  {
   "cell_type": "code",
   "execution_count": 169,
   "metadata": {},
   "outputs": [
    {
     "data": {
      "text/latex": [
       "$\\displaystyle t_{\\frac{0.01}{2},19}=1.66$"
      ],
      "text/plain": [
       "<IPython.core.display.Math object>"
      ]
     },
     "metadata": {},
     "output_type": "display_data"
    },
    {
     "data": {
      "text/latex": [
       "$\\displaystyle t_{0}=-14.69$"
      ],
      "text/plain": [
       "<IPython.core.display.Math object>"
      ]
     },
     "metadata": {},
     "output_type": "display_data"
    },
    {
     "data": {
      "text/latex": [
       "$\\displaystyle P-value=0.0$"
      ],
      "text/plain": [
       "<IPython.core.display.Math object>"
      ]
     },
     "metadata": {},
     "output_type": "display_data"
    },
    {
     "name": "stdout",
     "output_type": "stream",
     "text": [
      "Fail to reject since 1.2986436221214688e-26 > 0.05\n"
     ]
    }
   ],
   "source": [
    "\n",
    "alpha = 0.05\n",
    "sample_size = 100\n",
    "sample_mean = 260.3\n",
    "sample_standard_deviation = 13.41## small s\n",
    "hypothesis_mean = 280 ## null hypothesiss\n",
    "\n",
    "## carefully this is a right sided test hence interval we are looking at is 1-alpha, not 1-alpha/2\n",
    "ddof = sample_size-1\n",
    "t_crit_ddof = stats.t.ppf(1-alpha,ddof)\n",
    "display(Math('t_{\\\\frac{0.01}{2},19}='+latex(round(t_crit_ddof,3))))\n",
    "\n",
    "test_statistic_hypothesis = (sample_mean-hypothesis_mean)/( sample_standard_deviation/np.sqrt(sample_size))\n",
    "display(Math( 't_{0}='+ latex(round(test_statistic_hypothesis,2))))\n",
    "\n",
    "## notice we are using sf function, alternative use 1-cdf\n",
    "p_value = 2*t.sf(np.abs(test_statistic_hypothesis), sample_size-1)\n",
    "display(Math('P-value='+ latex(round(p_value,5))))\n",
    "\n",
    "if p_value > alpha:\n",
    "    print(\"Reject since \" + repr(p_value) + ' < ' + repr(alpha))\n",
    "else:\n",
    "    print(\"Fail to reject since \" + repr(p_value) + ' > ' + repr(alpha))\n"
   ]
  },
  {
   "attachments": {},
   "cell_type": "markdown",
   "metadata": {},
   "source": [
    "## Exercise 16 </br>\n",
    "\n",
    "A recent study among 254 computer science graduates from Aarhus University was made in order to determine how successful the former students were in their current employment. 98 of these students had taken a course in linear algebra and of these 92 were classified as “successful” in their current employment. 136 of the students who had not taken a course in linear algebra were classified as “successful” in their current employment.\n",
    "\n",
    "Is there evidence to support the claim that computer science graduates who had taken a linear algebra course were more successful in their current employment than those who had not taken such a course with a significance of 0.05? Let pA\n",
    "denote the proportion of succesful students who had taken linear algebra and let pAc\n",
    "\n",
    "denote the proportion successful students who had not taken the linear algebra course. First identify the correct hypotheses by dragging the correct hypothesis to the appropriate placeholder. Then state the test statistic, the critical value, and the p-value.\n",
    "</br>\n",
    "\n",
    "**Approximate Tests on the Difference of Two Population Proportions**\n",
    "**1.Parameter of interest:The parameters of interest are $P_1$ and $P_2$ , the proportion of computer science graduates who had taken a linear algebra course were more successful in their current employment than those who had not taken such a course**</br >\n",
    "**2.Null Hypothesis: $H_0: p_1 =p_2$** </br>\n",
    "**3.Alternative Hypothesis: $H_1: p_1 > p_2$**</br>\n",
    "**4.Test statistic: The test statistic is $z_0= \\frac{\\overline{p_1}-\\overline{p_2}}{\\sqrt{\\overline{p}*(1-\\overline{p})*(\\frac{1}{n_1}-\\frac{1}{n_2})}}$, where $\\overline{p}=\\frac{x_1+x_2}{n_1+n_2}$** </br>\n",
    "**5.Reject $H_0$ if: $p_1=p_2$ if the P-value is lessthan 0.05.** </br>\n",
    "**6.Computations: Reject $H_0$ if the true succes rate is bigger than the hypothesed one at 0.05, or the P-value is less than 0.05** </br>\n"
   ]
  },
  {
   "cell_type": "code",
   "execution_count": 199,
   "metadata": {},
   "outputs": [
    {
     "data": {
      "text/latex": [
       "$\\displaystyle z_{0.05}=1.645$"
      ],
      "text/plain": [
       "<IPython.core.display.Math object>"
      ]
     },
     "metadata": {},
     "output_type": "display_data"
    },
    {
     "data": {
      "text/latex": [
       "$\\displaystyle z_{0}=1.71$"
      ],
      "text/plain": [
       "<IPython.core.display.Math object>"
      ]
     },
     "metadata": {},
     "output_type": "display_data"
    },
    {
     "data": {
      "text/latex": [
       "$\\displaystyle P-value=0.043$"
      ],
      "text/plain": [
       "<IPython.core.display.Math object>"
      ]
     },
     "metadata": {},
     "output_type": "display_data"
    },
    {
     "name": "stdout",
     "output_type": "stream",
     "text": [
      "7. Conclusions:  From z-score table we find for a normal distribution with z0 = 1.96 \n",
      " which is bigger than z_crit = 1.71. \n",
      " Therefore we reject the H_0 hypothesis and conclude that true success rate is greater than 0.78, at alpha = 0.05.\n",
      "Test statistic: 1.7143021919557946\n",
      "P-value: 0.0432366203953335\n",
      "Reject since 0.0432366203953335 < 0.05\n"
     ]
    }
   ],
   "source": [
    "alpha = 0.05\n",
    "\n",
    "population_size = 254\n",
    "\n",
    "attended_linear_algebra = 98\n",
    "attended_linear_algebra_success = 92\n",
    "\n",
    "not_attended_linear_algebra = population_size - attended_linear_algebra\n",
    "not_attended_linear_algebra_success = 136\n",
    "\n",
    "proportion_1 = attended_linear_algebra_success/attended_linear_algebra\n",
    "proportion_2 = not_attended_linear_algebra_success/not_attended_linear_algebra\n",
    "\n",
    "proportion = (attended_linear_algebra_success+not_attended_linear_algebra_success)/(attended_linear_algebra+not_attended_linear_algebra)\n",
    "\n",
    "## carefully this is a two sided test hence interval we are looking at is 1-alpha, not 1-alpha/2\n",
    "##carefully this \n",
    "z_crit = stats.norm.ppf(1-alpha)\n",
    "display(Math('z_{0.05}='+latex(round(z_crit,3))))\n",
    "\n",
    "test_statistic_hypothesis = (proportion_1-proportion_2)/np.sqrt(proportion*(1-proportion)*(1/attended_linear_algebra +1/not_attended_linear_algebra))\n",
    "display(Math( 'z_{0}='+ latex(round(test_statistic_hypothesis,2))))\n",
    "\n",
    "## notice we are using sf function, alternative use 1-cdf\n",
    "## additionally this is a one sided tail test, so to test \n",
    "p_value = norm.sf(np.abs(test_statistic_hypothesis))\n",
    "display(Math( 'P-value='+ latex(round(p_value,3))))\n",
    "\n",
    "print('7. Conclusions:  From z-score table we find for a normal distribution with z0 = 1.96 \\n which is bigger than z_crit = 1.71. \\n Therefore we reject the H_0 hypothesis and conclude that true success rate is greater than 0.78, at alpha = 0.05.')\n",
    "\n",
    "\n",
    "## Alternative just use\n",
    "val = sm.stats.proportions_ztest([attended_linear_algebra_success, not_attended_linear_algebra_success], [attended_linear_algebra, not_attended_linear_algebra], value = None, alternative = 'larger')\n",
    "p_value = val[1]\n",
    "print(\"Test statistic: \"+repr(val[0]))\n",
    "print(\"P-value: \"+repr(val[1]))\n",
    "\n",
    "if p_value < alpha:\n",
    "    print(\"Reject since \" + repr(p_value) + ' < ' + repr(alpha))\n",
    "else:\n",
    "    print(\"Fail to reject since \" + repr(p_value) + ' > ' + repr(alpha))\n"
   ]
  },
  {
   "attachments": {},
   "cell_type": "markdown",
   "metadata": {},
   "source": [
    "## Exercise 17 </br>\n",
    "\n",
    "To estimate efficiency of a drug for weight loss, the clinical trial was performed. The results are presented in the table below (data also available in \"WeightLoss.xlsx\". </br>\n",
    "Is there evidence to support the claim that the drug has had an effect (negative or positive) with a significance of 0.01? Let μB the mean weigth before the clinical trial and let μA denote the average weight after the trial. First identify the correct hypotheses by dragging the correct hypothesis to the appropriate placeholder. Then state the test statistic and the critical value. </br>\n",
    "<span style= \"color:red\">CI getting wrong</span>\n"
   ]
  },
  {
   "cell_type": "code",
   "execution_count": 242,
   "metadata": {},
   "outputs": [
    {
     "data": {
      "text/latex": [
       "$\\displaystyle t_{0.01}=2.95$"
      ],
      "text/plain": [
       "<IPython.core.display.Math object>"
      ]
     },
     "metadata": {},
     "output_type": "display_data"
    },
    {
     "data": {
      "text/latex": [
       "$\\displaystyle t_{0.01,15}=8.42$"
      ],
      "text/plain": [
       "<IPython.core.display.Math object>"
      ]
     },
     "metadata": {},
     "output_type": "display_data"
    },
    {
     "name": "stdout",
     "output_type": "stream",
     "text": [
      "Fail to reject since 0.0 > 0.01\n",
      "A -98.0 % confidence interval for the sample mean is [2.08 < miu_1 - miu_2 < 2.21]\n"
     ]
    }
   ],
   "source": [
    "before = [85.2,79.6,75.8,76.2,91,89.8,82,81.7,67.3,68.4,70,74,66.8,60,94,88.2]\n",
    "after = [83.5,78.1,73.5,74,90.2,87,79.9,78.5,64,65.1,67.8,70,64.6,58.6,92.9,88]\n",
    "\n",
    "alpha = 0.01\n",
    "\n",
    "arr1_length = len(before)\n",
    "arr2_length = len(after)\n",
    "\n",
    "ddof= arr1_length-1\n",
    "\n",
    "## did not get why it is t crit and not z \n",
    "t_crit = stats.t.ppf(1-alpha/2,ddof)\n",
    "display(Math('t_{0.01}='+latex(round(z_crit,2))))\n",
    "\n",
    "val = stats.ttest_rel(before, after)\n",
    "display(Math('t_{0.01,15}='+latex(round(val[0],2))))\n",
    "p_value = round(val[1], 4)\n",
    "\n",
    "if p_value > alpha:\n",
    "    print(\"Reject since \" + repr(p_value) + ' < ' + repr(alpha))\n",
    "else:\n",
    "    print(\"Fail to reject since \" + repr(p_value) + ' > ' + repr(alpha))\n",
    "\n",
    "\n",
    "## CI level\n",
    "## two sided\n",
    "level_of_confidence = 0.99\n",
    "\n",
    "## array length\n",
    "arr1_length= len(before)\n",
    "arr2_length= len(after)\n",
    "\n",
    "## Degree of freedom\n",
    "ddof = arr1_length+arr2_length-2\n",
    "\n",
    "## Mean deviation calculation\n",
    "mean_design_lang_1 = np.mean(before)\n",
    "mean_design_lang_2 = np.mean(after)\n",
    "sample_mean = mean_design_lang_1 - mean_design_lang_2\n",
    "\n",
    "## Standard error\n",
    "SE_1 = stats.sem(before)\n",
    "SE_2 = stats.sem(after)\n",
    "SE = SE_1 + SE_2\n",
    "\n",
    "CI = stats.t.interval(1-level_of_confidence, df = ddof, loc = sample_mean, scale = SE)\n",
    "\n",
    "print('A ' + repr(1-level_of_confidence*100) + ' % confidence interval for the sample mean is [' + repr(round(CI[0],2)) + ' < miu_1 - miu_2 < '\n",
    "      + repr(round(CI[1],2)) + ']')"
   ]
  },
  {
   "attachments": {},
   "cell_type": "markdown",
   "metadata": {},
   "source": [
    "## Exercise 18 </br>\n",
    "Consider the following 8 data pairs $(x_i,y_i)=1, 2,...,8$ </br>\n",
    "(1.1, 4.5)  (0.0, -0.1)  (5.3, 11.6)  (3.8, 5.9)</br>\n",
    "\n",
    "(9.2, 16.4)  (6.9, 16.1)  (0.7, 1.8)  (9.2, 20.6)</br>\n",
    "\n",
    "Find the values below. State all inputs as decimal values with 4 decimal precision, correctly rounded off. Note, if a value is used in a calculation, you should use the exact values in the calculation and not the rounded value. Remember to use '.' as a decimal seperator."
   ]
  },
  {
   "cell_type": "code",
   "execution_count": 193,
   "metadata": {},
   "outputs": [
    {
     "data": {
      "text/latex": [
       "$\\displaystyle \\mu_x = 4.525$"
      ],
      "text/plain": [
       "<IPython.core.display.Math object>"
      ]
     },
     "metadata": {},
     "output_type": "display_data"
    },
    {
     "data": {
      "text/latex": [
       "$\\displaystyle \\mu_y = 9.6$"
      ],
      "text/plain": [
       "<IPython.core.display.Math object>"
      ]
     },
     "metadata": {},
     "output_type": "display_data"
    },
    {
     "data": {
      "text/latex": [
       "$\\displaystyle Sxy = 194.08$"
      ],
      "text/plain": [
       "<IPython.core.display.Math object>"
      ]
     },
     "metadata": {},
     "output_type": "display_data"
    },
    {
     "data": {
      "text/latex": [
       "$\\displaystyle Sxx = 97.315$"
      ],
      "text/plain": [
       "<IPython.core.display.Math object>"
      ]
     },
     "metadata": {},
     "output_type": "display_data"
    },
    {
     "data": {
      "text/latex": [
       "$\\displaystyle \\beta_1 = 1.9943$"
      ],
      "text/plain": [
       "<IPython.core.display.Math object>"
      ]
     },
     "metadata": {},
     "output_type": "display_data"
    },
    {
     "data": {
      "text/latex": [
       "$\\displaystyle \\beta_0 = 0.5756$"
      ],
      "text/plain": [
       "<IPython.core.display.Math object>"
      ]
     },
     "metadata": {},
     "output_type": "display_data"
    },
    {
     "data": {
      "text/latex": [
       "$\\displaystyle \\overline{y}_{x=2} = 4.5643$"
      ],
      "text/plain": [
       "<IPython.core.display.Math object>"
      ]
     },
     "metadata": {},
     "output_type": "display_data"
    },
    {
     "data": {
      "text/latex": [
       "$\\displaystyle \\overline{\\sigma}^2 = 3.5095$"
      ],
      "text/plain": [
       "<IPython.core.display.Math object>"
      ]
     },
     "metadata": {},
     "output_type": "display_data"
    },
    {
     "data": {
      "text/latex": [
       "$\\displaystyle Test statistic for slope: T_0 = 10.5019$"
      ],
      "text/plain": [
       "<IPython.core.display.Math object>"
      ]
     },
     "metadata": {},
     "output_type": "display_data"
    },
    {
     "data": {
      "text/latex": [
       "$\\displaystyle Confidence Interval on the intercept: E_I = -2.1093$"
      ],
      "text/plain": [
       "<IPython.core.display.Math object>"
      ]
     },
     "metadata": {},
     "output_type": "display_data"
    },
    {
     "data": {
      "text/latex": [
       "$\\displaystyle Confidence Interval on the slope: E_S = -0.4647$"
      ],
      "text/plain": [
       "<IPython.core.display.Math object>"
      ]
     },
     "metadata": {},
     "output_type": "display_data"
    },
    {
     "data": {
      "text/latex": [
       "$\\displaystyle Prediction Interval of x = 2: E_P = -4.7347$"
      ],
      "text/plain": [
       "<IPython.core.display.Math object>"
      ]
     },
     "metadata": {},
     "output_type": "display_data"
    },
    {
     "name": "stdout",
     "output_type": "stream",
     "text": [
      "Slope 1.9943482505266406\n",
      "0.9738609483278211\n"
     ]
    }
   ],
   "source": [
    "x = np.array([1.1, 0, 5.3, 3.8, 9.2, 6.9, 0.7, 9.2])\n",
    "y = np.array([4.5, -0.1, 11.6, 5.9, 16.4, 16.1, 1.8, 20.6])\n",
    "\n",
    "sample_size_x = np.size(x)\n",
    "\n",
    "## 2: means\n",
    "x_mean =np.mean(x)\n",
    "y_mean = np.mean(y)\n",
    "\n",
    "display(Math( '\\mu_x = '+ latex(round(x_mean,3))))\n",
    "display(Math( '\\mu_y = '+ latex(round(y_mean,3))))\n",
    "\n",
    "## 1: Sx'es \n",
    "Sxy = np.sum(x*y) - sample_size_x*x_mean*y_mean\n",
    "Sxx = np.sum(x*x) - ((np.sum(x)**2))/sample_size_x\n",
    "display(Math( 'Sxy = '+ latex(round(Sxy,4))))\n",
    "display(Math( 'Sxx = '+ latex(round(Sxx,4))))\n",
    "\n",
    "## 3: betas\n",
    "b1 = Sxy/Sxx\n",
    "b0 = y_mean - b1*x_mean\n",
    "\n",
    "display(Math( '\\\\beta_1 = '+ latex(round(b1,4))))\n",
    "display(Math( '\\\\beta_0 = '+ latex(round(b0,4))))\n",
    "\n",
    "# regression function\n",
    "def f(x):\n",
    "    return b1*x + b0\n",
    "\n",
    "y_hat = f(x)\n",
    "\n",
    "display(Math( '\\\\overline{y}_{x=2} = '+ latex(round(f(2),4))))\n",
    "\n",
    "SSe = np.sum((y-y_hat)**2)\n",
    "\n",
    "var_hat = SSe/(sample_size_x-2)\n",
    "\n",
    "display(Math( '\\\\overline{\\\\sigma}^2 = '+ latex(round(var_hat,4))))\n",
    "\n",
    "sb1 = np.sqrt(var_hat/Sxx)\n",
    "sb0 = math.sqrt(var_hat*(1/sample_size_x + x_mean**2 / Sxx))\n",
    "\n",
    "test_statistic = b1/ (sqrt(var_hat/Sxx))\n",
    "display(Math( 'Test statistic for slope: T_0 = '+ latex(round(test_statistic,4))))\n",
    "\n",
    "E_I = stats.t.ppf(0.05/2,len(x)-2) * sqrt(var_hat * (1/n + x_mean**2/Sxx))\n",
    "display(Math( 'Confidence Interval on the intercept: E_I = '+ latex(round(E_I,4))))\n",
    "\n",
    "E_S = stats.t.ppf(0.05/2, len(x)-2) * sqrt(var_hat/Sxx)\n",
    "display(Math( 'Confidence Interval on the slope: E_S = '+ latex(round(E_S,4))))\n",
    "\n",
    "E_P = t.ppf(0.05/2, len(x)-2) * sqrt(var_hat* (1+ 1/n + (2 - x_mean)**2/Sxx))\n",
    "display(Math( 'Prediction Interval of x = 2: E_P = '+ latex(round(E_P,4))))\n",
    "\n",
    "\n",
    "slope, intercept, rvalue, pvalue, stderr = stats.linregress(x,y=y)\n",
    "print(\"Slope \" + repr(slope))\n",
    "print(rvalue)\n",
    "\n"
   ]
  },
  {
   "attachments": {},
   "cell_type": "markdown",
   "metadata": {},
   "source": [
    "## Exercise 19"
   ]
  },
  {
   "cell_type": "code",
   "execution_count": 195,
   "metadata": {},
   "outputs": [
    {
     "data": {
      "text/html": [
       "<img src=\"../images/Screenshot 2023-06-08 at 16.52.09.png\" width=\"1200\" height=\"400\" class=\"unconfined\"/>"
      ],
      "text/plain": [
       "<IPython.core.display.Image object>"
      ]
     },
     "metadata": {},
     "output_type": "display_data"
    }
   ],
   "source": [
    "display(Image(url='../images/Screenshot 2023-06-08 at 16.52.09.png', width=1200, height=400,unconfined=True))"
   ]
  },
  {
   "cell_type": "code",
   "execution_count": 199,
   "metadata": {},
   "outputs": [
    {
     "data": {
      "text/latex": [
       "$\\displaystyle \\left[\\begin{matrix}\\frac{4}{5} & 0 & \\frac{1}{5}\\\\\\frac{1}{5} & \\frac{7}{10} & \\frac{1}{10}\\\\\\frac{3}{10} & \\frac{3}{10} & \\frac{2}{5}\\end{matrix}\\right]$"
      ],
      "text/plain": [
       "⎡4/5    0    1/5 ⎤\n",
       "⎢                ⎥\n",
       "⎢1/5   7/10  1/10⎥\n",
       "⎢                ⎥\n",
       "⎣3/10  3/10  2/5 ⎦"
      ]
     },
     "metadata": {},
     "output_type": "display_data"
    },
    {
     "data": {
      "image/png": "[encoded data removed]",
      "text/latex": [
       "$\\displaystyle \\frac{7}{10}$"
      ],
      "text/plain": [
       "7/10"
      ]
     },
     "metadata": {},
     "output_type": "display_data"
    }
   ],
   "source": [
    "## a\n",
    "P_power_0 = M([[ R(8,10),0,R(2,10)],\n",
    "                [R(2,10),R(7,10),R(1,10)],\n",
    "                [R(3,10),R(3,10),R(4,10)]\n",
    "              ]) \n",
    "display(P_power_0)\n",
    "## b\n",
    "nd_gen = P_power_0**2\n",
    "display(nd_gen.row(0)[0])"
   ]
  }
 ],
 "metadata": {
  "kernelspec": {
   "display_name": "Python 3",
   "language": "python",
   "name": "python3"
  },
  "language_info": {
   "codemirror_mode": {
    "name": "ipython",
    "version": 3
   },
   "file_extension": ".py",
   "mimetype": "text/x-python",
   "name": "python",
   "nbconvert_exporter": "python",
   "pygments_lexer": "ipython3",
   "version": "3.11.3"
  },
  "orig_nbformat": 4
 },
 "nbformat": 4,
 "nbformat_minor": 2
}
