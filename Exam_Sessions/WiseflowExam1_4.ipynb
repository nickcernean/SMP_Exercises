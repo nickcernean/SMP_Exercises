{
 "cells": [
  {
   "cell_type": "code",
   "execution_count": 3,
   "metadata": {},
   "outputs": [],
   "source": [
    "from scipy import stats\n",
    "from scipy.stats import norm\n",
    "from scipy.stats import t\n",
    "from scipy.stats import binom\n",
    "from scipy.stats import geom\n",
    "from scipy.stats import hypergeom\n",
    "from scipy.stats import poisson\n",
    "from scipy.stats import nbinom\n",
    "import pandas as pd\n",
    "import numpy as np\n",
    "import sympy as sp\n",
    "from sympy import *\n",
    "sp.init_printing()\n",
    "import matplotlib.pyplot as plt\n",
    "import scipy.integrate as integrate\n",
    "import scipy.special as special\n",
    "from scipy.integrate import quad\n",
    "import numpy as np\n",
    "from scipy.misc import derivative\n",
    "import math\n",
    "from math import *\n",
    "from fractions import Fraction\n",
    "import fractions\n",
    "from sympy import Rational as R\n",
    "from IPython.display import display, Math, Latex\n",
    "%matplotlib inline\n",
    "from IPython.display import Image, HTML"
   ]
  },
  {
   "attachments": {},
   "cell_type": "markdown",
   "metadata": {},
   "source": [
    "## Wiseflow Exam Session 1-3 (apparently)"
   ]
  },
  {
   "attachments": {},
   "cell_type": "markdown",
   "metadata": {},
   "source": [
    "## Exercise 1 </br>\n",
    "\n",
    "Four teams A, B, C, and D compete in a tournament. Teams A and B have the same chance of winning the tournament. Team C is twice as likely to win the tournament as team D. The probability that either team A or team C wins the tournament is 0.6. Find the probabilities of each team winning the tournament. State your answer as an integer between 0 and 9, making sure the answer is correctly rounded off. THE EVENTS ARE INDEPENDENT</br>\n",
    "(1) P(A) = P(B) </br>\n",
    "(2) P(C) = 2P(D) </br>\n",
    "(3) $P(A \\cup C)$ =P(A)+P(C)= 0.6 </br>\n",
    "(4) P(B)=P(A)= 0.6 -P(C) </br>\n",
    "(5) P(A)+ P(B) + P(C)+P(D) = 1 =></br>\n",
    "0.6 - P(C) + 0.6 - P(C) + $\\frac {P(C)}{2}$ = 1 =></br >\n",
    "1.2 -2P(C) + $\\frac {P(C)}{2}$=1 =></br>\n",
    "$\\frac {P(C)}{2}$ -2P(C) = -0.2 =></br>\n",
    "$\\frac {P(C) -4P(C)}{2}$= -0.2 =></br>\n",
    "$\\frac {-3P(C)}{2}$= -0.2 =></br>\n",
    "-3P(C)= -0.4 =></br>\n",
    "P(C)= $\\frac {0.4}{3}$ =></br>\n",
    "P(C)= $\\frac {4}{30}$ =></br>\n",
    "P(D) =$\\frac {2}{30}$  ,P(A) =$\\frac {6}{30}$-$\\frac {4}{30}$ = $\\frac {2}{30}$, P(B)= $\\frac {2}{30}$\n",
    "\n"
   ]
  },
  {
   "attachments": {},
   "cell_type": "markdown",
   "metadata": {},
   "source": [
    "## Exercise 2 </br>\n",
    "\n",
    "Let A, B, and C be three events with probabilities given:</br>\n",
    "A = 0.5, B=0.35 , C = 0.4 </br>"
   ]
  },
  {
   "attachments": {},
   "cell_type": "markdown",
   "metadata": {},
   "source": [
    "\n",
    "![Ex_2](images/some_ss.png)"
   ]
  },
  {
   "cell_type": "markdown",
   "metadata": {},
   "source": [
    "(i) P (A | B) = $\\frac {P ( A \\cap B )}{P(B)}$ = $\\frac {0.2}{0.35}$ = $\\frac {20}{35}$ = $\\frac {4}{7}$"
   ]
  },
  {
   "attachments": {},
   "cell_type": "markdown",
   "metadata": {},
   "source": [
    "(i) P (A | B) = $\\frac {P ( A \\cap B )}{P(B)}$ = $\\frac {0.2}{0.35}$ = $\\frac {20}{35}$ = $\\frac {4}{7}$"
   ]
  },
  {
   "attachments": {},
   "cell_type": "markdown",
   "metadata": {},
   "source": [
    "(ii) P (C | B) = $\\frac {P ( C \\cap B )}{P(B)}$ = $\\frac {0.15}{0.35}$ = $\\frac {3}{7}$"
   ]
  },
  {
   "attachments": {},
   "cell_type": "markdown",
   "metadata": {},
   "source": [
    "(iv) $P (B | A \\cup C)$ = $\\frac {P ( B \\cap (A \\cup C) )}{P(A \\cup C)}$ = $\\frac {0.25}{0.70}$ = $\\frac {5}{14}$"
   ]
  },
  {
   "attachments": {},
   "cell_type": "markdown",
   "metadata": {},
   "source": [
    "(iv) P (B | A,C) = $\\frac {P ( B \\cap (A \\cap C) )}{P(A \\cap C)}$ = $\\frac {0.1}{0.2}$ = $\\frac {1}{2}$"
   ]
  },
  {
   "attachments": {},
   "cell_type": "markdown",
   "metadata": {},
   "source": [
    "## Exercise 3 </br>\n",
    "A real number X is selected uniformly at random in the continuous interval [0,10]. (For example, X could be 3.87.)\n",
    "\n",
    "Find the following probabilities. State all your inputs as integers between 0 and 99 such tthat your answers are irreducible fractions. </br>"
   ]
  },
  {
   "attachments": {},
   "cell_type": "markdown",
   "metadata": {},
   "source": [
    "(i) $P(2 \\leq X \\leq 5)$ </br>\n",
    "Formula: $P(2 \\leq X \\leq 5) =  \\frac { x_2-x_1}{b-a}$, where [a;b], in our case [0;10]  </br>\n",
    "$P(2 \\leq X \\leq 5)= \\frac {5-2}{10-0}$ = $\\frac {3}{10}$"
   ]
  },
  {
   "attachments": {},
   "cell_type": "markdown",
   "metadata": {},
   "source": [
    "(ii) $P(X \\leq  |  \\leq 5)$</br>\n",
    "Formula: $P(2 \\leq X \\leq 5) =  \\frac { x_2-x_1}{b-a}$, where [a;b], in our case [0;5] CAREFUL AT THE INTERVAL CHANGE!! </br>\n",
    "$P(2 \\leq X \\leq 5)= \\frac {2-0}{10-0}$ = $\\frac {2}{5}$"
   ]
  },
  {
   "attachments": {},
   "cell_type": "markdown",
   "metadata": {},
   "source": [
    "(iii) $P(3 \\leq X \\leq 8 | X\\leq 4)$</br>\n",
    "Formula: $P(2 \\leq X \\leq 5) =  \\frac { x_2-x_1}{b-a}$, where [a;b], in our case [4;10] CAREFUL AT THE INTERVAL CHANGE!! </br>\n",
    "$[3;8] \\cap [4;10] = [4;10]$\n",
    "$P(2 \\leq X \\leq 5)= \\frac {2-0}{10-4}$ = $\\frac {2}{3}$"
   ]
  },
  {
   "attachments": {},
   "cell_type": "markdown",
   "metadata": {},
   "source": [
    "## Exercise 4 </br>\n",
    "Let X be a discrete random variable with the following PMF </br>\n",
    "$P_X(x)=\\begin{bmatrix} \\frac {1}{2},for&x = 0 \\cr \\frac{1}{3},for&x=1 \\cr \\frac{1}{6},for&x=2 \\cr 0,&otherwise\\end{bmatrix}$ </br> \n",
    "Find the following. State all inputs as integers between 0 and 99 and state all sets {x1, x2, ... , $x_n$} such that x1<x2<... < $x_n$. Also, all resulting fractions must be irreducible."
   ]
  },
  {
   "attachments": {},
   "cell_type": "markdown",
   "metadata": {},
   "source": [
    "(i) $R_x$ ={0,1,2}, sample space"
   ]
  },
  {
   "attachments": {},
   "cell_type": "markdown",
   "metadata": {},
   "source": [
    "(ii) Since we are working with discrete variables, evertyhing is easy </br>\n",
    "$P(X \\leq 1.5) = P(X = 2)= \\frac {1}{6}$"
   ]
  },
  {
   "attachments": {},
   "cell_type": "markdown",
   "metadata": {},
   "source": [
    "(ii) Since we are working with discrete variables, evertyhing is easy </br>\n",
    "$P( 0 \\leq X \\leq 2) = P(X = 1)= \\frac {1}{3}$"
   ]
  },
  {
   "attachments": {},
   "cell_type": "markdown",
   "metadata": {},
   "source": [
    "(iv) Since we are working with discrete variables, evertyhing is easy </br>\n",
    "$P( X =0 | X < 2) = \\frac {P((X=0)\\cap (X<2))}{P(X< 2)} = \\frac {\\frac {1}{2}}{\\frac {1}{2}+\\frac {1}{3} } =\\frac {3}{5}$"
   ]
  },
  {
   "attachments": {},
   "cell_type": "markdown",
   "metadata": {},
   "source": [
    "## Exercise 5 </br>\n",
    "\n",
    "$Let X be the number of the cars being repaired at a repair shop. We have the following information: </br>\n",
    "(1) At any time, there are at most 3 cars being repaired.</br>\n",
    "(2) The probability of having 2 cars at the shop is the same as the probability of having one car.</br>\n",
    "(3) The probability of having no car at the shop is the same as the probability of having 3 cars.</br>\n",
    "(4) The probability of having 1 or 2 cars is half of the probability of having 0 or 3 cars.</br>\n",
    "(5) The shop can handle no more than 3 cars. </br>\n",
    "Find the following. State all inputs as integers between 0 and 99 and state all sets {x1, x2, ... , $x_n$} such that x1<x2<...<$x_n$. </br> Also, all resulting fractions must be irreducible. </br>\n",
    "(1) P(X>3) = undefined </br>\n",
    "(2) P(X=2)= P(X=1) = $\\frac{1}{6}$ </br>\n",
    "(3) P(X=0)= P(X=3) = $\\frac{1}{3}$ </br>\n",
    "(3) $P(X=1) \\cup P(X=2)$= $\\frac  {P(X=0) \\cup P(X=3)}{2}$</br>\n",
    "(3) $P(X=0)+P(X=1)+P(X=2)+P(X=3)= 1$ </br>\n"
   ]
  },
  {
   "attachments": {},
   "cell_type": "markdown",
   "metadata": {},
   "source": [
    "(i) $R_x = {0,1,2,3}$, sample space"
   ]
  },
  {
   "attachments": {},
   "cell_type": "markdown",
   "metadata": {},
   "source": [
    "(ii) $P_X(0)=P_X(3)= \\frac {} {}$ </br>\n",
    "$P_X(0)+P_X(1)+P_X(2)+P_X(3) = 1$ =></br>\n",
    "$2P_X(3)+2P_X(1)= 1$  =></br>\n",
    "$2P_X(1)=P_X(3)= 1$  =></br>\n",
    "$2P_X(3)+P_X(3)=1$=>$P_X(3)=\\frac {1}{3}$\n",
    "$2P_X(1)=P_X(3)$=> $P_X(1)= \\frac {1}{6}$</br>"
   ]
  },
  {
   "attachments": {},
   "cell_type": "markdown",
   "metadata": {},
   "source": [
    "## Exercise 6 </br>\n",
    "Let X and Y be two independent discrete randoms variable with the following PMF's </br>\n",
    "$P_X(k)=\\begin{bmatrix} \\frac {1}{4}&,for&k = 1 \\cr \\frac{1}{8}&,for&k=2&and&k=3 \\cr \\frac{1}{2}&,for&k=4 \\cr 0&,&otherwise\\end{bmatrix}$ </br>and</br>\n",
    "$P_Y(k)=\\begin{bmatrix} \\frac {1}{6}&,for&k = 1&and&k=2 \\cr \\frac{1}{3}&,for&k=3 \\cr \\frac{1}{3}&,for&k=4 \\cr 0&,&otherwise\\end{bmatrix}$ </br>\n",
    "\n",
    "Find the following. State all inputs as integers between 0 and 99 and state all sets {x1, x2, ... , $x_n$} such that x1<x2<... <$x_n$. Also, all resulting fractions must be irreducible."
   ]
  },
  {
   "attachments": {},
   "cell_type": "markdown",
   "metadata": {},
   "source": [
    "(i) $R_X=R_Y={1,2,3,4}$, sample space"
   ]
  },
  {
   "attachments": {},
   "cell_type": "markdown",
   "metadata": {},
   "source": [
    "(ii) $P(X \\leq 2 and Y \\leq 2)$ </br>\n",
    "$P(X \\leq 2 and Y \\leq 2)$ = (P(X=1)+P(X=2))*(P(Y=1)+P(Y=2)) = </br>\n",
    "($\\frac {1}{4} +\\frac {1}{8}$)*($\\frac {1}{6} +\\frac {1}{6}$)= $\\frac {1}{8}$"
   ]
  },
  {
   "attachments": {},
   "cell_type": "markdown",
   "metadata": {},
   "source": [
    "(iii)$P(X > 2 or Y > 2)$ </br>\n",
    "$P(X > 2 or Y > 2)$ = $P(A \\cup B) = P(X>2)+P(Y>2)-P((X>2) \\cap (Y>2))=$</br>\n",
    "$=\\frac{1}{8}+\\frac{1}{2}+\\frac{1}{3}+\\frac{1}{3}-((\\frac{1}{8}+\\frac{1}{2})*(\\frac{1}{3}+\\frac{1}{3}))$=</br>\n",
    "$=\\frac {21}{24}$"
   ]
  },
  {
   "attachments": {},
   "cell_type": "markdown",
   "metadata": {},
   "source": [
    "(iv)$P(X > 2 | Y > 2)$ </br>\n",
    "$P(X > 2 | Y > 2)$ = $\\frac {P((X>2)\\cap (Y>2))}{P(Y>2)}=$</br>\n",
    "$=\\frac{(\\frac{1}{3}+\\frac{1}{3})*(\\frac{1}{8}+\\frac{1}{2})}{\\frac{2}{3}}$=</br>\n",
    "$=\\frac {5}{8}$"
   ]
  },
  {
   "attachments": {},
   "cell_type": "markdown",
   "metadata": {},
   "source": [
    "##Not DONE\n",
    "\n",
    "(v) $P(X < Y)= P(X -Y < 0 )$ </br>\n"
   ]
  },
  {
   "attachments": {},
   "cell_type": "markdown",
   "metadata": {},
   "source": [
    "## Exercise 7 </br>\n",
    "Consider the following circuit. </br>\n",
    "\n",
    "\n",
    "The probability that each device functions correctly is p1=0.83 and p2=0.75. Assume that devices fail independently. Let X denote the number of defective devices. Find the mean of X. State your answer as an integer between 0 and 99, such that you supply two decimal precision correctly rounded off. </br>\n",
    "-devices fails independently </br>\n",
    "-let X denote the number of defective devices </br>\n",
    "We have to calculate the mean of defective devices  =></br>\n",
    "Formula: E(X)= np => In our case: E(X) = $1*\\overline{p_1}+1*\\overline{p_2} = (1-p_1) + (1-p_2)$= </br>\n",
    "= $0.17 + 0.25 = 0.42$"
   ]
  },
  {
   "attachments": {},
   "cell_type": "markdown",
   "metadata": {},
   "source": [
    "## Exercise 8 </br>\n",
    "Each main bearing cap in an engine contains four bolts. The bolts are selected at random, without replacement, from a parts bin that contains 30 bolts from one supplier and 70 bolts from another supplier. State your answers as integers between 0 and 99 such that you supply two decimal precision, correctly rounded off.</br>\n",
    "**Hypergeometric Distribution** </br>\n",
    "$P(x,N,r,n)=\\frac {\\begin{pmatrix}r\\cr x\\cr\\end{pmatrix}* \\begin{pmatrix}N-r\\cr n-x\\cr\\end{pmatrix}}{\\begin{pmatrix}N\\cr n\\cr\\end{pmatrix}}$ </br>\n",
    "Internet formula: </br>\n",
    "$P(k,M,n,N)=\\frac {\\begin{pmatrix}n\\cr k\\cr\\end{pmatrix}* \\begin{pmatrix}M-n\\cr N-k\\cr\\end{pmatrix}}{\\begin{pmatrix}M\\cr N\\cr\\end{pmatrix}}$ </br>\n",
    "x = number of observed succcesses </br>\n",
    "N = population size </br>\n",
    "r = number of success states in the population </br>\n",
    "n = number of possible succcesses"
   ]
  },
  {
   "attachments": {},
   "cell_type": "markdown",
   "metadata": {},
   "source": [
    "**a)** What is the probability that a main bearing cap contains all bolts from the same supplier? </br>\n",
    "$P(x,N,r,n)=\\frac {\\begin{pmatrix}r\\cr x\\cr\\end{pmatrix}* \\begin{pmatrix}N-r\\cr n-x\\cr\\end{pmatrix}}{\\begin{pmatrix}N\\cr n\\cr\\end{pmatrix}}$ </br>\n",
    "x1 = 4 = one supplier </br>\n",
    "x2 = another supplier </br>\n",
    "N = 100 (whole population)</br>\n",
    "r = 30 (sample size selected)</br>\n",
    "n = 4 (successes available)"
   ]
  },
  {
   "cell_type": "code",
   "execution_count": 73,
   "metadata": {},
   "outputs": [
    {
     "data": {
      "text/latex": [
       "$\\displaystyle P(X = 3) = 0.4487$"
      ],
      "text/plain": [
       "<IPython.core.display.Math object>"
      ]
     },
     "metadata": {},
     "output_type": "display_data"
    }
   ],
   "source": [
    "\n",
    "##NOT DONE\n",
    "[r, n] = [ 30, 4]\n",
    "[x1,N1] = [1, 100]\n",
    "[x2,N2] = [4,70]\n",
    "\n",
    "display(Math(\"P(X = 3) = \" +\n",
    "        repr(round(hypergeom.pmf(x1 ,N1, r, n) + hypergeom.pmf(x2 ,N2, r, n), 4))))"
   ]
  },
  {
   "attachments": {},
   "cell_type": "markdown",
   "metadata": {},
   "source": [
    "**b)** What is the probability that exactly three bolts are from the same supplier? </br>\n",
    "$P(x,N,r,n)=\\frac {\\begin{pmatrix}r\\cr x\\cr\\end{pmatrix}* \\begin{pmatrix}N-r\\cr n-x\\cr\\end{pmatrix}}{\\begin{pmatrix}N\\cr n\\cr\\end{pmatrix}}$ </br>\n",
    "x1 = 3 = one supplier </br>\n",
    "x2 = 1 = another supplier </br>\n",
    "N = 100 (whole population)</br>\n",
    "r = 30 (sample size selected)</br>\n",
    "n = 4 (successes available)"
   ]
  },
  {
   "cell_type": "code",
   "execution_count": 44,
   "metadata": {},
   "outputs": [
    {
     "data": {
      "text/latex": [
       "$\\displaystyle P(X = 3) = 0.4913$"
      ],
      "text/plain": [
       "<IPython.core.display.Math object>"
      ]
     },
     "metadata": {},
     "output_type": "display_data"
    }
   ],
   "source": [
    "[N, r, n] = [100, 30, 4]\n",
    "[x1] = [3]\n",
    "[x2] = [1]\n",
    "\n",
    "display(Math(\"P(X = 3) = \" +\n",
    "        repr(round(hypergeom.pmf(x1 ,N, r, n) + hypergeom.pmf(x2 ,N, r, n), 4))))"
   ]
  }
 ],
 "metadata": {
  "kernelspec": {
   "display_name": "Python 3",
   "language": "python",
   "name": "python3"
  },
  "language_info": {
   "codemirror_mode": {
    "name": "ipython",
    "version": 3
   },
   "file_extension": ".py",
   "mimetype": "text/x-python",
   "name": "python",
   "nbconvert_exporter": "python",
   "pygments_lexer": "ipython3",
   "version": "3.9.6"
  },
  "orig_nbformat": 4
 },
 "nbformat": 4,
 "nbformat_minor": 2
}
