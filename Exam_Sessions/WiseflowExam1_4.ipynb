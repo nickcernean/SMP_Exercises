{
 "cells": [
  {
   "cell_type": "code",
   "execution_count": 277,
   "metadata": {},
   "outputs": [],
   "source": [
    "from scipy import stats\n",
    "from scipy.stats import norm\n",
    "from scipy.stats import t\n",
    "from scipy.stats import binom\n",
    "from scipy.stats import geom\n",
    "from scipy.stats import hypergeom\n",
    "from scipy.stats import poisson\n",
    "from scipy.stats import nbinom\n",
    "import pandas as pd\n",
    "import numpy as np\n",
    "import sympy as sp\n",
    "from sympy import *\n",
    "sp.init_printing()\n",
    "import matplotlib.pyplot as plt\n",
    "import scipy.integrate as integrate\n",
    "import scipy.special as special\n",
    "from scipy.integrate import quad\n",
    "import numpy as np\n",
    "from scipy.misc import derivative\n",
    "import math\n",
    "from math import *\n",
    "from fractions import Fraction\n",
    "import fractions\n",
    "from sympy import Rational as R\n",
    "from IPython.display import display, Math, Latex\n",
    "%matplotlib inline\n",
    "from IPython.display import Image, HTML"
   ]
  },
  {
   "attachments": {},
   "cell_type": "markdown",
   "metadata": {},
   "source": [
    "## Wiseflow Exam Session 1-3 (apparently)"
   ]
  },
  {
   "attachments": {},
   "cell_type": "markdown",
   "metadata": {},
   "source": [
    "## Exercise 1 </br>\n",
    "\n",
    "Four teams A, B, C, and D compete in a tournament. Teams A and B have the same chance of winning the tournament. Team C is twice as likely to win the tournament as team D. The probability that either team A or team C wins the tournament is 0.6. Find the probabilities of each team winning the tournament. State your answer as an integer between 0 and 9, making sure the answer is correctly rounded off. THE EVENTS ARE INDEPENDENT</br>\n",
    "(1) P(A) = P(B) </br>\n",
    "(2) P(C) = 2P(D) </br>\n",
    "(3) $P(A \\cup C)$ =P(A)+P(C)= 0.6 </br>\n",
    "(4) P(B)=P(A)= 0.6 -P(C) </br>\n",
    "(5) P(A)+ P(B) + P(C)+P(D) = 1 =></br>\n",
    "0.6 - P(C) + 0.6 - P(C) + $\\frac {P(C)}{2}$ = 1 =></br >\n",
    "1.2 -2P(C) + $\\frac {P(C)}{2}$=1 =></br>\n",
    "$\\frac {P(C)}{2}$ -2P(C) = -0.2 =></br>\n",
    "$\\frac {P(C) -4P(C)}{2}$= -0.2 =></br>\n",
    "$\\frac {-3P(C)}{2}$= -0.2 =></br>\n",
    "-3P(C)= -0.4 =></br>\n",
    "P(C)= $\\frac {0.4}{3}$ =></br>\n",
    "P(C)= $\\frac {4}{30}$ =></br>\n",
    "P(D) =$\\frac {2}{30}$  ,P(A) =$\\frac {6}{30}$-$\\frac {4}{30}$ = $\\frac {2}{30}$, P(B)= $\\frac {2}{30}$\n",
    "\n"
   ]
  },
  {
   "attachments": {},
   "cell_type": "markdown",
   "metadata": {},
   "source": [
    "## Exercise 2 </br>\n",
    "\n",
    "Let A, B, and C be three events with probabilities given:</br>\n",
    "A = 0.5, B=0.35 , C = 0.4 </br>"
   ]
  },
  {
   "attachments": {},
   "cell_type": "markdown",
   "metadata": {},
   "source": [
    "\n",
    "![Ex_2](images/some_ss.png)"
   ]
  },
  {
   "cell_type": "markdown",
   "metadata": {},
   "source": [
    "(i) P (A | B) = $\\frac {P ( A \\cap B )}{P(B)}$ = $\\frac {0.2}{0.35}$ = $\\frac {20}{35}$ = $\\frac {4}{7}$"
   ]
  },
  {
   "attachments": {},
   "cell_type": "markdown",
   "metadata": {},
   "source": [
    "(i) P (A | B) = $\\frac {P ( A \\cap B )}{P(B)}$ = $\\frac {0.2}{0.35}$ = $\\frac {20}{35}$ = $\\frac {4}{7}$"
   ]
  },
  {
   "attachments": {},
   "cell_type": "markdown",
   "metadata": {},
   "source": [
    "(ii) P (C | B) = $\\frac {P ( C \\cap B )}{P(B)}$ = $\\frac {0.15}{0.35}$ = $\\frac {3}{7}$"
   ]
  },
  {
   "attachments": {},
   "cell_type": "markdown",
   "metadata": {},
   "source": [
    "(iv) $P (B | A \\cup C)$ = $\\frac {P ( B \\cap (A \\cup C) )}{P(A \\cup C)}$ = $\\frac {0.25}{0.70}$ = $\\frac {5}{14}$"
   ]
  },
  {
   "attachments": {},
   "cell_type": "markdown",
   "metadata": {},
   "source": [
    "(iv) P (B | A,C) = $\\frac {P ( B \\cap (A \\cap C) )}{P(A \\cap C)}$ = $\\frac {0.1}{0.2}$ = $\\frac {1}{2}$"
   ]
  },
  {
   "attachments": {},
   "cell_type": "markdown",
   "metadata": {},
   "source": [
    "## Exercise 3 </br>\n",
    "A real number X is selected uniformly at random in the continuous interval [0,10]. (For example, X could be 3.87.)\n",
    "\n",
    "Find the following probabilities. State all your inputs as integers between 0 and 99 such tthat your answers are irreducible fractions. </br>"
   ]
  },
  {
   "attachments": {},
   "cell_type": "markdown",
   "metadata": {},
   "source": [
    "(i) $P(2 \\leq X \\leq 5)$ </br>\n",
    "Formula: $P(2 \\leq X \\leq 5) =  \\frac { x_2-x_1}{b-a}$, where [a;b], in our case [0;10]  </br>\n",
    "$P(2 \\leq X \\leq 5)= \\frac {5-2}{10-0}$ = $\\frac {3}{10}$"
   ]
  },
  {
   "attachments": {},
   "cell_type": "markdown",
   "metadata": {},
   "source": [
    "(ii) $P(X \\leq  |  \\leq 5)$</br>\n",
    "Formula: $P(2 \\leq X \\leq 5) =  \\frac { x_2-x_1}{b-a}$, where [a;b], in our case [0;5] CAREFUL AT THE INTERVAL CHANGE!! </br>\n",
    "$P(2 \\leq X \\leq 5)= \\frac {2-0}{10-0}$ = $\\frac {2}{5}$"
   ]
  },
  {
   "attachments": {},
   "cell_type": "markdown",
   "metadata": {},
   "source": [
    "(iii) $P(3 \\leq X \\leq 8 | X\\leq 4)$</br>\n",
    "Formula: $P(2 \\leq X \\leq 5) =  \\frac { x_2-x_1}{b-a}$, where [a;b], in our case [4;10] CAREFUL AT THE INTERVAL CHANGE!! </br>\n",
    "$[3;8] \\cap [4;10] = [4;10]$\n",
    "$P(2 \\leq X \\leq 5)= \\frac {2-0}{10-4}$ = $\\frac {2}{3}$"
   ]
  },
  {
   "attachments": {},
   "cell_type": "markdown",
   "metadata": {},
   "source": [
    "## Exercise 4 </br>\n",
    "Let X be a discrete random variable with the following PMF </br>\n",
    "$P_X(x)=\\begin{bmatrix} \\frac {1}{2},for&x = 0 \\cr \\frac{1}{3},for&x=1 \\cr \\frac{1}{6},for&x=2 \\cr 0,&otherwise\\end{bmatrix}$ </br> \n",
    "Find the following. State all inputs as integers between 0 and 99 and state all sets {x1, x2, ... , $x_n$} such that x1<x2<... < $x_n$. Also, all resulting fractions must be irreducible."
   ]
  },
  {
   "attachments": {},
   "cell_type": "markdown",
   "metadata": {},
   "source": [
    "(i) $R_x$ ={0,1,2}, sample space"
   ]
  },
  {
   "attachments": {},
   "cell_type": "markdown",
   "metadata": {},
   "source": [
    "(ii) Since we are working with discrete variables, evertyhing is easy </br>\n",
    "$P(X \\leq 1.5) = P(X = 2)= \\frac {1}{6}$"
   ]
  },
  {
   "attachments": {},
   "cell_type": "markdown",
   "metadata": {},
   "source": [
    "(ii) Since we are working with discrete variables, evertyhing is easy </br>\n",
    "$P( 0 \\leq X \\leq 2) = P(X = 1)= \\frac {1}{3}$"
   ]
  },
  {
   "attachments": {},
   "cell_type": "markdown",
   "metadata": {},
   "source": [
    "(iv) Since we are working with discrete variables, evertyhing is easy </br>\n",
    "$P( X =0 | X < 2) = \\frac {P((X=0)\\cap (X<2))}{P(X< 2)} = \\frac {\\frac {1}{2}}{\\frac {1}{2}+\\frac {1}{3} } =\\frac {3}{5}$"
   ]
  },
  {
   "attachments": {},
   "cell_type": "markdown",
   "metadata": {},
   "source": [
    "## Exercise 5 </br>\n",
    "\n",
    "$Let X be the number of the cars being repaired at a repair shop. We have the following information: </br>\n",
    "(1) At any time, there are at most 3 cars being repaired.</br>\n",
    "(2) The probability of having 2 cars at the shop is the same as the probability of having one car.</br>\n",
    "(3) The probability of having no car at the shop is the same as the probability of having 3 cars.</br>\n",
    "(4) The probability of having 1 or 2 cars is half of the probability of having 0 or 3 cars.</br>\n",
    "(5) The shop can handle no more than 3 cars. </br>\n",
    "Find the following. State all inputs as integers between 0 and 99 and state all sets {x1, x2, ... , $x_n$} such that x1<x2<...<$x_n$. </br> Also, all resulting fractions must be irreducible. </br>\n",
    "(1) P(X>3) = undefined </br>\n",
    "(2) P(X=2)= P(X=1) = $\\frac{1}{6}$ </br>\n",
    "(3) P(X=0)= P(X=3) = $\\frac{1}{3}$ </br>\n",
    "(3) $P(X=1) \\cup P(X=2)$= $\\frac  {P(X=0) \\cup P(X=3)}{2}$</br>\n",
    "(3) $P(X=0)+P(X=1)+P(X=2)+P(X=3)= 1$ </br>\n"
   ]
  },
  {
   "attachments": {},
   "cell_type": "markdown",
   "metadata": {},
   "source": [
    "(i) $R_x = {0,1,2,3}$, sample space"
   ]
  },
  {
   "attachments": {},
   "cell_type": "markdown",
   "metadata": {},
   "source": [
    "(ii) $P_X(0)=P_X(3)= \\frac {} {}$ </br>\n",
    "$P_X(0)+P_X(1)+P_X(2)+P_X(3) = 1$ =></br>\n",
    "$2P_X(3)+2P_X(1)= 1$  =></br>\n",
    "$2P_X(1)=P_X(3)= 1$  =></br>\n",
    "$2P_X(3)+P_X(3)=1$=>$P_X(3)=\\frac {1}{3}$\n",
    "$2P_X(1)=P_X(3)$=> $P_X(1)= \\frac {1}{6}$</br>"
   ]
  },
  {
   "attachments": {},
   "cell_type": "markdown",
   "metadata": {},
   "source": [
    "## Exercise 6 </br>\n",
    "Let X and Y be two independent discrete randoms variable with the following PMF's </br>\n",
    "$P_X(k)=\\begin{bmatrix} \\frac {1}{4}&,for&k = 1 \\cr \\frac{1}{8}&,for&k=2&and&k=3 \\cr \\frac{1}{2}&,for&k=4 \\cr 0&,&otherwise\\end{bmatrix}$ </br>and</br>\n",
    "$P_Y(k)=\\begin{bmatrix} \\frac {1}{6}&,for&k = 1&and&k=2 \\cr \\frac{1}{3}&,for&k=3 \\cr \\frac{1}{3}&,for&k=4 \\cr 0&,&otherwise\\end{bmatrix}$ </br>\n",
    "\n",
    "Find the following. State all inputs as integers between 0 and 99 and state all sets {x1, x2, ... , $x_n$} such that x1<x2<... <$x_n$. Also, all resulting fractions must be irreducible."
   ]
  },
  {
   "attachments": {},
   "cell_type": "markdown",
   "metadata": {},
   "source": [
    "(i) $R_X=R_Y={1,2,3,4}$, sample space"
   ]
  },
  {
   "attachments": {},
   "cell_type": "markdown",
   "metadata": {},
   "source": [
    "(ii) $P(X \\leq 2 and Y \\leq 2)$ </br>\n",
    "$P(X \\leq 2 and Y \\leq 2)$ = (P(X=1)+P(X=2))*(P(Y=1)+P(Y=2)) = </br>\n",
    "($\\frac {1}{4} +\\frac {1}{8}$)*($\\frac {1}{6} +\\frac {1}{6}$)= $\\frac {1}{8}$"
   ]
  },
  {
   "attachments": {},
   "cell_type": "markdown",
   "metadata": {},
   "source": [
    "(iii)$P(X > 2 or Y > 2)$ </br>\n",
    "$P(X > 2 or Y > 2)$ = $P(A \\cup B) = P(X>2)+P(Y>2)-P((X>2) \\cap (Y>2))=$</br>\n",
    "$=\\frac{1}{8}+\\frac{1}{2}+\\frac{1}{3}+\\frac{1}{3}-((\\frac{1}{8}+\\frac{1}{2})*(\\frac{1}{3}+\\frac{1}{3}))$=</br>\n",
    "$=\\frac {21}{24}$"
   ]
  },
  {
   "attachments": {},
   "cell_type": "markdown",
   "metadata": {},
   "source": [
    "(iv)$P(X > 2 | Y > 2)$ </br>\n",
    "$P(X > 2 | Y > 2)$ = $\\frac {P((X>2)\\cap (Y>2))}{P(Y>2)}=$</br>\n",
    "$=\\frac{(\\frac{1}{3}+\\frac{1}{3})*(\\frac{1}{8}+\\frac{1}{2})}{\\frac{2}{3}}$=</br>\n",
    "$=\\frac {5}{8}$"
   ]
  },
  {
   "attachments": {},
   "cell_type": "markdown",
   "metadata": {},
   "source": [
    "##Not DONE\n",
    "\n",
    "(v) $P(X < Y)= P(X -Y < 0 )$ </br>\n"
   ]
  },
  {
   "attachments": {},
   "cell_type": "markdown",
   "metadata": {},
   "source": [
    "## Exercise 7 </br>\n",
    "Consider the following circuit. </br>\n",
    "\n",
    "\n",
    "The probability that each device functions correctly is p1=0.83 and p2=0.75. Assume that devices fail independently. Let X denote the number of defective devices. Find the mean of X. State your answer as an integer between 0 and 99, such that you supply two decimal precision correctly rounded off. </br>\n",
    "-devices fails independently </br>\n",
    "-let X denote the number of defective devices </br>\n",
    "We have to calculate the mean of defective devices  =></br>\n",
    "Formula: E(X)= np => In our case: E(X) = $1*\\overline{p_1}+1*\\overline{p_2} = (1-p_1) + (1-p_2)$= </br>\n",
    "= $0.17 + 0.25 = 0.42$"
   ]
  },
  {
   "attachments": {},
   "cell_type": "markdown",
   "metadata": {},
   "source": [
    "## Exercise 8 </br>\n",
    "Each main bearing cap in an engine contains four bolts. The bolts are selected at random, without replacement, from a parts bin that contains 30 bolts from one supplier and 70 bolts from another supplier. State your answers as integers between 0 and 99 such that you supply two decimal precision, correctly rounded off.</br>\n",
    "**Hypergeometric Distribution** </br>\n",
    "$P(x,N,r,n)=\\frac {\\begin{pmatrix}r\\cr x\\cr\\end{pmatrix}* \\begin{pmatrix}N-r\\cr n-x\\cr\\end{pmatrix}}{\\begin{pmatrix}N\\cr n\\cr\\end{pmatrix}}$ </br>\n",
    "Internet formula: </br>\n",
    "$P(k,M,n,N)=\\frac {\\begin{pmatrix}n\\cr k\\cr\\end{pmatrix}* \\begin{pmatrix}M-n\\cr N-k\\cr\\end{pmatrix}}{\\begin{pmatrix}M\\cr N\\cr\\end{pmatrix}}$ </br>\n",
    "x = number of observed succcesses </br>\n",
    "N = population size </br>\n",
    "r = number of success states in the population </br>\n",
    "n = number of possible succcesses"
   ]
  },
  {
   "attachments": {},
   "cell_type": "markdown",
   "metadata": {},
   "source": [
    "**a)** What is the probability that a main bearing cap contains all bolts from the same supplier? </br>\n",
    "$P(x,N,r,n)=\\frac {\\begin{pmatrix}r\\cr x\\cr\\end{pmatrix}* \\begin{pmatrix}N-r\\cr n-x\\cr\\end{pmatrix}}{\\begin{pmatrix}N\\cr n\\cr\\end{pmatrix}}$ </br>\n",
    "x1 = 4 = one supplier </br>\n",
    "x2 = another supplier </br>\n",
    "N = 100 (whole population)</br>\n",
    "r = 30 (sample size selected)</br>\n",
    "n = 4 (successes available)"
   ]
  },
  {
   "cell_type": "code",
   "execution_count": 81,
   "metadata": {},
   "outputs": [
    {
     "data": {
      "text/latex": [
       "$\\displaystyle P(X = 3) = 0.5771$"
      ],
      "text/plain": [
       "<IPython.core.display.Math object>"
      ]
     },
     "metadata": {},
     "output_type": "display_data"
    }
   ],
   "source": [
    "\n",
    "##NOT DONE\n",
    "[r, n] = [ 30, 4]\n",
    "[x1,N1] = [1, 70]\n",
    "[x2,N2] = [4,30]\n",
    "\n",
    "display(Math(\"P(X = 3) = \" +\n",
    "        repr(round(hypergeom.sf(x1 ,N1, r, n) + hypergeom.sf(x2 ,N2, r, n), 4))))"
   ]
  },
  {
   "attachments": {},
   "cell_type": "markdown",
   "metadata": {},
   "source": [
    "**b)** What is the probability that exactly three bolts are from the same supplier? </br>\n",
    "$P(x,N,r,n)=\\frac {\\begin{pmatrix}r\\cr x\\cr\\end{pmatrix}* \\begin{pmatrix}N-r\\cr n-x\\cr\\end{pmatrix}}{\\begin{pmatrix}N\\cr n\\cr\\end{pmatrix}}$ </br>\n",
    "x1 = 3 = one supplier </br>\n",
    "x2 = 1 = another supplier </br>\n",
    "N = 100 (whole population)</br>\n",
    "r = 30 (sample size selected)</br>\n",
    "n = 4 (successes available)"
   ]
  },
  {
   "cell_type": "code",
   "execution_count": 44,
   "metadata": {},
   "outputs": [
    {
     "data": {
      "text/latex": [
       "$\\displaystyle P(X = 3) = 0.4913$"
      ],
      "text/plain": [
       "<IPython.core.display.Math object>"
      ]
     },
     "metadata": {},
     "output_type": "display_data"
    }
   ],
   "source": [
    "[N, r, n] = [100, 30, 4]\n",
    "[x1] = [3]\n",
    "[x2] = [1]\n",
    "\n",
    "display(Math(\"P(X = 3) = \" +\n",
    "        repr(round(hypergeom.pmf(x1 ,N, r, n) + hypergeom.pmf(x2 ,N, r, n), 4))))"
   ]
  },
  {
   "attachments": {},
   "cell_type": "markdown",
   "metadata": {},
   "source": [
    "## Exercise 9 </br>\n",
    "A hospital groups its patients into three main groups: </br>\n",
    "   & It has 242 that leave without beeing seen (LWBS)</br>\n",
    "    It has 984 that are admitted </br>\n",
    "    It has 3821 that are not admitted </br>\n",
    "What is the smallest sample size needed so that the probability is at least 0.9 that at least one patient is LWBS? State your answer as an integer between 0 and 99.\n",
    "\n",
    "**Binomial Distribution** </br>\n",
    "$P(X=x)=\\begin{pmatrix}n\\cr x\\cr\\end{pmatrix}* p^x*(1-p)^{n-x}$ </br>\n",
    "x = number of observed succcesses </br>\n",
    "p = probability </br>\n",
    "n = number of populations (sample size) </br>\n",
    "\n",
    "p = $\\frac {LWBS patients}{sum of all patients}$ = $\\frac {242}{5047}$</br>\n",
    "x =  at least one patient is LWBS = 1 </br>\n",
    "n = unknown/ to be found </br>\n",
    "$P(X \\geq 1) \\geq 0.9$ => </br>\n",
    "$1- P(X < 1) \\geq 0.9$, where $P(X < 1) = P(X=0) $ => </br>\n",
    "$-P(X = 0) \\geq -0.1$/* (-1) => </br>\n",
    "$P(X = 0) \\leq 0.1$ => </br>\n",
    "$\\begin{pmatrix}n\\cr 0\\cr\\end{pmatrix}* p^0*(1-p)^{n-0} \\leq 0.1$ => </br>\n",
    "$ (1-p)^n \\leq 0.1$ => </br>"
   ]
  },
  {
   "cell_type": "code",
   "execution_count": 93,
   "metadata": {},
   "outputs": [
    {
     "data": {
      "text/latex": [
       "$\\displaystyle 46.8605477769991 <= n$"
      ],
      "text/plain": [
       "<IPython.core.display.Math object>"
      ]
     },
     "metadata": {},
     "output_type": "display_data"
    }
   ],
   "source": [
    "n = symbols('n')\n",
    "p = 242/5047\n",
    "eq = (1-p)**n<=0.1\n",
    "expr = sp.sympify(eq)\n",
    "\n",
    "solution = solve(expr, n)\n",
    "\n",
    "display(Math(repr(solution)))"
   ]
  },
  {
   "attachments": {},
   "cell_type": "markdown",
   "metadata": {},
   "source": [
    "## Exercise 10 </br>\n",
    "A research team has developed a face recognition device to match photos in a database. From laboratory tests, the recognition accuracy is 92% and trials are assumed to be independent.</br>\n",
    "\n",
    "**Geometric Distribution** </br>\n",
    "$P(X=x)=p*(1-p)^{x-1}$ </br>\n",
    "x = number of observed succcesses </br>\n",
    "p = probability </br>"
   ]
  },
  {
   "attachments": {},
   "cell_type": "markdown",
   "metadata": {},
   "source": [
    "**a)**  If the research team continues to run laboratory tests, what is the mean number of trials until failure? State your answer as an integer between 0 and 99. </br>\n",
    "Mean: X ~ Geometric(p)= $\\frac {1}{p}$ </br>\n",
    "mean = $\\frac {1}{0.08}= 12.5$"
   ]
  },
  {
   "attachments": {},
   "cell_type": "markdown",
   "metadata": {},
   "source": [
    "**b)** What is the probability that the first failure occurs on the tenth trial? State your answer as an integer between 100 and 999 such that you supply four decimal precision, correctly rounded off.</br>\n",
    "$P(X=10)=p*(1-p)^{10-1}$"
   ]
  },
  {
   "cell_type": "code",
   "execution_count": 94,
   "metadata": {},
   "outputs": [
    {
     "data": {
      "text/latex": [
       "$\\displaystyle P(X = 10) =0.0378$"
      ],
      "text/plain": [
       "<IPython.core.display.Math object>"
      ]
     },
     "metadata": {},
     "output_type": "display_data"
    }
   ],
   "source": [
    "## probability of failure\n",
    "p = 8/100\n",
    "\n",
    "display(Math(\"P(X = 10) =\" + repr(round(geom.pmf(10, p), 4))))\n"
   ]
  },
  {
   "attachments": {},
   "cell_type": "markdown",
   "metadata": {},
   "source": [
    "**c)** To improve the recognition algorithm, a chief engineer decides to collect 10 failures. How many trials are expected to be needed? State your answer as an integer between 0 and 999.</br>\n",
    "Mean: X ~ Geometric(p)= $\\frac {1}{p}$ </br>\n",
    "In our case we have \n",
    "mean = $\\frac {1}{0.08}= 12.5$\n"
   ]
  },
  {
   "cell_type": "code",
   "execution_count": null,
   "metadata": {},
   "outputs": [],
   "source": []
  },
  {
   "attachments": {},
   "cell_type": "markdown",
   "metadata": {},
   "source": [
    "## Exercise 11 </br>\n",
    "First identify the correct distribution and then answer the questions.</br>\n",
    "Let X denote the number of patients arriving at a walk-in test center between 1:00 and 2:00 PM with a mean of 10.5. </br>\n",
    "\n",
    "**Poisson Distribution** </br>\n",
    "$f(x) = P(X=x)=\\frac{\\lambda^{x} e^{-\\lambda}}{x !}$</br>\n",
    "x = number of observed succcesses </br>\n",
    "p = probability </br>"
   ]
  },
  {
   "attachments": {},
   "cell_type": "markdown",
   "metadata": {},
   "source": [
    "For the following questions, state your answer as an integer between 0 and 99 such that you supply two decimal precision, correctly rounded off.</br>\n",
    "**a)** What is the probability that fewer than 15 patients arrive at the clinic between 1:00 and 2:00 PM? </br>\n",
    "mean = $\\lambda$= 10.5 </br>\n",
    "Calculate: $P(X < 15)$"
   ]
  },
  {
   "cell_type": "code",
   "execution_count": 100,
   "metadata": {},
   "outputs": [
    {
     "data": {
      "text/latex": [
       "$\\displaystyle P(X \\leq 15) = 0.89$"
      ],
      "text/plain": [
       "<IPython.core.display.Math object>"
      ]
     },
     "metadata": {},
     "output_type": "display_data"
    }
   ],
   "source": [
    "l = 10.5\n",
    "display(Math(\"P(X < 15) = \" + repr(round(poisson.cdf(14,l), 2))))"
   ]
  },
  {
   "attachments": {},
   "cell_type": "markdown",
   "metadata": {},
   "source": [
    "**b)** What is the probability that no patients arrive between 1:00 and 1:10 pm? </br>\n",
    "mean = $\\lambda$= 10.5 </br>\n",
    "Recalculate mean since the time interval is different: $\\lambda$= $\\frac {10.5}{6}$ \n",
    "Calculate: $P(X = 0)$"
   ]
  },
  {
   "cell_type": "code",
   "execution_count": 113,
   "metadata": {},
   "outputs": [
    {
     "data": {
      "text/latex": [
       "$\\displaystyle P(X = 0) = 0.17$"
      ],
      "text/plain": [
       "<IPython.core.display.Math object>"
      ]
     },
     "metadata": {},
     "output_type": "display_data"
    }
   ],
   "source": [
    "l = 10.5/6\n",
    "display(Math(\"P(X = 0) = \" + repr(round(poisson.pmf(0,l), 2))))"
   ]
  },
  {
   "attachments": {},
   "cell_type": "markdown",
   "metadata": {},
   "source": [
    "**c)** Suppose that 20 patients arrive between 1:00 and 1:30 PM. What is the probability that three more patients arrive between 1:30 and 2:00 PM?</br>\n",
    "mean = $\\lambda$= 10.5 </br>\n",
    "Recalculate mean since the time interval is different: $\\lambda$= $\\frac {10.5}{3}$ \n",
    "Calculate: $P((X = 3) | (X=20)) = \\frac {P((X \\geq 3) \\cap ((X=20)))}{P(X=20)}$"
   ]
  },
  {
   "cell_type": "code",
   "execution_count": 301,
   "metadata": {},
   "outputs": [
    {
     "data": {
      "text/latex": [
       "$\\displaystyle P(X = 3) = 0.13$"
      ],
      "text/plain": [
       "<IPython.core.display.Math object>"
      ]
     },
     "metadata": {},
     "output_type": "display_data"
    }
   ],
   "source": [
    "l = 10.5/2\n",
    "\n",
    "display(Math(\"P(X = 3) = \" + repr(round(poisson.pmf(3, l), 2))))"
   ]
  },
  {
   "attachments": {},
   "cell_type": "markdown",
   "metadata": {},
   "source": [
    "## Exercise 12 </br>\n",
    "Let a continuous random variable X denote the time spent on a cell phone (in hours) per month with the following probability density function where $h \\neq 0$ </br>\n",
    "\n",
    "$f(x)=\\begin{bmatrix} \\frac {x-10}{5h} ,for& 10 \\leq 15 \\cr \\frac{1}{h},for& 15 \\leq x \\leq 20\\cr -\\frac{x-25}{5h},for& 20 \\leq x \\leq 25 \\cr 0,&otherwise\\end{bmatrix}$ </br> "
   ]
  },
  {
   "attachments": {},
   "cell_type": "markdown",
   "metadata": {},
   "source": [
    "**a)** Find the value of h. State your answer as an integer between 0 and 99.</br>\n",
    "Calculate for: $ \\int_{10}^{oo} \\frac {x-10}{5h} dx = 1$"
   ]
  },
  {
   "cell_type": "code",
   "execution_count": 184,
   "metadata": {},
   "outputs": [
    {
     "data": {
      "text/latex": [
       "$\\displaystyle F(x) = \\infty \\operatorname{sign}{\\left(\\frac{1}{h} \\right)} + \\frac{10}{h}= 1$"
      ],
      "text/plain": [
       "<IPython.core.display.Math object>"
      ]
     },
     "metadata": {},
     "output_type": "display_data"
    },
    {
     "data": {
      "text/latex": [
       "$\\displaystyle F(x1) = \\frac{x^{2}}{10 h} - \\frac{2 x}{h} + \\frac{10}{h}$"
      ],
      "text/plain": [
       "<IPython.core.display.Math object>"
      ]
     },
     "metadata": {},
     "output_type": "display_data"
    },
    {
     "data": {
      "text/latex": [
       "$\\displaystyle F(x2) = \\frac{x}{h} - \\frac{15}{h}$"
      ],
      "text/plain": [
       "<IPython.core.display.Math object>"
      ]
     },
     "metadata": {},
     "output_type": "display_data"
    },
    {
     "data": {
      "text/latex": [
       "$\\displaystyle F(x3) = - \\frac{x^{2}}{10 h} + \\frac{5 x}{h} - \\frac{60}{h}$"
      ],
      "text/plain": [
       "<IPython.core.display.Math object>"
      ]
     },
     "metadata": {},
     "output_type": "display_data"
    }
   ],
   "source": [
    "x, h, u = symbols('x h u')\n",
    "\n",
    "fx = (x-10)/(5*h)\n",
    "res= sp.integrate(fx, (x, 10, sp.oo))\n",
    "display(Math(r'F(x) = '+ latex(res)+'= 1'))\n",
    "## might not work to solve the whole ecutation entirely in python, at least I did not manae to do it. So\n",
    "## inf * 1/h ~ 0 => 10/h = 1 => h=10\n",
    "\n",
    "## for 10 < x < 15\n",
    "ux1 =(u-10)/(5*h)\n",
    "cdf1 = sp.integrate(ux1, (u, 10, x))\n",
    "\n",
    "display(Math(r'F(x1) = '+ latex(cdf1)))\n",
    "\n",
    "## for 15 < x < 20\n",
    "ux2 =(1)/(h)\n",
    "cdf2 = sp.integrate(ux2, (u, 15, x))\n",
    "\n",
    "display(Math(r'F(x2) = '+ latex(cdf2)))\n",
    "\n",
    "## for 20 < x < 25\n",
    "ux3 =-(u-25)/(5*h)\n",
    "cdf3 = sp.integrate(ux3, (u, 20, x))\n",
    "\n",
    "display(Math(r'F(x3) = '+ latex(cdf3)))\n",
    "\n"
   ]
  },
  {
   "attachments": {},
   "cell_type": "markdown",
   "metadata": {},
   "source": [
    "**b)** Find $P(X<17.5)$ State your answer as an integer between 0 and 99 such that you provide two decimal precision, correctly rounded off. </br>\n",
    "Calculate for: $\\int_{10}^{15} \\frac {x-10}{50}dx + \\int_{15}^{17.5} \\frac {1}{10} dx$"
   ]
  },
  {
   "cell_type": "code",
   "execution_count": 189,
   "metadata": {},
   "outputs": [
    {
     "data": {
      "text/latex": [
       "$\\displaystyle F(X < 17.5) = 0.50$"
      ],
      "text/plain": [
       "<IPython.core.display.Math object>"
      ]
     },
     "metadata": {},
     "output_type": "display_data"
    }
   ],
   "source": [
    "x = symbols('x')\n",
    "\n",
    "fx1 = (x-10)/(50)\n",
    "fx2 = (1)/(10)\n",
    "\n",
    "res = sp.integrate(fx1, (x, 10, 15))\n",
    "res2 = sp.integrate(fx2, (x, 15, 17.5))\n",
    "\n",
    "display(Math(r'F(X < 17.5) = '+ repr(round(res+res2,2))))"
   ]
  },
  {
   "attachments": {},
   "cell_type": "markdown",
   "metadata": {},
   "source": [
    "**c)** Find $P(X<22)$ State your answer as an integer between 0 and 99 such that you provide two decimal precision, correctly rounded off. </br>\n",
    "Calculate for: $\\int_{10}^{15} \\frac {x-10}{50}dx + \\int_{15}^{20} \\frac {1}{10} +\\int_{20}^{22} -\\frac {(x-25)}{50}dx$"
   ]
  },
  {
   "cell_type": "code",
   "execution_count": 193,
   "metadata": {},
   "outputs": [
    {
     "data": {
      "text/latex": [
       "$\\displaystyle F(X < 22.0) = 0.910$"
      ],
      "text/plain": [
       "<IPython.core.display.Math object>"
      ]
     },
     "metadata": {},
     "output_type": "display_data"
    }
   ],
   "source": [
    "x = symbols('x')\n",
    "\n",
    "fx1 = (x-10)/(50)\n",
    "fx2 = (1)/(10)\n",
    "fx3 = -(x-25)/(50)\n",
    "\n",
    "res = sp.integrate(fx1, (x, 10, 15))\n",
    "res2 = sp.integrate(fx2, (x, 15, 20))\n",
    "res3 = sp.integrate(fx3, (x, 20, 22))\n",
    "\n",
    "display(Math(r'F(X < 22.0) = '+ repr(round(res+res2+res3,3))))"
   ]
  },
  {
   "attachments": {},
   "cell_type": "markdown",
   "metadata": {},
   "source": [
    "**c)** Find x such that $P(X<x)=0.95$ State your answer as an integer between 0 and 99 such that your answer is rounded off correctly to the nearest integer.</br>\n",
    "Calculate for: $\\int_{10}^{15} \\frac {x-10}{50}dx + \\int_{15}^{20} \\frac {1}{10}$ =0.75 => </br>\n",
    "$P(X<x)=0.95$ </br>\n",
    "$P(X<20)=0.75$ </br> => our x is somewhere between [20; 25] => </br>\n",
    "And the difference in probability that we are looking at is: 0.95 - 0.75= 0.2 => </br>\n",
    "$\\int_{20}^{x} -\\frac {(x-25)}{50}dx=0.2$\n"
   ]
  },
  {
   "cell_type": "code",
   "execution_count": 203,
   "metadata": {},
   "outputs": [
    {
     "data": {
      "text/latex": [
       "$\\displaystyle x = 23.0$"
      ],
      "text/plain": [
       "<IPython.core.display.Math object>"
      ]
     },
     "metadata": {},
     "output_type": "display_data"
    }
   ],
   "source": [
    "x = symbols('x')\n",
    "\n",
    "fx = -(x-25)/(50)\n",
    "\n",
    "list = solve(sp.integrate(fx, (x, 20, x))-0.2, x)\n",
    "\n",
    "display(Math(r'x = ' + latex(round(list[0], 0))))"
   ]
  },
  {
   "attachments": {},
   "cell_type": "markdown",
   "metadata": {},
   "source": [
    "**e)** Find the expected value of X. State your answer as an integer between 0 and 99.</br>\n",
    "$E(X)= E(X_1)+E(X_2)+E(X_3)$ <br>\n",
    "$E(X)= \\int_{-oo}^{oo} x*f(x) dx$ </br>\n",
    "$E(X)=\\int_{10}^{15}x*\\frac {x-10}{50}dx + \\int_{15}^{20} x*\\frac {1}{10} +\\int_{20}^{25} -x*\\frac {(x-25)}{50}dx$"
   ]
  },
  {
   "cell_type": "code",
   "execution_count": 231,
   "metadata": {},
   "outputs": [
    {
     "data": {
      "text/latex": [
       "$\\displaystyle E(X) = 17.5$"
      ],
      "text/plain": [
       "<IPython.core.display.Math object>"
      ]
     },
     "metadata": {},
     "output_type": "display_data"
    }
   ],
   "source": [
    "x = symbols('x')\n",
    "\n",
    "fx1 = (x-10)/(50)\n",
    "fx2 = (1)/(10)\n",
    "fx3 = -(x-25)/(50)\n",
    "\n",
    "ex1 = sp.integrate(x*fx1, (x, 10, 15))\n",
    "ex2 = sp.integrate(x*fx2, (x, 15, 20))\n",
    "ex3 = sp.integrate(x*fx3, (x, 20, 25))\n",
    "\n",
    "display(Math(r'E(X) = '+ repr(round(res+res2+res3,1))))"
   ]
  },
  {
   "attachments": {},
   "cell_type": "markdown",
   "metadata": {},
   "source": [
    "**f)** Find the variance of X. State your answer as an integer between 0 and 99.</br>\n",
    "$Var(X)= Var(X_1)+Var(X_2)+Var(X_3)$ <br>\n",
    "$Var(X)=  \\int_{-oo}^{oo} x^2f(x) - E([X])^2 dx$ </br>\n",
    "$Var(X)=\\int_{10}^{15} x^2*\\frac {x-10}{50}dx - E([X])^2 + \\int_{15}^{20} x^2*\\frac {1}{10}dx - E([X])^2+ \\int_{20}^{25} -x^2*\\frac {(x-25)}{50} - E([X])^2 $"
   ]
  },
  {
   "cell_type": "code",
   "execution_count": 234,
   "metadata": {},
   "outputs": [
    {
     "data": {
      "text/latex": [
       "$\\displaystyle Var(X) = 199.65$"
      ],
      "text/plain": [
       "<IPython.core.display.Math object>"
      ]
     },
     "metadata": {},
     "output_type": "display_data"
    }
   ],
   "source": [
    "## NOT FINISHED\n",
    "\n",
    "x = symbols('x')\n",
    "\n",
    "var1 = sp.integrate(x**2*fx1, (x, 10, 15))\n",
    "var2 = sp.integrate(x**2*fx2, (x, 15, 20))\n",
    "var3 = sp.integrate(x**2*fx3, (x, 20, 25))\n",
    "\n",
    "ex1 = sp.integrate(x*fx1, (x, 10, 15))\n",
    "ex2 = sp.integrate(x*fx2, (x, 15, 20))\n",
    "ex3 = sp.integrate(x*fx3, (x, 20, 25))\n",
    "\n",
    "vex1 = var1 - ex1**2\n",
    "vex2 = var2 - ex2**2\n",
    "vex3 = var3 - ex3**2\n",
    "\n",
    "\n",
    "display(Math(r'Var(X) = ' + repr(round(var1 - ex1**2 + var2 - ex2**2 + var3 - ex3**2, 2))))\n"
   ]
  },
  {
   "attachments": {},
   "cell_type": "markdown",
   "metadata": {},
   "source": [
    "## Exercise 13 </br>\n",
    "A credit card company monitors cardholder transaction habits to detect any unusual activity. Suppose that the dollar value of unusual activity for a customer in a month follows a normal distribution with mean $250 and variance $391. Answer each question below and state your inputs as four integers between 0 and 9 such that you supply four decimal precision, correctly rounded off. </br>\n",
    "$X$~$N(250,391)$ </br>\n",
    "Z-score formula: z = $\\frac {x-\\mu}{\\sigma}$ </br>\n",
    "Aprox formula integral: $\\int_{-oo}^{zScore} \\frac {1}{\\sqrt{2\\pi}} e^{\\frac {-(x-0)^2}{2}}dx$ \n"
   ]
  },
  {
   "attachments": {},
   "cell_type": "markdown",
   "metadata": {},
   "source": [
    "**a)** What is the probability of $250 to $300 in unusual activity in a month?</br>\n",
    "$P(250 \\leq X \\leq 300) = P(X \\leq 300)-P(X < 250)$ </br>"
   ]
  },
  {
   "cell_type": "code",
   "execution_count": 273,
   "metadata": {},
   "outputs": [
    {
     "data": {
      "text/latex": [
       "$\\displaystyle P( 250 \\leq X \\leq 300) = 0.4943$"
      ],
      "text/plain": [
       "<IPython.core.display.Math object>"
      ]
     },
     "metadata": {},
     "output_type": "display_data"
    }
   ],
   "source": [
    "x = symbols('x')\n",
    "\n",
    "mean = 250\n",
    "variance = 391\n",
    "\n",
    "x_1 = 300\n",
    "x_2 = 250\n",
    "\n",
    "z_score1 = (x_1 - mean)/math.sqrt(variance)\n",
    "z_score2 = (x_2 - mean)/math.sqrt(variance)\n",
    "\n",
    "fx = (1/(math.sqrt(2*math.pi)))*E**(-((x-0)**2)/2)\n",
    "\n",
    "res1 = sp.integrate(fx, (x, -sp.oo, z_score1))\n",
    "\n",
    "final_result = round(res1.evalf()-res2.evalf(),4)\n",
    "\n",
    "display(Math(r'P( 250 \\leq X \\leq 300) = ' + latex(final_result)))"
   ]
  },
  {
   "attachments": {},
   "cell_type": "markdown",
   "metadata": {},
   "source": [
    "**b)** What is the probability of more than $300 in unusual activity in a month?</br>\n",
    "$P(X \\geq 300) = 1- P(X \\leq 300)$ </br>"
   ]
  },
  {
   "cell_type": "code",
   "execution_count": 272,
   "metadata": {},
   "outputs": [
    {
     "data": {
      "text/latex": [
       "$\\displaystyle P( X \\geq 300) = 0.0057$"
      ],
      "text/plain": [
       "<IPython.core.display.Math object>"
      ]
     },
     "metadata": {},
     "output_type": "display_data"
    }
   ],
   "source": [
    "x = symbols('x')\n",
    "mean = 250\n",
    "variance = 391\n",
    "\n",
    "x_1 = 300\n",
    "\n",
    "z_score1 = (x_1 - mean)/math.sqrt(variance)\n",
    "\n",
    "fx = (1/(math.sqrt(2*math.pi)))*E**(-((x-0)**2)/2)\n",
    "\n",
    "res1 = sp.integrate(fx, (x, -sp.oo, z_score1))\n",
    "\n",
    "final_result = round(1-res1.evalf(),4)\n",
    "\n",
    "display(Math(r'P( X \\geq 300) = ' + latex(final_result)))"
   ]
  },
  {
   "attachments": {},
   "cell_type": "markdown",
   "metadata": {},
   "source": [
    "**c)** Suppose that 10 customer accounts independently follow the same normal distribution. What is the probability that at least one of these customers exceeds $300 in unusual activity in a month?</br>\n",
    "X ~ Binom(10,p)"
   ]
  },
  {
   "cell_type": "code",
   "execution_count": 287,
   "metadata": {},
   "outputs": [
    {
     "data": {
      "text/latex": [
       "$\\displaystyle P(X \\geq 1) = 0.054374$"
      ],
      "text/plain": [
       "<IPython.core.display.Math object>"
      ]
     },
     "metadata": {},
     "output_type": "display_data"
    }
   ],
   "source": [
    "x = symbols('x')\n",
    "mean = 250\n",
    "variance = 391\n",
    "x_1 = 300\n",
    "\n",
    "z_score1 = (x_1 - mean)/math.sqrt(variance)\n",
    "\n",
    "fx = (1/(math.sqrt(2*math.pi)))*E**(-((x-0)**2)/2)\n",
    "\n",
    "res1 = sp.integrate(fx, (x, -sp.oo, z_score1))\n",
    "\n",
    "p = float(1-res1.evalf())\n",
    "\n",
    "n = 10 \n",
    "\n",
    "display(Math(\"P(X \\geq 1) = \" + repr(round(binom.pmf(1, 10, p), 6))))\n"
   ]
  },
  {
   "attachments": {},
   "cell_type": "markdown",
   "metadata": {},
   "source": [
    "## Exercise 14 </br>\n",
    "Web crawlers need to estimate the frequency of changes to Web sites to maintain a current index for Web searches. Assume that the changes to a Web site follow a Poisson process with a mean of 6 days. Let a random variable X denote the time (in days) until the next change. </br>\n",
    "## Exponential distribution ##\n",
    "$f(x)=\\begin{bmatrix}\\lambda*e^{-\\lambda*x},for &  x > 0 \\cr 0, otherwise\\end{bmatrix}$ </br>"
   ]
  },
  {
   "attachments": {},
   "cell_type": "markdown",
   "metadata": {},
   "source": [
    "**a)** What is the probability that the next change occurs in less than 4.5 days? State your answer as four integers between 0 and 9 such that you supply four decimal precision, correctly rounded off.</br>\n",
    "$P(X \\leq 4.5)$= $\\int_{0}^{4.5} \\lambda *e^{-\\lambda *x} dx$"
   ]
  },
  {
   "cell_type": "code",
   "execution_count": 289,
   "metadata": {},
   "outputs": [
    {
     "name": "stdout",
     "output_type": "stream",
     "text": [
      "0.527633447258985\n"
     ]
    }
   ],
   "source": [
    "x,l = symbols('x l')\n",
    "l = 1/6\n",
    "fx = l*e**(-l*x)\n",
    "\n",
    "res1 = sp.integrate(fx, (x, 0, 4.5))\n",
    "\n",
    "display(Math(r'Var(X) = ' + repr(round(res1, 4))))"
   ]
  },
  {
   "attachments": {},
   "cell_type": "markdown",
   "metadata": {},
   "source": [
    "**b)** What is the probability that the time until the next change is greater than 9.5 days? State your answer as four integers between 0 and 9 such that you supply four decimal precision, correctly rounded off.</br>\n",
    "$P(X \\geq 9.5) = 1- P(X < 9.5) $ = $\\int_{0}^{9.5} \\lambda *e^{-\\lambda *x} dx$"
   ]
  },
  {
   "cell_type": "code",
   "execution_count": 290,
   "metadata": {},
   "outputs": [
    {
     "data": {
      "text/latex": [
       "$\\displaystyle Var(X) = 0.2053$"
      ],
      "text/plain": [
       "<IPython.core.display.Math object>"
      ]
     },
     "metadata": {},
     "output_type": "display_data"
    }
   ],
   "source": [
    "x,l = symbols('x l')\n",
    "l = 1/6\n",
    "fx = l*e**(-l*x)\n",
    "\n",
    "res1 = sp.integrate(fx, (x, 0, 9.5))\n",
    "\n",
    "display(Math(r'Var(X) = ' + repr(round(1-res1, 4))))"
   ]
  },
  {
   "attachments": {},
   "cell_type": "markdown",
   "metadata": {},
   "source": [
    "**c)** What is the time of the next change that is exceeded with probability 90%? State your answer as an integer between 0 and 99 such that you supply 2 decimal precision, correctly rounded off. </br>\n",
    "$F(x) \\geq 0.9$ "
   ]
  },
  {
   "cell_type": "code",
   "execution_count": 295,
   "metadata": {},
   "outputs": [
    {
     "data": {
      "text/latex": [
       "$\\displaystyle F(x) = 1.0 - 1.0 \\cdot 2.71828182845905^{- 0.166666666666667 x}$"
      ],
      "text/plain": [
       "<IPython.core.display.Math object>"
      ]
     },
     "metadata": {},
     "output_type": "display_data"
    },
    {
     "data": {
      "text/latex": [
       "$\\displaystyle 0.632163093946957$"
      ],
      "text/plain": [
       "<IPython.core.display.Math object>"
      ]
     },
     "metadata": {},
     "output_type": "display_data"
    }
   ],
   "source": [
    "x = symbols('x ')\n",
    "\n",
    "fx = l*e**(-l*x)\n",
    "\n",
    "l=1/6\n",
    "\n",
    "res1 = sp.integrate(fx, (x, 0, x))\n",
    "\n",
    "display(Math(r'F(x) = ' + latex(res1)))\n",
    "\n",
    "list = solve(res1-0.1, x)\n",
    "\n",
    "display(Math(r'' + latex(list[0])))\n"
   ]
  },
  {
   "attachments": {},
   "cell_type": "markdown",
   "metadata": {},
   "source": [
    "**d)** What is the probability that the next change occurs in less than 12.5 days, given that it has not yet occurred after 3.0 days? State your answer as four integers between 0 and 9 such that you supply four decimal precision, correctly rounded off. </br>\n",
    "$P(X \\leq 12.5 | X > 3 )= \\frac {P((X \\leq 12.5) \\cap (X>3))}{P(X \\geq 3)} = \\frac {F(12.5) - F(3)}{1-F(3)}$"
   ]
  },
  {
   "cell_type": "code",
   "execution_count": 297,
   "metadata": {},
   "outputs": [
    {
     "data": {
      "text/latex": [
       "$\\displaystyle P(X \\leq 12.5 | X > 3 ) = 0.7947$"
      ],
      "text/plain": [
       "<IPython.core.display.Math object>"
      ]
     },
     "metadata": {},
     "output_type": "display_data"
    }
   ],
   "source": [
    "x, l = symbols('x l')\n",
    "l = 1/6\n",
    "fx = l*e**(-l*x)\n",
    "\n",
    "res1 = sp.integrate(fx, (x, 0, 12.5))\n",
    "res2 = sp.integrate(fx, (x, 0, 3))\n",
    "res3 = sp.integrate(fx, (x, 0, 3))\n",
    "\n",
    "final_result = (res1-res2)/(1-res3)\n",
    "\n",
    "display(Math(r'P(X \\leq 12.5 | X > 3 ) = ' + repr(round(final_result, 4))))\n"
   ]
  }
 ],
 "metadata": {
  "kernelspec": {
   "display_name": "Python 3",
   "language": "python",
   "name": "python3"
  },
  "language_info": {
   "codemirror_mode": {
    "name": "ipython",
    "version": 3
   },
   "file_extension": ".py",
   "mimetype": "text/x-python",
   "name": "python",
   "nbconvert_exporter": "python",
   "pygments_lexer": "ipython3",
   "version": "3.9.6"
  },
  "orig_nbformat": 4
 },
 "nbformat": 4,
 "nbformat_minor": 2
}
