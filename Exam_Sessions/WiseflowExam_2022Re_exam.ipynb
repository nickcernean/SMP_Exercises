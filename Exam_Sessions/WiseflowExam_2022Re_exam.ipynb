{
 "cells": [
  {
   "cell_type": "code",
   "execution_count": 52,
   "metadata": {},
   "outputs": [],
   "source": [
    "from scipy import stats\n",
    "from scipy.stats import norm\n",
    "from scipy.stats import t\n",
    "from scipy.stats import binom\n",
    "from scipy.stats import geom\n",
    "from scipy.stats import hypergeom\n",
    "from scipy.stats import poisson\n",
    "from scipy.stats import nbinom\n",
    "import pandas as pd\n",
    "import numpy as np\n",
    "import sympy as sp\n",
    "from sympy import *\n",
    "sp.init_printing()\n",
    "import matplotlib.pyplot as plt\n",
    "import scipy.integrate as integrate\n",
    "import scipy.special as special\n",
    "from scipy.integrate import quad\n",
    "from fractions import Fraction\n",
    "import numpy as np\n",
    "from scipy.misc import derivative\n",
    "import math\n",
    "from math import *\n",
    "from fractions import Fraction\n",
    "import fractions\n",
    "from sympy import Rational as R\n",
    "from sympy import Matrix as M\n",
    "from IPython.display import display, Math, Latex\n",
    "%matplotlib inline\n",
    "from IPython.display import Image, HTML\n",
    "import statsmodels.stats.power as smp\n",
    "import statsmodels.api as sm"
   ]
  },
  {
   "attachments": {},
   "cell_type": "markdown",
   "metadata": {},
   "source": [
    "## Exercise 1"
   ]
  },
  {
   "cell_type": "code",
   "execution_count": 53,
   "metadata": {},
   "outputs": [
    {
     "data": {
      "text/html": [
       "<img src=\"../images/Screenshot 2023-06-08 at 18.33.35.png\" width=\"1000\" height=\"400\" class=\"unconfined\"/>"
      ],
      "text/plain": [
       "<IPython.core.display.Image object>"
      ]
     },
     "metadata": {},
     "output_type": "display_data"
    }
   ],
   "source": [
    "display(Image(url='../images/Screenshot 2023-06-08 at 18.33.35.png', width=1000, height=400,unconfined=True))"
   ]
  },
  {
   "cell_type": "code",
   "execution_count": 54,
   "metadata": {},
   "outputs": [
    {
     "data": {
      "image/png": "[encoded data removed]",
      "text/latex": [
       "$\\displaystyle 0.5$"
      ],
      "text/plain": [
       "0.5"
      ]
     },
     "metadata": {},
     "output_type": "display_data"
    },
    {
     "data": {
      "image/png": "[encoded data removed]",
      "text/latex": [
       "$\\displaystyle 0.25$"
      ],
      "text/plain": [
       "0.25"
      ]
     },
     "metadata": {},
     "output_type": "display_data"
    }
   ],
   "source": [
    "## a \n",
    "e_x = 0 * 1/2 + 1* 1/2 \n",
    "display(e_x)\n",
    "\n",
    "###Calculate the squared differences from the mean\n",
    "## For each value, subtract the mean and square the result.\n",
    "\n",
    "mu_diff_1 = (0 - e_x)**2\n",
    "mu_diff_2 = (1 - e_x)**2\n",
    "var_x = (mu_diff_1 + mu_diff_2) / 2\n",
    "\n",
    "display(var_x)"
   ]
  },
  {
   "cell_type": "code",
   "execution_count": 55,
   "metadata": {},
   "outputs": [
    {
     "data": {
      "text/html": [
       "<img src=\"../images/Screenshot 2023-06-08 at 18.36.53.png\" width=\"1000\" height=\"400\" class=\"unconfined\"/>"
      ],
      "text/plain": [
       "<IPython.core.display.Image object>"
      ]
     },
     "metadata": {},
     "output_type": "display_data"
    }
   ],
   "source": [
    "display(Image(url='../images/Screenshot 2023-06-08 at 18.36.53.png', width=1000, height=400,unconfined=True))"
   ]
  },
  {
   "cell_type": "code",
   "execution_count": 56,
   "metadata": {},
   "outputs": [
    {
     "data": {
      "image/png": "[encoded data removed]",
      "text/latex": [
       "$\\displaystyle 0.5$"
      ],
      "text/plain": [
       "0.5"
      ]
     },
     "metadata": {},
     "output_type": "display_data"
    },
    {
     "data": {
      "image/png": "[encoded data removed]",
      "text/latex": [
       "$\\displaystyle 0.25$"
      ],
      "text/plain": [
       "0.25"
      ]
     },
     "metadata": {},
     "output_type": "display_data"
    },
    {
     "data": {
      "text/latex": [
       "$\\displaystyle Var(2X-Y)=1.25$"
      ],
      "text/plain": [
       "<IPython.core.display.Math object>"
      ]
     },
     "metadata": {},
     "output_type": "display_data"
    },
    {
     "data": {
      "text/latex": [
       "$\\displaystyle Cov(2X-3Y, X)=0.5$"
      ],
      "text/plain": [
       "<IPython.core.display.Math object>"
      ]
     },
     "metadata": {},
     "output_type": "display_data"
    }
   ],
   "source": [
    "## b \n",
    "e_y = 0 * 1/2 + 1* 1/2 \n",
    "display(e_x)\n",
    "\n",
    "###Calculate the squared differences from the mean\n",
    "## For each value, subtract the mean and square the result.\n",
    "\n",
    "mu_diff_1 = (0 - e_y)**2\n",
    "mu_diff_2 = (1 - e_y)**2\n",
    "var_y = (mu_diff_1 + mu_diff_2) / 2\n",
    "\n",
    "display(var_y)\n",
    "\n",
    "## Z = 2X-Y\n",
    "## Var(2X-Y) = 4* Var(X) + Var(Y)\n",
    "\n",
    "\n",
    "var_x_y = 4 * var_x + var_y\n",
    "\n",
    "display(Math( 'Var(2X-Y)='+ latex(var_x_y)))\n",
    "\n",
    "\n",
    "## Cov(2X-3Y, X) = Cov(2X,X) + Cov(-3Y,X) = 2 * Cov(X,X) -3  * Cov(Y,X) \n",
    "# = 2 * Var(X) - 0 = 2 * Var(X )\n",
    "\n",
    "cov_x_y = 2 * var_x\n",
    "\n",
    "display(Math( 'Cov(2X-3Y, X)='+ latex(cov_x_y)))\n"
   ]
  },
  {
   "cell_type": "code",
   "execution_count": 57,
   "metadata": {},
   "outputs": [
    {
     "data": {
      "text/html": [
       "<img src=\"../images/Screenshot 2023-06-08 at 18.59.50.png\" width=\"1000\" height=\"200\" class=\"unconfined\"/>"
      ],
      "text/plain": [
       "<IPython.core.display.Image object>"
      ]
     },
     "metadata": {},
     "output_type": "display_data"
    }
   ],
   "source": [
    "display(Image(url='../images/Screenshot 2023-06-08 at 18.59.50.png', width=1000, height=200,unconfined=True))"
   ]
  },
  {
   "cell_type": "code",
   "execution_count": 58,
   "metadata": {},
   "outputs": [],
   "source": [
    "## 1 \n",
    "## all the pairs possible combinations (0,0); (0,1); (1,1)\n",
    "\n",
    "## 2 P( X<Y U  X=1 ) = P(X<Y) +  P(X=1) - P(X<Y AND X=1 )\n",
    "## P(X<Y AND X=1 ) = 0 \n",
    "## P( X<Y U  X=1 ) = P(X<Y) +  P(X=1) = "
   ]
  },
  {
   "attachments": {},
   "cell_type": "markdown",
   "metadata": {},
   "source": [
    "## Exercise 2"
   ]
  },
  {
   "cell_type": "code",
   "execution_count": 59,
   "metadata": {},
   "outputs": [
    {
     "data": {
      "text/html": [
       "<img src=\"../images/Screenshot 2023-06-08 at 19.03.14.png\" width=\"1000\" height=\"400\" class=\"unconfined\"/>"
      ],
      "text/plain": [
       "<IPython.core.display.Image object>"
      ]
     },
     "metadata": {},
     "output_type": "display_data"
    }
   ],
   "source": [
    "display(Image(url='../images/Screenshot 2023-06-08 at 19.03.14.png', width=1000, height=400,unconfined=True))"
   ]
  },
  {
   "cell_type": "code",
   "execution_count": 60,
   "metadata": {},
   "outputs": [
    {
     "data": {
      "text/latex": [
       "$\\displaystyle Var(X)=\\frac{1}{12}$"
      ],
      "text/plain": [
       "<IPython.core.display.Math object>"
      ]
     },
     "metadata": {},
     "output_type": "display_data"
    },
    {
     "data": {
      "text/latex": [
       "$\\displaystyle E(X^3)=\\frac{1}{2}$"
      ],
      "text/plain": [
       "<IPython.core.display.Math object>"
      ]
     },
     "metadata": {},
     "output_type": "display_data"
    }
   ],
   "source": [
    "x,y = sp.symbols('x,y ')\n",
    "\n",
    "f_x_y = 1\n",
    "\n",
    "e_x = x * f_x_y\n",
    "e = sp.integrate(e_x, (x,0,1))\n",
    "var = sp.integrate((x**2), (x,0,1)) - e**2\n",
    "\n",
    "display(Math( 'Var(X)='+ latex(var)))\n",
    "\n",
    "## E(X**3) \n",
    "f_x_y = 1\n",
    "\n",
    "e_x_3 = (x**3) * f_x_y\n",
    "res = sp.integrate(e_x, (x,0,1))\n",
    "\n",
    "display(Math( 'E(X^3)='+ latex(res)))\n"
   ]
  },
  {
   "cell_type": "code",
   "execution_count": 61,
   "metadata": {},
   "outputs": [
    {
     "data": {
      "text/html": [
       "<img src=\"../images/Screenshot 2023-06-08 at 19.22.54.png\" width=\"1000\" height=\"200\" class=\"unconfined\"/>"
      ],
      "text/plain": [
       "<IPython.core.display.Image object>"
      ]
     },
     "metadata": {},
     "output_type": "display_data"
    }
   ],
   "source": [
    "\n",
    "\n",
    "display(Image(url='../images/Screenshot 2023-06-08 at 19.22.54.png', width=1000, height=200,unconfined=True))"
   ]
  },
  {
   "cell_type": "code",
   "execution_count": 62,
   "metadata": {},
   "outputs": [
    {
     "data": {
      "text/latex": [
       "$\\displaystyle P(1/2 <X < 3/2)=2$"
      ],
      "text/plain": [
       "<IPython.core.display.Math object>"
      ]
     },
     "metadata": {},
     "output_type": "display_data"
    },
    {
     "data": {
      "text/latex": [
       "$\\displaystyle P(X^2 < 1/2)=\\frac{\\sqrt{2}}{2}$"
      ],
      "text/plain": [
       "<IPython.core.display.Math object>"
      ]
     },
     "metadata": {},
     "output_type": "display_data"
    }
   ],
   "source": [
    "## 1 \n",
    "x,y = sp.symbols('x,y ')\n",
    "f_x_y = x/(y**2)\n",
    "\n",
    "res = sp.integrate(f_x_y, (y , R(1,2), sp.oo), (x, R(1,2), R(3,2)))\n",
    "\n",
    "display(Math( 'P(1/2 <X < 3/2)='+ latex(res)))\n",
    "\n",
    "## 2\n",
    "x,y = sp.symbols('x,y ')\n",
    "f_x_y = x/(y**2)\n",
    "\n",
    "res = sp.integrate(f_x_y, (y, x,sp.oo), (x, 0, 1/sp.sqrt(2)))  \n",
    "\n",
    "display(Math( 'P(X^2 < 1/2)='+ latex(res)))\n",
    "## the answer does not suit so multiply the answer by sqrt(2)/sqrt(2)\n",
    "res_2 = res * (sp.sqrt(2)/sp.sqrt(2))\n",
    "## sqrt(2)/2 * sqrt(2)/sqrt(2) = 1/ sqrt(2)"
   ]
  },
  {
   "cell_type": "code",
   "execution_count": 63,
   "metadata": {},
   "outputs": [
    {
     "data": {
      "text/html": [
       "<img src=\"../images/Screenshot 2023-06-08 at 19.38.48.png\" width=\"1000\" height=\"300\" class=\"unconfined\"/>"
      ],
      "text/plain": [
       "<IPython.core.display.Image object>"
      ]
     },
     "metadata": {},
     "output_type": "display_data"
    }
   ],
   "source": [
    "\n",
    "display(Image(url='../images/Screenshot 2023-06-08 at 19.38.48.png', width=1000, height=300,unconfined=True))"
   ]
  },
  {
   "cell_type": "code",
   "execution_count": 64,
   "metadata": {},
   "outputs": [
    {
     "data": {
      "text/latex": [
       "$\\displaystyle fy=\\frac{1}{2} - \\frac{1}{2 y^{2}}$"
      ],
      "text/plain": [
       "<IPython.core.display.Math object>"
      ]
     },
     "metadata": {},
     "output_type": "display_data"
    }
   ],
   "source": [
    "## c\n",
    "x,y = sp.symbols('x,y ')\n",
    "f_x_y = x/(y**2)\n",
    "\n",
    "res_1 = sp.integrate(f_x_y,  (x, 1, y))\n",
    "\n",
    "display(Math( 'fy='+ latex(res_1)))"
   ]
  },
  {
   "cell_type": "code",
   "execution_count": 65,
   "metadata": {},
   "outputs": [
    {
     "data": {
      "text/latex": [
       "$Var[X] = \\frac{1}{12}$"
      ],
      "text/plain": [
       "<IPython.core.display.Latex object>"
      ]
     },
     "metadata": {},
     "output_type": "display_data"
    },
    {
     "data": {
      "text/latex": [
       "$E[X^3] = \\frac{1}{4}$"
      ],
      "text/plain": [
       "<IPython.core.display.Latex object>"
      ]
     },
     "metadata": {},
     "output_type": "display_data"
    },
    {
     "data": {
      "text/latex": [
       "$P(X) = 0.5$"
      ],
      "text/plain": [
       "<IPython.core.display.Latex object>"
      ]
     },
     "metadata": {},
     "output_type": "display_data"
    },
    {
     "data": {
      "text/latex": [
       "$P(1/2 \\leq X \\leq 3/2) = 0.5$"
      ],
      "text/plain": [
       "<IPython.core.display.Latex object>"
      ]
     },
     "metadata": {},
     "output_type": "display_data"
    },
    {
     "data": {
      "text/latex": [
       "$P(X \\leq \\sqrt{1/2}) = \\frac{\\sqrt{2}}{2}$"
      ],
      "text/plain": [
       "<IPython.core.display.Latex object>"
      ]
     },
     "metadata": {},
     "output_type": "display_data"
    },
    {
     "data": {
      "image/png": "[encoded data removed]",
      "text/latex": [
       "$\\displaystyle 0$"
      ],
      "text/plain": [
       "0"
      ]
     },
     "metadata": {},
     "output_type": "display_data"
    }
   ],
   "source": [
    "## d\n",
    "x,y = sp.symbols('x y')\n",
    "\n",
    "fX = 1\n",
    "EX = sp.integrate(x*fX,(x,0,1))\n",
    "EX2 = sp.integrate(x*x*fX,(x,0,1))\n",
    "VarX = EX2 - EX*EX\n",
    "EX3 = sp.integrate(x*x*x*fX,(x,0,1))\n",
    "display(Latex(r'$Var[X] = %s$' % sp.latex(VarX)))\n",
    "display(Latex(r'$E[X^3] = %s$' % sp.latex(EX3))) \n",
    "\n",
    "\n",
    "P_between = sp.integrate(fX,(x,1/2,1)) #upper bound for x is 1 therefore 3/2 exceeds and we should not pass it, pass 1 instead\n",
    "PXleq3half = sp.integrate(fX,(x,0,1)) #upper bound for x is 1 therefore 3/2 exceeds and we should not pass it, pass 1 instead\n",
    "pXbig1half = sp.integrate(fX,(x,1/2,1))\n",
    "sqr = sp.sqrt(2)\n",
    "PXleqSqrthalf = sp.integrate(fX,(x,0,1/sp.sqrt(2)))\n",
    "display(Latex(r'$P(X) = %s$' % sp.latex(PXleq3half - pXbig1half))),\n",
    "\n",
    "display(Latex(r'$P(1/2 \\leq X \\leq 3/2) = %s$' % sp.latex(P_between)))\n",
    "display(Latex(r'$P(X \\leq \\sqrt{1/2}) = %s$' % sp.latex(PXleqSqrthalf)))\n",
    "# display(Latex(r'$P(X \\leq \\sqrt{1/2}) = %s$' % sp.latex(PXleqSqrthalf*(sp)))\n",
    "\n",
    "\n",
    "jointPDF = x/y**2\n",
    "marginPDFY_01 = sp.integrate(jointPDF,(x,0,y))\n",
    "marginPDFY_1 = sp.integrate(jointPDF,(x,0,1))\n",
    "marginPDFY_01,marginPDFY_1\n",
    "\n",
    "gXY = x*y**(1/2)\n",
    "EXY = sp.integrate(gXY*jointPDF,(x,0,1),(y,1,sp.oo))\n",
    "covXSQRTy = EXY - EX*(4/3)\n",
    "display(covXSQRTy)"
   ]
  },
  {
   "attachments": {},
   "cell_type": "markdown",
   "metadata": {},
   "source": [
    "## Exercise 3\n"
   ]
  },
  {
   "cell_type": "code",
   "execution_count": 66,
   "metadata": {},
   "outputs": [
    {
     "data": {
      "text/html": [
       "<img src=\"../images/Screenshot 2023-06-08 at 23.11.47.png\" width=\"1000\" height=\"400\" class=\"unconfined\"/>"
      ],
      "text/plain": [
       "<IPython.core.display.Image object>"
      ]
     },
     "metadata": {},
     "output_type": "display_data"
    }
   ],
   "source": [
    "display(Image(url='../images/Screenshot 2023-06-08 at 23.11.47.png', width=1000, height=400,unconfined=True))"
   ]
  },
  {
   "cell_type": "code",
   "execution_count": null,
   "metadata": {},
   "outputs": [],
   "source": []
  },
  {
   "cell_type": "code",
   "execution_count": 67,
   "metadata": {},
   "outputs": [
    {
     "data": {
      "text/html": [
       "<img src=\"../images/Screenshot 2023-06-08 at 23.11.56.png\" width=\"1000\" height=\"200\" class=\"unconfined\"/>"
      ],
      "text/plain": [
       "<IPython.core.display.Image object>"
      ]
     },
     "metadata": {},
     "output_type": "display_data"
    }
   ],
   "source": [
    "display(Image(url='../images/Screenshot 2023-06-08 at 23.11.56.png', width=1000, height=200,unconfined=True))"
   ]
  },
  {
   "cell_type": "code",
   "execution_count": null,
   "metadata": {},
   "outputs": [],
   "source": []
  },
  {
   "attachments": {},
   "cell_type": "markdown",
   "metadata": {},
   "source": [
    "## Exercise 4\n"
   ]
  },
  {
   "cell_type": "code",
   "execution_count": 68,
   "metadata": {},
   "outputs": [
    {
     "data": {
      "text/html": [
       "<img src=\"../images/Screenshot 2023-06-08 at 23.13.52.png\" width=\"1000\" height=\"300\" class=\"unconfined\"/>"
      ],
      "text/plain": [
       "<IPython.core.display.Image object>"
      ]
     },
     "metadata": {},
     "output_type": "display_data"
    }
   ],
   "source": [
    "display(Image(url='../images/Screenshot 2023-06-08 at 23.13.52.png', width=1000, height=300,unconfined=True))"
   ]
  },
  {
   "cell_type": "code",
   "execution_count": 69,
   "metadata": {},
   "outputs": [
    {
     "data": {
      "text/latex": [
       "$P(Car|Accident) = 0.997$"
      ],
      "text/plain": [
       "<IPython.core.display.Latex object>"
      ]
     },
     "metadata": {},
     "output_type": "display_data"
    }
   ],
   "source": [
    "Pcar = 0.93\n",
    "PTrain = 1-Pcar\n",
    "PAccidentGivenCar = 10**-5\n",
    "PAccidentGivenTrain = 4*10**-7\n",
    "PAccident = Pcar*PAccidentGivenCar + PTrain*PAccidentGivenTrain\n",
    "PCarGivenAccident = (Pcar*PAccidentGivenCar)/PAccident\n",
    "display(Latex(r'$P(Car|Accident) = %s$' % sp.latex(round(PCarGivenAccident,4))))"
   ]
  },
  {
   "attachments": {},
   "cell_type": "markdown",
   "metadata": {},
   "source": [
    "## Exercise 5"
   ]
  },
  {
   "cell_type": "code",
   "execution_count": 70,
   "metadata": {},
   "outputs": [
    {
     "data": {
      "text/html": [
       "<img src=\"../images/Screenshot 2023-06-08 at 23.14.03.png\" width=\"1000\" height=\"200\" class=\"unconfined\"/>"
      ],
      "text/plain": [
       "<IPython.core.display.Image object>"
      ]
     },
     "metadata": {},
     "output_type": "display_data"
    },
    {
     "data": {
      "text/html": [
       "<img src=\"../images/Screenshot 2023-06-08 at 23.35.44.png\" width=\"1000\" height=\"400\" class=\"unconfined\"/>"
      ],
      "text/plain": [
       "<IPython.core.display.Image object>"
      ]
     },
     "metadata": {},
     "output_type": "display_data"
    }
   ],
   "source": [
    "display(Image(url='../images/Screenshot 2023-06-08 at 23.14.03.png', width=1000, height=200,unconfined=True))\n",
    "\n",
    "\n",
    "display(Image(url='../images/Screenshot 2023-06-08 at 23.35.44.png', width=1000, height=400,unconfined=True))"
   ]
  },
  {
   "cell_type": "code",
   "execution_count": 71,
   "metadata": {},
   "outputs": [
    {
     "data": {
      "image/png": "[encoded data removed]",
      "text/latex": [
       "$\\displaystyle 0.948683298050515$"
      ],
      "text/plain": [
       "0.9486832980505147"
      ]
     },
     "metadata": {},
     "output_type": "display_data"
    },
    {
     "data": {
      "image/png": "[encoded data removed]",
      "text/latex": [
       "$\\displaystyle 1.95996398454005$"
      ],
      "text/plain": [
       "1.959963984540054"
      ]
     },
     "metadata": {},
     "output_type": "display_data"
    },
    {
     "data": {
      "image/png": "[encoded data removed]",
      "text/latex": [
       "$\\displaystyle 0.342781711147911$"
      ],
      "text/plain": [
       "0.342781711147911"
      ]
     },
     "metadata": {},
     "output_type": "display_data"
    },
    {
     "data": {
      "text/plain": [
       "'Failed to reject'"
      ]
     },
     "metadata": {},
     "output_type": "display_data"
    }
   ],
   "source": [
    "\"\"\"\n",
    "1000 people have been randomly selected from the population of Denmark. The sample showed that 515 people live on the islands and the rest live in Jutland (Jylland). Assume we want to test whether the amount of people living in Jutland and the islands is the same at an 0.05 level of sigificance.\n",
    "\"\"\"\n",
    "n = 1000\n",
    "p = 515/1000\n",
    "q = 1-p\n",
    "alpha = 0.05\n",
    "# H0: p = 0.5\n",
    "# H1: p != 0.5\n",
    "# Test statistic\n",
    "z = (p-0.5)/math.sqrt(0.5*0.5/n)\n",
    "display(z)\n",
    "# the critical value\n",
    "z_alpha = stats.norm.ppf(1-alpha/2)\n",
    "display(z_alpha)\n",
    "# the p-value\n",
    "p_value = 2*(1-stats.norm.cdf(abs(z)))\n",
    "display(p_value)\n",
    "# Conclusion\n",
    "display('Hypothesis rejected' if z > z_alpha else 'Failed to reject')"
   ]
  },
  {
   "attachments": {},
   "cell_type": "markdown",
   "metadata": {},
   "source": [
    "## Exercise 6"
   ]
  },
  {
   "cell_type": "code",
   "execution_count": 72,
   "metadata": {},
   "outputs": [
    {
     "data": {
      "text/html": [
       "<img src=\"../images/Screenshot 2023-06-08 at 23.28.35.png\" width=\"1000\" height=\"400\" class=\"unconfined\"/>"
      ],
      "text/plain": [
       "<IPython.core.display.Image object>"
      ]
     },
     "metadata": {},
     "output_type": "display_data"
    }
   ],
   "source": [
    "display(Image(url='../images/Screenshot 2023-06-08 at 23.28.35.png', width=1000, height=400,unconfined=True))"
   ]
  },
  {
   "cell_type": "code",
   "execution_count": 73,
   "metadata": {},
   "outputs": [
    {
     "data": {
      "text/latex": [
       "$\\displaystyle \\left[\\begin{matrix}0.9 & 0.1\\\\0.05 & 0.95\\end{matrix}\\right]$"
      ],
      "text/plain": [
       "⎡0.9   0.1 ⎤\n",
       "⎢          ⎥\n",
       "⎣0.05  0.95⎦"
      ]
     },
     "metadata": {},
     "output_type": "display_data"
    },
    {
     "data": {
      "text/latex": [
       "$\\displaystyle \\left[\\begin{matrix}0.333333391651157 & 0.666666608348842\\\\0.333333304174421 & 0.666666695825577\\end{matrix}\\right]$"
      ],
      "text/plain": [
       "⎡0.333333391651157  0.666666608348842⎤\n",
       "⎢                                    ⎥\n",
       "⎣0.333333304174421  0.666666695825577⎦"
      ]
     },
     "metadata": {},
     "output_type": "display_data"
    },
    {
     "data": {
      "text/latex": [
       "$\\displaystyle \\left[\\begin{matrix}-0.1 & 0.05 & 0\\\\1 & 1 & 1\\end{matrix}\\right]$"
      ],
      "text/plain": [
       "⎡-0.1  0.05  0⎤\n",
       "⎢             ⎥\n",
       "⎣ 1     1    1⎦"
      ]
     },
     "metadata": {},
     "output_type": "display_data"
    },
    {
     "data": {
      "text/latex": [
       "$\\displaystyle \\text{Stationary distribution of x=1}: 0.333333333333333$"
      ],
      "text/plain": [
       "<IPython.core.display.Math object>"
      ]
     },
     "metadata": {},
     "output_type": "display_data"
    }
   ],
   "source": [
    "# a\n",
    "P = Matrix([[(0.9), (0.1)], [(0.05),(0.95)]])\n",
    "display(P)\n",
    "display(P**100)\n",
    "# Setup the matrices for the stationary distribution\n",
    "Xt = P.T\n",
    "X = (Xt-eye(P.shape[0]))[0:-1,:].row_join(zeros(P.shape[0]-1,1)).col_join(ones(1,P.shape[0]+1))\n",
    "display(X)\n",
    "\n",
    "# Stationary distribution\n",
    "display(Math(r'\\text{Stationary distribution of x=1}: ' + latex(X.rref()[0][0,-1])))"
   ]
  },
  {
   "attachments": {},
   "cell_type": "markdown",
   "metadata": {},
   "source": [
    "## Exercise 7"
   ]
  },
  {
   "cell_type": "code",
   "execution_count": 74,
   "metadata": {},
   "outputs": [
    {
     "data": {
      "text/html": [
       "<img src=\"../images/Screenshot 2023-06-08 at 23.38.03.png\" width=\"1000\" height=\"400\" class=\"unconfined\"/>"
      ],
      "text/plain": [
       "<IPython.core.display.Image object>"
      ]
     },
     "metadata": {},
     "output_type": "display_data"
    }
   ],
   "source": [
    "display(Image(url='../images/Screenshot 2023-06-08 at 23.38.03.png', width=1000, height=400,unconfined=True))"
   ]
  },
  {
   "cell_type": "code",
   "execution_count": 75,
   "metadata": {},
   "outputs": [
    {
     "data": {
      "text/latex": [
       "$\\displaystyle \\left[\\begin{matrix}0 & 0.5 & 0.5\\\\0.333333333333333 & 0 & 0.666666666666667\\\\0.5 & 0.5 & 0\\end{matrix}\\right]$"
      ],
      "text/plain": [
       "⎡        0          0.5         0.5       ⎤\n",
       "⎢                                         ⎥\n",
       "⎢0.333333333333333   0   0.666666666666667⎥\n",
       "⎢                                         ⎥\n",
       "⎣       0.5         0.5          0        ⎦"
      ]
     },
     "metadata": {},
     "output_type": "display_data"
    },
    {
     "data": {
      "text/latex": [
       "$\\displaystyle \\left[\\begin{matrix}-1 & 0.333333333333333 & 0.5 & 0\\\\0.5 & -1 & 0.5 & 0\\\\1 & 1 & 1 & 1\\end{matrix}\\right]$"
      ],
      "text/plain": [
       "⎡-1   0.333333333333333  0.5  0⎤\n",
       "⎢                              ⎥\n",
       "⎢0.5         -1          0.5  0⎥\n",
       "⎢                              ⎥\n",
       "⎣ 1           1           1   1⎦"
      ]
     },
     "metadata": {},
     "output_type": "display_data"
    },
    {
     "data": {
      "text/latex": [
       "$\\displaystyle \\text{Stationary distribution of Xn=3}: 0.37037037037037$"
      ],
      "text/plain": [
       "<IPython.core.display.Math object>"
      ]
     },
     "metadata": {},
     "output_type": "display_data"
    },
    {
     "data": {
      "image/png": "[encoded data removed]",
      "text/latex": [
       "$\\displaystyle 0.3704$"
      ],
      "text/plain": [
       "0.3704"
      ]
     },
     "execution_count": 75,
     "metadata": {},
     "output_type": "execute_result"
    }
   ],
   "source": [
    "# a\n",
    "P = Matrix([[(0), (1/2), (1/2)], [(1/3), 0, (2/3)], [(1/2), (1/2), 0]])\n",
    "display(P)\n",
    "# Setup the matrices for the stationary distribution\n",
    "Xt = P.T\n",
    "X = (Xt-eye(P.shape[0]))[0:-1,:].row_join(zeros(P.shape[0]-1,1)).col_join(ones(1,P.shape[0]+1))\n",
    "display(X)\n",
    "\n",
    "# Stationary distribution\n",
    "display(Math(r'\\text{Stationary distribution of Xn=3}: ' + latex( X.rref()[0][2,-1])))\n",
    "\n",
    "round(X.rref()[0][2,-1],4)"
   ]
  },
  {
   "cell_type": "code",
   "execution_count": 76,
   "metadata": {},
   "outputs": [
    {
     "data": {
      "text/html": [
       "<img src=\"../images/Screenshot 2023-06-08 at 23.38.16.png\" width=\"1000\" height=\"200\" class=\"unconfined\"/>"
      ],
      "text/plain": [
       "<IPython.core.display.Image object>"
      ]
     },
     "metadata": {},
     "output_type": "display_data"
    }
   ],
   "source": [
    "display(Image(url='../images/Screenshot 2023-06-08 at 23.38.16.png', width=1000, height=200,unconfined=True))"
   ]
  },
  {
   "cell_type": "code",
   "execution_count": 77,
   "metadata": {},
   "outputs": [
    {
     "data": {
      "image/png": "[encoded data removed]",
      "text/latex": [
       "$\\displaystyle - t_{1} + \\frac{t_{3}}{2} + 1$"
      ],
      "text/plain": [
       "      t₃    \n",
       "-t₁ + ── + 1\n",
       "      2     "
      ]
     },
     "metadata": {},
     "output_type": "display_data"
    },
    {
     "data": {
      "image/png": "[encoded data removed]",
      "text/latex": [
       "$\\displaystyle \\frac{t_{1}}{2} - t_{3} + 1$"
      ],
      "text/plain": [
       "t₁         \n",
       "── - t₃ + 1\n",
       "2          "
      ]
     },
     "metadata": {},
     "output_type": "display_data"
    },
    {
     "data": {
      "image/png": "[encoded data removed]",
      "text/latex": [
       "$\\displaystyle \\left\\{ t_{1} : 2, \\  t_{3} : 2\\right\\}$"
      ],
      "text/plain": [
       "{t₁: 2, t₃: 2}"
      ]
     },
     "metadata": {},
     "output_type": "display_data"
    },
    {
     "data": {
      "image/png": "[encoded data removed]",
      "text/latex": [
       "$\\displaystyle 3$"
      ],
      "text/plain": [
       "3"
      ]
     },
     "execution_count": 77,
     "metadata": {},
     "output_type": "execute_result"
    }
   ],
   "source": [
    "## b\n",
    "# find mean returntime when starting in state 1 in current matrix\n",
    "P = sp.Matrix([\n",
    "    [ 0, R(1,2), R(1,2)],\n",
    "    [R(1,3), 0, R(2,3)],\n",
    "    [R(1,2), R(1,2), 0],\n",
    "])\n",
    "\n",
    "t_1, t_2, t_3 = sp.symbols('t_1 t_2 t_3')\n",
    "\n",
    "# where we start and end\n",
    "t_2 = 0\n",
    "\n",
    "P_11 = P[0,0]\n",
    "P_12 = P[0,1]\n",
    "P_13 = P[0,2]\n",
    "\n",
    "P_21 = P[1,0]\n",
    "P_22 = P[1,1]\n",
    "P_23 = P[1,2]\n",
    "\n",
    "P_31 = P[2,0]\n",
    "P_32 = P[2,1]\n",
    "P_33 = P[2,2]\n",
    "\n",
    "# not interested in 2 since that is start and end\n",
    "f1 = P_11 * t_1 + P_12 * t_2 + P_13 * t_3 + 1 - t_1\n",
    "#f2 = P_21 * t_1 + P_22 * t_2 + P_23 * t_3 + 1 - t_2\n",
    "f3 = P_31 * t_1 + P_32 * t_2 + P_33 * t_3 + 1 - t_3\n",
    "\n",
    "# not interested in 2 since that is start and end\n",
    "result = sp.solve((f1, f3), (t_1, t_3))\n",
    "\n",
    "display(f1)\n",
    "display(f3)\n",
    "\n",
    "display(result)\n",
    "\n",
    "t_1 = result[t_1]\n",
    "#t_2 = result[t_2]\n",
    "t_3 = result[t_3]\n",
    "\n",
    "r_2 = 1 + P_21 * t_1 + P_22 * t_2 + P_23 * t_3\n",
    "r_2 "
   ]
  },
  {
   "attachments": {},
   "cell_type": "markdown",
   "metadata": {},
   "source": [
    "## Exercise 8"
   ]
  },
  {
   "cell_type": "code",
   "execution_count": 78,
   "metadata": {},
   "outputs": [
    {
     "data": {
      "text/html": [
       "<img src=\"../images/Screenshot 2023-06-08 at 23.38.27.png\" width=\"1000\" height=\"400\" class=\"unconfined\"/>"
      ],
      "text/plain": [
       "<IPython.core.display.Image object>"
      ]
     },
     "metadata": {},
     "output_type": "display_data"
    }
   ],
   "source": [
    "display(Image(url='../images/Screenshot 2023-06-08 at 23.38.27.png', width=1000, height=400,unconfined=True))"
   ]
  },
  {
   "cell_type": "code",
   "execution_count": 79,
   "metadata": {},
   "outputs": [
    {
     "data": {
      "image/png": "[encoded data removed]",
      "text/latex": [
       "$\\displaystyle 0.709250764690014$"
      ],
      "text/plain": [
       "0.709250764690014"
      ]
     },
     "metadata": {},
     "output_type": "display_data"
    }
   ],
   "source": [
    "l = 1/17000\n",
    "fx = l* (sp.E**(-l*x))\n",
    "res = sp.integrate(fx, (x,0,21000))\n",
    "display(res)"
   ]
  },
  {
   "cell_type": "code",
   "execution_count": 80,
   "metadata": {},
   "outputs": [
    {
     "data": {
      "text/html": [
       "<img src=\"../images/Screenshot 2023-06-08 at 23.38.34.png\" width=\"1000\" height=\"150\" class=\"unconfined\"/>"
      ],
      "text/plain": [
       "<IPython.core.display.Image object>"
      ]
     },
     "metadata": {},
     "output_type": "display_data"
    }
   ],
   "source": [
    "display(Image(url='../images/Screenshot 2023-06-08 at 23.38.34.png', width=1000, height=150,unconfined=True))"
   ]
  },
  {
   "cell_type": "code",
   "execution_count": 81,
   "metadata": {},
   "outputs": [],
   "source": [
    "## b \n",
    "## P(X<x)= 0.01\n",
    "## 1-e**(-1/17000*x)=0.99 wolfram alpha\n",
    "## x approx 78287.9"
   ]
  },
  {
   "attachments": {},
   "cell_type": "markdown",
   "metadata": {},
   "source": [
    "## Exercise 9"
   ]
  },
  {
   "cell_type": "code",
   "execution_count": 82,
   "metadata": {},
   "outputs": [
    {
     "data": {
      "text/html": [
       "<img src=\"../images/Screenshot 2023-06-08 at 23.42.40.png\" width=\"1000\" height=\"300\" class=\"unconfined\"/>"
      ],
      "text/plain": [
       "<IPython.core.display.Image object>"
      ]
     },
     "metadata": {},
     "output_type": "display_data"
    }
   ],
   "source": [
    "display(Image(url='../images/Screenshot 2023-06-08 at 23.42.40.png', width=1000, height=300,unconfined=True))"
   ]
  },
  {
   "cell_type": "code",
   "execution_count": 83,
   "metadata": {},
   "outputs": [
    {
     "data": {
      "text/latex": [
       "$\\displaystyle P(X \\geq 15) = 0.0779$"
      ],
      "text/plain": [
       "<IPython.core.display.Math object>"
      ]
     },
     "metadata": {},
     "output_type": "display_data"
    }
   ],
   "source": [
    "\"\"\"\n",
    "Consider a fair, six sided die that is thrown repeatedly, and assume that the throws are independent.\n",
    "\n",
    "a. What is the probability that you will have to use 15 or more throws to get a six? State your answer with four decimal precision. Remember to use '.' as decimal separator.\n",
    "\"\"\"\n",
    "# a\n",
    "# 15 tosses to get a six on a die\n",
    "p = 1/6\n",
    "display(Math(\"P(X \\geq 15) = \" + repr(round(geom.sf(14, p), 4))))"
   ]
  },
  {
   "cell_type": "code",
   "execution_count": 84,
   "metadata": {},
   "outputs": [
    {
     "data": {
      "text/html": [
       "<img src=\"../images/Screenshot 2023-06-08 at 23.42.47.png\" width=\"1000\" height=\"300\" class=\"unconfined\"/>"
      ],
      "text/plain": [
       "<IPython.core.display.Image object>"
      ]
     },
     "metadata": {},
     "output_type": "display_data"
    }
   ],
   "source": [
    "display(Image(url='../images/Screenshot 2023-06-08 at 23.42.47.png', width=1000, height=300,unconfined=True))"
   ]
  },
  {
   "cell_type": "code",
   "execution_count": 85,
   "metadata": {},
   "outputs": [
    {
     "data": {
      "image/png": "[encoded data removed]",
      "text/latex": [
       "$\\displaystyle 14.7$"
      ],
      "text/plain": [
       "14.7"
      ]
     },
     "metadata": {},
     "output_type": "display_data"
    },
    {
     "data": {
      "image/png": "[encoded data removed]",
      "text/latex": [
       "$\\displaystyle 14.7$"
      ],
      "text/plain": [
       "14.7"
      ]
     },
     "metadata": {},
     "output_type": "display_data"
    }
   ],
   "source": [
    "t=(1/1+6/5+6/4+6/3+6/2+6/1)\n",
    "t2 = 1+12/10+15/10+2+3+6 ## same \n",
    "display(t)\n",
    "display(t2)"
   ]
  },
  {
   "attachments": {},
   "cell_type": "markdown",
   "metadata": {},
   "source": [
    "## Exercise 10"
   ]
  },
  {
   "cell_type": "code",
   "execution_count": 86,
   "metadata": {},
   "outputs": [
    {
     "data": {
      "text/html": [
       "<img src=\"../images/Screenshot 2023-06-08 at 23.44.08.png\" width=\"1000\" height=\"400\" class=\"unconfined\"/>"
      ],
      "text/plain": [
       "<IPython.core.display.Image object>"
      ]
     },
     "metadata": {},
     "output_type": "display_data"
    }
   ],
   "source": [
    "display(Image(url='../images/Screenshot 2023-06-08 at 23.44.08.png', width=1000, height=400,unconfined=True))"
   ]
  },
  {
   "cell_type": "code",
   "execution_count": 87,
   "metadata": {},
   "outputs": [
    {
     "data": {
      "image/png": "[encoded data removed]",
      "text/latex": [
       "$\\displaystyle \\frac{\\frac{x^{2}}{2} + \\frac{2 y}{3}}{\\frac{x^{2}}{2} + \\frac{1}{3}}$"
      ],
      "text/plain": [
       " 2      \n",
       "x    2⋅y\n",
       "── + ───\n",
       "2     3 \n",
       "────────\n",
       "  2     \n",
       " x    1 \n",
       " ── + ─ \n",
       " 2    3 "
      ]
     },
     "metadata": {},
     "output_type": "display_data"
    },
    {
     "data": {
      "image/png": "[encoded data removed]",
      "text/latex": [
       "$\\displaystyle \\frac{1}{18}$"
      ],
      "text/plain": [
       "1/18"
      ]
     },
     "metadata": {},
     "output_type": "display_data"
    }
   ],
   "source": [
    "x,y = symbols('x y')\n",
    "\n",
    "f_x_y = R(1,2)*x**2 + R(2,3)*y \n",
    "\n",
    "## calc the func first then the other stuff then the expected value\n",
    "f_y_given_x = f_x_y / sp.integrate(f_x_y,(y,0,1))\n",
    "\n",
    "display(f_y_given_x)\n",
    "\n",
    "## expected value\n",
    "e_y_given_x = y * f_y_given_x\n",
    "result_1 = sp.integrate(e_y_given_x.subs(x,0), (y,0,1))\n",
    "\n",
    "e_y_given_x_squared = y**2 * f_y_given_x\n",
    "result_2 = sp.integrate(e_y_given_x_squared.subs(x,0), (y,0,1))\n",
    "\n",
    "var_y_given_x = result_2 - result_1**2\n",
    "\n",
    "display(var_y_given_x)"
   ]
  }
 ],
 "metadata": {
  "kernelspec": {
   "display_name": "Python 3",
   "language": "python",
   "name": "python3"
  },
  "language_info": {
   "codemirror_mode": {
    "name": "ipython",
    "version": 3
   },
   "file_extension": ".py",
   "mimetype": "text/x-python",
   "name": "python",
   "nbconvert_exporter": "python",
   "pygments_lexer": "ipython3",
   "version": "3.11.3"
  },
  "orig_nbformat": 4
 },
 "nbformat": 4,
 "nbformat_minor": 2
}
