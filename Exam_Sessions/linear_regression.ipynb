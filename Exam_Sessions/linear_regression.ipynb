{
 "cells": [
  {
   "cell_type": "code",
   "execution_count": 1,
   "metadata": {},
   "outputs": [],
   "source": [
    "from scipy import stats\n",
    "from scipy.stats import norm\n",
    "from scipy.stats import t\n",
    "from scipy.stats import binom\n",
    "from scipy.stats import geom\n",
    "from scipy.stats import hypergeom\n",
    "from scipy.stats import poisson\n",
    "from scipy.stats import nbinom\n",
    "import pandas as pd\n",
    "import numpy as np\n",
    "import sympy as sp\n",
    "from sympy import *\n",
    "sp.init_printing()\n",
    "import matplotlib.pyplot as plt\n",
    "import scipy.integrate as integrate\n",
    "import scipy.special as special\n",
    "from scipy.integrate import quad\n",
    "from fractions import Fraction\n",
    "import numpy as np\n",
    "from scipy.misc import derivative\n",
    "import math\n",
    "from math import *\n",
    "from fractions import Fraction\n",
    "import fractions\n",
    "from sympy import Rational as R\n",
    "from sympy import Matrix as M\n",
    "from IPython.display import display, Math, Latex\n",
    "%matplotlib inline\n",
    "from IPython.display import Image, HTML\n",
    "import statsmodels.stats.power as smp\n",
    "import statsmodels.api as sm"
   ]
  },
  {
   "cell_type": "code",
   "execution_count": 28,
   "metadata": {},
   "outputs": [],
   "source": [
    "def s_xy(x, y):\n",
    "    x_bar = x.mean()\n",
    "    y_bar = y.mean()\n",
    "    sum = 0\n",
    "    for i in range(0, len(x)):\n",
    "        sum += (x[i]-x_bar)*(y[i]-y_bar)\n",
    "    return sum\n",
    "\n",
    "def s_xx(x):\n",
    "    x_bar = x.mean()\n",
    "    sum = 0\n",
    "    for i in range(0, len(x)):\n",
    "        sum += (x[i]-x_bar)**2\n",
    "    return sum\n",
    "\n",
    "def s_yy(y):\n",
    "    y_bar = y.mean()\n",
    "    sum = 0\n",
    "    for i in range(0, len(y)):\n",
    "        sum += (y[i]-y_bar)**2\n",
    "    return sum\n",
    "\n",
    "def B_hat_1(x, y):\n",
    "    return s_xy(x, y) / s_xx(x)\n",
    "\n",
    "def B_hat_0(x, y):\n",
    "    return y.mean() - B_hat_1(x, y) * x.mean()\n",
    "\n",
    "def SS_T(y):\n",
    "    y_bar = y.mean()\n",
    "    sum = 0\n",
    "    for i in range(0, len(y)):\n",
    "        sum += (y[i]-y_bar)**2\n",
    "    return sum\n",
    "\n",
    "def SS_R(x, y):\n",
    "    y_bar = y.mean()\n",
    "    b_hat_0 = B_hat_0(x,y)\n",
    "    b_hat_1 = B_hat_1(x,y)\n",
    "    sum = 0\n",
    "    for i in range(0, len(y)):\n",
    "        sum += ((b_hat_0+b_hat_1*x[i])-y_bar)**2\n",
    "    return sum\n",
    "\n",
    "def SS_E(x, y):\n",
    "    b_hat_0 = B_hat_0(x,y)\n",
    "    b_hat_1 = B_hat_1(x,y)\n",
    "    sum = 0\n",
    "    for i in range(0, len(y)):\n",
    "        sum += (y[i]-(b_hat_0+b_hat_1*x[i]))**2\n",
    "    return sum\n",
    "\n",
    "def standard_error_of_slope(x, y):\n",
    "    \"\"\"S(b1)\"\"\"\n",
    "    return np.sqrt(variance_hat(x,y)/s_xx(x))\n",
    "\n",
    "def standard_error_of_intercept(x, y):\n",
    "    \"\"\"S(b0)\"\"\"\n",
    "    mean = np.mean(x)\n",
    "    return np.sqrt(variance_hat(x,y) * ((1/len(x)) + ((mean**2)/(s_xx(x)))))\n",
    "\n",
    "def variance_hat(x,y):\n",
    "    return SS_E(x,y)/(len(x)-2)\n",
    "\n",
    "def E_S(x, y, alpha):\n",
    "    \"\"\"Error for slope\"\"\"\n",
    "    return t.ppf(1-alpha/2, len(x)-2)*standard_error_of_slope(x,y)\n",
    "\n",
    "def E_I(x, y, alpha):\n",
    "    \"\"\"\"Error for intercept\"\"\"\n",
    "    return t.ppf(1-alpha/2, len(x)-2)*standard_error_of_intercept(x,y)\n",
    "\n",
    "def E_P(x,y, alpha, x_0):\n",
    "    \"\"\"Prediction intervals\"\"\"\n",
    "    var_hat = variance_hat(x,y)\n",
    "    n = len(x)\n",
    "    x_bar = x.mean()\n",
    "    return t.ppf(1-alpha/2, n-2) * np.sqrt(var_hat*(1+1/n+((x_0-x_bar)**2/s_xx(x))))\n",
    "\n",
    "def test_static_slope(x,y):\n",
    "    \"\"\"Test statistic for slope\"\"\"\n",
    "    return B_hat_1(x,y)/sp.sqrt(variance_hat(x, y)/s_xx(x))\n",
    "\n",
    "def predict_y(x,y,value):\n",
    "    return B_hat_0(x,y) + B_hat_1(x,y) * value\n",
    "\n",
    "def correlation_coefficient(x, y):\n",
    "    return s_xy(x, y) / math.sqrt(s_xx(x) * s_yy(y))"
   ]
  },
  {
   "cell_type": "code",
   "execution_count": 30,
   "metadata": {},
   "outputs": [
    {
     "data": {
      "text/latex": [
       "$\\displaystyle \\mu_x = 4.525$"
      ],
      "text/plain": [
       "<IPython.core.display.Math object>"
      ]
     },
     "metadata": {},
     "output_type": "display_data"
    },
    {
     "data": {
      "text/latex": [
       "$\\displaystyle \\mu_y = 9.6$"
      ],
      "text/plain": [
       "<IPython.core.display.Math object>"
      ]
     },
     "metadata": {},
     "output_type": "display_data"
    },
    {
     "data": {
      "text/latex": [
       "$\\displaystyle Sxy = 194.08$"
      ],
      "text/plain": [
       "<IPython.core.display.Math object>"
      ]
     },
     "metadata": {},
     "output_type": "display_data"
    },
    {
     "data": {
      "text/latex": [
       "$\\displaystyle Sxx = 97.315$"
      ],
      "text/plain": [
       "<IPython.core.display.Math object>"
      ]
     },
     "metadata": {},
     "output_type": "display_data"
    },
    {
     "data": {
      "text/latex": [
       "$\\displaystyle \\beta_1 = 1.9943$"
      ],
      "text/plain": [
       "<IPython.core.display.Math object>"
      ]
     },
     "metadata": {},
     "output_type": "display_data"
    },
    {
     "data": {
      "text/latex": [
       "$\\displaystyle \\beta_0 = 0.5756$"
      ],
      "text/plain": [
       "<IPython.core.display.Math object>"
      ]
     },
     "metadata": {},
     "output_type": "display_data"
    },
    {
     "data": {
      "text/latex": [
       "$\\displaystyle \\overline{y}_{x=2} = 4.5643$"
      ],
      "text/plain": [
       "<IPython.core.display.Math object>"
      ]
     },
     "metadata": {},
     "output_type": "display_data"
    },
    {
     "data": {
      "text/latex": [
       "$\\displaystyle \\overline{\\sigma}^2 = 3.5095$"
      ],
      "text/plain": [
       "<IPython.core.display.Math object>"
      ]
     },
     "metadata": {},
     "output_type": "display_data"
    },
    {
     "data": {
      "text/latex": [
       "$\\displaystyle Test statistic for slope: T_0 = 10.5019$"
      ],
      "text/plain": [
       "<IPython.core.display.Math object>"
      ]
     },
     "metadata": {},
     "output_type": "display_data"
    },
    {
     "data": {
      "text/latex": [
       "$\\displaystyle Confidence Interval on the intercept: E_I = 2.6548$"
      ],
      "text/plain": [
       "<IPython.core.display.Math object>"
      ]
     },
     "metadata": {},
     "output_type": "display_data"
    },
    {
     "data": {
      "text/latex": [
       "$\\displaystyle Confidence Interval on the slope: E_S = 0.4647$"
      ],
      "text/plain": [
       "<IPython.core.display.Math object>"
      ]
     },
     "metadata": {},
     "output_type": "display_data"
    },
    {
     "data": {
      "text/latex": [
       "$\\displaystyle Prediction Interval of x = 2: E_P = 5.0016$"
      ],
      "text/plain": [
       "<IPython.core.display.Math object>"
      ]
     },
     "metadata": {},
     "output_type": "display_data"
    },
    {
     "data": {
      "text/latex": [
       "$\\displaystyle The correlation coefficient is = 0.9739$"
      ],
      "text/plain": [
       "<IPython.core.display.Math object>"
      ]
     },
     "metadata": {},
     "output_type": "display_data"
    }
   ],
   "source": [
    "x = np.array([1.1, 0, 5.3, 3.8, 9.2, 6.9, 0.7, 9.2])\n",
    "y = np.array([4.5, -0.1, 11.6, 5.9, 16.4, 16.1, 1.8, 20.6])\n",
    "\n",
    "sample_size_x = np.size(x)\n",
    "\n",
    "## 2: means\n",
    "x_mean =np.mean(x)\n",
    "y_mean = np.mean(y)\n",
    "\n",
    "## this might change\n",
    "\n",
    "display(Math( '\\mu_x = '+ latex(round(x_mean,3))))\n",
    "display(Math( '\\mu_y = '+ latex(round(y_mean,3))))\n",
    "\n",
    "\n",
    "display(Math( 'Sxy = '+ latex(round(s_xy(x,y),4))))\n",
    "display(Math( 'Sxx = '+ latex(round(s_xx(x),4))))\n",
    "\n",
    "\n",
    "display(Math( '\\\\beta_1 = '+ latex(round(B_hat_1(x,y),4))))\n",
    "display(Math( '\\\\beta_0 = '+ latex(round(B_hat_0(x,y),4))))\n",
    "\n",
    "\n",
    "display(Math( '\\\\overline{y}_{x=2} = '+ latex(round(predict_y(x,y,2),4))))\n",
    "\n",
    "display(Math( '\\\\overline{\\\\sigma}^2 = '+ latex(round(variance_hat(x,y),4))))\n",
    "\n",
    "\n",
    "test_statistic = B_hat_1(x,y)/ (sqrt(variance_hat(x,y)/s_xx(x)))\n",
    "display(Math( 'Test statistic for slope: T_0 = '+ latex(round(test_statistic,4))))\n",
    "\n",
    "alpha = 0.05\n",
    "\n",
    "display(Math( 'Confidence Interval on the intercept: E_I = '+ latex(round(E_I(x, y, alpha),4))))\n",
    "\n",
    "display(Math( 'Confidence Interval on the slope: E_S = '+ latex(round(E_S(x, y, alpha),4))))\n",
    "\n",
    "display(Math( 'Prediction Interval of x = 2: E_P = '+ latex(round(E_P(x,y, alpha, 2),4))))\n",
    "\n",
    "display(Math( 'The correlation coefficient is = '+ latex(round(correlation_coefficient(x, y),4))))\n"
   ]
  }
 ],
 "metadata": {
  "kernelspec": {
   "display_name": "Python 3",
   "language": "python",
   "name": "python3"
  },
  "language_info": {
   "codemirror_mode": {
    "name": "ipython",
    "version": 3
   },
   "file_extension": ".py",
   "mimetype": "text/x-python",
   "name": "python",
   "nbconvert_exporter": "python",
   "pygments_lexer": "ipython3",
   "version": "3.11.3"
  },
  "orig_nbformat": 4
 },
 "nbformat": 4,
 "nbformat_minor": 2
}
