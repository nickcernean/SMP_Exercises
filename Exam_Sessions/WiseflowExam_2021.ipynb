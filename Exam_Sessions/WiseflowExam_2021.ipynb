{
 "cells": [
  {
   "cell_type": "code",
   "execution_count": 49,
   "metadata": {},
   "outputs": [],
   "source": [
    "from scipy import stats\n",
    "from scipy.stats import norm\n",
    "from scipy.stats import t\n",
    "from scipy.stats import binom\n",
    "from scipy.stats import geom\n",
    "from scipy.stats import hypergeom\n",
    "from scipy.stats import poisson\n",
    "from scipy.stats import nbinom\n",
    "import pandas as pd\n",
    "import numpy as np\n",
    "import sympy as sp\n",
    "from sympy import *\n",
    "sp.init_printing()\n",
    "import matplotlib.pyplot as plt\n",
    "import scipy.integrate as integrate\n",
    "import scipy.special as special\n",
    "from scipy.integrate import quad\n",
    "from fractions import Fraction\n",
    "import numpy as np\n",
    "from scipy.misc import derivative\n",
    "import math\n",
    "from math import *\n",
    "from fractions import Fraction\n",
    "import fractions\n",
    "from sympy import Rational as R\n",
    "from sympy import Matrix as M\n",
    "from IPython.display import display, Math, Latex\n",
    "%matplotlib inline\n",
    "from IPython.display import Image, HTML\n",
    "import statsmodels.stats.power as smp\n",
    "import statsmodels.api as sm\n"
   ]
  },
  {
   "attachments": {},
   "cell_type": "markdown",
   "metadata": {},
   "source": [
    "## Wiseflow Exam 2021\n"
   ]
  },
  {
   "attachments": {},
   "cell_type": "markdown",
   "metadata": {},
   "source": [
    "## Exercise 1 </br>\n",
    "\n",
    "Consider a normal random sample X1,X2,…,X9, where N(μ,σ2) for i=1,…,9 and where both μ∈R and σ2>0 are unknown parameters. Assume we made the following observations:\n"
   ]
  },
  {
   "cell_type": "code",
   "execution_count": 31,
   "metadata": {},
   "outputs": [
    {
     "data": {
      "text/latex": [
       "$\\displaystyle t_{\\frac{0.01}{2},19}=1.8595$"
      ],
      "text/plain": [
       "<IPython.core.display.Math object>"
      ]
     },
     "metadata": {},
     "output_type": "display_data"
    },
    {
     "data": {
      "text/latex": [
       "$\\displaystyle t_{0}=-0.3505$"
      ],
      "text/plain": [
       "<IPython.core.display.Math object>"
      ]
     },
     "metadata": {},
     "output_type": "display_data"
    },
    {
     "data": {
      "text/latex": [
       "$\\displaystyle P-value=0.735$"
      ],
      "text/plain": [
       "<IPython.core.display.Math object>"
      ]
     },
     "metadata": {},
     "output_type": "display_data"
    },
    {
     "name": "stdout",
     "output_type": "stream",
     "text": [
      "7. Conclusions:  From t-score table we find for a t distribution with 24 degrees of freedom that t0 = 3.56 \n",
      " falls between two values: 3.467, for which α = 0.001, and 3.745, for which α = 0.0005. \n",
      " As this is a two-tailed test, we know that the P-value is between those two values, that is, 0.0005 < P < 0.001. \n",
      " Therefore, because P > 0.0025, because alpha/2, we  reject H0 and conclude \n",
      " that the true mean of females body temperature  differs from 98.6 at alpha= 0.05\n"
     ]
    }
   ],
   "source": [
    "a =[ -1.7, 2.2, 3.2, -0.8, 2.0, 0.7, -2.2, 0.5, 3.0]\n",
    "alpha = 0.1\n",
    "sample_size = len(a)\n",
    "sample_mean = np.mean(a)\n",
    "hypothesis_mean = 1 ## null hypothesiss\n",
    "\n",
    "## two sided crit value\n",
    "ddof = sample_size - 1\n",
    "t_crit_ddof = stats.t.ppf(1-alpha/2,ddof)\n",
    "display(Math('t_{\\\\frac{0.01}{2},19}='+latex(round(t_crit_ddof,4))))\n",
    "\n",
    "##  By default, ddof is set to 0, which corresponds to the population standard deviation. When ddof is set to 1, it calculates the sample standard deviation.\n",
    "sample_standard_deviation = np.std(a,ddof=1)## small s\n",
    "\n",
    "test_statistic_hypothesis = (sample_mean-hypothesis_mean)/( sample_standard_deviation/np.sqrt(sample_size))\n",
    "display(Math( 't_{0}='+ latex(round(test_statistic_hypothesis,4))))\n",
    "\n",
    "## notice we are using sf function, alternative use 1-cdf\n",
    "## additionally this is a one sided tail test, so to test \n",
    "p_value = 2*t.sf(np.abs(test_statistic_hypothesis), sample_size-1)\n",
    "display(Math( 'P-value='+ latex(round(p_value,3))))\n",
    "\n",
    "print('7. Conclusions:  From t-score table we find for a t distribution with 24 degrees of freedom that t0 = 3.56 \\n falls between two values: 3.467, for which α = 0.001, and 3.745, for which α = 0.0005. \\n As this is a two-tailed test, we know that the P-value is between those two values, that is, 0.0005 < P < 0.001. \\n Therefore, because P > 0.0025, because alpha/2, we  reject H0 and conclude \\n that the true mean of females body temperature  differs from 98.6 at alpha= 0.05')"
   ]
  },
  {
   "attachments": {},
   "cell_type": "markdown",
   "metadata": {},
   "source": [
    "## Exercise 2 </br>\n",
    "\n",
    "Consider a normal random sample X1,X2,…,X9, where N(μ,σ2) for i=1,…,9 and where both μ∈R and σ2>0 are unknown parameters. Assume we made the following observations:\n"
   ]
  },
  {
   "attachments": {},
   "cell_type": "markdown",
   "metadata": {},
   "source": [
    "## Exercise 3 </br>\n"
   ]
  },
  {
   "attachments": {},
   "cell_type": "markdown",
   "metadata": {},
   "source": [
    "a. Find P(X=1 or Y=1). State your input as an integer between 0 and 99 such that the answer has two decimal precision, correctly rounded off.\n"
   ]
  },
  {
   "cell_type": "code",
   "execution_count": 50,
   "metadata": {},
   "outputs": [
    {
     "data": {
      "text/latex": [
       "$\\displaystyle P(X = 1) = 0.2707$"
      ],
      "text/plain": [
       "<IPython.core.display.Math object>"
      ]
     },
     "metadata": {},
     "output_type": "display_data"
    },
    {
     "data": {
      "text/latex": [
       "$\\displaystyle P(Y = 1) = 0.3333$"
      ],
      "text/plain": [
       "<IPython.core.display.Math object>"
      ]
     },
     "metadata": {},
     "output_type": "display_data"
    },
    {
     "data": {
      "text/latex": [
       "$\\displaystyle P(X = 1 OR Y =1) = 0.51$"
      ],
      "text/plain": [
       "<IPython.core.display.Math object>"
      ]
     },
     "metadata": {},
     "output_type": "display_data"
    }
   ],
   "source": [
    "poisson_lambda = 2\n",
    "poisson_result = poisson.pmf(1, poisson_lambda)\n",
    "display(Math(\"P(X = 1) = \" + repr(round(poisson_result, 4))))\n",
    "\n",
    "## provide the fraction like this \n",
    "geometric_probability = 1/3\n",
    "geometric_result = geom.pmf(1, geometric_probability)\n",
    "display(Math(\"P(Y = 1) = \" + repr(round(geometric_result, 4))))\n",
    "\n",
    "prob_or = poisson_result + geometric_result - (poisson_result * geometric_result)\n",
    "display(Math(\"P(X = 1 OR Y =1) = \" + repr(round(prob_or, 2))))"
   ]
  },
  {
   "attachments": {},
   "cell_type": "markdown",
   "metadata": {},
   "source": [
    "b. Find $P(Y=2∣X+Y=2)$. State your inputs as two integers between 0 and 99 such that you supply an irreducible fraction. </br>\n",
    "$P(Y=2∣X+Y=2)= \\frac{P(Y=2 \\cap X+Y=2)}{ P(X+Y=2)}= \\frac{P(Y=2)*P(X=0)}{ P(X+Y=2)}=$</br>\n",
    "$\\frac{P(Y=2)*P(X=0)}{P(X=0)*P(Y=2)+P(X=1)*P(Y=1)+P(X=2)*P(Y=0)}$\n"
   ]
  },
  {
   "cell_type": "code",
   "execution_count": 4,
   "metadata": {},
   "outputs": [
    {
     "data": {
      "text/latex": [
       "$\\displaystyle P(Y = 2 | X+Y =2) = 0.25$"
      ],
      "text/plain": [
       "<IPython.core.display.Math object>"
      ]
     },
     "metadata": {},
     "output_type": "display_data"
    }
   ],
   "source": [
    "\n",
    "P_Ec_1 = geom.pmf(2, geometric_probability) * poisson.pmf(0, poisson_lambda)\n",
    "P_Ec_2 = poisson.pmf(0, poisson_lambda) * geom.pmf(2, geometric_probability) + poisson.pmf(1, poisson_lambda) * geom.pmf(1, geometric_probability) +  poisson.pmf(2, poisson_lambda) * geom.pmf(0, geometric_probability)\n",
    "Ec_result = P_Ec_1/P_Ec_2\n",
    "display(Math(\"P(Y = 2 | X+Y =2) = \" + repr(round(Ec_result, 2))))"
   ]
  },
  {
   "attachments": {},
   "cell_type": "markdown",
   "metadata": {},
   "source": [
    "c)Find the following values. State your answers as integers between 0 and 99 </br>\n",
    "$E[X+Y]=$ </br>\n",
    "$E[(X+Y)^2]= E[X^2]+2COV(x,y)+E[Y^2]$</br >\n",
    "If the values are independent the covariance of two random varibles is 0. </br>\n",
    "If they are not independent, this is the formula. </br>\n",
    "Cov(X, Y) = E[(X - E[X])(Y - E[Y])],</br>\n",
    "where Cov(X, Y) represents the covariance between variables X and Y, E[X] represents the expected value (mean) of X, E[Y] represents the expected value (mean) of Y, and (X - E[X]) and (Y - E[Y]) represent the deviations from the means of X and Y, respectively.\n",
    "Here's a step-by-step process to calculate the covariance:\n",
    "\n",
    "   1. Calculate the expected value (mean) of X. If you have a set of observed values for X, you can calculate the mean by summing all the values and dividing by the total number of values.\n",
    "\n",
    "    E[X] = (Sum of all X values) / (Number of X values)\n",
    "\n",
    "   2. Calculate the expected value (mean) of Y. Similarly, calculate the mean of the observed values for Y.\n",
    "\n",
    "    E[Y] = (Sum of all Y values) / (Number of Y values)\n",
    "\n",
    "   3. Calculate the deviations from the means for X and Y. Subtract the mean of each variable from their respective observed values.\n",
    "\n",
    "    Deviation_X = X - E[X]\n",
    "    Deviation_Y = Y - E[Y]\n",
    "\n",
    "   4. Calculate the product of the deviations for each pair of X and Y values.\n",
    "\n",
    "    Product = Deviation_X * Deviation_Y\n",
    "\n",
    "   5. Sum up all the products obtained in step 4.\n",
    "\n",
    "    Sum_of_Products = (Sum of all Product values)\n",
    "\n",
    "   6. Divide the sum of products by the total number of values to get the covariance.\n",
    "\n",
    "    Cov(X, Y) = Sum_of_Products / (Number of values) </br>\n",
    "$"
   ]
  },
  {
   "cell_type": "code",
   "execution_count": 107,
   "metadata": {},
   "outputs": [
    {
     "data": {
      "text/latex": [
       "$\\displaystyle E[X+Y] = 5.0$"
      ],
      "text/plain": [
       "<IPython.core.display.Math object>"
      ]
     },
     "metadata": {},
     "output_type": "display_data"
    },
    {
     "data": {
      "text/latex": [
       "$\\displaystyle E[(X+Y)^2] = 33.0$"
      ],
      "text/plain": [
       "<IPython.core.display.Math object>"
      ]
     },
     "metadata": {},
     "output_type": "display_data"
    }
   ],
   "source": [
    "## first ecuation\n",
    "poisson_lambda = 2\n",
    "expectedvalue_poisson = poisson_lambda\n",
    "\n",
    "geometric_probability = 1/3\n",
    "expectedvalue_geometric = 1/geometric_probability\n",
    "\n",
    "expectedvalue_result = expectedvalue_poisson + expectedvalue_geometric\n",
    "display(Math(\"E[X+Y] = \" + repr(round(expectedvalue_result, 4))))\n",
    "## second ecuation\n",
    "\n",
    "## Variance calculation\n",
    "##Variance of X and Y\n",
    "Var_X = poisson_lambda  # For Poisson distribution, variance = mean\n",
    "Var_Y = (1 - geometric_probability) / geometric_probability**2  ## Geometric distribution\n",
    "\n",
    "# var(x+y) = E[(x+y)²] - E[x+y]²\n",
    "# E[(x+y)²] = var(x+y) + E[x+y]² = var(x) + var(y) + E[x+y]²\n",
    "my_e = (1-geometric_probability)/geometric_probability**2 + poisson_lambda + expectedvalue_result**2\n",
    "display(Math(\"E[(X+Y)^2] = \" + repr(my_e)))\n"
   ]
  },
  {
   "attachments": {},
   "cell_type": "markdown",
   "metadata": {},
   "source": [
    "## Exercise 4 </br>\n",
    "\n",
    "Let X denote a stochastic variable with the following cumulative distribution function: </br>\n",
    "$f(x)=\\begin{bmatrix}0,for&x < 0 \\cr x^3,for 0 < x < 1 \\cr 0, otherwise\\end{bmatrix}$ </br>\n"
   ]
  },
  {
   "attachments": {},
   "cell_type": "markdown",
   "metadata": {},
   "source": [
    "**a)** Find the probability that X>$\\frac{4}{5}$ given that X>$\\frac{1}{2}$. State your input as an integer between 0 and 99 such that the answer has two decimal precision, correctly rounded off </br>\n",
    "$P(X> \\frac{4}{5} | X> \\frac{1}{2}) = \\frac{P(X>\\frac{4}{5} \\cap X >\\frac{1}{2})}{P(X>\\frac{1}{2})}=$</br>\n",
    "$\\frac{P(X>\\frac{4}{5})}{P(X>\\frac{1}{2})}$"
   ]
  },
  {
   "cell_type": "code",
   "execution_count": 102,
   "metadata": {},
   "outputs": [
    {
     "name": "stdout",
     "output_type": "stream",
     "text": [
      "0.56\n"
     ]
    }
   ],
   "source": [
    "x = symbols('x')\n",
    "\n",
    "fx = x**3\n",
    "\n",
    "differential = sp.diff(fx,x)\n",
    "\n",
    "\n",
    "Fx_1 = sp.integrate(differential,(x, R(4,5), 1))\n",
    "Fx_2 = sp.integrate(differential,(x, R(1,2), 1))\n",
    "\n",
    "result = Fx_1/Fx_2\n",
    "print(round(result,2))"
   ]
  },
  {
   "attachments": {},
   "cell_type": "markdown",
   "metadata": {},
   "source": [
    "**b)** Find the expected value of X. State your inputs as two integers between 0 and 99 such that the answer is an irreducible fraction.\n"
   ]
  },
  {
   "cell_type": "code",
   "execution_count": 101,
   "metadata": {},
   "outputs": [
    {
     "data": {
      "text/latex": [
       "$\\displaystyle E(X) = 3/4$"
      ],
      "text/plain": [
       "<IPython.core.display.Math object>"
      ]
     },
     "metadata": {},
     "output_type": "display_data"
    }
   ],
   "source": [
    "x = symbols('x')\n",
    "\n",
    "fx = x**3\n",
    "\n",
    "differential = sp.diff(fx,x)\n",
    "\n",
    "e_x = x*differential\n",
    "\n",
    "EX = sp.integrate(e_x, (x, 0, 1))\n",
    "\n",
    "display(Math(r'E(X) = '+ '%s' % (EX)))\n"
   ]
  },
  {
   "attachments": {},
   "cell_type": "markdown",
   "metadata": {},
   "source": [
    "## Exercise 5 </br>\n",
    "Let X and Y denote two stochastic variables with the following joint probability density function:\n",
    "\n",
    "\n",
    "Find $P(X<\\frac{Y}{2})$ State your inputs as integers between 0 and 99 such that the answer is an irreducible fraction."
   ]
  },
  {
   "cell_type": "code",
   "execution_count": 11,
   "metadata": {},
   "outputs": [
    {
     "data": {
      "text/latex": [
       "$\\displaystyle E(X) = 0.250000000000000$"
      ],
      "text/plain": [
       "<IPython.core.display.Math object>"
      ]
     },
     "metadata": {},
     "output_type": "display_data"
    }
   ],
   "source": [
    "x,y = symbols('x y')\n",
    "\n",
    "fx = 1\n",
    "## by trying to find the probability of y/2, you change also the domain of Y\n",
    "## and their interesction is from 0 to x/2, hence the integral below\n",
    "result = sp.integrate(fx, (y, 0, 1/2),(x, 0, 1/2)) \n",
    "\n",
    "display(Math(r'E(X) = '+ '%s' % (result)))"
   ]
  },
  {
   "attachments": {},
   "cell_type": "markdown",
   "metadata": {},
   "source": [
    "## Exercise 6 </br>\n"
   ]
  },
  {
   "cell_type": "code",
   "execution_count": 35,
   "metadata": {},
   "outputs": [
    {
     "data": {
      "text/html": [
       "<img src=\"../images/Screenshot 2023-06-04 at 21.06.29.png\" width=\"1200\" height=\"200\" class=\"unconfined\"/>"
      ],
      "text/plain": [
       "<IPython.core.display.Image object>"
      ]
     },
     "metadata": {},
     "output_type": "display_data"
    }
   ],
   "source": [
    "display(Image(url='../images/Screenshot 2023-06-04 at 21.06.29.png', width=1200, height=200,unconfined=True))"
   ]
  },
  {
   "attachments": {},
   "cell_type": "markdown",
   "metadata": {},
   "source": [
    "Correlation coefficient: notation Rho = $\\rho$ </br>\n",
    "The correlation coefficient $\\rho_{XY}$ or  $\\rho(X,Y)$ is obtained by normalizing the covarriance. More specifically we use the standardized version of X and Y. </br>\n",
    "u = $\\frac{X-EX}{\\sigma_X}$ , v = $\\frac{Y-EY}{\\sigma_Y}$  </br>\n",
    "$\\rho$ = Cov(U,V)= Cov($\\frac{X-EX}{\\sigma_X}$,$\\frac{Y-EY}{\\sigma_Y}$)  </br>\n",
    "= Cov($\\frac{X}{\\sigma_X}$,$\\frac{Y}{\\sigma_Y}$) (property 4) </br>\n",
    "= $\\frac{Cov(X,Y) }{\\sigma_X*\\sigma_Y}$ (property 5) </br>\n",
    "<span style=\"color:red;\">LOOK AT THIS AGAIN</span>"
   ]
  },
  {
   "cell_type": "code",
   "execution_count": 31,
   "metadata": {},
   "outputs": [
    {
     "data": {
      "text/latex": [
       "$\\displaystyle \\rho(X,Y) = 1/6$"
      ],
      "text/plain": [
       "<IPython.core.display.Math object>"
      ]
     },
     "metadata": {},
     "output_type": "display_data"
    }
   ],
   "source": [
    "from fractions import Fraction\n",
    "## these are some properties from the class, found them in the copybook they are described above\n",
    "## by using the property 5 we get that\n",
    "# since the  X and Y are indepenent, then the Cov(X,Y)= 0 this results in\n",
    "variance_x = 4\n",
    "variance_y = 9\n",
    "\n",
    "cov_x_y = 1\n",
    "result =cov_x_y/(np.sqrt(4)*np.sqrt(9))\n",
    "\n",
    "## represent a number as a fraction\n",
    "fraction = Fraction(result).limit_denominator()\n",
    "simplified_fraction = Fraction(fraction.numerator, fraction.denominator)\n",
    "\n",
    "display(Math(r'\\rho(X,Y) = '+ '%s' % (simplified_fraction)))\n",
    "\n"
   ]
  },
  {
   "attachments": {},
   "cell_type": "markdown",
   "metadata": {},
   "source": [
    "## Exercise 7 </br>\n",
    "In the city of Aarhus you can borrow a bike at either Dokk1 (Place 1), the train station (Place 2) or The Old Town (Place 3). It is assumed that the bike moves around between these three places from day to day as a Markov Chain with the following transition matrix (where the place number equals the row/column number, indexing from 1):"
   ]
  },
  {
   "attachments": {},
   "cell_type": "markdown",
   "metadata": {},
   "source": [
    "a. What is the probability that the bike will be in The Old Town (Place 3) after two days? State your answer as an integer between 0 and 99 such that you supply two decimal precision, correctly rounded off."
   ]
  },
  {
   "cell_type": "code",
   "execution_count": null,
   "metadata": {},
   "outputs": [],
   "source": [
    "\n",
    "\n",
    "\n"
   ]
  },
  {
   "attachments": {},
   "cell_type": "markdown",
   "metadata": {},
   "source": [
    "## Exercise 8 "
   ]
  },
  {
   "cell_type": "code",
   "execution_count": 34,
   "metadata": {},
   "outputs": [
    {
     "data": {
      "text/html": [
       "<img src=\"../images/Screenshot 2023-06-04 at 21.49.10.png\" width=\"1200\" height=\"200\" class=\"unconfined\"/>"
      ],
      "text/plain": [
       "<IPython.core.display.Image object>"
      ]
     },
     "metadata": {},
     "output_type": "display_data"
    }
   ],
   "source": [
    "display(Image(url='../images/Screenshot 2023-06-04 at 21.49.10.png', width=1200, height=200,unconfined=True))"
   ]
  },
  {
   "attachments": {},
   "cell_type": "markdown",
   "metadata": {},
   "source": [
    "**Sample Size for Specified Error on the Mean, Variance Known** </br>\n",
    "If x is used as an estimate of μ, we can be 100(1 − α)% confident that the error |$\\overline{x}$ − μ| </br>\n",
    "will not exceed a specified amount E when the sample size is\n",
    "n = $\\frac{z_{\\frac{\\alpha}{2}}* \\sigma}{E}$"
   ]
  },
  {
   "cell_type": "code",
   "execution_count": 109,
   "metadata": {},
   "outputs": [
    {
     "name": "stdout",
     "output_type": "stream",
     "text": [
      "24.009117629338277\n"
     ]
    }
   ],
   "source": [
    "confidence_level = 0.95  # Desired confidence level (e.g., 0.95 for a 95% confidence interval)\n",
    "alpha = 1 - confidence_level  # Significance level (e.g., 0.05 for a 95% confidence interval)\n",
    "\n",
    "def z_crit(alpha, two_sided=True): # two sided critical value, change for 1-alfa for one sided\n",
    "    if two_sided:\n",
    "        return stats.norm.ppf(1- alpha/2)\n",
    "    else:\n",
    "        return stats.norm.ppf(1-alpha)\n",
    "    \n",
    "Z0 = z_crit(alpha)\n",
    "## Formula from the book on Sample Size for Specified Error on the Mean, Variance Known\n",
    "variance = 1\n",
    "error = 0.4\n",
    "n = (Z0*variance/error)**2\n",
    "print(n)"
   ]
  },
  {
   "attachments": {},
   "cell_type": "markdown",
   "metadata": {},
   "source": [
    "## Exercise 9"
   ]
  },
  {
   "cell_type": "code",
   "execution_count": 38,
   "metadata": {},
   "outputs": [
    {
     "data": {
      "text/html": [
       "<img src=\"../images/Screenshot 2023-06-04 at 22.35.27.png\" width=\"1200\" height=\"200\" class=\"unconfined\"/>"
      ],
      "text/plain": [
       "<IPython.core.display.Image object>"
      ]
     },
     "metadata": {},
     "output_type": "display_data"
    }
   ],
   "source": [
    "display(Image(url='../images/Screenshot 2023-06-04 at 22.35.27.png', width=1200, height=200,unconfined=True))"
   ]
  },
  {
   "cell_type": "code",
   "execution_count": 99,
   "metadata": {},
   "outputs": [
    {
     "data": {
      "image/png": "[encoded data removed]",
      "text/latex": [
       "$\\displaystyle \\left[ \\frac{1}{26}\\right]$"
      ],
      "text/plain": [
       "[1/26]"
      ]
     },
     "metadata": {},
     "output_type": "display_data"
    }
   ],
   "source": [
    "x,y,c = sp.symbols('x,y,c')\n",
    "\n",
    "f_x_y = c*x*y\n",
    "\n",
    "# S1: this is in between y = x+1 and y = 3-x\n",
    "s_1 = sp.integrate( sp.integrate(f_x_y, (y,3-x,x+1)), (x,1,2))\n",
    "# S2: this is in between y = x -1 and y = x+1\n",
    "s_2 = sp.integrate( sp.integrate(f_x_y, (y,x-1,x+1)), (x,2,3))\n",
    "# S3: this is in between y = x-1 and y = 7-x\n",
    "s_3 = sp.integrate( sp.integrate(f_x_y, (y,x-1,7-x)), (x,3,4))\n",
    "\n",
    "## sum all the surfaces and solve the ecuation\n",
    "\n",
    "display(sp.solve(s_1 + s_2 + s_3 - 1,c))"
   ]
  },
  {
   "attachments": {},
   "cell_type": "markdown",
   "metadata": {},
   "source": [
    "## Exercise 10"
   ]
  },
  {
   "cell_type": "code",
   "execution_count": 64,
   "metadata": {},
   "outputs": [
    {
     "data": {
      "text/html": [
       "<img src=\"../images/Screenshot 2023-06-05 at 10.05.08.png\" width=\"1200\" height=\"400\" class=\"unconfined\"/>"
      ],
      "text/plain": [
       "<IPython.core.display.Image object>"
      ]
     },
     "metadata": {},
     "output_type": "display_data"
    }
   ],
   "source": [
    "display(Image(url='../images/Screenshot 2023-06-05 at 10.05.08.png', width=1200, height=400,unconfined=True))"
   ]
  },
  {
   "cell_type": "code",
   "execution_count": 111,
   "metadata": {},
   "outputs": [
    {
     "data": {
      "image/png": "[encoded data removed]",
      "text/latex": [
       "$\\displaystyle \\frac{\\frac{x^{2}}{2} + \\frac{2 y}{3}}{\\frac{x^{2}}{2} + \\frac{1}{3}}$"
      ],
      "text/plain": [
       " 2      \n",
       "x    2⋅y\n",
       "── + ───\n",
       "2     3 \n",
       "────────\n",
       "  2     \n",
       " x    1 \n",
       " ── + ─ \n",
       " 2    3 "
      ]
     },
     "metadata": {},
     "output_type": "display_data"
    },
    {
     "data": {
      "image/png": "[encoded data removed]",
      "text/latex": [
       "$\\displaystyle \\frac{3 x^{2}}{6 x^{2} + 4} + \\frac{4}{9 x^{2} + 6}$"
      ],
      "text/plain": [
       "     2             \n",
       "  3⋅x         4    \n",
       "──────── + ────────\n",
       "   2          2    \n",
       "6⋅x  + 4   9⋅x  + 6"
      ]
     },
     "metadata": {},
     "output_type": "display_data"
    },
    {
     "data": {
      "image/png": "[encoded data removed]",
      "text/latex": [
       "$\\displaystyle \\frac{2}{3}$"
      ],
      "text/plain": [
       "2/3"
      ]
     },
     "metadata": {},
     "output_type": "display_data"
    }
   ],
   "source": [
    "x,y = symbols('x y')\n",
    "\n",
    "f_x_y = R(1,2)*x**2 + R(2,3)*y \n",
    "\n",
    "## calc the func first then the other stuff then the expected value\n",
    "f_y_given_x = f_x_y / sp.integrate(f_x_y,(y,0,1))\n",
    "\n",
    "display(f_y_given_x)\n",
    "\n",
    "## expected value\n",
    "e_y_given_x = y * f_y_given_x\n",
    "result = sp.integrate(e_y_given_x, (y,0,1))\n",
    "display(result)\n",
    "\n",
    "## replace x=0 and integrate the expected value, an alternative\n",
    "display(sp.integrate(y * 2*y, (y,0,1)))\n"
   ]
  },
  {
   "attachments": {},
   "cell_type": "markdown",
   "metadata": {},
   "source": [
    "## Exercise 11"
   ]
  },
  {
   "cell_type": "code",
   "execution_count": 74,
   "metadata": {},
   "outputs": [
    {
     "data": {
      "text/html": [
       "<img src=\"../images/Screenshot 2023-06-05 at 10.58.55.png\" width=\"1200\" height=\"400\" class=\"unconfined\"/>"
      ],
      "text/plain": [
       "<IPython.core.display.Image object>"
      ]
     },
     "metadata": {},
     "output_type": "display_data"
    }
   ],
   "source": [
    "display(Image(url='../images/Screenshot 2023-06-05 at 10.58.55.png', width=1200, height=400,unconfined=True))"
   ]
  },
  {
   "cell_type": "code",
   "execution_count": 88,
   "metadata": {},
   "outputs": [
    {
     "name": "stdout",
     "output_type": "stream",
     "text": [
      "13.333333333333334\n"
     ]
    },
    {
     "data": {
      "text/latex": [
       "$\\displaystyle P(X \\geq 5) = 0.28$"
      ],
      "text/plain": [
       "<IPython.core.display.Math object>"
      ]
     },
     "metadata": {},
     "output_type": "display_data"
    }
   ],
   "source": [
    "## negative binomial / no of trials until n successes\n",
    "n=4 ## no of successes\n",
    "p=0.3 ## prob of being at traffic light\n",
    "\n",
    "negative_binomial = n/p\n",
    "print(negative_binomial) ## 40/3\n",
    "\n",
    "\n",
    "## binomial distribution\n",
    "x = 9 ##no of successes, we will put 6 since we include 5 as well\n",
    "n =  15 ## no of trials\n",
    "p = 1 - p ## probability since it is bigger \n",
    "\n",
    "display(Math(\"P(X \\geq 5) = \" + repr(round(binom.cdf(x, n, p), 2))))\n"
   ]
  },
  {
   "attachments": {},
   "cell_type": "markdown",
   "metadata": {},
   "source": [
    "## Exercise 12"
   ]
  },
  {
   "cell_type": "code",
   "execution_count": 121,
   "metadata": {},
   "outputs": [
    {
     "data": {
      "text/html": [
       "<img src=\"../images/Screenshot 2023-06-07 at 20.31.31.png\" width=\"1200\" height=\"400\" class=\"unconfined\"/>"
      ],
      "text/plain": [
       "<IPython.core.display.Image object>"
      ]
     },
     "metadata": {},
     "output_type": "display_data"
    }
   ],
   "source": [
    "display(Image(url='../images/Screenshot 2023-06-07 at 20.31.31.png', width=1200, height=400,unconfined=True))"
   ]
  },
  {
   "cell_type": "code",
   "execution_count": 124,
   "metadata": {},
   "outputs": [
    {
     "data": {
      "text/latex": [
       "$\\displaystyle \\mu_x = 0.617$"
      ],
      "text/plain": [
       "<IPython.core.display.Math object>"
      ]
     },
     "metadata": {},
     "output_type": "display_data"
    },
    {
     "data": {
      "text/latex": [
       "$\\displaystyle \\mu_y = 7.101$"
      ],
      "text/plain": [
       "<IPython.core.display.Math object>"
      ]
     },
     "metadata": {},
     "output_type": "display_data"
    },
    {
     "data": {
      "text/latex": [
       "$\\displaystyle Sxy = 3.3825$"
      ],
      "text/plain": [
       "<IPython.core.display.Math object>"
      ]
     },
     "metadata": {},
     "output_type": "display_data"
    },
    {
     "data": {
      "text/latex": [
       "$\\displaystyle Sxx = 0.8677$"
      ],
      "text/plain": [
       "<IPython.core.display.Math object>"
      ]
     },
     "metadata": {},
     "output_type": "display_data"
    },
    {
     "data": {
      "text/latex": [
       "$\\displaystyle \\beta_1 = 3.8984$"
      ],
      "text/plain": [
       "<IPython.core.display.Math object>"
      ]
     },
     "metadata": {},
     "output_type": "display_data"
    },
    {
     "data": {
      "text/latex": [
       "$\\displaystyle \\beta_0 = 4.6968$"
      ],
      "text/plain": [
       "<IPython.core.display.Math object>"
      ]
     },
     "metadata": {},
     "output_type": "display_data"
    }
   ],
   "source": [
    "x = np.array([0.93, 0.47, 0.26, 0.16, 0.74, 0.93, 0.36, 0.48, 0.49, 0.84, 0.77, 0.97])\n",
    "y = np.array([8.56, 5.98, 6.83, 5.26, 7.51, 8.41, 6.72, 6.82, 5.14, 7.56, 6.64, 9.78])\n",
    "\n",
    "sample_size_x = np.size(x)\n",
    "\n",
    "## 2: means\n",
    "x_mean =np.mean(x)\n",
    "y_mean = np.mean(y)\n",
    "\n",
    "display(Math( '\\mu_x = '+ latex(round(x_mean,3))))\n",
    "display(Math( '\\mu_y = '+ latex(round(y_mean,3))))\n",
    "\n",
    "## 1: Sx'es \n",
    "Sxy = np.sum(x*y) - sample_size_x*x_mean*y_mean\n",
    "Sxx = np.sum(x*x) - ((np.sum(x)**2))/sample_size_x\n",
    "display(Math( 'Sxy = '+ latex(round(Sxy,4))))\n",
    "display(Math( 'Sxx = '+ latex(round(Sxx,4))))\n",
    "\n",
    "## 3: betas\n",
    "b1 = Sxy/Sxx\n",
    "b0 = y_mean - b1*x_mean\n",
    "\n",
    "display(Math( '\\\\beta_1 = '+ latex(round(b1,4))))\n",
    "display(Math( '\\\\beta_0 = '+ latex(round(b0,4))))\n",
    "\n"
   ]
  },
  {
   "cell_type": "code",
   "execution_count": 123,
   "metadata": {},
   "outputs": [
    {
     "data": {
      "text/html": [
       "<img src=\"../images/Screenshot 2023-06-07 at 20.31.41.png\" width=\"1200\" height=\"200\" class=\"unconfined\"/>"
      ],
      "text/plain": [
       "<IPython.core.display.Image object>"
      ]
     },
     "metadata": {},
     "output_type": "display_data"
    }
   ],
   "source": [
    "display(Image(url='../images/Screenshot 2023-06-07 at 20.31.41.png', width=1200, height=200,unconfined=True))"
   ]
  },
  {
   "cell_type": "code",
   "execution_count": 125,
   "metadata": {},
   "outputs": [
    {
     "data": {
      "image/png": "[encoded data removed]",
      "text/latex": [
       "$\\displaystyle 1.867$"
      ],
      "text/plain": [
       "1.867"
      ]
     },
     "metadata": {},
     "output_type": "display_data"
    },
    {
     "data": {
      "image/png": "[encoded data removed]",
      "text/latex": [
       "$\\displaystyle 5.9298$"
      ],
      "text/plain": [
       "5.9298"
      ]
     },
     "metadata": {},
     "output_type": "display_data"
    }
   ],
   "source": [
    "level = 0.95\n",
    "t_score = stats.t.ppf(((1-level)/2),(sample_size_x-2))\n",
    "\n",
    "# regression function\n",
    "def f(x):\n",
    "    return b1*x + b0\n",
    "\n",
    "y_hat = f(x)\n",
    "\n",
    "SSe = np.sum((y-y_hat)**2)    # residual sum of squares (unexplained deviation)\n",
    "varhat = SSe/(sample_size_x-2)           # variance of x\n",
    "\n",
    "ErrorSlope = t_score*math.sqrt((varhat/Sxx))\n",
    "display(round(round(b1,4)-abs(ErrorSlope), 4), round(round(b1,4) + abs(ErrorSlope), 4))"
   ]
  }
 ],
 "metadata": {
  "kernelspec": {
   "display_name": "Python 3",
   "language": "python",
   "name": "python3"
  },
  "language_info": {
   "codemirror_mode": {
    "name": "ipython",
    "version": 3
   },
   "file_extension": ".py",
   "mimetype": "text/x-python",
   "name": "python",
   "nbconvert_exporter": "python",
   "pygments_lexer": "ipython3",
   "version": "3.11.3"
  },
  "orig_nbformat": 4
 },
 "nbformat": 4,
 "nbformat_minor": 2
}
