{
 "cells": [
  {
   "cell_type": "code",
   "execution_count": 1,
   "metadata": {},
   "outputs": [],
   "source": [
    "from scipy import stats\n",
    "from scipy.stats import norm\n",
    "from scipy.stats import t\n",
    "from scipy.stats import binom\n",
    "from scipy.stats import geom\n",
    "from scipy.stats import hypergeom\n",
    "from scipy.stats import poisson\n",
    "from scipy.stats import nbinom\n",
    "import pandas as pd\n",
    "import numpy as np\n",
    "import sympy as sp\n",
    "from sympy import *\n",
    "sp.init_printing()\n",
    "import matplotlib.pyplot as plt\n",
    "import scipy.integrate as integrate\n",
    "import scipy.special as special\n",
    "from scipy.integrate import quad\n",
    "from fractions import Fraction\n",
    "import numpy as np\n",
    "from scipy.misc import derivative\n",
    "import math\n",
    "from math import *\n",
    "from fractions import Fraction\n",
    "import fractions\n",
    "from sympy import Rational as R\n",
    "from sympy import Matrix as M\n",
    "from IPython.display import display, Math, Latex\n",
    "%matplotlib inline\n",
    "from IPython.display import Image, HTML\n",
    "import statsmodels.stats.power as smp\n",
    "import statsmodels.api as sm\n"
   ]
  },
  {
   "attachments": {},
   "cell_type": "markdown",
   "metadata": {},
   "source": [
    "## Wiseflow Re-Exam 2021\n"
   ]
  },
  {
   "attachments": {},
   "cell_type": "markdown",
   "metadata": {},
   "source": [
    "## Exercise 1"
   ]
  },
  {
   "cell_type": "code",
   "execution_count": 5,
   "metadata": {},
   "outputs": [
    {
     "data": {
      "text/html": [
       "<img src=\"../images/Screenshot 2023-06-05 at 13.25.58.png\" width=\"1200\" height=\"300\" class=\"unconfined\"/>"
      ],
      "text/plain": [
       "<IPython.core.display.Image object>"
      ]
     },
     "metadata": {},
     "output_type": "display_data"
    }
   ],
   "source": [
    "display(Image(url='../images/Screenshot 2023-06-05 at 13.25.58.png', width=1200, height=300,unconfined=True))"
   ]
  },
  {
   "cell_type": "code",
   "execution_count": 21,
   "metadata": {},
   "outputs": [
    {
     "data": {
      "text/latex": [
       "$\\displaystyle f_x1 = 0.3$"
      ],
      "text/plain": [
       "<IPython.core.display.Math object>"
      ]
     },
     "metadata": {},
     "output_type": "display_data"
    },
    {
     "data": {
      "text/latex": [
       "$\\displaystyle f_x2 =0.23$"
      ],
      "text/plain": [
       "<IPython.core.display.Math object>"
      ]
     },
     "metadata": {},
     "output_type": "display_data"
    },
    {
     "data": {
      "text/latex": [
       "$\\displaystyle f_x3 = 0.47$"
      ],
      "text/plain": [
       "<IPython.core.display.Math object>"
      ]
     },
     "metadata": {},
     "output_type": "display_data"
    },
    {
     "data": {
      "text/latex": [
       "$\\displaystyle f_y1 = 0.37$"
      ],
      "text/plain": [
       "<IPython.core.display.Math object>"
      ]
     },
     "metadata": {},
     "output_type": "display_data"
    },
    {
     "data": {
      "text/latex": [
       "$\\displaystyle f_y2 =0.35$"
      ],
      "text/plain": [
       "<IPython.core.display.Math object>"
      ]
     },
     "metadata": {},
     "output_type": "display_data"
    },
    {
     "data": {
      "text/latex": [
       "$\\displaystyle f_y3 = 0.28$"
      ],
      "text/plain": [
       "<IPython.core.display.Math object>"
      ]
     },
     "metadata": {},
     "output_type": "display_data"
    },
    {
     "data": {
      "text/latex": [
       "$\\displaystyle E(X) = 4.34$"
      ],
      "text/plain": [
       "<IPython.core.display.Math object>"
      ]
     },
     "metadata": {},
     "output_type": "display_data"
    },
    {
     "data": {
      "text/latex": [
       "$\\displaystyle P(X=4 | Y=8 ) = 0.29$"
      ],
      "text/plain": [
       "<IPython.core.display.Math object>"
      ]
     },
     "metadata": {},
     "output_type": "display_data"
    },
    {
     "data": {
      "text/latex": [
       "$\\displaystyle P(X=2 or Y=8 ) = 0.53$"
      ],
      "text/plain": [
       "<IPython.core.display.Math object>"
      ]
     },
     "metadata": {},
     "output_type": "display_data"
    },
    {
     "data": {
      "text/latex": [
       "$\\displaystyle Cov(X,Y) = 1.162399999999998$"
      ],
      "text/plain": [
       "<IPython.core.display.Math object>"
      ]
     },
     "metadata": {},
     "output_type": "display_data"
    }
   ],
   "source": [
    "## a \n",
    "fx_1 = 0.15 + 0.10 +0.05 \n",
    "fx_2 = 0.10 + 0.05 + 0.08 \n",
    "fx_3 = 0.12 +0.20 +0.15\n",
    "display(Math(r'f_x1 = '+ '%s' % (round(fx_1,4))))\n",
    "display(Math(r'f_x2 ='+ '%s' % (round(fx_2,4))))\n",
    "display(Math(r'f_x3 = '+ '%s' % (round(fx_3,4))))\n",
    "\n",
    "fy_1 = 0.15 + 0.10 +0.12 \n",
    "fy_2 = 0.10 + 0.05 + 0.20\n",
    "fy_3 = 0.05 +0.08 + 0.15\n",
    "display(Math(r'f_y1 = '+ '%s' % (round(fy_1,4))))\n",
    "display(Math(r'f_y2 ='+ '%s' % (round(fy_2,4))))\n",
    "display(Math(r'f_y3 = '+ '%s' % (round(fy_3,4))))\n",
    "\n",
    "ex = (2 * fx_1) + (4 * fx_2) + (6*fx_3)\n",
    "display(Math(r'E(X) = '+ '%s' % (ex)))\n",
    "\n",
    "## b\n",
    "p_x_intersect_y = 0.08\n",
    "p_y = 0.28\n",
    "\n",
    "p_1 = p_x_intersect_y/p_y\n",
    "display(Math(r'P(X=4 | Y=8 ) = '+ '%s' % (round(p_1,2))))\n",
    "\n",
    "px = 0.15 + 0.10 + 0.05\n",
    "py = 0.05 + 0.08 + 0.15 \n",
    "p_x_intersect_y = 0.05\n",
    "p_2 = px + py - p_x_intersect_y\n",
    "display(Math(r'P(X=2 or Y=8 ) = '+ '%s' % (p_2)))\n",
    "\n",
    "## c\n",
    "ex = (2 * fx_1) + (4 * fx_2) + (6*fx_3)\n",
    "ey = (0 * fy_1) + (4 * fy_2) + (8*fy_3)\n",
    "\n",
    "## not the best solution but it works \n",
    "exy = 2*0 *0.15 + 2*4 *0.10 + 2*8*0.05 + 4*0 *0.10 + 4*4 *0.05 + 4*8*0.08 + 6*0 *0.12 + 6*4 *0.20 + 6*8*0.15\n",
    "cov_x_y =  exy - ex*ey\n",
    "display(Math(r'Cov(X,Y) = '+ '%s' % (cov_x_y)))\n"
   ]
  },
  {
   "attachments": {},
   "cell_type": "markdown",
   "metadata": {},
   "source": [
    "## Exercise 3"
   ]
  },
  {
   "cell_type": "code",
   "execution_count": 23,
   "metadata": {},
   "outputs": [
    {
     "data": {
      "text/html": [
       "<img src=\"../images/Screenshot 2023-06-05 at 14.03.56.png\" width=\"1200\" height=\"200\" class=\"unconfined\"/>"
      ],
      "text/plain": [
       "<IPython.core.display.Image object>"
      ]
     },
     "metadata": {},
     "output_type": "display_data"
    }
   ],
   "source": [
    "display(Image(url='../images/Screenshot 2023-06-05 at 14.03.56.png', width=1200, height=200,unconfined=True))"
   ]
  },
  {
   "cell_type": "code",
   "execution_count": 37,
   "metadata": {},
   "outputs": [
    {
     "data": {
      "text/latex": [
       "$\\displaystyle P(X \\leq 3) = 0.18$"
      ],
      "text/plain": [
       "<IPython.core.display.Math object>"
      ]
     },
     "metadata": {},
     "output_type": "display_data"
    }
   ],
   "source": [
    "lambda_mean = 3000\n",
    "\n",
    "display(Math(\"P(X \\leq 3) = \" + repr(round(1- poisson.cdf(3050, lambda_mean), 2))))"
   ]
  },
  {
   "attachments": {},
   "cell_type": "markdown",
   "metadata": {},
   "source": [
    "## Exercise 4"
   ]
  },
  {
   "cell_type": "code",
   "execution_count": 40,
   "metadata": {},
   "outputs": [
    {
     "data": {
      "text/html": [
       "<img src=\"../images/Screenshot 2023-06-05 at 14.15.44.png\" width=\"1200\" height=\"200\" class=\"unconfined\"/>"
      ],
      "text/plain": [
       "<IPython.core.display.Image object>"
      ]
     },
     "metadata": {},
     "output_type": "display_data"
    }
   ],
   "source": [
    "display(Image(url='../images/Screenshot 2023-06-05 at 14.15.44.png', width=1200, height=200,unconfined=True))"
   ]
  },
  {
   "attachments": {},
   "cell_type": "markdown",
   "metadata": {},
   "source": [
    "Correlation coefficient: notation Rho = $\\rho$ </br>\n",
    "The correlation coefficient $\\rho_{XY}$ or  $\\rho(X,Y)$ is obtained by normalizing the covarriance. More specifically we use the standardized version of X and Y. </br>\n",
    "u = $\\frac{X-EX}{\\sigma_X}$ , v = $\\frac{Y-EY}{\\sigma_Y}$  </br>\n",
    "$\\rho$ = Cov(U,V)= Cov($\\frac{X-EX}{\\sigma_X}$,$\\frac{Y-EY}{\\sigma_Y}$)  </br>\n",
    "= Cov($\\frac{X}{\\sigma_X}$,$\\frac{Y}{\\sigma_Y}$) (property 4) </br>\n",
    "= $\\frac{Cov(X,Y) }{\\sigma_X*\\sigma_Y}$ (property 5) </br>"
   ]
  },
  {
   "cell_type": "code",
   "execution_count": 76,
   "metadata": {},
   "outputs": [
    {
     "name": "stdout",
     "output_type": "stream",
     "text": [
      "0.7071067811865475\n"
     ]
    }
   ],
   "source": [
    "# cov(Z,W) = cov(7+X+Y, 1+Y)= Cov(X+Y,Y)= Cov(X,Y) + Cov(Y,Y)= Var(Y) = 1\n",
    "\n",
    "# Var(W) = Var(1+Y) = Var(Y) = 1 = o^2\n",
    "\n",
    "# Var(Z) = Var(7+Y+X) = Var(Y)+ Var(X) + 2Cov(X,Y)= 1 + 1 + 2*0 = 2 = o^2\n",
    "\n",
    "result = 1 / np.sqrt(2) * np.sqrt(1)\n",
    "print(result)"
   ]
  },
  {
   "attachments": {},
   "cell_type": "markdown",
   "metadata": {},
   "source": [
    "## Exercise 5"
   ]
  },
  {
   "cell_type": "code",
   "execution_count": 43,
   "metadata": {},
   "outputs": [
    {
     "data": {
      "text/html": [
       "<img src=\"../images/Screenshot 2023-06-05 at 14.41.26.png\" width=\"1200\" height=\"400\" class=\"unconfined\"/>"
      ],
      "text/plain": [
       "<IPython.core.display.Image object>"
      ]
     },
     "metadata": {},
     "output_type": "display_data"
    }
   ],
   "source": [
    "display(Image(url='../images/Screenshot 2023-06-05 at 14.41.26.png', width=1200, height=400,unconfined=True))"
   ]
  },
  {
   "cell_type": "code",
   "execution_count": null,
   "metadata": {},
   "outputs": [],
   "source": []
  },
  {
   "attachments": {},
   "cell_type": "markdown",
   "metadata": {},
   "source": [
    "## Exercise 8"
   ]
  },
  {
   "cell_type": "code",
   "execution_count": 75,
   "metadata": {},
   "outputs": [
    {
     "data": {
      "text/html": [
       "<img src=\"../images/Screenshot 2023-06-05 at 15.45.25.png\" width=\"1200\" height=\"200\" class=\"unconfined\"/>"
      ],
      "text/plain": [
       "<IPython.core.display.Image object>"
      ]
     },
     "metadata": {},
     "output_type": "display_data"
    }
   ],
   "source": [
    "display(Image(url='../images/Screenshot 2023-06-05 at 15.45.25.png', width=1200, height=200,unconfined=True))"
   ]
  },
  {
   "cell_type": "code",
   "execution_count": 78,
   "metadata": {},
   "outputs": [
    {
     "data": {
      "text/html": [
       "<img src=\"../images/Screenshot 2023-06-05 at 15.55.17.png\" width=\"1200\" height=\"500\" class=\"unconfined\"/>"
      ],
      "text/plain": [
       "<IPython.core.display.Image object>"
      ]
     },
     "metadata": {},
     "output_type": "display_data"
    }
   ],
   "source": [
    "## a \n",
    "display(Image(url='../images/Screenshot 2023-06-05 at 15.55.17.png', width=1200, height=500,unconfined=True))\n"
   ]
  },
  {
   "cell_type": "code",
   "execution_count": 120,
   "metadata": {},
   "outputs": [
    {
     "data": {
      "text/latex": [
       "$\\displaystyle t_{\\frac{0.01}{2},19}=2.9467$"
      ],
      "text/plain": [
       "<IPython.core.display.Math object>"
      ]
     },
     "metadata": {},
     "output_type": "display_data"
    },
    {
     "data": {
      "text/latex": [
       "$\\displaystyle t_{0}=-2.9314$"
      ],
      "text/plain": [
       "<IPython.core.display.Math object>"
      ]
     },
     "metadata": {},
     "output_type": "display_data"
    }
   ],
   "source": [
    "## a\n",
    "a =[ 1.78, 1.82, 1.81, 1.78, 1.81, 1.79, 1.77, 1.73, \n",
    "    1.80, 1.88, 1.83, 1.67, 1.71, 1.83, 1.90, 1.84]\n",
    "\n",
    "sample_size = len(a)\n",
    "\n",
    "ddof = sample_size-1\n",
    "## when variance unknown provide degree of freedom \n",
    "sample_standard_deviation = np.std(a, ddof=1)## small s\n",
    "level_of_confidence = 0.99\n",
    "alpha = 0.01\n",
    "sample_mean = np.mean(a)\n",
    "hypothesis_mean = 1.84\n",
    "\n",
    "SE = sample_standard_deviation/np.sqrt(sample_size)\n",
    "\n",
    "def t_crit(alpha, ddof, two_sided=True): # two sided critical value, change for 1-alfa for one sided\n",
    "    if two_sided:\n",
    "        return stats.t.ppf(1-alpha/2,ddof)\n",
    "    else:\n",
    "        return stats.t.ppf(1-alpha,ddof) \n",
    "    \n",
    "t_crit_ddof = t_crit(alpha,ddof)\n",
    "display(Math('t_{\\\\frac{0.01}{2},19}='+latex(round(t_crit_ddof,4))))\n",
    "\n",
    "test_statistic_hypothesis = (sample_mean-hypothesis_mean)/( sample_standard_deviation/np.sqrt(sample_size))\n",
    "display(Math( 't_{0}='+ latex(round(test_statistic_hypothesis,4))))\n",
    "\n"
   ]
  },
  {
   "cell_type": "code",
   "execution_count": 121,
   "metadata": {},
   "outputs": [
    {
     "name": "stdout",
     "output_type": "stream",
     "text": [
      "2.1314\n"
     ]
    },
    {
     "data": {
      "image/png": "[encoded data removed]",
      "text/latex": [
       "$\\displaystyle 1.7655$"
      ],
      "text/plain": [
       "1.7655"
      ]
     },
     "metadata": {},
     "output_type": "display_data"
    },
    {
     "data": {
      "image/png": "[encoded data removed]",
      "text/latex": [
       "$\\displaystyle 1.8282$"
      ],
      "text/plain": [
       "1.8282"
      ]
     },
     "metadata": {},
     "output_type": "display_data"
    }
   ],
   "source": [
    "a =[ 1.78, 1.82, 1.81, 1.78, 1.81, 1.79, 1.77, 1.73, \n",
    "    1.80, 1.88, 1.83, 1.67, 1.71, 1.83, 1.90, 1.84]\n",
    "\n",
    "sample_size = len(a)\n",
    "alpha = 0.05\n",
    "sample_mean = np.mean(a)\n",
    "\n",
    "## b. Setup a 95% confidence interval for the mean height.\n",
    "## Standard error\n",
    "\n",
    "def t_crit(alpha, ddof, two_sided=True): # two sided critical value, change for 1-alfa for one sided\n",
    "    if two_sided:\n",
    "        return stats.t.ppf(1-alpha/2,ddof)\n",
    "    else:\n",
    "        return stats.t.ppf(1-alpha,ddof) \n",
    "    \n",
    "t_crit_ddof = t_crit(alpha,ddof)\n",
    "\n",
    "sample_standard_deviation = np.std(a, ddof=1)\n",
    "\n",
    "\n",
    "CI_lower = sample_mean - abs(t_crit_ddof) * sample_standard_deviation / np.sqrt(sample_size)\n",
    "CI_upper = sample_mean + abs(t_crit_ddof) * sample_standard_deviation / np.sqrt(sample_size)\n",
    "\n",
    "print(abs(round(t_crit_ddof,4)))\n",
    "\n",
    "display( round(CI_lower,4))\n",
    "display( round(CI_upper,4))"
   ]
  },
  {
   "attachments": {},
   "cell_type": "markdown",
   "metadata": {},
   "source": [
    "## Exercise 9"
   ]
  },
  {
   "cell_type": "code",
   "execution_count": 125,
   "metadata": {},
   "outputs": [
    {
     "data": {
      "text/html": [
       "<img src=\"../images/Screenshot 2023-06-05 at 18.38.31.png\" width=\"1200\" height=\"200\" class=\"unconfined\"/>"
      ],
      "text/plain": [
       "<IPython.core.display.Image object>"
      ]
     },
     "metadata": {},
     "output_type": "display_data"
    }
   ],
   "source": [
    "display(Image(url='../images/Screenshot 2023-06-05 at 18.38.31.png', width=1200, height=200,unconfined=True))"
   ]
  },
  {
   "cell_type": "code",
   "execution_count": 127,
   "metadata": {},
   "outputs": [
    {
     "name": "stdout",
     "output_type": "stream",
     "text": [
      "68\n"
     ]
    }
   ],
   "source": [
    "confidence_level = 0.90  # Desired confidence level (e.g., 0.95 for a 95% confidence interval)\n",
    "alpha = 1 - confidence_level  # Significance level (e.g., 0.05 for a 95% confidence interval)\n",
    "\n",
    "def z_crit(alpha, two_sided=True): # two sided critical value, change for 1-alfa for one sided\n",
    "    if two_sided:\n",
    "        return stats.norm.ppf(1- alpha/2)\n",
    "    else:\n",
    "        return stats.norm.ppf(1-alpha)\n",
    "    \n",
    "Z0 = z_crit(alpha)\n",
    "## Formula from the book on Sample Size for Specified Error on the Mean, Variance Known\n",
    "variance = 1\n",
    "error = 0.2\n",
    "n = (Z0*variance/error)**2\n",
    "print(round(n))"
   ]
  },
  {
   "attachments": {},
   "cell_type": "markdown",
   "metadata": {},
   "source": [
    "## Exercise 10"
   ]
  },
  {
   "cell_type": "code",
   "execution_count": 129,
   "metadata": {},
   "outputs": [
    {
     "data": {
      "text/html": [
       "<img src=\"../images/Screenshot 2023-06-05 at 18.45.23.png\" width=\"1200\" height=\"400\" class=\"unconfined\"/>"
      ],
      "text/plain": [
       "<IPython.core.display.Image object>"
      ]
     },
     "metadata": {},
     "output_type": "display_data"
    }
   ],
   "source": [
    "display(Image(url='../images/Screenshot 2023-06-05 at 18.45.23.png', width=1200, height=400,unconfined=True))"
   ]
  },
  {
   "cell_type": "code",
   "execution_count": 144,
   "metadata": {},
   "outputs": [
    {
     "data": {
      "image/png": "[encoded data removed]",
      "text/latex": [
       "$\\displaystyle \\frac{\\frac{x^{2}}{4} + \\frac{x y}{6} + \\frac{y^{2}}{4}}{\\frac{y^{2}}{4} + \\frac{y}{12} + \\frac{1}{12}}$"
      ],
      "text/plain": [
       " 2          2\n",
       "x    x⋅y   y \n",
       "── + ─── + ──\n",
       "4     6    4 \n",
       "─────────────\n",
       "  2          \n",
       " y    y    1 \n",
       " ── + ── + ──\n",
       " 4    12   12"
      ]
     },
     "metadata": {},
     "output_type": "display_data"
    },
    {
     "data": {
      "image/png": "[encoded data removed]",
      "text/latex": [
       "$\\displaystyle \\frac{1.5 y^{2}}{3 y^{2} + y + 1} + \\frac{0.25 y}{3 y^{2} + y + 1} + \\frac{0.125}{3 y^{2} + y + 1}$"
      ],
      "text/plain": [
       "        2                                 \n",
       "   1.5⋅y          0.25⋅y         0.125    \n",
       "──────────── + ──────────── + ────────────\n",
       "   2              2              2        \n",
       "3⋅y  + y + 1   3⋅y  + y + 1   3⋅y  + y + 1"
      ]
     },
     "metadata": {},
     "output_type": "display_data"
    },
    {
     "data": {
      "image/png": "[encoded data removed]",
      "text/latex": [
       "$\\displaystyle \\frac{3}{8}$"
      ],
      "text/plain": [
       "3/8"
      ]
     },
     "metadata": {},
     "output_type": "display_data"
    }
   ],
   "source": [
    "## a \n",
    "x,y = sp.symbols('x,y ')\n",
    "\n",
    "f_x_y =  R(1,4)*x**2 + R(1,4)*y**2 + R(1,6)*x*y\n",
    "\n",
    "## calc the func first then the other stuff then the expected value\n",
    "f_x_given_y = f_x_y / sp.integrate(f_x_y,(x,0,1))\n",
    "\n",
    "display(f_x_given_y)\n",
    "\n",
    "y = 1\n",
    "\n",
    "res = sp.integrate(f_x_given_y,(x,0,1/2))\n",
    "display(res)\n",
    "\n",
    "## replaced the y with 1\n",
    "res2 = R(1.5,5) + R(0.25,5) + R(0.125,5)\n",
    "display(res2)"
   ]
  },
  {
   "cell_type": "code",
   "execution_count": 139,
   "metadata": {},
   "outputs": [
    {
     "data": {
      "image/png": "[encoded data removed]",
      "text/latex": [
       "$\\displaystyle \\frac{\\frac{x^{2}}{4} + \\frac{x y}{6} + \\frac{y^{2}}{4}}{\\frac{y^{2}}{4} + \\frac{y}{12} + \\frac{1}{12}}$"
      ],
      "text/plain": [
       " 2          2\n",
       "x    x⋅y   y \n",
       "── + ─── + ──\n",
       "4     6    4 \n",
       "─────────────\n",
       "  2          \n",
       " y    y    1 \n",
       " ── + ── + ──\n",
       " 4    12   12"
      ]
     },
     "metadata": {},
     "output_type": "display_data"
    },
    {
     "data": {
      "image/png": "[encoded data removed]",
      "text/latex": [
       "$\\displaystyle \\frac{3 y^{2}}{6 y^{2} + 2 y + 2} + \\frac{2 y}{9 y^{2} + 3 y + 3} + \\frac{3}{12 y^{2} + 4 y + 4}$"
      ],
      "text/plain": [
       "        2                                        \n",
       "     3⋅y              2⋅y                3       \n",
       "────────────── + ────────────── + ───────────────\n",
       "   2                2                 2          \n",
       "6⋅y  + 2⋅y + 2   9⋅y  + 3⋅y + 3   12⋅y  + 4⋅y + 4"
      ]
     },
     "metadata": {},
     "output_type": "display_data"
    },
    {
     "name": "stdout",
     "output_type": "stream",
     "text": [
      "7/12\n"
     ]
    }
   ],
   "source": [
    "x,y = symbols('x y')\n",
    "\n",
    "f_x_y =  R(1,4)*x**2 + R(1,4)*y**2 + R(1,6)*x*y\n",
    "\n",
    "## calc the func first then the other stuff then the expected value\n",
    "f_y_given_x = f_x_y / sp.integrate(f_x_y,(x,0,1))\n",
    "\n",
    "display(f_y_given_x)\n",
    "\n",
    "## expected value\n",
    "e_y_given_x = x * f_y_given_x\n",
    "result = sp.integrate(e_y_given_x, (x,0,1))\n",
    "display(result)\n",
    "\n",
    "## replaced y with 1 \n",
    "res = R(3,10) +R(2,15) +R(3,20)\n",
    "print(res)\n"
   ]
  }
 ],
 "metadata": {
  "kernelspec": {
   "display_name": "Python 3",
   "language": "python",
   "name": "python3"
  },
  "language_info": {
   "codemirror_mode": {
    "name": "ipython",
    "version": 3
   },
   "file_extension": ".py",
   "mimetype": "text/x-python",
   "name": "python",
   "nbconvert_exporter": "python",
   "pygments_lexer": "ipython3",
   "version": "3.11.3"
  },
  "orig_nbformat": 4
 },
 "nbformat": 4,
 "nbformat_minor": 2
}
