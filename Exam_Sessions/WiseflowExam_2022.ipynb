{
 "cells": [
  {
   "cell_type": "code",
   "execution_count": 134,
   "metadata": {},
   "outputs": [],
   "source": [
    "from scipy import stats\n",
    "from scipy.stats import norm\n",
    "from scipy.stats import t\n",
    "from scipy.stats import binom\n",
    "from scipy.stats import geom\n",
    "from scipy.stats import hypergeom\n",
    "from scipy.stats import poisson\n",
    "from scipy.stats import nbinom\n",
    "import pandas as pd\n",
    "import numpy as np\n",
    "import sympy as sp\n",
    "from sympy import *\n",
    "sp.init_printing()\n",
    "import matplotlib.pyplot as plt\n",
    "import scipy.integrate as integrate\n",
    "import scipy.special as special\n",
    "from scipy.integrate import quad\n",
    "from fractions import Fraction\n",
    "import numpy as np\n",
    "from scipy.misc import derivative\n",
    "import math\n",
    "from math import *\n",
    "from fractions import Fraction\n",
    "import fractions\n",
    "from sympy import Rational as R\n",
    "from sympy import Matrix as M\n",
    "from IPython.display import display, Math, Latex\n",
    "%matplotlib inline\n",
    "from IPython.display import Image, HTML\n",
    "import statsmodels.stats.power as smp\n",
    "import statsmodels.api as sm"
   ]
  },
  {
   "cell_type": "code",
   "execution_count": 33,
   "metadata": {},
   "outputs": [],
   "source": [
    "# Let us create a UDF which will enable us to shade areas under the curve for standardnormal distribution\n",
    "\n",
    "def draw_z_score(x, cond, mu, sigma, title):\n",
    "    y = norm.pdf(x, mu, sigma)\n",
    "    z = x[cond]\n",
    "    plt.plot(x, y)\n",
    "    plt.ticklabel_format(style='plain', useOffset=False, axis='x')\n",
    "    plt.yticks([])\n",
    "    plt.fill_between(z, norm.pdf(z, mu, sigma))\n",
    "    plt.title(title)\n",
    "    plt.show()"
   ]
  },
  {
   "cell_type": "code",
   "execution_count": 34,
   "metadata": {},
   "outputs": [],
   "source": [
    "# Let us create a UDF which will enable us to shade areas under the curve for t-distribution\n",
    "\n",
    "def draw_t_score(x, df, cond, mu, sigma, title):\n",
    "    y = t.pdf(x, df, mu, sigma)\n",
    "    t = x[cond]\n",
    "    plt.plot(x, y)\n",
    "    plt.ticklabel_format(style='plain', useOffset=False, axis='x')\n",
    "    plt.yticks([])\n",
    "    plt.fill_between(t, t.pdf(t, df, mu, sigma))\n",
    "    plt.title(title)\n",
    "    plt.show()"
   ]
  },
  {
   "attachments": {},
   "cell_type": "markdown",
   "metadata": {},
   "source": [
    "## Exercise 1"
   ]
  },
  {
   "cell_type": "code",
   "execution_count": 2,
   "metadata": {},
   "outputs": [
    {
     "data": {
      "text/html": [
       "<img src=\"../images/Screenshot 2023-06-06 at 18.44.07.png\" width=\"1200\" height=\"400\" class=\"unconfined\"/>"
      ],
      "text/plain": [
       "<IPython.core.display.Image object>"
      ]
     },
     "metadata": {},
     "output_type": "display_data"
    }
   ],
   "source": [
    "display(Image(url='../images/Screenshot 2023-06-06 at 18.44.07.png', width=1200, height=400,unconfined=True))"
   ]
  },
  {
   "cell_type": "code",
   "execution_count": 4,
   "metadata": {},
   "outputs": [
    {
     "name": "stdout",
     "output_type": "stream",
     "text": [
      "0.8\n",
      "0.6100000000000001\n"
     ]
    }
   ],
   "source": [
    "## a \n",
    "## P(X>0) = P(X=1)+P(X=2)\n",
    "p_x= 0.3 + 0.5\n",
    "print(p_x)\n",
    "x = [0, 1, 2]\n",
    "p = [0.2, 0.3, 0.5]\n",
    "\n",
    "mean = sum(x_i * p_i for x_i, p_i in zip(x, p))\n",
    "\n",
    "squared_diffs = [(x_i - mean) ** 2 for x_i in x]\n",
    "weighted_squared_diffs = [diff * p_i for diff, p_i in zip(squared_diffs, p)]\n",
    "variance = sum(weighted_squared_diffs)\n",
    "\n",
    "print(variance)\n"
   ]
  },
  {
   "cell_type": "code",
   "execution_count": 7,
   "metadata": {},
   "outputs": [
    {
     "name": "stdout",
     "output_type": "stream",
     "text": [
      "0.15\n",
      "0.85\n"
     ]
    }
   ],
   "source": [
    "## b\n",
    "## P(X < 2, X > 1) = P(X=0) + P(X=1) * P(Y=2)\n",
    "p = 0.5 * 0.3\n",
    "print(p)\n",
    "\n",
    "px= 0.2 + 0.3\n",
    "py= 0.3 + 0.4\n",
    "\n",
    "## P(X < 2 or X > 1) = (P(X=0) + P(X=1)) - ( P(X=0) + P(X=1)) * P(Y=0) + P(XY=1) )\n",
    "p_x_y= px + py -( px * py)\n",
    "print(p_x_y)\n",
    "\n"
   ]
  },
  {
   "attachments": {},
   "cell_type": "markdown",
   "metadata": {},
   "source": [
    "## Formula </br>\n",
    "Cov(X,Y) = E[XY] - EX - EY </br>\n",
    "Cov(2X−5Y,7X+4Y+1) = E[(2X - 5Y)(7X + 4Y + 1)] - E[2X - 5Y]E[7X + 4Y + 1]"
   ]
  },
  {
   "cell_type": "code",
   "execution_count": 123,
   "metadata": {},
   "outputs": [
    {
     "data": {
      "text/html": [
       "<img src=\"../images/Screenshot 2023-06-07 at 14.40.06.png\" width=\"1200\" height=\"400\" class=\"unconfined\"/>"
      ],
      "text/plain": [
       "<IPython.core.display.Image object>"
      ]
     },
     "metadata": {},
     "output_type": "display_data"
    }
   ],
   "source": [
    "display(Image(url='../images/Screenshot 2023-06-07 at 14.40.06.png', width=1200, height=400,unconfined=True))"
   ]
  },
  {
   "attachments": {},
   "cell_type": "markdown",
   "metadata": {},
   "source": [
    "## Exercise 2"
   ]
  },
  {
   "cell_type": "code",
   "execution_count": 15,
   "metadata": {},
   "outputs": [
    {
     "data": {
      "text/html": [
       "<img src=\"../images/Screenshot 2023-06-06 at 20.37.27.png\" width=\"1200\" height=\"400\" class=\"unconfined\"/>"
      ],
      "text/plain": [
       "<IPython.core.display.Image object>"
      ]
     },
     "metadata": {},
     "output_type": "display_data"
    }
   ],
   "source": [
    "display(Image(url='../images/Screenshot 2023-06-06 at 20.37.27.png', width=1200, height=400,unconfined=True))"
   ]
  },
  {
   "cell_type": "code",
   "execution_count": 19,
   "metadata": {},
   "outputs": [
    {
     "data": {
      "image/png": "[encoded data removed]",
      "text/latex": [
       "$\\displaystyle \\frac{5}{12}$"
      ],
      "text/plain": [
       "5/12"
      ]
     },
     "metadata": {},
     "output_type": "display_data"
    },
    {
     "data": {
      "image/png": "[encoded data removed]",
      "text/latex": [
       "$\\displaystyle \\frac{1}{3}$"
      ],
      "text/plain": [
       "1/3"
      ]
     },
     "metadata": {},
     "output_type": "display_data"
    }
   ],
   "source": [
    "x,y = sp.symbols('x,y ')\n",
    "\n",
    "f_x_y =2*(x+y)\n",
    "ey = y*f_x_y\n",
    "\n",
    "res = sp.integrate(ey, (y,0,x), (x,0,1))\n",
    "display(res)\n",
    "\n",
    "## aplying LOTUS\n",
    "lotus_func = f_x_y * x * y\n",
    "res = sp.integrate(lotus_func, (y,0,x), (x,0,1))\n",
    "display(res)\n"
   ]
  },
  {
   "attachments": {},
   "cell_type": "markdown",
   "metadata": {},
   "source": [
    "## Exercise 3"
   ]
  },
  {
   "cell_type": "code",
   "execution_count": 132,
   "metadata": {},
   "outputs": [
    {
     "data": {
      "text/html": [
       "<img src=\"../images/Screenshot 2023-06-06 at 21.05.15.png\" width=\"1200\" height=\"400\" class=\"unconfined\"/>"
      ],
      "text/plain": [
       "<IPython.core.display.Image object>"
      ]
     },
     "metadata": {},
     "output_type": "display_data"
    }
   ],
   "source": [
    "display(Image(url='../images/Screenshot 2023-06-06 at 21.05.15.png', width=1200, height=400,unconfined=True))"
   ]
  },
  {
   "cell_type": "code",
   "execution_count": 121,
   "metadata": {},
   "outputs": [
    {
     "data": {
      "image/png": "[encoded data removed]",
      "text/latex": [
       "$\\displaystyle 3.0$"
      ],
      "text/plain": [
       "3.00000000000000"
      ]
     },
     "metadata": {},
     "output_type": "display_data"
    },
    {
     "data": {
      "image/png": "[encoded data removed]",
      "text/latex": [
       "$\\displaystyle 1.0 - 1.0 \\cdot 2.71828182845905^{- \\frac{3 \\log{\\left(y \\right)}}{2}}$"
      ],
      "text/plain": [
       "                      -3⋅log(y) \n",
       "                      ──────────\n",
       "                          2     \n",
       "1.0 - 2.71828182845905          "
      ]
     },
     "metadata": {},
     "output_type": "display_data"
    },
    {
     "data": {
      "image/png": "[encoded data removed]",
      "text/latex": [
       "$\\displaystyle \\frac{1.5}{y^{2.5}}$"
      ],
      "text/plain": [
       "     -2.5\n",
       "1.5⋅y    "
      ]
     },
     "metadata": {},
     "output_type": "display_data"
    }
   ],
   "source": [
    "## a \n",
    "## g(x) = e**(2x)\n",
    "## f(x) = 3*e**(-3*x) = >  pdf of exponential, in our case with lambda = 3\n",
    "\n",
    "## apply LOTUS = > integral(g(x)*f(x),(x,0,oo)) =>\n",
    "\n",
    "g_x= e**(2*x)\n",
    "f_x = 3*e**(-3*x)\n",
    "\n",
    "result = sp.integrate(g_x*f_x,  (x,0, sp.oo))\n",
    "display(result)\n",
    "\n",
    "## b \n",
    "## Always start with CDF first:\n",
    "# P(Y<y) = P(e**(2*x)<y)/*ln = P(2X< ln y) = P(X < (ln y)/2) = integral(fx, (x, 0, (ln y)/2)\n",
    "\n",
    "F_y = sp.integrate(f_x,(x,0, sp.ln(y)*R(1,2)))\n",
    "display(F_y)\n",
    "## there is a property that the e to the power of ln cancel's out\n",
    "F_y = 1- y**(-3/2)\n",
    "f_y = sp.diff(F_y)\n",
    "display(f_y)"
   ]
  },
  {
   "attachments": {},
   "cell_type": "markdown",
   "metadata": {},
   "source": [
    "## Exercise 4"
   ]
  },
  {
   "cell_type": "code",
   "execution_count": 131,
   "metadata": {},
   "outputs": [
    {
     "data": {
      "text/html": [
       "<img src=\"../images/Screenshot 2023-06-07 at 22.05.19.png\" width=\"1200\" height=\"400\" class=\"unconfined\"/>"
      ],
      "text/plain": [
       "<IPython.core.display.Image object>"
      ]
     },
     "metadata": {},
     "output_type": "display_data"
    }
   ],
   "source": [
    "display(Image(url='../images/Screenshot 2023-06-07 at 22.05.19.png', width=1200, height=400,unconfined=True))"
   ]
  },
  {
   "cell_type": "code",
   "execution_count": 142,
   "metadata": {},
   "outputs": [
    {
     "data": {
      "text/latex": [
       "$\\displaystyle \\left[\\begin{matrix}0.09 & 0.29 & 0.62\\\\0 & 0.28 & 0.72\\\\0 & 0.24 & 0.76\\end{matrix}\\right]$"
      ],
      "text/plain": [
       "⎡0.09  0.29  0.62⎤\n",
       "⎢                ⎥\n",
       "⎢ 0    0.28  0.72⎥\n",
       "⎢                ⎥\n",
       "⎣ 0    0.24  0.76⎦"
      ]
     },
     "metadata": {},
     "output_type": "display_data"
    },
    {
     "name": "stdout",
     "output_type": "stream",
     "text": [
      "0.620000000000000\n"
     ]
    }
   ],
   "source": [
    "P_transaction_matrix = M([[0.3,0.3,0.4],\n",
    "                            [0 ,0.4,0.6],\n",
    "                            [0 ,0.2,0.8]])\n",
    "second_gen_matrix = P_transaction_matrix**2\n",
    "\n",
    "display(second_gen_matrix)\n",
    "\n",
    "print(second_gen_matrix.row(0)[2])"
   ]
  },
  {
   "cell_type": "code",
   "execution_count": 149,
   "metadata": {},
   "outputs": [
    {
     "data": {
      "image/png": "[encoded data removed]",
      "text/latex": [
       "$\\displaystyle 0.375$"
      ],
      "text/plain": [
       "0.375"
      ]
     },
     "metadata": {},
     "output_type": "display_data"
    },
    {
     "data": {
      "image/png": "[encoded data removed]",
      "text/latex": [
       "$\\displaystyle 0.297$"
      ],
      "text/plain": [
       "0.297"
      ]
     },
     "metadata": {},
     "output_type": "display_data"
    },
    {
     "data": {
      "image/png": "[encoded data removed]",
      "text/latex": [
       "$\\displaystyle 0.328$"
      ],
      "text/plain": [
       "0.328"
      ]
     },
     "metadata": {},
     "output_type": "display_data"
    }
   ],
   "source": [
    "## b \n",
    "P_power_0 = M([[-R(7,10), 0,R(8,10),0],\n",
    "                [R(3,10),-R(6,10),R(2,10),0],\n",
    "                [R(4,10),R(6,10),-1,0],\n",
    "                [1,1,1,1]])\n",
    "\n",
    "pi = P_power_0.rref()[0][:, -1].T\n",
    "display(round(pi[0],3))\n",
    "display(round(pi[1],3))\n",
    "display(round(pi[2],3))\n"
   ]
  },
  {
   "attachments": {},
   "cell_type": "markdown",
   "metadata": {},
   "source": [
    "## Exercise 5"
   ]
  },
  {
   "cell_type": "code",
   "execution_count": 32,
   "metadata": {},
   "outputs": [
    {
     "data": {
      "text/html": [
       "<img src=\"../images/Screenshot 2023-06-07 at 10.45.36.png\" width=\"1200\" height=\"200\" class=\"unconfined\"/>"
      ],
      "text/plain": [
       "<IPython.core.display.Image object>"
      ]
     },
     "metadata": {},
     "output_type": "display_data"
    },
    {
     "data": {
      "text/html": [
       "<img src=\"../images/Screenshot 2023-06-07 at 10.45.42.png\" width=\"1200\" height=\"200\" class=\"unconfined\"/>"
      ],
      "text/plain": [
       "<IPython.core.display.Image object>"
      ]
     },
     "metadata": {},
     "output_type": "display_data"
    }
   ],
   "source": [
    "display(Image(url='../images/Screenshot 2023-06-07 at 10.45.36.png', width=1200, height=200,unconfined=True))\n",
    "\n",
    "display(Image(url='../images/Screenshot 2023-06-07 at 10.45.42.png', width=1200, height=200,unconfined=True))"
   ]
  },
  {
   "attachments": {},
   "cell_type": "markdown",
   "metadata": {},
   "source": [
    "Two sided CI formula </br>\n",
    "Upper: $\\overline{x}$ + $z_{1- \\frac{\\alpha}{2}}$ *  $\\frac{\\sigma}{\\sqrt{n}}$ </br>\n",
    "Lower: $\\overline{x}$ - $z_{1- \\frac{\\alpha}{2}}$ *  $\\frac{\\sigma}{\\sqrt{n}}$ \n",
    "\n",
    "99%: $z_{1- \\frac{\\alpha}{2}}$ = 2.58 </br>\n",
    "\n",
    "Upper: 74.036 + 2.58 *  $\\frac{0.001}{\\sqrt{15}}$ </br>\n",
    "Lower: 74.036 - 2.58 *  $\\frac{0.001}{\\sqrt{15}}$ </br>\n",
    "\n",
    "74.036 - 2.58 *  $\\frac{0.001}{\\sqrt{15}}$ $\\leq$ $\\mu$ $\\leq$ 74.036 + 2.58 *  $\\frac{0.001}{\\sqrt{15}}$"
   ]
  },
  {
   "cell_type": "code",
   "execution_count": 38,
   "metadata": {},
   "outputs": [
    {
     "name": "stdout",
     "output_type": "stream",
     "text": [
      "A 90.0 % confidence interval for the sample mean is [0.5051 ; 0.5749]\n"
     ]
    },
    {
     "data": {
      "image/png": "[encoded data removed]",
      "text/plain": [
       "<Figure size 640x480 with 1 Axes>"
      ]
     },
     "metadata": {},
     "output_type": "display_data"
    }
   ],
   "source": [
    "## b\n",
    "level_of_confidence = 0.90\n",
    "\n",
    "sample_mean = 0.54\n",
    "sample_variance = 0.45\n",
    "sample_size = 1000\n",
    "\n",
    "sample_standard_deviation = np.sqrt(sample_variance)\n",
    "\n",
    "SE = sample_standard_deviation/np.sqrt(sample_size)\n",
    "\n",
    "CI = norm.interval(level_of_confidence, loc=sample_mean, scale=SE)\n",
    "\n",
    "print('A ' + repr(level_of_confidence*100) + ' % confidence interval for the sample mean is [' + repr(round(CI[0],4)) + ' ; '\n",
    "      + repr(round(CI[1],4)) + ']')\n",
    "\n",
    "x = np.linspace(sample_mean-4*SE, sample_mean+4*SE, 1000)\n",
    "\n",
    "draw_z_score(x, (CI[0] <= x) & (x <= CI[1]), sample_mean, SE, '99 % CI')"
   ]
  },
  {
   "cell_type": "code",
   "execution_count": 42,
   "metadata": {},
   "outputs": [
    {
     "data": {
      "image/png": "[encoded data removed]",
      "text/latex": [
       "$\\displaystyle 2.5758293035489$"
      ],
      "text/plain": [
       "2.5758293035489004"
      ]
     },
     "metadata": {},
     "output_type": "display_data"
    },
    {
     "data": {
      "text/latex": [
       "$\\displaystyle t_{0}=1.8856$"
      ],
      "text/plain": [
       "<IPython.core.display.Math object>"
      ]
     },
     "metadata": {},
     "output_type": "display_data"
    },
    {
     "data": {
      "text/latex": [
       "$\\displaystyle P-value=0.059346$"
      ],
      "text/plain": [
       "<IPython.core.display.Math object>"
      ]
     },
     "metadata": {},
     "output_type": "display_data"
    },
    {
     "name": "stdout",
     "output_type": "stream",
     "text": [
      "Fail to reject since 0.05934643879191963 > 0.01\n"
     ]
    }
   ],
   "source": [
    "\n",
    "sample_mean = 0.54\n",
    "alpha = 0.01\n",
    "sample_size = 1000\n",
    "hypothesis_mean = 1/2\n",
    "\n",
    "sample_standard_deviation = np.sqrt(sample_variance)\n",
    "\n",
    "def z_crit(alpha, two_sided=True): # two sided critical value, change for 1-alfa for one sided\n",
    "    if two_sided:\n",
    "        return stats.norm.ppf(1- alpha/2)\n",
    "    else:\n",
    "        return stats.norm.ppf(1-alpha)\n",
    "    \n",
    "display(z_crit(alpha))\n",
    "\n",
    "test_statistic_hypothesis = (sample_mean-hypothesis_mean)/( sample_standard_deviation/np.sqrt(sample_size))\n",
    "display(Math( 't_{0}='+ latex(round(test_statistic_hypothesis,4))))\n",
    "\n",
    "## two sided test, for one sided remove the multplication to 2\n",
    "p_value = 2*norm.sf(np.abs(test_statistic_hypothesis))\n",
    "display(Math( 'P-value='+ latex(round(p_value,6))))\n",
    "\n",
    "if p_value < alpha:\n",
    "    print(\"Reject since \" + repr(p_value) + ' < ' + repr(alpha))\n",
    "else:\n",
    "    print(\"Fail to reject since \" + repr(p_value) + ' > ' + repr(alpha))"
   ]
  },
  {
   "attachments": {},
   "cell_type": "markdown",
   "metadata": {},
   "source": [
    "## Exercise 6"
   ]
  },
  {
   "cell_type": "code",
   "execution_count": 43,
   "metadata": {},
   "outputs": [
    {
     "data": {
      "text/html": [
       "<img src=\"../images/Screenshot 2023-06-07 at 11.10.28.png\" width=\"1200\" height=\"200\" class=\"unconfined\"/>"
      ],
      "text/plain": [
       "<IPython.core.display.Image object>"
      ]
     },
     "metadata": {},
     "output_type": "display_data"
    }
   ],
   "source": [
    "display(Image(url='../images/Screenshot 2023-06-07 at 11.10.28.png', width=1200, height=200,unconfined=True))"
   ]
  },
  {
   "cell_type": "code",
   "execution_count": 50,
   "metadata": {},
   "outputs": [
    {
     "data": {
      "text/latex": [
       "$\\displaystyle P(X \\geq 5) = 0.0526$"
      ],
      "text/plain": [
       "<IPython.core.display.Math object>"
      ]
     },
     "metadata": {},
     "output_type": "display_data"
    }
   ],
   "source": [
    "n = 20000\n",
    "p = (1/100)/100\n",
    "\n",
    "display(Math(\"P(X \\geq 5) = \" + repr(round(1-binom.cdf(4, n, p), 4))))\n",
    "\n"
   ]
  },
  {
   "attachments": {},
   "cell_type": "markdown",
   "metadata": {},
   "source": [
    "## Exercise 7"
   ]
  },
  {
   "cell_type": "code",
   "execution_count": 52,
   "metadata": {},
   "outputs": [
    {
     "data": {
      "text/html": [
       "<img src=\"../images/Screenshot 2023-06-07 at 11.27.26.png\" width=\"1200\" height=\"400\" class=\"unconfined\"/>"
      ],
      "text/plain": [
       "<IPython.core.display.Image object>"
      ]
     },
     "metadata": {},
     "output_type": "display_data"
    }
   ],
   "source": [
    "display(Image(url='../images/Screenshot 2023-06-07 at 11.27.26.png', width=1200, height=400,unconfined=True))"
   ]
  },
  {
   "cell_type": "code",
   "execution_count": 128,
   "metadata": {},
   "outputs": [
    {
     "data": {
      "image/png": "[encoded data removed]",
      "text/latex": [
       "$\\displaystyle 0.275$"
      ],
      "text/plain": [
       "0.275"
      ]
     },
     "metadata": {},
     "output_type": "display_data"
    },
    {
     "data": {
      "image/png": "[encoded data removed]",
      "text/latex": [
       "$\\displaystyle 3.6902$"
      ],
      "text/plain": [
       "3.6902"
      ]
     },
     "metadata": {},
     "output_type": "display_data"
    }
   ],
   "source": [
    "y = np.array([122, 132, 145, 161, 178 , 190 ])\n",
    "x = np.array([8,10,12,14,16,18])\n",
    "\n",
    "sample_size_x = np.size(x)\n",
    "\n",
    "x_mean =np.mean(x)\n",
    "y_mean = np.mean(y)\n",
    "\n",
    "Sxy = np.sum(x*y) - sample_size_x*x_mean*y_mean\n",
    "Sxx = np.sum(x*x) - ((np.sum(x)**2))/sample_size_x\n",
    "\n",
    "b1 = Sxy/Sxx\n",
    "b0 = y_mean - b1*x_mean\n",
    "\n",
    "\n",
    "# regression function\n",
    "def f(x):\n",
    "    return b1*x + b0\n",
    "\n",
    "y_hat = f(x)\n",
    "\n",
    "SSe = np.sum((y-y_hat)**2)\n",
    "\n",
    "var_hat = SSe/(sample_size_x-2)\n",
    "\n",
    "sb1 = np.sqrt(var_hat/Sxx)\n",
    "\n",
    "sb0 = math.sqrt(var_hat*(1/sample_size_x + x_mean**2 / Sxx))\n",
    "\n",
    "display (round(sb1, 3), round(sb0, 4) )\n"
   ]
  },
  {
   "cell_type": "code",
   "execution_count": 130,
   "metadata": {},
   "outputs": [
    {
     "data": {
      "image/png": "[encoded data removed]",
      "text/latex": [
       "$\\displaystyle 98$"
      ],
      "text/plain": [
       "98"
      ]
     },
     "metadata": {},
     "output_type": "display_data"
    }
   ],
   "source": [
    "## b\n",
    "\n",
    "y = np.array([122, 132, 145, 161, 178 , 190 ])\n",
    "x = np.array([8,10,12,14,16,18])\n",
    "\n",
    "sample_size_x = np.size(x)\n",
    "\n",
    "x_mean =np.mean(x)\n",
    "y_mean = np.mean(y)\n",
    "\n",
    "Sxy = np.sum(x*y) - sample_size_x*x_mean*y_mean\n",
    "Sxx = np.sum(x*x) - ((np.sum(x)**2))/sample_size_x\n",
    "\n",
    "b1 = Sxy/Sxx\n",
    "b0 = y_mean - b1*x_mean\n",
    "\n",
    "\n",
    "# regression function\n",
    "def f(x):\n",
    "    return b1*x + b0\n",
    "\n",
    "display(round(f(5)))"
   ]
  },
  {
   "attachments": {},
   "cell_type": "markdown",
   "metadata": {},
   "source": [
    "## Exercise 8"
   ]
  },
  {
   "cell_type": "code",
   "execution_count": 59,
   "metadata": {},
   "outputs": [
    {
     "data": {
      "text/html": [
       "<img src=\"../images/Screenshot 2023-06-07 at 11.29.20.png\" width=\"1200\" height=\"150\" class=\"unconfined\"/>"
      ],
      "text/plain": [
       "<IPython.core.display.Image object>"
      ]
     },
     "metadata": {},
     "output_type": "display_data"
    },
    {
     "data": {
      "text/html": [
       "<img src=\"../images/Screenshot 2023-06-07 at 11.43.13.png\" width=\"1200\" height=\"250\" class=\"unconfined\"/>"
      ],
      "text/plain": [
       "<IPython.core.display.Image object>"
      ]
     },
     "metadata": {},
     "output_type": "display_data"
    }
   ],
   "source": [
    "display(Image(url='../images/Screenshot 2023-06-07 at 11.29.20.png', width=1200, height=150,unconfined=True))\n",
    "\n",
    "display(Image(url='../images/Screenshot 2023-06-07 at 11.43.13.png', width=1200, height=250,unconfined=True))"
   ]
  },
  {
   "cell_type": "code",
   "execution_count": 79,
   "metadata": {},
   "outputs": [
    {
     "name": "stdout",
     "output_type": "stream",
     "text": [
      "2.787416666666663\n",
      "0.010223424815879234\n"
     ]
    }
   ],
   "source": [
    "\n",
    "## Always remember to check if the true variance and mean is given !!!!!!!!\n",
    "sample_size = 25\n",
    "ddof = sample_size - 1\n",
    "\n",
    "sample_mean = 310\n",
    "sample_standard_deviation = 6 \n",
    "lower_confindence_mean = 306.6551\n",
    "upper_confindence_mean = 313.3449\n",
    "\n",
    "t_0 = (upper_confindence_mean - sample_mean)/ (sample_standard_deviation/np.sqrt(sample_size))\n",
    "print(t_0)\n",
    "CI = t.cdf(t_0,ddof)\n",
    "\n",
    "alpha = 2*(1-CI)\n",
    "print(alpha)"
   ]
  },
  {
   "attachments": {},
   "cell_type": "markdown",
   "metadata": {},
   "source": [
    "## Exercise 9"
   ]
  },
  {
   "cell_type": "code",
   "execution_count": 80,
   "metadata": {},
   "outputs": [
    {
     "data": {
      "text/html": [
       "<img src=\"../images/Screenshot 2023-06-07 at 12.40.30.png\" width=\"1200\" height=\"250\" class=\"unconfined\"/>"
      ],
      "text/plain": [
       "<IPython.core.display.Image object>"
      ]
     },
     "metadata": {},
     "output_type": "display_data"
    }
   ],
   "source": [
    "display(Image(url='../images/Screenshot 2023-06-07 at 12.40.30.png', width=1200, height=250,unconfined=True))"
   ]
  },
  {
   "cell_type": "code",
   "execution_count": 87,
   "metadata": {},
   "outputs": [
    {
     "data": {
      "image/png": "[encoded data removed]",
      "text/latex": [
       "$\\displaystyle \\frac{2}{5}$"
      ],
      "text/plain": [
       "2/5"
      ]
     },
     "metadata": {},
     "output_type": "display_data"
    }
   ],
   "source": [
    "x,y = sp.symbols('x y ')\n",
    "fxy = 8*x*y\n",
    "\n",
    "## P(Y< 1/2 | X > 1/2) \n",
    "p_x_intersect_y = sp.integrate(fxy, (y,0, R(1,2)),(x,R(1,2),1))\n",
    "px = sp.integrate(fxy, (y,0, x),(x,R(1,2),1))\n",
    "\n",
    "result = p_x_intersect_y/px\n",
    "\n",
    "display(result)"
   ]
  },
  {
   "attachments": {},
   "cell_type": "markdown",
   "metadata": {},
   "source": [
    "## Exercise 10"
   ]
  },
  {
   "cell_type": "code",
   "execution_count": 89,
   "metadata": {},
   "outputs": [
    {
     "data": {
      "text/html": [
       "<img src=\"../images/Screenshot 2023-06-07 at 12.54.22.png\" width=\"1200\" height=\"400\" class=\"unconfined\"/>"
      ],
      "text/plain": [
       "<IPython.core.display.Image object>"
      ]
     },
     "metadata": {},
     "output_type": "display_data"
    }
   ],
   "source": [
    "display(Image(url='../images/Screenshot 2023-06-07 at 12.54.22.png', width=1200, height=400,unconfined=True))"
   ]
  },
  {
   "cell_type": "code",
   "execution_count": 97,
   "metadata": {},
   "outputs": [
    {
     "data": {
      "image/png": "[encoded data removed]",
      "text/latex": [
       "$\\displaystyle 0.01$"
      ],
      "text/plain": [
       "0.01"
      ]
     },
     "metadata": {},
     "output_type": "display_data"
    }
   ],
   "source": [
    "## a prob team A does not score  and prob team A does not score\n",
    "## if the events are independent multiply\n",
    "time = 90\n",
    "\n",
    "l1 = 0.02 * 90\n",
    "l2 = 0.03 * 90\n",
    "\n",
    "p1 = poisson.pmf(0, l1)\n",
    "p2 = poisson.pmf(0, l2)\n",
    "\n",
    "p_and = p1 * p2 \n",
    "display(round(p_and,2))\n"
   ]
  },
  {
   "cell_type": "code",
   "execution_count": 99,
   "metadata": {},
   "outputs": [
    {
     "data": {
      "image/png": "[encoded data removed]",
      "text/latex": [
       "$\\displaystyle 0.94$"
      ],
      "text/plain": [
       "0.94"
      ]
     },
     "metadata": {},
     "output_type": "display_data"
    }
   ],
   "source": [
    "## b prob any of the team scores total_lambda. then prob > 2 \n",
    "## if the events are independent: AND multiply, OR: add\n",
    "\n",
    "time = 90\n",
    "\n",
    "l1 = 0.02 * 90\n",
    "l2 = 0.03 * 90\n",
    "\n",
    "total_lambda = l1+l2\n",
    "## use the trick with X >= 2 => 1 - X <= 2 \n",
    "result = 1 - poisson.cdf(1, total_lambda)\n",
    "\n",
    "display(round(result,2))"
   ]
  },
  {
   "cell_type": "code",
   "execution_count": 105,
   "metadata": {},
   "outputs": [
    {
     "data": {
      "image/png": "[encoded data removed]",
      "text/latex": [
       "$\\displaystyle 0.07$"
      ],
      "text/plain": [
       "0.07"
      ]
     },
     "metadata": {},
     "output_type": "display_data"
    }
   ],
   "source": [
    "## c p_and = p1 * p2\n",
    "## if the events are independent: AND multiply, OR: add\n",
    "\n",
    "time = 90\n",
    "\n",
    "l1 = 0.02 * time\n",
    "l2 = 0.03 * time\n",
    "\n",
    "p1 = poisson.pmf(1, l1)\n",
    "p2 = poisson.pmf(2, l2)\n",
    "\n",
    "result = p1* p2\n",
    "display(round(result,2))"
   ]
  }
 ],
 "metadata": {
  "kernelspec": {
   "display_name": "Python 3",
   "language": "python",
   "name": "python3"
  },
  "language_info": {
   "codemirror_mode": {
    "name": "ipython",
    "version": 3
   },
   "file_extension": ".py",
   "mimetype": "text/x-python",
   "name": "python",
   "nbconvert_exporter": "python",
   "pygments_lexer": "ipython3",
   "version": "3.11.3"
  },
  "orig_nbformat": 4
 },
 "nbformat": 4,
 "nbformat_minor": 2
}
