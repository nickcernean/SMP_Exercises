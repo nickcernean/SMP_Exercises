{
 "cells": [
  {
   "cell_type": "code",
   "execution_count": 1,
   "metadata": {},
   "outputs": [],
   "source": [
    "from scipy import stats\n",
    "from scipy.stats import norm\n",
    "from scipy.stats import t\n",
    "from scipy.stats import binom\n",
    "from scipy.stats import geom\n",
    "from scipy.stats import hypergeom\n",
    "from scipy.stats import poisson\n",
    "from scipy.stats import nbinom\n",
    "import pandas as pd\n",
    "import numpy as np\n",
    "import sympy as sp\n",
    "from sympy import *\n",
    "sp.init_printing()\n",
    "import matplotlib.pyplot as plt\n",
    "import scipy.integrate as integrate\n",
    "import scipy.special as special\n",
    "from scipy.integrate import quad\n",
    "from fractions import Fraction\n",
    "import numpy as np\n",
    "from scipy.misc import derivative\n",
    "import math\n",
    "from math import *\n",
    "from fractions import Fraction\n",
    "import fractions\n",
    "from sympy import Rational as R\n",
    "from sympy import Matrix as M\n",
    "from IPython.display import display, Math, Latex\n",
    "%matplotlib inline\n",
    "from IPython.display import Image, HTML\n",
    "import statsmodels.stats.power as smp\n",
    "import statsmodels.api as sm"
   ]
  },
  {
   "cell_type": "code",
   "execution_count": null,
   "metadata": {},
   "outputs": [],
   "source": [
    "\n",
    "## steps for stationary distribution\n",
    "P = Matrix([[R(7,10),R(2,10),R(1,10)],\n",
    "                [R(5,10),R(4,10),R(1,10)],\n",
    "                [R(6,10),R(2,10),R(2,10)]])\n",
    "## step 1 : transpose\n",
    "\n",
    "Xt = P.T \n",
    "\n",
    "## step 2-3-4-5 in one step \n",
    "\n",
    "\n",
    "## alternative, do by hand and at the end rrdef()\n",
    "\n",
    "## step 1: transpose \n",
    "## step 2: subtract 1 from diagonal\n",
    "## step 3: drop row n\n",
    "## step 4: Adding column of 0\n",
    "## step 5: adding row of ones.\n",
    "\n",
    "P_power_0 = M([[-R(3,10),R(5,10),R(6,10),0],\n",
    "                [R(2,10),-R(6,10),R(2,10),0],\n",
    "                [R(1,10),R(1,10),-R(8,10),0],\n",
    "                [1,1,1,1]])\n",
    "\n",
    "pi = P_power_0.rref()[0][:, -1].T\n",
    "\n",
    "\n",
    "P_power_0 = M([[-R(3,10),R(5,10),R(6,10),0],\n",
    "                [R(2,10),-R(6,10),R(2,10),0],\n",
    "                [R(1,10),R(1,10),-R(8,10),0],\n",
    "                [1,1,1,1]])\n",
    "\n",
    "pi = P_power_0.rref()[0][:, -1].T"
   ]
  }
 ],
 "metadata": {
  "kernelspec": {
   "display_name": "Python 3",
   "language": "python",
   "name": "python3"
  },
  "language_info": {
   "codemirror_mode": {
    "name": "ipython",
    "version": 3
   },
   "file_extension": ".py",
   "mimetype": "text/x-python",
   "name": "python",
   "nbconvert_exporter": "python",
   "pygments_lexer": "ipython3",
   "version": "3.11.3"
  },
  "orig_nbformat": 4
 },
 "nbformat": 4,
 "nbformat_minor": 2
}
