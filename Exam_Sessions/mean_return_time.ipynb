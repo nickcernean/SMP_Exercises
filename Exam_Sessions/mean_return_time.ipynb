{
 "cells": [
  {
   "cell_type": "code",
   "execution_count": 1,
   "metadata": {},
   "outputs": [
    {
     "data": {
      "text/latex": [
       "$\\displaystyle \\frac{8}{3}$"
      ],
      "text/plain": [
       "8/3"
      ]
     },
     "execution_count": 1,
     "metadata": {},
     "output_type": "execute_result"
    }
   ],
   "source": [
    "import sympy as sp\n",
    "from sympy import Rational as R\n",
    "# find mean returntime when starting in state 1 in current matrix\n",
    "P = sp.Matrix([\n",
    "    [R(1,4), R(1,2), R(1,4)],\n",
    "    [R(1,3), 0, R(2,3)],\n",
    "    [R(1,2), 0, R(1,2)],\n",
    "])\n",
    "\n",
    "t_1, t_2, t_3 = sp.symbols('t_1 t_2 t_3')\n",
    "\n",
    "# where we start and end\n",
    "t_1 = 0\n",
    "\n",
    "P_11 = P[0,0]\n",
    "P_12 = P[0,1]\n",
    "P_13 = P[0,2]\n",
    "\n",
    "P_21 = P[1,0]\n",
    "P_22 = P[1,1]\n",
    "P_23 = P[1,2]\n",
    "\n",
    "P_31 = P[2,0]\n",
    "P_32 = P[2,1]\n",
    "P_33 = P[2,2]\n",
    "\n",
    "# not interested in 1 since that is start and end\n",
    "#f1 = P_11 * t_1 + P_12 * t_2 + P_13 * t_3 + 1 - t_1\n",
    "f2 = P_21 * t_1 + P_22 * t_2 + P_23 * t_3 + 1 - t_2\n",
    "f3 = P_31 * t_1 + P_32 * t_2 + P_33 * t_3 + 1 - t_3\n",
    "\n",
    "# not interested in 1 since that is start and end\n",
    "result = sp.solve((f2, f3), (t_2, t_3))\n",
    "\n",
    "t_2 = result[t_2]\n",
    "t_3 = result[t_3]\n",
    "\n",
    "r_1 = 1 + P_11 * t_1 + P_12 * t_2 + P_13 * t_3\n",
    "r_1"
   ]
  }
 ],
 "metadata": {
  "kernelspec": {
   "display_name": "Python 3",
   "language": "python",
   "name": "python3"
  },
  "language_info": {
   "codemirror_mode": {
    "name": "ipython",
    "version": 3
   },
   "file_extension": ".py",
   "mimetype": "text/x-python",
   "name": "python",
   "nbconvert_exporter": "python",
   "pygments_lexer": "ipython3",
   "version": "3.11.3"
  },
  "orig_nbformat": 4
 },
 "nbformat": 4,
 "nbformat_minor": 2
}
