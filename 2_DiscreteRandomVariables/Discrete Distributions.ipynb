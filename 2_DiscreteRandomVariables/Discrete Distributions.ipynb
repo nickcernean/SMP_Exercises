{
 "cells": [
  {
   "cell_type": "code",
   "execution_count": 1,
   "metadata": {
    "init_cell": true
   },
   "outputs": [],
   "source": [
    "from IPython.display import Image, HTML\n",
    "from IPython.display import display, Math, Latex\n",
    "import fractions\n",
    "from fractions import Fraction\n",
    "from math import *\n",
    "import math\n",
    "from scipy.misc import derivative\n",
    "import numpy as np\n",
    "from scipy.integrate import quad\n",
    "import scipy.special as special\n",
    "import scipy.integrate as integrate\n",
    "import matplotlib.pyplot as plt\n",
    "from scipy.stats import binom\n",
    "from scipy.stats import geom\n",
    "from scipy.stats import hypergeom\n",
    "from scipy.stats import poisson\n",
    "from scipy.stats import nbinom\n",
    "import pandas as pd\n",
    "import sympy as sp\n",
    "from sympy import *\n",
    "sp.init_printing()\n",
    "%matplotlib inline\n"
   ]
  },
  {
   "attachments": {},
   "cell_type": "markdown",
   "metadata": {},
   "source": [
    "## Problems 2\n",
    "\n",
    "Exercise 1-6 are from the book. Exercise-reference to the book is supplied. This can be used to checkthe solutions which have been uploaded. Solutions to the rest of the exercises will be uploaded afterclass and will be made in Python (along with Python solutions to 1-6).\n"
   ]
  },
  {
   "attachments": {},
   "cell_type": "markdown",
   "metadata": {},
   "source": [
    "## Exercise 1\n",
    "\n",
    "\\*\\* A computer system uses passwords that are exactly six characters and each character is one ofthe 26 letters (a-–z) or 10 integers (0-–9). Suppose that 10,000 users of the system have unique passwords.A hacker randomly selects (with replacement) 100,000 passwords from the potential set, and a match toa user’s password is called a hit.\n"
   ]
  },
  {
   "attachments": {},
   "cell_type": "markdown",
   "metadata": {},
   "source": [
    "**a)** Let $X$ denote the number of user passwords selected by the hacker. Then $X$ follows a binomial distribution with\n"
   ]
  },
  {
   "cell_type": "code",
   "execution_count": 2,
   "metadata": {
    "init_cell": true
   },
   "outputs": [],
   "source": [
    "# Password = 6 characters\n",
    "# 1 character = 26 letters and 10 integers\n",
    "\n",
    "# Number of occurences: number of the users, successes(hits). 10.000\n",
    "# Number of possible cases: all characters to the power of the size the password 36^6\n",
    "# p= number of occurences/ number of all cases.\n",
    "\n",
    "n = 10**5\n",
    "p = (10**4)/(36**6)\n"
   ]
  },
  {
   "attachments": {},
   "cell_type": "markdown",
   "metadata": {},
   "source": [
    "**b)** What is the probability of no hits ?</br>\n",
    "$P(X=x)=\\begin{pmatrix}n\\cr x\\cr\\end{pmatrix}* p^x*(1-p)^{n-x}$\n"
   ]
  },
  {
   "cell_type": "code",
   "execution_count": 3,
   "metadata": {
    "init_cell": true
   },
   "outputs": [
    {
     "data": {
      "text/latex": [
       "$\\displaystyle P(X = 0) = 0.6317$"
      ],
      "text/plain": [
       "<IPython.core.display.Math object>"
      ]
     },
     "metadata": {},
     "output_type": "display_data"
    }
   ],
   "source": [
    "\n",
    "# no hits => success => x=0\n",
    "# Calculating probability at a specific time => PMF(Product Mass Function)\n",
    "x = 0\n",
    "\n",
    "prob = binom.pmf(x, n, p)\n",
    "\n",
    "display(Math(\"P(X = 0) = \" + repr(round(binom.pmf(0, n, p), 4))))\n"
   ]
  },
  {
   "attachments": {},
   "cell_type": "markdown",
   "metadata": {},
   "source": [
    "**c)** What are the mean and variance of the number of hits? </br>\n",
    "E(X)= $\\displaystyle\\sum_{X_K \\in R_x}^n X_k *P(X=X_K)$\n",
    "\n",
    "Var(X)=$ E[(X- \\mu _X)^2] = \\display style \\sum\\_{X_K \\in R_x}^n X_k^2 \\*P(X=X_K) - (E(x))^2 =$</br>\n",
    "$= E[X^2]-(E[X])^2$\n"
   ]
  },
  {
   "cell_type": "code",
   "execution_count": 4,
   "metadata": {
    "init_cell": true
   },
   "outputs": [
    {
     "data": {
      "text/latex": [
       "$\\displaystyle E(X) = 0.4594 \\quad and \\quad Var(X) = 0.4594$"
      ],
      "text/plain": [
       "<IPython.core.display.Math object>"
      ]
     },
     "metadata": {},
     "output_type": "display_data"
    }
   ],
   "source": [
    "Ex = binom.mean(n, p)\n",
    "Var = binom.var(n, p)\n",
    "\n",
    "display(Math(\"E(X) = \" + repr(round(Ex, 4)) +\n",
    "        \" \\quad and \\quad Var(X) = \" + repr(round(Var, 4))))\n"
   ]
  },
  {
   "attachments": {},
   "cell_type": "markdown",
   "metadata": {},
   "source": [
    "## Exercise 2\n",
    "\n",
    "(3.5.13) Because all airline passengers do not show up for their reserved seat, an airline sells 125 ticketsfor a flight that holds only 120 passengers. The probability that a passenger does not show up is 0.10,and the passengers behave independently\n"
   ]
  },
  {
   "attachments": {},
   "cell_type": "markdown",
   "metadata": {},
   "source": [
    "**a)** Let $X$ denote the number of passengers who do not show up. Then $X$ follows a binomial distribution with </br> $n = 125$ and $p = 0.1$\n"
   ]
  },
  {
   "cell_type": "code",
   "execution_count": 5,
   "metadata": {
    "init_cell": true
   },
   "outputs": [
    {
     "data": {
      "text/latex": [
       "$\\displaystyle P(X \\geq 5) = 0.9961$"
      ],
      "text/plain": [
       "<IPython.core.display.Math object>"
      ]
     },
     "metadata": {},
     "output_type": "display_data"
    }
   ],
   "source": [
    "# Number of all the tickets sold = 125\n",
    "# Calculating probability for a number of discrete points => CDF(Cumulative Distribution Function)\n",
    "# We are gointg to calculate 1-P(X>5) since we have to get rid of the values from 0 to 4\n",
    "# N.B specifying 4 in CDF python function, because we have >= and we have to take 5 as well.\n",
    "\n",
    "n = 125\n",
    "p = 0.1\n",
    "\n",
    "display(Math(\"P(X \\geq 5) = \" + repr(round(1-binom.cdf(4, n, p), 4))))\n"
   ]
  },
  {
   "attachments": {},
   "cell_type": "markdown",
   "metadata": {},
   "source": [
    "**b)** What is the probability that the flight departs with empty seats? </br>\n",
    "The logic here is that we calculate the prob of having at least one free seat, since the company has 120 available seats and selling 125 tickets, we have calculate $P( \\geq 6)$\n"
   ]
  },
  {
   "cell_type": "code",
   "execution_count": 6,
   "metadata": {
    "init_cell": true
   },
   "outputs": [
    {
     "data": {
      "text/latex": [
       "$\\displaystyle P(X \\geq 6) = 0.9886$"
      ],
      "text/plain": [
       "<IPython.core.display.Math object>"
      ]
     },
     "metadata": {},
     "output_type": "display_data"
    }
   ],
   "source": [
    "display(Math(\"P(X \\geq 6) = \" + repr(round(1-binom.cdf(5, n, p), 4))))\n"
   ]
  },
  {
   "attachments": {},
   "cell_type": "markdown",
   "metadata": {},
   "source": [
    "## Exercise 3\n",
    "\n",
    "(3.6.6) A player of a video game is confronted with a series of opponents and has an 80% probability ofdefeating each one. Success with any opponent is independent of previous encounters. Until defeated,the player continues to contest opponents </br>\n",
    "This is a GEOMETRIC DISTRIBUTION so the PMF formula </br>\n",
    "Let X define a number of trials until the first succes. </br>\n",
    "$P(X=x)=p^x*(1-p)^{n-x}$\n"
   ]
  },
  {
   "attachments": {},
   "cell_type": "markdown",
   "metadata": {},
   "source": [
    "**a)** Let $X$ denote the number of opponents until the player is defeated. Then $X$ follows a geometric distribution with $p=0.2$ and the following pmf:\n",
    "$f(x) = 0.8^{x-1} \\cdot 0.2$\n"
   ]
  },
  {
   "attachments": {},
   "cell_type": "markdown",
   "metadata": {
    "init_cell": true
   },
   "source": [
    "**b)** What is the probability that a player defeats at least two opponents in a game? </br>\n",
    "Calculate the probability of defeating 2 players and more $P(X>2)$\n"
   ]
  },
  {
   "cell_type": "code",
   "execution_count": 7,
   "metadata": {
    "collapsed": true,
    "init_cell": true
   },
   "outputs": [
    {
     "data": {
      "text/latex": [
       "$\\displaystyle P(X > 2) = 0.64$"
      ],
      "text/plain": [
       "<IPython.core.display.Math object>"
      ]
     },
     "metadata": {},
     "output_type": "display_data"
    }
   ],
   "source": [
    "p = 0.2\n",
    "display(Math(\"P(X > 2) = \" + repr(round(1-geom.cdf(2, p), 4))))\n"
   ]
  },
  {
   "attachments": {},
   "cell_type": "markdown",
   "metadata": {},
   "source": [
    "**c)** What is the expected number of opponents contested in a game? </br>\n",
    "As simple as that calculate the mean (expected value).\n"
   ]
  },
  {
   "cell_type": "code",
   "execution_count": 8,
   "metadata": {
    "init_cell": true
   },
   "outputs": [
    {
     "data": {
      "text/latex": [
       "$\\displaystyle E(X) = 5.0$"
      ],
      "text/plain": [
       "<IPython.core.display.Math object>"
      ]
     },
     "metadata": {},
     "output_type": "display_data"
    }
   ],
   "source": [
    "display(Math(\"E(X) = \" + repr(round(geom.mean(p), 4))))\n"
   ]
  },
  {
   "attachments": {},
   "cell_type": "markdown",
   "metadata": {},
   "source": [
    "**d)** What is the probability that a player contests four or more opponents in a game? </br>\n",
    "Here the logic is that the player, contested 4 and more, so $P(X \\geq 4)$\n"
   ]
  },
  {
   "cell_type": "code",
   "execution_count": 9,
   "metadata": {
    "init_cell": true
   },
   "outputs": [
    {
     "data": {
      "text/latex": [
       "$\\displaystyle P(X \\geq 4) = 0.512$"
      ],
      "text/plain": [
       "<IPython.core.display.Math object>"
      ]
     },
     "metadata": {},
     "output_type": "display_data"
    }
   ],
   "source": [
    "# using geo.sf (survival function)== 1-cdf\n",
    "display(Math(\"P(X \\geq 4) = \" + repr(round(geom.sf(3, p), 4))))\n"
   ]
  },
  {
   "attachments": {},
   "cell_type": "markdown",
   "metadata": {},
   "source": [
    "**e)** Let $Y$ denote the number of game plays until a player contests four or more opponents. Then $Y$ is a geometric RV with the following expected value: </br>\n",
    "So basically we are calculating the expected number of games until wee defeat a player will defeat 4 opponents => geometric distribution mean. </br>\n"
   ]
  },
  {
   "cell_type": "code",
   "execution_count": 10,
   "metadata": {
    "init_cell": true
   },
   "outputs": [
    {
     "data": {
      "text/latex": [
       "$\\displaystyle E(Y) = 1.9531$"
      ],
      "text/plain": [
       "<IPython.core.display.Math object>"
      ]
     },
     "metadata": {},
     "output_type": "display_data"
    },
    {
     "data": {
      "text/latex": [
       "So 2 games"
      ],
      "text/plain": [
       "<IPython.core.display.Latex object>"
      ]
     },
     "metadata": {},
     "output_type": "display_data"
    }
   ],
   "source": [
    "p2 = geom.sf(3, p)\n",
    "display(Math(\"E(Y) = \" + repr(round(geom.mean(p2), 4))))\n",
    "display(Latex(\"So 2 games\"))\n"
   ]
  },
  {
   "attachments": {},
   "cell_type": "markdown",
   "metadata": {},
   "source": [
    "## Exercise 4 (3.8.5) </br>\n",
    "\n",
    "Astronomers treat the number of stars in a given volume of space as a Poisson random variable.The density in the Milky Way Galaxy in the vicinity of our solar system is one star per 16 cubic light-years. So the distribution we are looking at is the Poisson distribution. $f(x) = P(X=x)=\\frac{\\lambda^{x} e^{-\\lambda}}{x !}$\n"
   ]
  },
  {
   "attachments": {},
   "cell_type": "markdown",
   "metadata": {},
   "source": [
    "**a)** Let $X$ denote the number stars in 16 cubic light years. Then $X$ is a poisson RV with $\\lambda = 1$ <br>\n",
    "In poisson distribution the the mean = $\\lambda $\n"
   ]
  },
  {
   "cell_type": "code",
   "execution_count": 11,
   "metadata": {
    "init_cell": true
   },
   "outputs": [
    {
     "data": {
      "text/latex": [
       "$\\displaystyle P(X \\geq 2) = 0.2642$"
      ],
      "text/plain": [
       "<IPython.core.display.Math object>"
      ]
     },
     "metadata": {},
     "output_type": "display_data"
    }
   ],
   "source": [
    "l = 1\n",
    "display(Math(\"P(X \\geq 2) = \" + repr(round(poisson.sf(1, l), 4))))\n"
   ]
  },
  {
   "attachments": {},
   "cell_type": "markdown",
   "metadata": {},
   "source": [
    "**b)** How many cubic light-years of space must be studied so that the probability of one or more starsexceeds 0.95? </br>\n"
   ]
  },
  {
   "attachments": {},
   "cell_type": "markdown",
   "metadata": {},
   "source": [
    "This can not be solved in using a method in Python. We need to in some way find the \"reverse\". We know that the probability of one or more stars has to be greater than 0.95, so we need to find $\\lambda$ and then multiply this by 16 cubic light years. Here are the calculations:\n",
    "\n",
    "$\n",
    "\\begin{align}\n",
    "P(X\\geq1)&>0.95 \\\\\n",
    "1-P(X < 1) &> 0.95 \\\\\n",
    "1-P(x=0)&>0.95 \\\\\n",
    "1-0.95&>P(x=0) \\\\\n",
    "0.05&>\\frac{\\lambda^{0} \\cdot e^{-\\lambda}}{0 !} \\\\\n",
    "0.05&>e^{-\\lambda} \\\\\n",
    "\\ln 0.05&>-\\lambda \\quad \\Rightarrow \\lambda>2.99 \\approx 3 ; one cubic light year \\end{align} $ </br>\n",
    "We have to calculate for 16, so 16\\*3 = 48 light years\n"
   ]
  },
  {
   "attachments": {},
   "cell_type": "markdown",
   "metadata": {
    "init_cell": true
   },
   "source": [
    "### Exercise 5 (3.S16)\n",
    "\n",
    "A congested computer network has a 1% chance of losing a data packet that\n",
    "must be resent, and packet losses are independent events. An e-mail message requires\n",
    "100 packets.\n"
   ]
  },
  {
   "attachments": {},
   "cell_type": "markdown",
   "metadata": {},
   "source": [
    "**a)** What is the distribution of the number of packets in an e-mail message that must be resent? Include the parameter values. Let X denote the number of packages that need to be resent. The X is a binomial RV with n = 100 and p = 0.01\n"
   ]
  },
  {
   "attachments": {},
   "cell_type": "markdown",
   "metadata": {},
   "source": [
    "**b)** What is the probability that at least one packet is resent? </br>\n",
    "$P(X \\geq 1) = 1- P(X < 1)$\n"
   ]
  },
  {
   "cell_type": "code",
   "execution_count": 12,
   "metadata": {
    "init_cell": true
   },
   "outputs": [
    {
     "data": {
      "text/latex": [
       "$\\displaystyle P(X \\geq 1) = 0.634$"
      ],
      "text/plain": [
       "<IPython.core.display.Math object>"
      ]
     },
     "metadata": {},
     "output_type": "display_data"
    }
   ],
   "source": [
    "n = 100\n",
    "p = 0.01\n",
    "display(Math(\"P(X \\geq 1) = \" + repr(round(binom.sf(0, n, p), 4))))\n"
   ]
  },
  {
   "attachments": {},
   "cell_type": "markdown",
   "metadata": {},
   "source": [
    "**c)** What is the probability that two or more packets are resent? </br>\n",
    "$P(X \\geq 2) = 1- P(X < 2)$\n"
   ]
  },
  {
   "cell_type": "code",
   "execution_count": 13,
   "metadata": {
    "init_cell": true
   },
   "outputs": [
    {
     "data": {
      "text/latex": [
       "$\\displaystyle P(X \\geq 2) = 0.2642$"
      ],
      "text/plain": [
       "<IPython.core.display.Math object>"
      ]
     },
     "metadata": {},
     "output_type": "display_data"
    }
   ],
   "source": [
    "\n",
    "display(Math(\"P(X \\geq 2) = \" + repr(round(binom.sf(1, n, p), 4))))\n"
   ]
  },
  {
   "attachments": {},
   "cell_type": "markdown",
   "metadata": {},
   "source": [
    "**d)** What are the mean and standard deviation of the number of packets that are resent? </br>\n",
    "E(X)= n*p ; $ \\sigma^2=n*p*(1-p)$\n"
   ]
  },
  {
   "cell_type": "code",
   "execution_count": 14,
   "metadata": {
    "init_cell": true
   },
   "outputs": [
    {
     "data": {
      "text/latex": [
       "E(X) = 1.0 and $\\sigma$ = 0.995"
      ],
      "text/plain": [
       "<IPython.core.display.Latex object>"
      ]
     },
     "metadata": {},
     "output_type": "display_data"
    }
   ],
   "source": [
    "display(Latex(\"E(X) = \" + repr(round(binom.mean(n, p), 4)) +\n",
    "              \" and $\\sigma$ = \" + repr(round(binom.std(n, p), 4))))\n"
   ]
  },
  {
   "attachments": {},
   "cell_type": "markdown",
   "metadata": {},
   "source": [
    "**e)** If there are 10 messages and each contains 100 packets, what is the probability that at least one message requires that two or more packets be resent?\n",
    "\n",
    "Let Y denote the number of messages that require two or more packages to be resent.</br>\n",
    "So calculate the $P(Y\\geq 1) of P(X \\geq 2)$ , so the new probability is p = 0.265$ => </br>\n",
    "$P(Y\\geq 1)= 1-P(Y=0)$\n"
   ]
  },
  {
   "cell_type": "code",
   "execution_count": 15,
   "metadata": {
    "init_cell": true
   },
   "outputs": [
    {
     "data": {
      "text/latex": [
       "$\\displaystyle P(Y \\geq 1) = 0.9535$"
      ],
      "text/plain": [
       "<IPython.core.display.Math object>"
      ]
     },
     "metadata": {},
     "output_type": "display_data"
    }
   ],
   "source": [
    "p2 = binom.sf(1, n, p)\n",
    "n2 = 10\n",
    "\n",
    "display(Math(\"P(Y \\geq 1) = \" + repr(round(binom.sf(0, n2, p2), 4))))\n"
   ]
  },
  {
   "attachments": {},
   "cell_type": "markdown",
   "metadata": {},
   "source": [
    "## Exercise 6 (3.S28)\n",
    "\n",
    "A manufacturer of a consumer electronics product expects 2% of units to fail during the warrantyperiod. A sample of 500 independent units is tracked for warranty performance.\n"
   ]
  },
  {
   "attachments": {},
   "cell_type": "markdown",
   "metadata": {},
   "source": [
    "**a)** What is the probability that none fails during the warranty period?\n",
    "\n",
    "Let $X$ denote the event that a product fails during warranty. Then $X$ is binomial with\n",
    "In this case our success is that the product will fail, so X = 0. </br> p= $\\frac{failurePercentage}{100}$ </br>\n",
    "$n = 500$ , $p = \\frac{2}{100}$ </br>\n",
    "Binom ~ (500,0.02)\n"
   ]
  },
  {
   "cell_type": "code",
   "execution_count": 16,
   "metadata": {
    "init_cell": true
   },
   "outputs": [
    {
     "data": {
      "text/latex": [
       "$\\displaystyle P(X = 0) = 4e-05$"
      ],
      "text/plain": [
       "<IPython.core.display.Math object>"
      ]
     },
     "metadata": {},
     "output_type": "display_data"
    }
   ],
   "source": [
    "n = 500\n",
    "p = 0.02\n",
    "\n",
    "display(Math(\"P(X = 0) = \" + repr(round(binom.pmf(0, n, p), 5))))\n"
   ]
  },
  {
   "attachments": {},
   "cell_type": "markdown",
   "metadata": {},
   "source": [
    "**b)** What is the expected number of failures during the warranty period? </br>\n",
    "E(X)= n*p ; $\\sigma^2=n*p*(1-p)$\n"
   ]
  },
  {
   "cell_type": "code",
   "execution_count": 17,
   "metadata": {
    "init_cell": true
   },
   "outputs": [
    {
     "data": {
      "text/latex": [
       "$\\displaystyle E(X) = 10.0$"
      ],
      "text/plain": [
       "<IPython.core.display.Math object>"
      ]
     },
     "metadata": {},
     "output_type": "display_data"
    }
   ],
   "source": [
    "display(Math(\"E(X) = \" + repr(round(binom.mean(n, p), 4))))\n"
   ]
  },
  {
   "attachments": {},
   "cell_type": "markdown",
   "metadata": {},
   "source": [
    "**c)** What is the probability that more than two units fail during the warranty period? </br>\n",
    "$P(X > 2)= 1-P(X \\leq 2)$\n"
   ]
  },
  {
   "cell_type": "code",
   "execution_count": 18,
   "metadata": {
    "init_cell": true
   },
   "outputs": [
    {
     "data": {
      "text/latex": [
       "$\\displaystyle P(X > 2) = 0.9974$"
      ],
      "text/plain": [
       "<IPython.core.display.Math object>"
      ]
     },
     "metadata": {},
     "output_type": "display_data"
    }
   ],
   "source": [
    "display(Math(\"P(X > 2) = \" + repr(round(binom.sf(2, n, p), 4))))\n"
   ]
  },
  {
   "attachments": {},
   "cell_type": "markdown",
   "metadata": {},
   "source": [
    "## Exercise 7\n",
    "\n",
    "The probability that a patient recovers from a rare blood disease is 0.4. If 15 people are\n",
    "known to have contracted this disease, what is the probability that\n"
   ]
  },
  {
   "attachments": {},
   "cell_type": "markdown",
   "metadata": {},
   "source": [
    "**a)** at least 10 survive\n",
    "\n",
    "Let $X$ denote the number of survivors. Then, $X$ is a binomial random variable with </br>\n",
    "$P(X \\geq 10) = 1- P(X < 10)$\n",
    "\n",
    "$n = 15$ , $p = 0.4$\n"
   ]
  },
  {
   "cell_type": "code",
   "execution_count": 19,
   "metadata": {
    "init_cell": true
   },
   "outputs": [
    {
     "data": {
      "text/latex": [
       "$\\displaystyle P(X \\geq 10) = 0.0338$"
      ],
      "text/plain": [
       "<IPython.core.display.Math object>"
      ]
     },
     "metadata": {},
     "output_type": "display_data"
    }
   ],
   "source": [
    "n = 15\n",
    "p = 0.4\n",
    "\n",
    "display(Math(\"P(X \\geq 10) = \" + repr(round(binom.sf(9, n, p), 4))))\n"
   ]
  },
  {
   "attachments": {},
   "cell_type": "markdown",
   "metadata": {},
   "source": [
    "**b)** from 3 to 8 survive </br>\n",
    "$P(3 \\leq X \\leq 8) =P(X < 9) - P(X < 3)$\n"
   ]
  },
  {
   "cell_type": "code",
   "execution_count": 20,
   "metadata": {
    "init_cell": true
   },
   "outputs": [
    {
     "data": {
      "text/latex": [
       "$\\displaystyle P(3 \\leq X \\leq 8) = 0.8778$"
      ],
      "text/plain": [
       "<IPython.core.display.Math object>"
      ]
     },
     "metadata": {},
     "output_type": "display_data"
    }
   ],
   "source": [
    "display(Math(\"P(3 \\leq X \\leq 8) = \" +\n",
    "             repr(round(binom.cdf(8, n, p) - binom.cdf(2, n, p), 4))))\n"
   ]
  },
  {
   "attachments": {},
   "cell_type": "markdown",
   "metadata": {},
   "source": [
    "**c)** exactly 5 </br>\n",
    "$P(X = 5)$\n"
   ]
  },
  {
   "cell_type": "code",
   "execution_count": 21,
   "metadata": {
    "init_cell": true
   },
   "outputs": [
    {
     "data": {
      "text/latex": [
       "$\\displaystyle P(X = 5) = 0.1859$"
      ],
      "text/plain": [
       "<IPython.core.display.Math object>"
      ]
     },
     "metadata": {},
     "output_type": "display_data"
    }
   ],
   "source": [
    "display(Math(\"P(X = 5) = \" + repr(round(binom.pmf(5, n, p), 4))))\n"
   ]
  },
  {
   "attachments": {},
   "cell_type": "markdown",
   "metadata": {},
   "source": [
    "**d)** Find the mean and variance </br>\n",
    "E(X)= n*p ; $\\sigma^2=n*p*(1-p)$\n"
   ]
  },
  {
   "cell_type": "code",
   "execution_count": 22,
   "metadata": {
    "init_cell": true
   },
   "outputs": [
    {
     "data": {
      "text/latex": [
       "E(X) = 6.0 and Var(X) = 3.6"
      ],
      "text/plain": [
       "<IPython.core.display.Latex object>"
      ]
     },
     "metadata": {},
     "output_type": "display_data"
    }
   ],
   "source": [
    "display(Latex(\"E(X) = \" + repr(binom.mean(n, p)) + \" and Var(X) = \" +\n",
    "              repr(round(binom.var(n, p), 4))))\n"
   ]
  },
  {
   "attachments": {},
   "cell_type": "markdown",
   "metadata": {},
   "source": [
    "## Exercise 8\n",
    "\n",
    "A large chain retailer purchases a certain kind of electronic device from a manufacturer. The manufac-turer indicates that the defective rate of the device is 3%\n"
   ]
  },
  {
   "attachments": {},
   "cell_type": "markdown",
   "metadata": {},
   "source": [
    "**a)** The inspector of the retailer randomly picks 20 items from a shipment. What is the probabilitythat there will be at least one defective item among them?\n",
    "\n",
    "Let $X$ denote the event that a device is defective. Then $X$ follows a binomial distribution and our success is the number of fails. </br>\n",
    "$P(X \\geq 1) = 1- P(X < 1)$\n",
    "\n",
    "$n = 20$ , $p = 3/100$\n"
   ]
  },
  {
   "cell_type": "code",
   "execution_count": 23,
   "metadata": {
    "init_cell": true
   },
   "outputs": [
    {
     "data": {
      "text/latex": [
       "$\\displaystyle P(X \\geq 1) = 0.4562$"
      ],
      "text/plain": [
       "<IPython.core.display.Math object>"
      ]
     },
     "metadata": {},
     "output_type": "display_data"
    }
   ],
   "source": [
    "n = 20\n",
    "p = 0.03\n",
    "\n",
    "display(Math(\"P(X \\geq 1) = \" + repr(round(binom.sf(0, n, p), 4))))\n"
   ]
  },
  {
   "attachments": {},
   "cell_type": "markdown",
   "metadata": {},
   "source": [
    "**b)** Suppose that the retailer receives 10 shipments in a month and\n",
    "the inspector randomly tests 20 devices per shipment. What is the\n",
    "probability that there will be 3 shipments containing at least one\n",
    "defective device?\n",
    "\n",
    "Let Y denote the number of messages that require two or more packages to be resent.</br>\n",
    "So calculate the $P(Y\\geq 1) of P(X \\geq 3)$ , so the new probability is p = 0.4562$ => </br>\n",
    "$P(Y = 3)$\n"
   ]
  },
  {
   "cell_type": "code",
   "execution_count": 24,
   "metadata": {
    "init_cell": true
   },
   "outputs": [
    {
     "data": {
      "text/latex": [
       "$\\displaystyle P(Y = 3) = 0.1602$"
      ],
      "text/plain": [
       "<IPython.core.display.Math object>"
      ]
     },
     "metadata": {},
     "output_type": "display_data"
    }
   ],
   "source": [
    "p2 = binom.sf(0, n, p)\n",
    "n2 = 10\n",
    "\n",
    "display(Math(\"P(Y = 3) = \" + repr(round(binom.pmf(3, n2, p2), 4))))\n"
   ]
  },
  {
   "attachments": {},
   "cell_type": "markdown",
   "metadata": {},
   "source": [
    "## Assignment 9\n",
    "\n",
    "High\n",
    "flows result in the closure of a causeway. From past records, the road is closed for\n",
    "this reason on 10 days during a 20-year period. At an adjoining village, there is concern\n",
    "about the closure of the causeway because it provides the only access. The villagers\n",
    "assume that the probability of a closure of the road for more than one day during a year\n",
    "is less than 0.10. Is this correct? Please show using the Poisson distribution. </br>\n",
    "$f(x) = P(X=x)=\\frac{\\lambda^{x} e^{-\\lambda}}{x !}$ </br>\n",
    "Assume that the $P(X>1)<0.10$ , where $P(X>1)= 1- (P(X=0)+P(X=1))$ </br>\n",
    "If $P(X>1)<0.10$ then the assumption is true.\n"
   ]
  },
  {
   "cell_type": "code",
   "execution_count": 25,
   "metadata": {
    "init_cell": true
   },
   "outputs": [
    {
     "data": {
      "text/latex": [
       "$\\displaystyle P(X > 1) = 0.0902$"
      ],
      "text/plain": [
       "<IPython.core.display.Math object>"
      ]
     },
     "metadata": {},
     "output_type": "display_data"
    },
    {
     "data": {
      "text/latex": [
       "Yes, the villagers are correct in their assumption."
      ],
      "text/plain": [
       "<IPython.core.display.Latex object>"
      ]
     },
     "metadata": {},
     "output_type": "display_data"
    }
   ],
   "source": [
    "l = 10/20\n",
    "\n",
    "display(Math(\"P(X > 1) = \" + repr(round(poisson.sf(1, l), 4))))\n",
    "display(Latex(\"Yes, the villagers are correct in their assumption.\"))\n"
   ]
  },
  {
   "attachments": {},
   "cell_type": "markdown",
   "metadata": {},
   "source": [
    "## Assignment 10\n",
    "\n",
    "A company performs inspection on shipments from suppliers in order to detect nonconforming products. Assume a lot contains 1000 items and 1% is nonconforming. Assuming that the number of nonconforming products in the sample is binomial, what sample size is needed so that the probability of choosing at least one nonconforming item in the sample is at least 0.9?\n",
    "\n",
    "**There is no way to do this in Python. ppf. returns $x$ not $n$.**\n",
    "\n",
    "$P(X \\geq 1) \\geq 0.9 \\iff $ </br> $1-P(X = 0) \\geq 0.9 \\iff $ </br> $ 0.1 \\geq P(X = 0)$\n",
    "$0.1 \\geq \\left(\\begin{array}{c}{1000} \\\\ {0}\\end{array}\\right) \\cdot 0.01^{0} \\cdot(1-0.01)^{n}  \\iff $</br>\n",
    " $ 0.1 \\geq 0.99^{n} \\iff$ </br>\n",
    "$ n \\geq \\frac{\\ln 0.1}{\\ln 0.99} \\iff$ </br> $n \\geq 230$\n"
   ]
  },
  {
   "attachments": {},
   "cell_type": "markdown",
   "metadata": {},
   "source": [
    "## Assignment 11\n",
    "\n",
    "The number of errors in a textbook follows a Poisson distribution with a mean of 0.01\n",
    "error per page. What is the probability that there are three or less errors in 100 pages? </br>\n",
    "mean = $\\lambda$ = 0.01 (per page) </br>\n",
    "mean = $\\lambda$ = 0.01 \\* 100 = 1 (100 pages)\n"
   ]
  },
  {
   "cell_type": "code",
   "execution_count": 26,
   "metadata": {
    "init_cell": true
   },
   "outputs": [
    {
     "data": {
      "text/latex": [
       "$\\displaystyle P(X \\leq 3) = 0.981$"
      ],
      "text/plain": [
       "<IPython.core.display.Math object>"
      ]
     },
     "metadata": {},
     "output_type": "display_data"
    }
   ],
   "source": [
    "l = 0.01*100\n",
    "\n",
    "display(Math(\"P(X \\leq 3) = \" + repr(round(poisson.cdf(3, l), 4))))\n"
   ]
  },
  {
   "attachments": {},
   "cell_type": "markdown",
   "metadata": {},
   "source": [
    "## Exam 2014 Assignment 3 (a-c)\n",
    "\n",
    "A central database server receives, on the average, 25 requests per second from its clients. Assuming that\n",
    "requests received by a database follow a Poisson distribution. </br>\n",
    "$f(x) = P(X=x)=\\frac{\\lambda^{x} e^{-\\lambda}}{x !}$ </br>\n"
   ]
  },
  {
   "attachments": {},
   "cell_type": "markdown",
   "metadata": {},
   "source": [
    "**a)** What is the probability that the server will receive no requests in a 10-millisecond interval? </br>\n",
    "Our success no request => X=0 </br>\n",
    "$P(X=0)$ </br>\n",
    "Recalculate $\\lambda$ = 25/100 = 0.25 (10 milisecond interval)\n"
   ]
  },
  {
   "cell_type": "code",
   "execution_count": 27,
   "metadata": {},
   "outputs": [
    {
     "data": {
      "text/latex": [
       "$\\displaystyle P(X = 3) = 0.7788$"
      ],
      "text/plain": [
       "<IPython.core.display.Math object>"
      ]
     },
     "metadata": {},
     "output_type": "display_data"
    }
   ],
   "source": [
    "l = 25/100\n",
    "\n",
    "display(Math(\"P(X = 3) = \" + repr(round(poisson.pmf(0, l), 4))))\n"
   ]
  },
  {
   "attachments": {},
   "cell_type": "markdown",
   "metadata": {},
   "source": [
    "**b)** What is the probability that the server will receive more than 2 requests in a 10-millisecond interval? </br>\n",
    "Our success no request => X>2 </br>\n",
    "$P(X>2)= 1- P(X \\leq 2)$ </br>\n",
    "Recalculate $\\lambda$ = 25/100 = 0.25 (10 milisecond interval)\n"
   ]
  },
  {
   "cell_type": "code",
   "execution_count": 28,
   "metadata": {},
   "outputs": [
    {
     "data": {
      "text/latex": [
       "$\\displaystyle P(X > 2) = 0.0022$"
      ],
      "text/plain": [
       "<IPython.core.display.Math object>"
      ]
     },
     "metadata": {},
     "output_type": "display_data"
    }
   ],
   "source": [
    "l = 25/100\n",
    "\n",
    "display(Math(\"P(X > 2) = \" + repr(round(poisson.sf(2, l), 4))))\n"
   ]
  },
  {
   "attachments": {},
   "cell_type": "markdown",
   "metadata": {},
   "source": [
    "**c)** What is the probability that the server will receive between 2 and 4 (both included) requests in a 20-\n",
    "millisecond interval? => 2<X< 4 </br>\n",
    "$P(2 \\leq X \\leq 4) = P( X \\leq 4)- P(X < 2)$ </br>\n",
    "Recalculate $\\lambda$ = 25/100 = 0.25\\*2 =0.5 (20 milisecond interval)\n"
   ]
  },
  {
   "cell_type": "code",
   "execution_count": 29,
   "metadata": {},
   "outputs": [
    {
     "data": {
      "text/latex": [
       "$\\displaystyle P(2 \\leq X \\leq 4) = 0.09$"
      ],
      "text/plain": [
       "<IPython.core.display.Math object>"
      ]
     },
     "metadata": {},
     "output_type": "display_data"
    }
   ],
   "source": [
    "l = 50/100\n",
    "\n",
    "display(Math(\"P(2 \\leq X \\leq 4) = \" +\n",
    "        repr(round(poisson.cdf(4, l) - poisson.cdf(1, l), 4))))\n"
   ]
  },
  {
   "attachments": {},
   "cell_type": "markdown",
   "metadata": {},
   "source": [
    "## Exam 2016 New test Assignment 2 (a-c)\n",
    "\n",
    "An insurance company has 1000 male life insurance customers who are 62-65 years of age. For each of the males in this demographic that die within the next year, the company must pay 1 million DKK. It is known that the mortality rate within\n",
    "this demographic is 1.5%. </br>\n",
    "$P(X=x)=\\begin{pmatrix}n\\cr x\\cr\\end{pmatrix}* p^x*(1-p)^{n-x}$ </br>\n",
    "n=1000 </br>\n",
    "p = $\\frac{1.5}{100} = 0.015$\n"
   ]
  },
  {
   "attachments": {},
   "cell_type": "markdown",
   "metadata": {},
   "source": [
    "**a)** How much money should the company reserve in order to be able to payout the expected amount of life insurance money? </br>\n",
    "E(X)= n*p ; $\\sigma^2=n*p*(1-p)$\n"
   ]
  },
  {
   "cell_type": "code",
   "execution_count": 30,
   "metadata": {},
   "outputs": [
    {
     "data": {
      "text/latex": [
       "$\\displaystyle E(X) = 15000000.0    millions$"
      ],
      "text/plain": [
       "<IPython.core.display.Math object>"
      ]
     },
     "metadata": {},
     "output_type": "display_data"
    }
   ],
   "source": [
    "n = 1000\n",
    "p = 1.5/100\n",
    "\n",
    "display(Math(\"E(X) = \" + repr(round(binom.mean(n, p) * 10**6, 4)) + \"    millions\"))\n"
   ]
  },
  {
   "attachments": {},
   "cell_type": "markdown",
   "metadata": {},
   "source": [
    "**b)** What is the probability that the amount found in (b) will not be enough? </br>\n",
    "$P(X>15) = 1- P(X \\leq 15)$ </br>\n"
   ]
  },
  {
   "cell_type": "code",
   "execution_count": 31,
   "metadata": {},
   "outputs": [
    {
     "data": {
      "text/latex": [
       "$\\displaystyle P(X>15) = 0.4319$"
      ],
      "text/plain": [
       "<IPython.core.display.Math object>"
      ]
     },
     "metadata": {},
     "output_type": "display_data"
    }
   ],
   "source": [
    "n = 1000\n",
    "p = 1.5/100\n",
    "\n",
    "display(Math(\"P(X>15) = \" + repr(round(binom.sf(15, n, p), 4))))\n"
   ]
  },
  {
   "attachments": {},
   "cell_type": "markdown",
   "metadata": {},
   "source": [
    "**c)** How much money should the company reserve if it wants to be 95% certain that they have enough money to pay the life insurance money? </br>\n",
    "Hint: You need to use the inverse of the distribution in question. </br>\n",
    "Inverse of binom: p2= 95/100\n"
   ]
  },
  {
   "cell_type": "code",
   "execution_count": 32,
   "metadata": {},
   "outputs": [
    {
     "data": {
      "text/latex": [
       "$\\displaystyle E(X) = 22000000.0$"
      ],
      "text/plain": [
       "<IPython.core.display.Math object>"
      ]
     },
     "metadata": {},
     "output_type": "display_data"
    }
   ],
   "source": [
    "n = 1000\n",
    "p = 1.5/100\n",
    "p2 = 95/100\n",
    "## The amount company should reserve to be 95 % sure \n",
    "\n",
    "display(Math(\"E(X) = \" + repr(round(binom.ppf(p2, n, p) * 10**6, 4))))\n"
   ]
  },
  {
   "attachments": {},
   "cell_type": "markdown",
   "metadata": {},
   "source": [
    "## Exam 2018 Assignment 2\n",
    "\n",
    "In each of the following cases, determine which probability distribution to use and calculate the\n",
    "stated probability: </br>"
   ]
  },
  {
   "attachments": {},
   "cell_type": "markdown",
   "metadata": {},
   "source": [
    "**a)** The worldwide average number of airplane crashes of commercial airlines is 3.5 crashes per month. Find the probability that there will be at least two crashes within the next\n",
    "month. </br>\n",
    "Poisson Distribution </br>\n",
    "$f(x) = P(X=x)=\\frac{\\lambda^{x} e^{-\\lambda}}{x !}$ \n"
   ]
  },
  {
   "cell_type": "code",
   "execution_count": 33,
   "metadata": {},
   "outputs": [
    {
     "data": {
      "text/latex": [
       "$\\displaystyle P(X \\geq 2) = 0.8641$"
      ],
      "text/plain": [
       "<IPython.core.display.Math object>"
      ]
     },
     "metadata": {},
     "output_type": "display_data"
    }
   ],
   "source": [
    "l = 35/10\n",
    "\n",
    "display(Math(\"P(X \\geq 2) = \" +\n",
    "        repr(round(poisson.sf(1, l), 4))))"
   ]
  },
  {
   "attachments": {},
   "cell_type": "markdown",
   "metadata": {},
   "source": [
    "**b)** Suppose a batch of 100 items contains 6 that are defective. If you randomly select 10 items, what is the probability that you will select more than two defectives? </br>\n",
    "**Hypergeometric Distribution** </br>\n",
    "$P(x,N,r,n)=\\frac {\\begin{pmatrix}r\\cr x\\cr\\end{pmatrix}* \\begin{pmatrix}N-r\\cr n-x\\cr\\end{pmatrix}}{\\begin{pmatrix}N\\cr n\\cr\\end{pmatrix}}$ </br>\n",
    "Internet formula: </br>\n",
    "$P(k,M,n,N)=\\frac {\\begin{pmatrix}n\\cr k\\cr\\end{pmatrix}* \\begin{pmatrix}M-n\\cr N-k\\cr\\end{pmatrix}}{\\begin{pmatrix}M\\cr N\\cr\\end{pmatrix}}$ </br>\n",
    "x = number of observed succcesses </br>\n",
    "N = population size </br>\n",
    "r = number of success states in the population </br>\n",
    "n = number of draws (i.e. quantity drawn in each trial) (sample from the pool)\n",
    "\n"
   ]
  },
  {
   "cell_type": "code",
   "execution_count": 34,
   "metadata": {},
   "outputs": [
    {
     "data": {
      "text/latex": [
       "$\\displaystyle P(X \\geq 2) = 0.0126$"
      ],
      "text/plain": [
       "<IPython.core.display.Math object>"
      ]
     },
     "metadata": {},
     "output_type": "display_data"
    }
   ],
   "source": [
    "[x, N, r, n] = [2, 100, 6, 10]\n",
    "\n",
    "display(Math(\"P(X \\geq 2) = \" +\n",
    "        repr(round(hypergeom.sf(x ,N, r, n), 4))))"
   ]
  },
  {
   "attachments": {},
   "cell_type": "markdown",
   "metadata": {},
   "source": [
    "**c)** It is known that USB drives produced by a certain company will be defective with probability .01, independent of each other. The company sells the USBs in packages of size 10 and offers a money-back guarantee that at most 1 of the 10 USBs in the package\n",
    "will be defective. If someone buys 3 packages, what is the probability that exactly 1 of the packages will contain a defective? What is the probability that one or more of the packages will contain a defective? </br>\n",
    "**Binomial Distribution** </br>\n",
    "$P(X=x)=\\begin{pmatrix}n\\cr x\\cr\\end{pmatrix}* p^x*(1-p)^{n-x}$ </br>\n",
    "Find $P(X=1)$ and  $P(X \\geq 1) = 1- P(X<1) = 1- P(X=0)$ </br>\n",
    "n=30 ; p= 1/100"
   ]
  },
  {
   "cell_type": "code",
   "execution_count": 35,
   "metadata": {},
   "outputs": [
    {
     "data": {
      "text/latex": [
       "$\\displaystyle P(X = 1) =0.23461969$"
      ],
      "text/plain": [
       "<IPython.core.display.Math object>"
      ]
     },
     "metadata": {},
     "output_type": "display_data"
    },
    {
     "data": {
      "text/latex": [
       "$\\displaystyle P(X \\geq 1) =0.26029963$"
      ],
      "text/plain": [
       "<IPython.core.display.Math object>"
      ]
     },
     "metadata": {},
     "output_type": "display_data"
    }
   ],
   "source": [
    "n = 3\n",
    "p = 0.01\n",
    "\n",
    "prob = binom.sf(0,10,0.01)\n",
    "\n",
    "display(Math(\"P(X = 1) =\" + repr(round(binom.pmf(1, n, prob), 8))))\n",
    "display(Math(\"P(X \\geq 1) =\" + repr(round(1 - binom.pmf(0, n, prob), 8))))"
   ]
  }
 ],
 "metadata": {
  "celltoolbar": "Initialization Cell",
  "kernelspec": {
   "display_name": "Python 3",
   "language": "python",
   "name": "python3"
  },
  "language_info": {
   "codemirror_mode": {
    "name": "ipython",
    "version": 3
   },
   "file_extension": ".py",
   "mimetype": "text/x-python",
   "name": "python",
   "nbconvert_exporter": "python",
   "pygments_lexer": "ipython3",
   "version": "3.11.3"
  }
 },
 "nbformat": 4,
 "nbformat_minor": 2
}
