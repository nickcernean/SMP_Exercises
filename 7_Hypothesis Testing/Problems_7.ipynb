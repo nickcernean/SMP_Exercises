{
 "cells": [
  {
   "cell_type": "code",
   "execution_count": 32,
   "metadata": {},
   "outputs": [],
   "source": [
    "from scipy import stats\n",
    "from scipy.stats import norm\n",
    "from scipy.stats import t\n",
    "from scipy.stats import binom\n",
    "from scipy.stats import geom\n",
    "from scipy.stats import hypergeom\n",
    "from scipy.stats import poisson\n",
    "from scipy.stats import nbinom\n",
    "import pandas as pd\n",
    "import numpy as np\n",
    "import sympy as sp\n",
    "from sympy import *\n",
    "sp.init_printing()\n",
    "\n",
    "import matplotlib.pyplot as plt\n",
    "import scipy.integrate as integrate\n",
    "import scipy.special as special\n",
    "from scipy.integrate import quad\n",
    "import numpy as np\n",
    "from scipy.misc import derivative\n",
    "import math\n",
    "from math import *\n",
    "from fractions import Fraction\n",
    "import fractions\n",
    "from sympy import Rational as R\n",
    "from IPython.display import display, Math, Latex\n",
    "%matplotlib inline\n",
    "from IPython.display import Image, HTML\n",
    "import statsmodels.stats.power as smp\n",
    "import statsmodels.api as sm"
   ]
  },
  {
   "cell_type": "code",
   "execution_count": 35,
   "metadata": {},
   "outputs": [],
   "source": [
    "# Let us create a UDF which will enable us to shade areas under the curve for standardnormal distribution\n",
    "\n",
    "def draw_z_score(x, cond, mu, sigma, title):\n",
    "    y = norm.pdf(x, mu, sigma)\n",
    "    z = x[cond]\n",
    "    plt.plot(x, y)\n",
    "    plt.ticklabel_format(style='plain', useOffset=False, axis='x')\n",
    "    plt.yticks([])\n",
    "    plt.fill_between(z, norm.pdf(z, mu, sigma))\n",
    "    plt.title(title)\n",
    "    plt.show()"
   ]
  },
  {
   "cell_type": "code",
   "execution_count": 36,
   "metadata": {},
   "outputs": [],
   "source": [
    "# Let us create a UDF which will enable us to shade areas under the curve for t-distribution\n",
    "\n",
    "def draw_t_score(x, df, cond, mu, sigma, title):\n",
    "    y = t.pdf(x, df, mu, sigma)\n",
    "    t = x[cond]\n",
    "    plt.plot(x, y)\n",
    "    plt.ticklabel_format(style='plain', useOffset=False, axis='x')\n",
    "    plt.yticks([])\n",
    "    plt.fill_between(t, t.pdf(t, df, mu, sigma))\n",
    "    plt.title(title)\n",
    "    plt.show()"
   ]
  },
  {
   "attachments": {},
   "cell_type": "markdown",
   "metadata": {},
   "source": [
    "## Problems 7 </br> \n",
    "**Book_Chapters ASPE: 9.1-9.3 + 9.5+9.8+10.1-10.4+ 10.6** </br>\n",
    "ASPE Exercises: **9.3.8 + 9.3.9+9.5.3+9.5.4** </br>\n",
    "Exam Exercises: **2014.2.c; 2015.3; 2015.4; 2016.4; 2017.5; Reexam 2018.4 (not g)**\n"
   ]
  },
  {
   "attachments": {},
   "cell_type": "markdown",
   "metadata": {},
   "source": [
    "## Exercise 1 Book(ASPE: 9.3.8) </br>\n",
    "Cloud seeding has been studied for many decades as a weather modification procedure (for an interesting study\n",
    "of this subject, see the article in Technometrics, “A Bayesian Analysis of a Multiplicative Treatment Effect in Weather Modification,” 1975, Vol. 17, pp. 161–166). The rainfall in acre-feet from 20 clouds that were selected at random and seeded with silver nitrate follows: 18.0, 30.7, 19.8, 27.1, 22.3, 18.8, 31.8, 23.4, 21.2, 27.9, 31.9, 27.1, 25.0, 24.7, 26.9, 21.8, 29.2, 34.8, 26.7,and 31.6."
   ]
  },
  {
   "attachments": {},
   "cell_type": "markdown",
   "metadata": {},
   "source": [
    "**a) Can you support a claim that mean rainfall from seeded clouds exceeds 25 acre-feet? Use α = 0.01. Find the P-value.**\n",
    "</br>\n",
    "**Testing Hypotheses on the Mean of a Normal Distribution, Variance Unknown**</br>\n",
    "**1.Parameter of interest:The parameter of interest is the mean coefficient of restitution, μ.**</br >\n",
    "**2.Null Hypothesis: $H_0: \\mu =25$** </br>\n",
    "**3.Alternative Hypothesis: $H_1: \\mu > 25$** We want to reject $H_0$ if the mean rainfall from seeded clouds exceeds 25 acre-feet </br>\n",
    "**4.Test statistic: The test statistic is $t_0=\\frac {\\overline{x}-\\mu_{0}}{\\frac{S}{\\sqrt{n}}}$** </br>\n",
    "**5.Reject $H_0$ if: $t_0>t_{0.01,19}$ where $\\alpha$=0.01 and $t_{\\frac{0.01}{2},19}=2.539$ for n=20** </br>\n",
    "**6.Computations: Reject $H_0$ if the P-value is less than 0.01** </br>"
   ]
  },
  {
   "cell_type": "code",
   "execution_count": 31,
   "metadata": {},
   "outputs": [
    {
     "data": {
      "text/latex": [
       "$\\displaystyle t_{\\frac{0.01}{2},19}=2.539$"
      ],
      "text/plain": [
       "<IPython.core.display.Math object>"
      ]
     },
     "metadata": {},
     "output_type": "display_data"
    },
    {
     "data": {
      "text/latex": [
       "$\\displaystyle t_{0}=0.99$"
      ],
      "text/plain": [
       "<IPython.core.display.Math object>"
      ]
     },
     "metadata": {},
     "output_type": "display_data"
    },
    {
     "data": {
      "text/latex": [
       "$\\displaystyle P-value=0.167$"
      ],
      "text/plain": [
       "<IPython.core.display.Math object>"
      ]
     },
     "metadata": {},
     "output_type": "display_data"
    },
    {
     "name": "stdout",
     "output_type": "stream",
     "text": [
      "7. Conclusions:  From t-score table we find for a t distribution with 19 degrees of freedom that t0 = 0.99 \n",
      " falls between two values: 0.688, for which α = 0.250, and 1.187, for which α = 0.125. \n",
      " Because this is a one-tailed test, we know that the P-value is between those two values, that is, 0.125 < P < 0.250. \n",
      " Therefore, because P > 0.01, we fail to reject H0 and conclude that the true mean rainfall is greater than 25 acre-feet at alpha = 0.01\n"
     ]
    }
   ],
   "source": [
    "a =[ 18.0, 30.7, 19.8, 27.1, 22.3, 18.8, 31.8, 23.4, 21.2, 27.9, 31.9, 27.1, 25.0, 24.7, 26.9, 21.8, 29.2, 34.8, 26.7, 31.6 ]\n",
    "alpha = 0.01\n",
    "sample_size = len(a)\n",
    "sample_mean = np.mean(a)\n",
    "sample_standard_deviation = np.std(a)## small s\n",
    "hypothesis_mean = 25 ## null hypothesiss\n",
    "\n",
    "## carefully this is a right sided test hence interval we are looking at is 1-alpha, not 1-alpha/2\n",
    "ddof = sample_size-1\n",
    "t_crit_ddof = stats.t.ppf(1-alpha,ddof)\n",
    "display(Math('t_{\\\\frac{0.01}{2},19}='+latex(round(t_crit_ddof,3))))\n",
    "\n",
    "test_statistic_hypothesis = (sample_mean-hypothesis_mean)/( sample_standard_deviation/np.sqrt(sample_size))\n",
    "display(Math( 't_{0}='+ latex(round(test_statistic_hypothesis,2))))\n",
    "\n",
    "## notice we are using sf function, alternative use 1-cdf\n",
    "p_value = t.sf(np.abs(test_statistic_hypothesis), sample_size-1)\n",
    "display(Math('P-value='+ latex(round(p_value,3))))\n",
    "\n",
    "print('7. Conclusions:  From t-score table we find for a t distribution with 19 degrees of freedom that t0 = 0.99 \\n falls between two values: 0.688, for which α = 0.250, and 1.187, for which α = 0.125. \\n Because this is a one-tailed test, we know that the P-value is between those two values, that is, 0.125 < P < 0.250. \\n Therefore, because P > 0.01, we fail to reject H0 and conclude that the true mean rainfall is greater than 25 acre-feet at alpha = 0.01')\n"
   ]
  },
  {
   "attachments": {},
   "cell_type": "markdown",
   "metadata": {},
   "source": [
    "**b) Check that rainfall is normally distributed.**</br>"
   ]
  },
  {
   "cell_type": "code",
   "execution_count": 82,
   "metadata": {},
   "outputs": [
    {
     "data": {
      "image/png": "[encoded data removed]",
      "text/plain": [
       "<Figure size 640x480 with 1 Axes>"
      ]
     },
     "metadata": {},
     "output_type": "display_data"
    },
    {
     "name": "stdout",
     "output_type": "stream",
     "text": [
      "Data falls along normal line, this results in the fact that the data is normally distributed.\n"
     ]
    }
   ],
   "source": [
    "a =[ 18.0, 30.7, 19.8, 27.1, 22.3, 18.8, 31.8, 23.4, 21.2, 27.9, 31.9, 27.1, 25.0, 24.7, 26.9, 21.8, 29.2, 34.8, 26.7, 31.6 ]\n",
    "\n",
    "stats.probplot(a, plot=plt)\n",
    "plt.ylabel('Rainfall acree-feet')\n",
    "plt.show()\n",
    "print('Data falls along normal line, this results in the fact that the data is normally distributed.')"
   ]
  },
  {
   "attachments": {},
   "cell_type": "markdown",
   "metadata": {},
   "source": [
    "**c) Compute the power of the test if the true mean rainfall is 27 acre-feet.**</br>\n",
    "In this example we will use the Operating Characteristic curve to calculate the $\\beta$ (probability of making type 2 error) at $\\alpha$= 0.01 (significance level,probability of making type 1 error) with formula: </br>\n",
    "$d=\\frac{\\delta}{\\sigma}=\\frac{|\\mu - \\mu_{0}|}{\\sigma}$ (population mean difference) </br>\n",
    "$\\alpha$ = 0.01 </br>\n",
    "USE python function to compute $\\beta$ </br>\n",
    "To calculate the Power(The power of a statistical test is the probability of rejecting the null hypothesis H0 when the\n",
    "alternative hypothesis is true): power = (1-$\\beta$) </br>\n",
    "\n"
   ]
  },
  {
   "cell_type": "code",
   "execution_count": 244,
   "metadata": {},
   "outputs": [
    {
     "name": "stdout",
     "output_type": "stream",
     "text": [
      "beta 0.79\n",
      "power 0.21\n"
     ]
    }
   ],
   "source": [
    "a =[ 18.0, 30.7, 19.8, 27.1, 22.3, 18.8, 31.8, 23.4, 21.2, 27.9, 31.9, 27.1, 25.0, 24.7, 26.9, 21.8, 29.2, 34.8, 26.7, 31.6 ]\n",
    "\n",
    "alpha = 0.01\n",
    "sample_size = len(a)\n",
    "sample_standard_deviation = np.std(a)## small s\n",
    "hypothesis_mean = 25 ## null hypothesiss\n",
    "true_mean = 27\n",
    "\n",
    "\n",
    "## Solution with OC curve using d, DID NOT get to the right answer !!!!!\n",
    "\n",
    "population_mean_difference = abs(true_mean-hypothesis_mean)/  sample_standard_deviation  ## d\n",
    "\n",
    "### Found this solution on the internet\n",
    "## this one can probably be solved differently reffer to the book page 213\n",
    "power = smp.tt_solve_power(effect_size=population_mean_difference, nobs=sample_size, alpha=alpha)\n",
    "beta = 1 - power\n",
    "## the rounding sucks\n",
    "print('Beta '+latex(round(beta,2)))\n",
    "print('Power '+latex(round(power,2)))\n"
   ]
  },
  {
   "attachments": {},
   "cell_type": "markdown",
   "metadata": {},
   "source": [
    "**d)** What sample size would be required to detect a true mean rainfall of 27.5 acre-feet if you wanted the power of the test to be at least 0.9? </br>"
   ]
  },
  {
   "cell_type": "code",
   "execution_count": 62,
   "metadata": {},
   "outputs": [
    {
     "data": {
      "text/latex": [
       "$\\displaystyle t_{0}=2.4$"
      ],
      "text/plain": [
       "<IPython.core.display.Math object>"
      ]
     },
     "metadata": {},
     "output_type": "display_data"
    },
    {
     "name": "stdout",
     "output_type": "stream",
     "text": [
      "t_0 is 2.39735646370095 which from the t score distribution is between alpha =0.05 and 0.025, which is equivalent of 1.729<t_0<2.093\n"
     ]
    },
    {
     "data": {
      "text/latex": [
       "$\\displaystyle Power=0.36$"
      ],
      "text/plain": [
       "<IPython.core.display.Math object>"
      ]
     },
     "metadata": {},
     "output_type": "display_data"
    }
   ],
   "source": [
    "a =[ 18.0, 30.7, 19.8, 27.1, 22.3, 18.8, 31.8, 23.4, 21.2, 27.9, 31.9, 27.1, 25.0, 24.7, 26.9, 21.8, 29.2, 34.8, 26.7, 31.6 ]\n",
    "\n",
    "alpha = 0.01\n",
    "sample_size = len(a)\n",
    "sample_standard_deviation = np.std(a)## small s\n",
    "hypothesis_mean = 25 ## null hypothesiss\n",
    "true_mean = 27.5\n",
    "\n",
    "## Solution with OC curve using d, DID NOT get to the right answer !!!!!\n",
    "\n",
    "population_mean_difference = abs(true_mean-hypothesis_mean)/  sample_standard_deviation  ## d\n",
    "\n",
    "### Found this solution on the internet\n",
    "# beta = power_analysis.solve_power(effect_size=population_mean_difference, nobs1=sample_size, alpha=alpha, alternative='larger')\n",
    "\n",
    "\n",
    "## My solution, not sure about this one as well\n",
    "test_statistic_hypothesis = (true_mean-hypothesis_mean)/( sample_standard_deviation/np.sqrt(sample_size))\n",
    "display(Math( 't_{0}='+ latex(round(test_statistic_hypothesis,2))))\n",
    "print(\"t_0 is \"+latex(test_statistic_hypothesis) +\" which from the t score distribution is between alpha =0.05 and 0.025, which is equivalent of 1.729<t_0<2.093\")\n",
    "\n",
    "## carefully this is a right sided test hence interval we are looking at is 1-alpha, not 1-alpha/2\n",
    "ddof = sample_size-1\n",
    "t_crit_ddof_1 = stats.t.ppf(1-0.05,ddof)\n",
    "t_crit_ddof_2 = stats.t.ppf(1-0.025,ddof)\n",
    "display(Math( 'Power='+ latex(round(t_crit_ddof_2-t_crit_ddof_1,2))))"
   ]
  },
  {
   "attachments": {},
   "cell_type": "markdown",
   "metadata": {},
   "source": [
    "**e)** Explain how the question in part (a) could be answered by constructing a one-sided confidence bound on the mean\n",
    "diameter. </br>\n",
    "Because the alternative H_1 hypothesys states, we have to fail to reject that $\\mu$ >25, so to prove the alternative </br> hypothesis we have to calculate the lower 99% confidence bound.</br>\n",
    "Calculate this: </br>\n",
    "$\\overline{x}- t_{1-\\alpha,n-1}* \\frac{s}{\\sqrt{n}} \\leq \\mu$"
   ]
  },
  {
   "cell_type": "code",
   "execution_count": 198,
   "metadata": {},
   "outputs": [
    {
     "data": {
      "text/latex": [
       "$\\displaystyle t_{\\frac{0.01}{2},19}=-2.539$"
      ],
      "text/plain": [
       "<IPython.core.display.Math object>"
      ]
     },
     "metadata": {},
     "output_type": "display_data"
    },
    {
     "name": "stdout",
     "output_type": "stream",
     "text": [
      "A 99.0 % lower confidence interval for the sample mean is 23.349 < μ \n",
      "Since the lower limit of the CI is less than 25 there is insufficient evidence \n",
      " to conclude that the true mean rainfall is greater than 25 acre-feet at = 0.01\n"
     ]
    }
   ],
   "source": [
    "a =[ 18.0, 30.7, 19.8, 27.1, 22.3, 18.8, 31.8, 23.4, 21.2, 27.9, 31.9, 27.1, 25.0, 24.7, 26.9, 21.8, 29.2, 34.8, 26.7, 31.6 ]\n",
    "\n",
    "sample_size = len(a)\n",
    "sample_standard_deviation = np.std(a)## small s\n",
    "level_of_confidence = 0.99\n",
    "sample_mean = np.mean(a)\n",
    "\n",
    "SE = sample_standard_deviation/np.sqrt(sample_size)\n",
    "\n",
    "## carefully this is a right sided test hence interval we are looking at is 1-alpha, not 1-alpha/2\n",
    "ddof = sample_size-1\n",
    "t_crit_ddof = stats.t.ppf(1-level_of_confidence,ddof)\n",
    "display(Math('t_{\\\\frac{0.01}{2},19}='+latex(round(t_crit_ddof,3))))\n",
    "\n",
    "CI = norm.interval(level_of_confidence, loc=sample_mean, scale=SE)\n",
    "\n",
    "print('A ' + repr(level_of_confidence*100) + ' % lower confidence interval for the sample mean is '+ repr(round(CI[0],3)) + ' < \\u03bc ')\n",
    "print(\"Since the lower limit of the CI is less than 25 there is insufficient evidence \\n to conclude that the true mean rainfall is greater than 25 acre-feet at = 0.01\")"
   ]
  },
  {
   "attachments": {},
   "cell_type": "markdown",
   "metadata": {},
   "source": [
    "## Exercise 2 Book(ASPE: 9.3.9) </br>\n",
    "A 1992 article in the Journal of the American Medical Association (“A Critical Appraisal of 98.6 Degrees F, the Upper Limit of the Normal Body Temperature, and Other Legacies of Carl Reinhold August Wunderlich”) reported body temperature, gender, and heart rate for a number of subjects. The body temperatures for 25 female subjects follow: 97.8, 97.2,\n",
    "97.4, 97.6, 97.8, 97.9, 98.0, 98.0, 98.0, 98.1, 98.2, 98.3, 98.3, 98.4, 98.4, 98.4, 98.5, 98.6, 98.6, 98.7, 98.8, 98.8, 98.9, 98.9, and 99.0."
   ]
  },
  {
   "attachments": {},
   "cell_type": "markdown",
   "metadata": {},
   "source": [
    "**a)** Test the hypothesis H0 : μ = 98.6 versus H1 : μ ≠ 98.6, using α = 0.05. Find the P-value. </br>\n",
    "**Testing Hypotheses on the Mean of a Normal Distribution, Variance Unknown**</br>\n",
    "**1.Parameter of interest:The parameter of interest is the mean coefficient of restitution, μ.**</br >\n",
    "**2.Null Hypothesis: $H_0: \\mu =98.6$** </br>\n",
    "**3.Alternative Hypothesis: $H_1: \\mu \\neq 98.6$** We want to reject $H_0$ if the mean body temperatures not equals 98.6 Degrees F</br>\n",
    "**4.Test statistic: The test statistic is $t_0=\\frac {\\overline{x}-\\mu_{0}}{\\frac{S}{\\sqrt{n}}}$** </br>\n",
    "**5.Reject $H_0$ if: $|t_0| > t_{\\frac{0.05}{2},24}$ where $\\alpha$=0.05 and $t_{\\frac{0.05}{2},24}=2.064$ for n=25** </br>\n",
    "**6.Computations: Reject $H_0$ if the P-value is bigger than 0.05** </br>"
   ]
  },
  {
   "cell_type": "code",
   "execution_count": 167,
   "metadata": {},
   "outputs": [
    {
     "data": {
      "text/latex": [
       "$\\displaystyle t_{\\frac{0.01}{2},19}=2.064$"
      ],
      "text/plain": [
       "<IPython.core.display.Math object>"
      ]
     },
     "metadata": {},
     "output_type": "display_data"
    },
    {
     "data": {
      "text/latex": [
       "$\\displaystyle t_{0}=-3.56$"
      ],
      "text/plain": [
       "<IPython.core.display.Math object>"
      ]
     },
     "metadata": {},
     "output_type": "display_data"
    },
    {
     "data": {
      "text/latex": [
       "$\\displaystyle P-value=0.002$"
      ],
      "text/plain": [
       "<IPython.core.display.Math object>"
      ]
     },
     "metadata": {},
     "output_type": "display_data"
    },
    {
     "name": "stdout",
     "output_type": "stream",
     "text": [
      "7. Conclusions:  From t-score table we find for a t distribution with 24 degrees of freedom that t0 = 3.56 \n",
      " falls between two values: 3.467, for which α = 0.001, and 3.745, for which α = 0.0005. \n",
      " As this is a two-tailed test, we know that the P-value is between those two values, that is, 0.0005 < P < 0.001. \n",
      " Therefore, because P > 0.0025, because alpha/2, we  reject H0 and conclude \n",
      " that the true mean of females body temperature  differs from 98.6 at alpha= 0.05\n"
     ]
    }
   ],
   "source": [
    "a =[ 97.8, 97.2,\n",
    "97.4, 97.6, 97.8, 97.9, 98.0, 98.0, 98.0, 98.1, 98.2, 98.3, 98.3,\n",
    "98.4, 98.4, 98.4, 98.5, 98.6, 98.6, 98.7, 98.8, 98.8, 98.9, 98.9, 99.0 ]\n",
    "alpha = 0.05\n",
    "sample_size = len(a)\n",
    "sample_mean = np.mean(a)\n",
    "sample_standard_deviation = np.std(a)## small s\n",
    "hypothesis_mean = 98.6 ## null hypothesiss\n",
    "\n",
    "## carefully this is a right sided test hence interval we are looking at is 1-alpha, not 1-alpha/2\n",
    "ddof = sample_size-1\n",
    "t_crit_ddof = stats.t.ppf(1-alpha/2,ddof)\n",
    "display(Math('t_{\\\\frac{0.01}{2},19}='+latex(round(t_crit_ddof,3))))\n",
    "\n",
    "test_statistic_hypothesis = (sample_mean-hypothesis_mean)/( sample_standard_deviation/np.sqrt(sample_size))\n",
    "display(Math( 't_{0}='+ latex(round(test_statistic_hypothesis,2))))\n",
    "\n",
    "## notice we are using sf function, alternative use 1-cdf\n",
    "## additionally this is a one sided tail test, so to test \n",
    "p_value = 2*t.sf(np.abs(test_statistic_hypothesis), sample_size-1)\n",
    "display(Math( 'P-value='+ latex(round(p_value,3))))\n",
    "\n",
    "print('7. Conclusions:  From t-score table we find for a t distribution with 24 degrees of freedom that t0 = 3.56 \\n falls between two values: 3.467, for which α = 0.001, and 3.745, for which α = 0.0005. \\n As this is a two-tailed test, we know that the P-value is between those two values, that is, 0.0005 < P < 0.001. \\n Therefore, because P > 0.0025, because alpha/2, we  reject H0 and conclude \\n that the true mean of females body temperature  differs from 98.6 at alpha= 0.05')"
   ]
  },
  {
   "attachments": {},
   "cell_type": "markdown",
   "metadata": {},
   "source": [
    "**b)** Check the assumption that female body temperature is normally distributed."
   ]
  },
  {
   "cell_type": "code",
   "execution_count": 168,
   "metadata": {},
   "outputs": [
    {
     "data": {
      "image/png": "[encoded data removed]",
      "text/plain": [
       "<Figure size 640x480 with 1 Axes>"
      ]
     },
     "metadata": {},
     "output_type": "display_data"
    },
    {
     "name": "stdout",
     "output_type": "stream",
     "text": [
      "Data falls along normal line, this results in the fact that the data is normally distributed.\n"
     ]
    }
   ],
   "source": [
    "a =[ 97.8, 97.2,\n",
    "97.4, 97.6, 97.8, 97.9, 98.0, 98.0, 98.0, 98.1, 98.2, 98.3, 98.3,\n",
    "98.4, 98.4, 98.4, 98.5, 98.6, 98.6, 98.7, 98.8, 98.8, 98.9, 98.9, 99.0 ]\n",
    "\n",
    "stats.probplot(a, plot=plt)\n",
    "plt.ylabel('Rainfall acree-feet')\n",
    "plt.show()\n",
    "print('Data falls along normal line, this results in the fact that the data is normally distributed.')"
   ]
  },
  {
   "attachments": {},
   "cell_type": "markdown",
   "metadata": {},
   "source": [
    "**c)** Compute the power of the test if the true mean female body temperature is as low as 98.0."
   ]
  },
  {
   "cell_type": "code",
   "execution_count": 220,
   "metadata": {},
   "outputs": [
    {
     "name": "stdout",
     "output_type": "stream",
     "text": [
      "beta 0\n",
      "power 1\n"
     ]
    }
   ],
   "source": [
    "a =[97.8, 97.2,97.4, 97.6, 97.8, 97.9, 98.0, 98.0, 98.0, 98.1, 98.2, 98.3, 98.3, 98.4, 98.4, 98.4, 98.5, 98.6, 98.6, 98.7, 98.8, 98.8, 98.9, 98.9, 99.0]\n",
    "\n",
    "alpha = 0.05\n",
    "sample_size = len(a)\n",
    "sample_standard_deviation = np.std(a)## small s\n",
    "hypothesis_mean = 98.6 ## null hypothesiss\n",
    "true_mean = 98\n",
    "\n",
    "## Solution with OC curve using d, DID NOT get to the right answer !!!!!\n",
    "## this one can probably be solved differently reffer to the book page 213\n",
    "population_mean_difference = abs(true_mean-hypothesis_mean)/  sample_standard_deviation  ## Cohen's d effect size\n",
    "\n",
    "### Found this solution on the internet\n",
    "power = smp.tt_solve_power(effect_size=population_mean_difference, nobs=sample_size, alpha=alpha)\n",
    "beta = 1 - power\n",
    "print('beta '+latex(round(beta)))\n",
    "print('power '+latex(round(power)))"
   ]
  },
  {
   "attachments": {},
   "cell_type": "markdown",
   "metadata": {},
   "source": [
    "**d)** What sample size would be required to detect a true mean female body temperature as low as 98.2 if you wanted the power of the test to be at least 0.9?"
   ]
  },
  {
   "cell_type": "code",
   "execution_count": 236,
   "metadata": {},
   "outputs": [
    {
     "name": "stdout",
     "output_type": "stream",
     "text": [
      "0.8468496511259435\n",
      "beta 0.018\n",
      "power 0.98\n"
     ]
    }
   ],
   "source": [
    "a =[97.8, 97.2,97.4, 97.6, 97.8, 97.9, 98.0, 98.0, 98.0, 98.1, 98.2, 98.3, 98.3, 98.4, 98.4, 98.4, 98.5, 98.6, 98.6, 98.7, 98.8, 98.8, 98.9, 98.9, 99.0]\n",
    "\n",
    "alpha = 0.05\n",
    "sample_size = len(a)\n",
    "sample_standard_deviation = np.std(a)## small s\n",
    "hypothesis_mean = 98.6 ## null hypothesiss\n",
    "true_mean = 98.2\n",
    "\n",
    "## Solution with OC curve using d, DID NOT get to the right answer !!!!!\n",
    "## this one can probably be solved differently reffer to the book page 213\n",
    "population_mean_difference = abs(true_mean-hypothesis_mean)/  sample_standard_deviation  ## Cohen's d effect size\n",
    "print(population_mean_difference)\n",
    "\n",
    "### Found this solution on the internet\n",
    "power = smp.tt_solve_power(effect_size=population_mean_difference, nobs=sample_size, alpha=alpha)\n",
    "beta = 1 - power\n",
    "print('beta '+latex(round(beta,3)))\n",
    "print('power '+latex(round(power,2)))"
   ]
  },
  {
   "attachments": {},
   "cell_type": "markdown",
   "metadata": {},
   "source": [
    "## Exercise 3 Book(ASPE: 9.5.3) </br>\n",
    "An article in the British Medical Journal [“Comparison of Treatment of Renal Calculi by Operative Surgery, Percutaneous Nephrolithotomy, and Extra-Corporeal Shock Wave Lithotripsy” (1986, Vol. 292, pp. 879–882)] repeated that percutaneous nephrolithotomy (PN) had a success rate in removing kidney stones of 289 of 350 patients. The traditional method was 78% effective."
   ]
  },
  {
   "attachments": {},
   "cell_type": "markdown",
   "metadata": {},
   "source": [
    "**a)** Is there evidence that the success rate for PN is greater than the historical success rate? Find the P-value.</br>\n",
    "**Testing Hypotheses on a Binomial Proportion**</br>\n",
    "**1.Parameter of interest:The parameter of interest is the succcess rate.**</br >\n",
    "**2.Null Hypothesis: $H_0: p = 0.78$** </br>\n",
    "**3.Alternative Hypothesis: $H_1: p > 0.78$** We want to reject $H_0$ if the succcess rate of removing kindney stones is higher than 78 percents</br>\n",
    "**4.Test statistic: The test statistic is $z_0=\\frac {X-n*p_{0}}{ \\sqrt{n*p_{0}*(1-p_0)}}$** or $z_0=\\frac {\\overline{p}-p_{0}}{ \\sqrt{\\frac{p_{0}*(1-p_{0})}{n}}}$ </br>\n",
    "**5.Reject $H_0$ if: $|Z_0| > Z_{0.05}$, assume  $\\alpha$=0.05 and $z_{\\alpha}=z_{0.05}=1.65$ for n=350** </br>\n",
    "**6.Computations: Reject $H_0$ if the true succes rate is bigger than the hypothesed one at 0.05, or the P-value is less than 0.05** </br>"
   ]
  },
  {
   "cell_type": "code",
   "execution_count": 27,
   "metadata": {},
   "outputs": [
    {
     "data": {
      "text/latex": [
       "$\\displaystyle z_{0.05}=1.645$"
      ],
      "text/plain": [
       "<IPython.core.display.Math object>"
      ]
     },
     "metadata": {},
     "output_type": "display_data"
    },
    {
     "data": {
      "text/latex": [
       "$\\displaystyle z_{0}=2.06$"
      ],
      "text/plain": [
       "<IPython.core.display.Math object>"
      ]
     },
     "metadata": {},
     "output_type": "display_data"
    },
    {
     "data": {
      "text/latex": [
       "$\\displaystyle P-value=0.0195$"
      ],
      "text/plain": [
       "<IPython.core.display.Math object>"
      ]
     },
     "metadata": {},
     "output_type": "display_data"
    },
    {
     "name": "stdout",
     "output_type": "stream",
     "text": [
      "7. Conclusions:  From z-score table we find for a normal distribution with z0 = 2.06 \n",
      " which is bigger than z_crit = 1.645. \n",
      " Therefore we reject the H_0 hypothesis and conclude that true success rate is greater than 0.78, at alpha = 0.05.\n"
     ]
    }
   ],
   "source": [
    "\n",
    "alpha = 0.05\n",
    "sample_size = 289\n",
    "population_size = 350\n",
    "proportion = sample_size/population_size\n",
    "hypothesis_rate = 0.78 ## null hypothesiss\n",
    "\n",
    "## carefully this is a right sided test hence interval we are looking at is 1-alpha, not 1-alpha/2\n",
    "z_crit = stats.norm.ppf(1-alpha)\n",
    "display(Math('z_{0.05}='+latex(round(z_crit,3))))\n",
    "\n",
    "test_statistic_hypothesis = (proportion-hypothesis_rate)/np.sqrt((hypothesis_rate*(1-hypothesis_rate)) / population_size)\n",
    "display(Math( 'z_{0}='+ latex(round(test_statistic_hypothesis,2))))\n",
    "\n",
    "## notice we are using sf function, alternative use 1-cdf\n",
    "## additionally this is a one sided tail test, so to test \n",
    "p_value = norm.sf(np.abs(test_statistic_hypothesis))\n",
    "display(Math( 'P-value='+ latex(round(p_value,4))))\n",
    "\n",
    "print('7. Conclusions:  From z-score table we find for a normal distribution with z0 = 2.06 \\n which is bigger than z_crit = 1.645. \\n Therefore we reject the H_0 hypothesis and conclude that true success rate is greater than 0.78, at alpha = 0.05.')"
   ]
  },
  {
   "attachments": {},
   "cell_type": "markdown",
   "metadata": {},
   "source": [
    "**b)** Explain how the question in part (a) could be answered with a confidence interval</br>\n",
    "Because the alternative H_1 hypothesys states, we have to fail to reject that success rate > 78 percents, so to prove the alternative </br> hypothesis we have to calculate the lower 95% confidence bound.</br>\n",
    "Calculate this: </br>\n",
    "$\\overline{p}- z_{\\alpha}* \\sqrt{\\frac{\\overline{p}*(1-\\overline{p})}{n}} \\leq p$"
   ]
  },
  {
   "cell_type": "code",
   "execution_count": 56,
   "metadata": {},
   "outputs": [
    {
     "data": {
      "text/latex": [
       "$\\displaystyle z_{0.05}=|1.645|$"
      ],
      "text/plain": [
       "<IPython.core.display.Math object>"
      ]
     },
     "metadata": {},
     "output_type": "display_data"
    },
    {
     "name": "stdout",
     "output_type": "stream",
     "text": [
      "A 95.0 % lower confidence interval for the success rate is 0.797 < p\n",
      "Since the lower limit of the CI with 0.95 level confidence is bigger than the null hypothesis , we reject the null hypothesys , 0.78< 0.797 rainfall is greater than 25 acre-feet at alpha= 0.01\n"
     ]
    }
   ],
   "source": [
    "alpha = 0.05\n",
    "sample_size = 289\n",
    "population_size = 350\n",
    "## carefullly this is rounded\n",
    "proportion = round(sample_size/population_size,2)\n",
    "hypothesis_rate = 0.78 ## null hypothesiss\n",
    "level_of_confidence = 0.95\n",
    "\n",
    "SE = proportion/np.sqrt(sample_size)\n",
    "\n",
    "## carefully this is a one sided test hence interval we are looking at is 1-alpha, not 1-alpha/2\n",
    "## carefullly this is rounded\n",
    "## take the abs value !!!!!\n",
    "z_crit = abs(round(stats.norm.ppf(1-level_of_confidence),3))\n",
    "display(Math('z_{0.05}=|'+latex(z_crit)+\"|\"))\n",
    "\n",
    "CI= proportion - z_crit*np.sqrt(proportion*(1-proportion)/population_size)\n",
    "\n",
    "print('A ' + repr(level_of_confidence*100) + ' % lower confidence interval for the success rate is '+ repr(round(CI,3)) + ' < p')\n",
    "print(\"Since the lower limit of the CI with 0.95 level confidence is bigger than the null hypothesis , we reject the null hypothesys , 0.78< 0.797 rainfall is greater than 25 acre-feet at alpha= 0.01\")"
   ]
  },
  {
   "attachments": {},
   "cell_type": "markdown",
   "metadata": {},
   "source": [
    "## Exercise 4 Book(ASPE: 9.5.4) </br>\n",
    "An article in Fortune (September 21, 1992) claimed that nearly one-half of all engineers continue academic studies beyond the B.S. degree, ultimately receiving either an M.S. or a Ph.D. degree. Data from an article in Engineering Horizons (Spring 1990) indicated that 117 of 484 new engineering graduates were planning graduate study </br>"
   ]
  },
  {
   "attachments": {},
   "cell_type": "markdown",
   "metadata": {},
   "source": [
    "**a)** Are the data from Engineering Horizons consistent with the claim reported by Fortune? Use α = 0.05 in reaching your conclusions.</br >\n",
    "Find the P-value for this test</br>\n",
    "**Testing Hypotheses on a Binomial Proportion**</br>\n",
    "**1.Parameter of interest:The parameter of interest is students planning graduate studies**</br >\n",
    "**2.Null Hypothesis: $H_0: p =0.50$** </br>\n",
    "**3.Alternative Hypothesis: $H_1: p \\neq 0.50$** We want to reject $H_0$ if the true proportion of students differs from 0.50, at $\\alpha=0.05$ </br>\n",
    "**4.Test statistic: The test statistic is $z_0=\\frac {X-n*p_{0}}{ \\sqrt{n*p_{0}*(1-p_0)}}$** or $z_0=\\frac {\\overline{p}-p_{0}}{ \\sqrt{\\frac{p_{0}*(1-p_{0})}{n}}}$ </br>\n",
    "**5.Reject $H_0$ if: $|Z_0| > Z_{0.05}$, assume  $\\alpha$=0.05 and $z_{\\alpha}=z_{0.05}=1.65$ for n=484** </br>\n",
    "**6.Computations: Reject $H_0$ if the true succes rate is bigger than the hypothesed one at 0.05, or the P-value is less than 0.05** </br>"
   ]
  },
  {
   "cell_type": "code",
   "execution_count": 14,
   "metadata": {},
   "outputs": [
    {
     "data": {
      "text/latex": [
       "$\\displaystyle z_{0.05}=1.645$"
      ],
      "text/plain": [
       "<IPython.core.display.Math object>"
      ]
     },
     "metadata": {},
     "output_type": "display_data"
    },
    {
     "data": {
      "text/latex": [
       "$\\displaystyle z_{0}=-11.36$"
      ],
      "text/plain": [
       "<IPython.core.display.Math object>"
      ]
     },
     "metadata": {},
     "output_type": "display_data"
    },
    {
     "data": {
      "text/latex": [
       "$\\displaystyle P-value=8.0 \\cdot 10^{-8}$"
      ],
      "text/plain": [
       "<IPython.core.display.Math object>"
      ]
     },
     "metadata": {},
     "output_type": "display_data"
    },
    {
     "name": "stdout",
     "output_type": "stream",
     "text": [
      "7. Conclusions:  From z-score table we find for a normal distribution with z0 = 2.06 \n",
      " which is bigger than z_crit = 1.645. \n",
      " Therefore we reject the H_0 hypothesis and conclude that true success rate is greater than 0.78, at alpha = 0.05.\n"
     ]
    }
   ],
   "source": [
    "\n",
    "alpha = 0.05\n",
    "sample_size = 117\n",
    "population_size = 484\n",
    "proportion = sample_size/population_size\n",
    "hypothesis_rate = 0.50 ## null hypothesiss\n",
    "\n",
    "## carefully this is a one sided test hence interval we are looking at is 1-alpha, not 1-alpha/2\n",
    "##carefully this \n",
    "z_crit = stats.norm.ppf(1-alpha)\n",
    "display(Math('z_{0.05}='+latex(round(z_crit,3))))\n",
    "\n",
    "test_statistic_hypothesis = (proportion-hypothesis_rate)/np.sqrt((hypothesis_rate*(1-hypothesis_rate)) / population_size)\n",
    "display(Math( 'z_{0}='+ latex(round(test_statistic_hypothesis,2))))\n",
    "\n",
    "## notice we are using sf function, alternative use 1-cdf\n",
    "## additionally this is a one sided tail test, so to test \n",
    "p_value = norm.sf(np.abs(test_statistic_hypothesis))\n",
    "display(Math( 'P-value='+ latex(round(p_value,3))))\n",
    "\n",
    "print('7. Conclusions:  From z-score table we find for a normal distribution with z0 = 2.06 \\n which is bigger than z_crit = 1.645. \\n Therefore we reject the H_0 hypothesis and conclude that true success rate is greater than 0.78, at alpha = 0.05.')"
   ]
  },
  {
   "attachments": {},
   "cell_type": "markdown",
   "metadata": {},
   "source": [
    "**b)** Discuss how you could have answered the question in part (a) by constructing a two-sided confidence interval on p.</br >\n",
    "Because the alternative H_1 hypothesys states, we have to reject that sdiffers 0.5 percents, so to prove the alternative </br> hypothesis we have to calculate the two-side 95% confidence bound.</br>\n",
    "Calculate this: </br>\n",
    "$\\overline{p}- z_{\\alpha}* \\sqrt{\\frac{\\overline{p}*(1-\\overline{p})}{n}} \\leq p \\leq \\overline{p}+ z_{\\alpha}* \\sqrt{\\frac{\\overline{p}*(1-\\overline{p})}{n}}$"
   ]
  },
  {
   "cell_type": "code",
   "execution_count": 72,
   "metadata": {},
   "outputs": [
    {
     "data": {
      "text/latex": [
       "$\\displaystyle z_{0.05}=|0.126|$"
      ],
      "text/plain": [
       "<IPython.core.display.Math object>"
      ]
     },
     "metadata": {},
     "output_type": "display_data"
    },
    {
     "name": "stdout",
     "output_type": "stream",
     "text": [
      "A 90.0 % confidence interval for the success rate is 0.238 < p <0.242]\n",
      "Since the lower limit of the CI with 0.95 level confidence is bigger than the null hypothesis , we reject the null hypothesys , 0.78< 0.797 rainfall is greater than 25 acre-feet at alpha= 0.01\n"
     ]
    }
   ],
   "source": [
    "alpha = 0.05\n",
    "sample_size = 117\n",
    "population_size = 489\n",
    "## carefullly this is rounded\n",
    "proportion = round(sample_size/population_size,2)\n",
    "hypothesis_rate = 0.50 ## null hypothesiss\n",
    "level_of_confidence = 0.90\n",
    "\n",
    "SE = proportion/np.sqrt(sample_size)\n",
    "\n",
    "## carefully this is a one sided test hence interval we are looking at is 1-alpha, not 1-alpha/2\n",
    "## carefullly this is rounded\n",
    "## take the abs value !!!!!\n",
    "z_crit = abs(round(stats.norm.ppf(level_of_confidence/2),3))\n",
    "display(Math('z_{0.05}=|'+latex(z_crit)+\"|\"))\n",
    "\n",
    "CI_lower = proportion - z_crit*np.sqrt(proportion*(1-proportion)/population_size)\n",
    "\n",
    "CI_upper= proportion + z_crit*np.sqrt(proportion*(1-proportion)/population_size)\n",
    "\n",
    "print('A ' + repr(level_of_confidence*100) + ' % confidence interval for the success rate is '+ repr(round(CI_lower,3)) + ' < p <'+ repr(round(CI_upper,3)) +\"]\" )\n",
    "print(\"Since the lower limit of the CI with 0.95 level confidence is bigger than the null hypothesis , we reject the null hypothesys , 0.78< 0.797 rainfall is greater than 25 acre-feet at alpha= 0.01\")"
   ]
  },
  {
   "attachments": {},
   "cell_type": "markdown",
   "metadata": {},
   "source": [
    "## Exam 2014 Assignment 2 (c)\n",
    "An IT company receives its printed circuit boards from two different suppliers, 1 and 2. Records show that 5% of the circuit boards from supplier 1 and 3% of the circuit boards from supplier 2 are defective. 60% of the company’s current circuit boards come from supplier 2, and the remaining from supplier 1. The company usually keeps a stock of 2000 circuit boards"
   ]
  },
  {
   "attachments": {},
   "cell_type": "markdown",
   "metadata": {},
   "source": [
    "**a)** Based on this information, construct a contingency table of the company’s circuit board stock </br>\n"
   ]
  },
  {
   "cell_type": "code",
   "execution_count": 26,
   "metadata": {},
   "outputs": [
    {
     "data": {
      "text/html": [
       "<div>\n",
       "<style scoped>\n",
       "    .dataframe tbody tr th:only-of-type {\n",
       "        vertical-align: middle;\n",
       "    }\n",
       "\n",
       "    .dataframe tbody tr th {\n",
       "        vertical-align: top;\n",
       "    }\n",
       "\n",
       "    .dataframe thead th {\n",
       "        text-align: right;\n",
       "    }\n",
       "</style>\n",
       "<table border=\"1\" class=\"dataframe\">\n",
       "  <thead>\n",
       "    <tr style=\"text-align: right;\">\n",
       "      <th></th>\n",
       "      <th>1</th>\n",
       "      <th>2</th>\n",
       "      <th>3</th>\n",
       "    </tr>\n",
       "  </thead>\n",
       "  <tbody>\n",
       "    <tr>\n",
       "      <th>1</th>\n",
       "      <td>40</td>\n",
       "      <td>760</td>\n",
       "      <td>800</td>\n",
       "    </tr>\n",
       "    <tr>\n",
       "      <th>2</th>\n",
       "      <td>36</td>\n",
       "      <td>1164</td>\n",
       "      <td>1200</td>\n",
       "    </tr>\n",
       "    <tr>\n",
       "      <th>3</th>\n",
       "      <td>76</td>\n",
       "      <td>1924</td>\n",
       "      <td>2000</td>\n",
       "    </tr>\n",
       "  </tbody>\n",
       "</table>\n",
       "</div>"
      ],
      "text/plain": [
       "    1     2     3\n",
       "1  40   760   800\n",
       "2  36  1164  1200\n",
       "3  76  1924  2000"
      ]
     },
     "execution_count": 26,
     "metadata": {},
     "output_type": "execute_result"
    }
   ],
   "source": [
    "## Index 1 = Supplier 1\n",
    "## Index 2 = Supplier 2\n",
    "## Index 3 = Total\n",
    "\n",
    "## Column 1 = Defective\n",
    "## Column 2 = Non-defective\n",
    "## Column 3 = Total\n",
    "Index = [1, 2, 3]\n",
    "Columns = {1: [40, 36, 76], 2: [760, 1164, 1924], 3: [800,1200,2000]}\n",
    "df = pd.DataFrame(data=Columns, index = Index)\n",
    "df"
   ]
  },
  {
   "attachments": {},
   "cell_type": "markdown",
   "metadata": {},
   "source": [
    "**Book Example Page 233**"
   ]
  },
  {
   "cell_type": "code",
   "execution_count": 57,
   "metadata": {},
   "outputs": [
    {
     "name": "stdout",
     "output_type": "stream",
     "text": [
      "Critical value 5.991464547107979\n",
      "Chi-square statistic: 49.63235294117647\n",
      "P-value: 1.6690582619123915e-11\n",
      "Degrees of freedom: 2\n",
      "Expected frequencies:\n",
      " [[136.  64.]\n",
      " [136.  64.]\n",
      " [ 68.  32.]]\n"
     ]
    }
   ],
   "source": [
    "observed = np.array([[160, 40], [ 140, 60], [40, 60]])\n",
    "test_statistic = stats.chi2_contingency(observed)\n",
    "\n",
    "crit_value_alpha = 0.05\n",
    "ddof = test_statistic[2]\n",
    "critical_value = stats.chi2.ppf(1-alpha,ddof)\n",
    "\n",
    "print(\"Critical value\", critical_value)\n",
    "\n",
    "print(\"Chi-square statistic:\", test_statistic[0])\n",
    "print(\"P-value:\", test_statistic[1])\n",
    "print(\"Degrees of freedom:\", test_statistic[2])\n",
    "print(\"Expected frequencies:\\n\", test_statistic[3])\n"
   ]
  },
  {
   "attachments": {},
   "cell_type": "markdown",
   "metadata": {},
   "source": [
    "**c)** Is there sufficient evidence to support the claim that the rate of defectives depends very significantly on supplier? \n",
    "</br>\n",
    "**Tests on the Difference in Means of Two Normal Distributions, Variances Unknown and Equal**</br>\n",
    "**1.Parameter of interest:The parameter of interest is the mean coefficient of restitution, μ.**</br >\n",
    "**2.Null Hypothesis: $H_0$: Defectives rate are independent from the supplier** </br>\n",
    "**3.Alternative Hypothesis: $H_1$: Defectives rate are dependent from the supplier** </br>\n",
    "**4.Test statistic: $\\chi_{0}^2= \\sum_{i=1}^2 \\sum_{j=1}^3 \\frac{O_{ij-E_{ij}}}{E_{ij}}$**</br>\n",
    "**5.Reject $H_0$ if: We will use a fixed-significance level test with α = 0.05. Therefore, because r = 2 and c = 2,\n",
    "the degrees of freedom for chi-square are (r − 1)(c − 1)= (1)(1) = 1, and we would reject $H_0$ if $\\chi_{0}^2=\\chi_{0.05,2}^2=5.99$** </br>\n",
    "**6.Computations: Reject $H_0$ if the P-value is bigger than 0.05** </br>"
   ]
  },
  {
   "cell_type": "code",
   "execution_count": 59,
   "metadata": {},
   "outputs": [
    {
     "name": "stdout",
     "output_type": "stream",
     "text": [
      "Critical value 3.841458820694124\n",
      "Chi-square statistic: 4.719357515410149\n",
      "P-value: 0.029824884837618415\n",
      "Degrees of freedom: 1\n",
      "Expected frequencies:\n",
      " [[  30.4   45.6]\n",
      " [ 769.6 1154.4]]\n"
     ]
    }
   ],
   "source": [
    "observed = np.array([[40, 36], [ 760, 1164]])\n",
    "test_statistic = stats.chi2_contingency(observed)\n",
    "\n",
    "crit_value_alpha = 0.05\n",
    "ddof = test_statistic[2]\n",
    "critical_value = stats.chi2.ppf(1-alpha,ddof)\n",
    "\n",
    "print(\"Critical value\", critical_value)\n",
    "\n",
    "print(\"Chi-square statistic:\", test_statistic[0])\n",
    "print(\"P-value:\", test_statistic[1])\n",
    "print(\"Degrees of freedom:\", test_statistic[2])\n",
    "print(\"Expected frequencies:\\n\", test_statistic[3])"
   ]
  },
  {
   "attachments": {},
   "cell_type": "markdown",
   "metadata": {},
   "source": [
    "## Exam 2015 Assignment 3\n",
    "A computer scientist is investigating the usefulness of two different design languages in improving programming tasks. Twelve expert programmers, familiar with both languages, are asked to code a standard function in both languages, and the time (in minutes) is recorded. The data follows below </br>"
   ]
  },
  {
   "attachments": {},
   "cell_type": "markdown",
   "metadata": {},
   "source": [
    "**a)** Determine the mean, standard deviation and interquartile range for both sets of data </br>\n"
   ]
  },
  {
   "cell_type": "code",
   "execution_count": 14,
   "metadata": {},
   "outputs": [
    {
     "data": {
      "text/latex": [
       "$\\displaystyle Mean (Design Lang 1)= 17.916666666666668$"
      ],
      "text/plain": [
       "<IPython.core.display.Math object>"
      ]
     },
     "metadata": {},
     "output_type": "display_data"
    },
    {
     "data": {
      "text/latex": [
       "$\\displaystyle Mean (Design Lang 2)= 17.25$"
      ],
      "text/plain": [
       "<IPython.core.display.Math object>"
      ]
     },
     "metadata": {},
     "output_type": "display_data"
    },
    {
     "data": {
      "text/latex": [
       "$\\displaystyle Standard Deviation (Design Lang 1)= 3.629633924274241$"
      ],
      "text/plain": [
       "<IPython.core.display.Math object>"
      ]
     },
     "metadata": {},
     "output_type": "display_data"
    },
    {
     "data": {
      "text/latex": [
       "$\\displaystyle Standard Deviation (Design Lang 2)= 4.594957710756037$"
      ],
      "text/plain": [
       "<IPython.core.display.Math object>"
      ]
     },
     "metadata": {},
     "output_type": "display_data"
    },
    {
     "data": {
      "text/latex": [
       "$\\displaystyle IQR 1 (Interquatile Design Lang 1)= 5.5$"
      ],
      "text/plain": [
       "<IPython.core.display.Math object>"
      ]
     },
     "metadata": {},
     "output_type": "display_data"
    },
    {
     "data": {
      "text/latex": [
       "$\\displaystyle IQR 2 (Interquatile Design Lang 2)= 6.5$"
      ],
      "text/plain": [
       "<IPython.core.display.Math object>"
      ]
     },
     "metadata": {},
     "output_type": "display_data"
    }
   ],
   "source": [
    "design_language_1 = [17,16,21,14,18,24,16,14,21,23,13,18]\n",
    "design_language_2 = [18,14,19,11,23,21,10,13,19,24,15,20]\n",
    "\n",
    "## Mean deviation calculation\n",
    "mean_design_lang_1 = np.mean(design_language_1)\n",
    "mean_design_lang_2 = np.mean(design_language_2)\n",
    "\n",
    "display(Math(\"Mean (Design Lang 1)= \" + repr(mean_design_lang_1)))\n",
    "display(Math(\"Mean (Design Lang 2)= \" + repr(mean_design_lang_2)))\n",
    "\n",
    "## Standard deviation calculation\n",
    "std_design_lang_1 = np.std(design_language_1, ddof=1) \n",
    "std_design_lang_2 = np.std(design_language_2, ddof=1)\n",
    "\n",
    "display(Math(\"Standard Deviation (Design Lang 1)= \" + repr(std_design_lang_1)))\n",
    "display(Math(\"Standard Deviation (Design Lang 2)= \" + repr(std_design_lang_2)))\n",
    "\n",
    "## InterQuartile calculation\n",
    "quartile_1_design_1= np.percentile(design_language_1, 25)\n",
    "quartile_2_design_1 = np.percentile(design_language_1, 75)\n",
    "\n",
    "quartile_1_design_2= np.percentile(design_language_2, 25)\n",
    "quartile_2_design_2 =  np.percentile(design_language_2, 75)\n",
    "\n",
    "display(Math(\"IQR 1 (Interquatile Design Lang 1)= \" + repr(quartile_2_design_1-quartile_1_design_1)))\n",
    "\n",
    "display(Math(\"IQR 2 (Interquatile Design Lang 2)= \" + repr(quartile_2_design_2-quartile_1_design_2)))"
   ]
  },
  {
   "attachments": {},
   "cell_type": "markdown",
   "metadata": {},
   "source": [
    "**b)** Setup a 95% confidence interval on the mean time in minutes for both sets of data. What do these confidence intervals indicate with regard to one design language being preferable?</br>\n",
    "**Confidence Interval on the Difference in Means, Variances Known** Page 251"
   ]
  },
  {
   "cell_type": "code",
   "execution_count": 73,
   "metadata": {},
   "outputs": [
    {
     "name": "stdout",
     "output_type": "stream",
     "text": [
      "A 95.0 % confidence interval for the sample mean is [-4.2572 < miu_1 - miu_2 < 5.5905]\n"
     ]
    }
   ],
   "source": [
    "level_of_confidence = 0.95\n",
    "\n",
    "design_language_1 = [17, 16, 21, 14, 18, 24, 16, 14, 21, 23, 13, 18]\n",
    "design_language_2 = [18, 14, 19, 11, 23, 21, 10, 13, 19, 24, 15, 20]\n",
    "\n",
    "## array length\n",
    "arr1_length= len(design_language_1)\n",
    "arr2_length= len(design_language_2)\n",
    "\n",
    "## Degree of freedom\n",
    "ddof = arr1_length+arr2_length-2\n",
    "\n",
    "## Mean deviation calculation\n",
    "mean_design_lang_1 = np.mean(design_language_1)\n",
    "mean_design_lang_2 = np.mean(design_language_2)\n",
    "sample_mean = mean_design_lang_1 - mean_design_lang_2\n",
    "\n",
    "## Standard error\n",
    "SE_1 = stats.sem(design_language_1)\n",
    "SE_2 = stats.sem(design_language_2)\n",
    "SE = SE_1 + SE_2\n",
    "\n",
    "CI = stats.t.interval(level_of_confidence, df = ddof, loc = sample_mean, scale = SE)\n",
    "\n",
    "print('A ' + repr(level_of_confidence*100) + ' % confidence interval for the sample mean is [' + repr(round(CI[0],4)) + ' < miu_1 - miu_2 < '\n",
    "      + repr(round(CI[1],4)) + ']')"
   ]
  },
  {
   "attachments": {},
   "cell_type": "markdown",
   "metadata": {},
   "source": [
    "**c)** Test the hypothesis that the mean time in minutes for coding the standard function of the two languages are equal </br>\n",
    "**Tests on the Difference in Means, Variances Known**</br>\n",
    "**1.Parameter of interest:mean time for coding the standard function is of the two languages are equal**</br >\n",
    "**2.Null Hypothesis: $H_0:\\mu_1 = \\mu_2$** </br>\n",
    "**3.Alternative Hypothesis: $H_1: \\mu_1 \\neq \\mu_2$** We want to reject $H_0$ if the mean time for language 1 is not equal with lang 2</br>\n",
    "**4.Test statistic: The test statistic is $Z_0=\\frac{\\overline{X_1}-\\overline{X_2}-\\Delta_0}{\\sqrt{\\frac{\\sigma_{1}^2}{n_1}-\\frac{\\sigma_{1}^2}{n_1}}}$** </br>\n",
    "**5.Reject $H_0$ if: $|Z_0| > Z_{\\frac{0.05}{2}}$** </br>\n",
    "**6.Computations: Reject $H_0$ if the P-value is bigger than 0.05** </br>\n",
    "BOOK Page 248"
   ]
  },
  {
   "cell_type": "code",
   "execution_count": 99,
   "metadata": {},
   "outputs": [
    {
     "name": "stdout",
     "output_type": "stream",
     "text": [
      "Fail to reject since 0.4524 > 0.05\n"
     ]
    }
   ],
   "source": [
    "alpha=0.05\n",
    "design_language_1 = [17, 16, 21, 14, 18, 24, 16, 14, 21, 23, 13, 18]\n",
    "design_language_2 = [18, 14, 19, 11, 23, 21, 10, 13, 19, 24, 15, 20]\n",
    "\n",
    "val = stats.ttest_rel(design_language_1, design_language_2)\n",
    "p_value = round(val[1], 4)\n",
    "if p_value < alpha:\n",
    "    print(\"Reject since \" + repr(p_value) + ' < ' + repr(alpha))\n",
    "else:\n",
    "    print(\"Fail to reject since \" + repr(p_value) + ' > ' + repr(alpha))"
   ]
  },
  {
   "attachments": {},
   "cell_type": "markdown",
   "metadata": {},
   "source": [
    "## Exam 2015 Assignment 4\n",
    "Two different machines, A and B, which are used to measure blood pressure, are tested on 12 different patients such that each patient has his/her blood pressure measured by both machines. The results for the systolic blood pressure are displayed in the table below: </br>"
   ]
  },
  {
   "attachments": {},
   "cell_type": "markdown",
   "metadata": {},
   "source": [
    "**a)** Determine the mean, standard deviation and interquartile range for both sets of data"
   ]
  },
  {
   "cell_type": "code",
   "execution_count": 5,
   "metadata": {},
   "outputs": [
    {
     "data": {
      "text/latex": [
       "$\\displaystyle Mean (Machine A)= 133.41666666666666$"
      ],
      "text/plain": [
       "<IPython.core.display.Math object>"
      ]
     },
     "metadata": {},
     "output_type": "display_data"
    },
    {
     "data": {
      "text/latex": [
       "$\\displaystyle Mean (Machine B)= 127.16666666666667$"
      ],
      "text/plain": [
       "<IPython.core.display.Math object>"
      ]
     },
     "metadata": {},
     "output_type": "display_data"
    },
    {
     "data": {
      "text/latex": [
       "$\\displaystyle Standard Deviation (Machine A)= 15.234281516807197$"
      ],
      "text/plain": [
       "<IPython.core.display.Math object>"
      ]
     },
     "metadata": {},
     "output_type": "display_data"
    },
    {
     "data": {
      "text/latex": [
       "$\\displaystyle Standard Deviation (Machine B)= 16.81359478805677$"
      ],
      "text/plain": [
       "<IPython.core.display.Math object>"
      ]
     },
     "metadata": {},
     "output_type": "display_data"
    },
    {
     "data": {
      "text/latex": [
       "$\\displaystyle IQR 1 (Machine A)= 21.0$"
      ],
      "text/plain": [
       "<IPython.core.display.Math object>"
      ]
     },
     "metadata": {},
     "output_type": "display_data"
    },
    {
     "data": {
      "text/latex": [
       "$\\displaystyle IQR 2 (Machine A)= 27.75$"
      ],
      "text/plain": [
       "<IPython.core.display.Math object>"
      ]
     },
     "metadata": {},
     "output_type": "display_data"
    }
   ],
   "source": [
    "machine_A = [119, 130, 141, 123, 149, 156, 134, 108, 128, 138, 119, 156]\n",
    "machine_B = [112, 126, 145, 112, 138, 156, 130, 112, 112, 119, 112, 152]\n",
    "\n",
    "## Mean deviation calculation\n",
    "mean_machine_A = np.mean(machine_A)\n",
    "mean_machine_B = np.mean(machine_B)\n",
    "\n",
    "display(Math(\"Mean (Machine A)= \" + repr(mean_machine_A)))\n",
    "display(Math(\"Mean (Machine B)= \" + repr(mean_machine_B)))\n",
    "\n",
    "## Standard deviation calculation\n",
    "std_design_lang_1 = np.std(machine_A, ddof=1)\n",
    "std_design_lang_2 = np.std(machine_B, ddof=1)\n",
    "\n",
    "display(Math(\"Standard Deviation (Machine A)= \" + repr(std_design_lang_1)))\n",
    "display(Math(\"Standard Deviation (Machine B)= \" + repr(std_design_lang_2)))\n",
    "\n",
    "## InterQuartile calculation\n",
    "quartile_1_machine_A= np.percentile(machine_A, 25)\n",
    "quartile_2_machine_A = np.percentile(machine_A, 75)\n",
    "\n",
    "quartile_1_machine_B= np.percentile(machine_B, 25)\n",
    "quartile_2_machine_B =  np.percentile(machine_B, 75)\n",
    "\n",
    "display(Math(\"IQR 1 (Machine A)= \" + repr(quartile_2_machine_A-quartile_1_machine_A)))\n",
    "\n",
    "display(Math(\"IQR 2 (Machine A)= \" + repr(quartile_2_machine_B-quartile_1_machine_B)))"
   ]
  },
  {
   "attachments": {},
   "cell_type": "markdown",
   "metadata": {},
   "source": [
    "**b)** Is it possible to conclude with statistical significance that the two machines give different measurement? Design an appropriate test to answer this question. </br>\n",
    "**Tests on the Difference in Means, Variances Known**</br>\n",
    "**1.Parameter of interest:mean time for coding the standard function is of the two languages are equal**</br >\n",
    "**2.Null Hypothesis: $H_0:\\mu_1 = \\mu_2$** </br>\n",
    "**3.Alternative Hypothesis: $H_1: \\mu_1 \\neq \\mu_2$** We want to reject $H_0$ if the mean time for language 1 is not equal with lang 2</br>\n",
    "**4.Test statistic: The test statistic is $Z_0=\\frac{\\overline{X_1}-\\overline{X_2}-\\Delta_0}{\\sqrt{\\frac{\\sigma_{1}^2}{n_1}-\\frac{\\sigma_{1}^2}{n_1}}}$** </br>\n",
    "**5.Reject $H_0$ if: $|Z_0| > Z_{\\frac{0.05}{2}}$** </br>\n",
    "**6.Computations: Reject $H_0$ if the P-value is bigger than 0.05** </br>\n",
    "BOOK Page 248"
   ]
  },
  {
   "cell_type": "code",
   "execution_count": 15,
   "metadata": {},
   "outputs": [
    {
     "name": "stdout",
     "output_type": "stream",
     "text": [
      "Reject since 0.01182 < 0.05\n"
     ]
    }
   ],
   "source": [
    "alpha=0.05\n",
    "machine_A = [119, 130, 141, 123, 149, 156, 134, 108, 128, 138, 119, 156]\n",
    "machine_B = [112, 126, 145, 112, 138, 156, 130, 112, 112, 119, 112, 152]\n",
    "\n",
    "val = stats.ttest_rel(machine_A, machine_B)\n",
    "p_value = round(val[1], 4)\n",
    "if p_value < alpha:\n",
    "    print(\"Reject since \" + repr(p_value) + ' < ' + repr(alpha))\n",
    "else:\n",
    "    print(\"Fail to reject since \" + repr(p_value) + ' > ' + repr(alpha))"
   ]
  },
  {
   "attachments": {},
   "cell_type": "markdown",
   "metadata": {},
   "source": [
    "**c)** Explain what the P-value obtained in b) actually means.</br>\n",
    "The p-value indicates the probability of obtaining the samples given that the null hypothesis is true, i.e. under the assumption that the two machines yield similar measurements, the probability of obtaining the results from assignment a) is 0,0117."
   ]
  },
  {
   "attachments": {},
   "cell_type": "markdown",
   "metadata": {},
   "source": [
    "## Exam 2016 Assignment 4\n",
    "An industrial safety program was recently instituted in the computer chip industry. The average weekly loss (averaged over 1 month) in labor-hours due to accidents in 10 similar plants both before and after the program are as follows: </br>"
   ]
  },
  {
   "attachments": {},
   "cell_type": "markdown",
   "metadata": {},
   "source": [
    "**a)** Determine whether the safety program has had a significant effect on reducing labor-hours due to accidents in the 10 plants. </br>\n",
    "**Tests on the Difference in Means, Variances Known**</br>\n",
    "**1.Parameter of interest: difference in the mean of the accidents after reducing labor hours**</br >\n",
    "**2.Null Hypothesis: $H_0:\\mu_1 = \\mu_2$** </br>\n",
    "**3.Alternative Hypothesis: $H_1: \\mu_1 \\neq \\mu_2$** We want to reject $H_0$ if the mean of accidents is not equal after introducing the safety program</br>\n",
    "**4.Test statistic: The test statistic is $Z_0=\\frac{\\overline{X_1}-\\overline{X_2}-\\Delta_0}{\\sqrt{\\frac{\\sigma_{1}^2}{n_1}-\\frac{\\sigma_{1}^2}{n_1}}}$** </br>\n",
    "**5.Reject $H_0$ if: $|Z_0| > Z_{\\frac{0.05}{2}}$** </br>\n",
    "**6.Computations: Reject $H_0$ if the P-value is bigger than 0.05** </br>\n",
    "BOOK Page 248"
   ]
  },
  {
   "cell_type": "code",
   "execution_count": 28,
   "metadata": {},
   "outputs": [
    {
     "name": "stdout",
     "output_type": "stream",
     "text": [
      "Test statistic:2.2659493332258522\n",
      "Reject since 0.0497 < 0.05\n"
     ]
    }
   ],
   "source": [
    "alpha = 0.05\n",
    "before = [30.5, 18.5, 24.5, 32, 16, 15, 23.5, 25.5, 28, 18]\n",
    "after = [23, 21, 22, 28.5, 14.5, 15.5, 24.5, 21, 23.5, 16.5]\n",
    "\n",
    "val = stats.ttest_rel(before, after)\n",
    "print(\"Test statistic:\"+ repr (val[0]))\n",
    "p_value = round(val[1], 4)\n",
    "if p_value < alpha:\n",
    "    print(\"Reject since \" + repr(p_value) + ' < ' + repr(alpha))\n",
    "else:\n",
    "    print(\"Fail to reject since \" + repr(p_value) + ' > ' + repr(alpha))"
   ]
  },
  {
   "attachments": {},
   "cell_type": "markdown",
   "metadata": {},
   "source": [
    "**b)** Setup a 95% confidence interval on the average difference and state how this interval could have been used to answer question a.</br>\n",
    "**Confidence Interval on the Difference in Means, Variances Known** Page 251"
   ]
  },
  {
   "cell_type": "code",
   "execution_count": 27,
   "metadata": {},
   "outputs": [
    {
     "name": "stdout",
     "output_type": "stream",
     "text": [
      "A 95.0 % confidence interval for the sample mean is [-4.8049 < miu_1 - miu_2 < 9.1049]\n"
     ]
    }
   ],
   "source": [
    "level_of_confidence = 0.95\n",
    "\n",
    "before = [30.5, 18.5, 24.5, 32, 16, 15, 23.5, 25.5, 28, 18]\n",
    "after = [23, 21, 22, 28.5, 14.5, 15.5, 24.5, 21, 23.5, 16.5]\n",
    "\n",
    "## array length\n",
    "arr1_length= len(before)\n",
    "arr2_length= len(after)\n",
    "\n",
    "## Degree of freedom\n",
    "ddof = arr1_length+arr2_length-2\n",
    "\n",
    "## Mean deviation calculation\n",
    "mean_design_before = np.mean(before)\n",
    "mean_design_after = np.mean(after)\n",
    "sample_mean = mean_design_before - mean_design_after\n",
    "\n",
    "## Standard error\n",
    "SE_1 = stats.sem(before)\n",
    "SE_2 = stats.sem(after)\n",
    "SE = SE_1 + SE_2\n",
    "\n",
    "CI = stats.t.interval(level_of_confidence, df = ddof-1, loc = sample_mean, scale = SE)\n",
    "\n",
    "print('A ' + repr(level_of_confidence*100) + ' % confidence interval for the sample mean is [' + repr(round(CI[0],4)) + ' < miu_1 - miu_2 < '\n",
    "      + repr(round(CI[1],4)) + ']')"
   ]
  },
  {
   "attachments": {},
   "cell_type": "markdown",
   "metadata": {},
   "source": [
    "**c)** Is there evidence to support the claim that the program has had an effect at the 1% level of significance?</br>\n",
    "<span style=\"color:red\">DO THIS ONE</span>"
   ]
  },
  {
   "cell_type": "code",
   "execution_count": null,
   "metadata": {},
   "outputs": [],
   "source": []
  },
  {
   "attachments": {},
   "cell_type": "markdown",
   "metadata": {},
   "source": [
    "## Exam 2017 Assignment 5\n",
    "A recent study among 254 computer science graduates from Aarhus University was made in order to determine how successful the former students were in their current employment. 98 of these students had taken a course in linear algebra and of these 92 were classified as “successful” in their current employment. 136 of the students who had not taken a course in linear algebra were classified as “successful” in their current employment. </br>"
   ]
  },
  {
   "attachments": {},
   "cell_type": "markdown",
   "metadata": {},
   "source": [
    "**a)** Is the evidence to support the claim that computer science graduates who had taken a linear algebra course were more successful in their current employment than those who had not taken such a course? </br>\n",
    "**Approximate Tests on the Difference of Two Population Proportions**\n",
    "**1.Parameter of interest:The parameters of interest are $P_1$ and $P_2$ , the proportion of computer science graduates who had taken a linear algebra course were more successful in their current employment than those who had not taken such a course**</br >\n",
    "**2.Null Hypothesis: $H_0: p_1 =p_2$** </br>\n",
    "**3.Alternative Hypothesis: $H_1: p_1 > p_2$**</br>\n",
    "**4.Test statistic: The test statistic is $z_0= \\frac{\\overline{p_1}-\\overline{p_2}}{\\sqrt{\\overline{p}*(1-\\overline{p})*(\\frac{1}{n_1}-\\frac{1}{n_2})}}$, where $\\overline{p}=\\frac{x_1+x_2}{n_1+n_2}$** </br>\n",
    "**5.Reject $H_0$ if: $p_1=p_2$ if the P-value is lessthan 0.05.** </br>\n",
    "**6.Computations: Reject $H_0$ if the true succes rate is bigger than the hypothesed one at 0.05, or the P-value is less than 0.05** </br>\n"
   ]
  },
  {
   "cell_type": "code",
   "execution_count": 72,
   "metadata": {},
   "outputs": [
    {
     "data": {
      "text/latex": [
       "$\\displaystyle z_{0.05}=1.645$"
      ],
      "text/plain": [
       "<IPython.core.display.Math object>"
      ]
     },
     "metadata": {},
     "output_type": "display_data"
    },
    {
     "data": {
      "text/latex": [
       "$\\displaystyle z_{0}=1.71$"
      ],
      "text/plain": [
       "<IPython.core.display.Math object>"
      ]
     },
     "metadata": {},
     "output_type": "display_data"
    },
    {
     "data": {
      "text/latex": [
       "$\\displaystyle P-value=0.043$"
      ],
      "text/plain": [
       "<IPython.core.display.Math object>"
      ]
     },
     "metadata": {},
     "output_type": "display_data"
    },
    {
     "name": "stdout",
     "output_type": "stream",
     "text": [
      "7. Conclusions:  From z-score table we find for a normal distribution with z0 = 1.96 \n",
      " which is bigger than z_crit = 1.71. \n",
      " Therefore we reject the H_0 hypothesis and conclude that true success rate is greater than 0.78, at alpha = 0.05.\n",
      "Test statistic: 1.7143021919557946\n",
      "P-value: 0.0432366203953335\n",
      "Reject since 0.0432366203953335 < 0.05\n"
     ]
    }
   ],
   "source": [
    "alpha = 0.05\n",
    "\n",
    "population_size = 254\n",
    "\n",
    "attended_linear_algebra = 98\n",
    "attended_linear_algebra_success = 92\n",
    "\n",
    "not_attended_linear_algebra = population_size - attended_linear_algebra\n",
    "not_attended_linear_algebra_success = 136\n",
    "\n",
    "proportion_1 = attended_linear_algebra_success/attended_linear_algebra\n",
    "proportion_2 = not_attended_linear_algebra_success/not_attended_linear_algebra\n",
    "\n",
    "proportion = (attended_linear_algebra_success+not_attended_linear_algebra_success)/(attended_linear_algebra+not_attended_linear_algebra)\n",
    "\n",
    "## carefully this is a two sided test hence interval we are looking at is 1-alpha, not 1-alpha/2\n",
    "##carefully this \n",
    "z_crit = stats.norm.ppf(1-alpha)\n",
    "display(Math('z_{0.05}='+latex(round(z_crit,3))))\n",
    "\n",
    "test_statistic_hypothesis = (proportion_1-proportion_2)/np.sqrt(proportion*(1-proportion)*(1/attended_linear_algebra +1/not_attended_linear_algebra))\n",
    "display(Math( 'z_{0}='+ latex(round(test_statistic_hypothesis,2))))\n",
    "\n",
    "## notice we are using sf function, alternative use 1-cdf\n",
    "## additionally this is a one sided tail test, so to test \n",
    "p_value = norm.sf(np.abs(test_statistic_hypothesis))\n",
    "display(Math( 'P-value='+ latex(round(p_value,3))))\n",
    "\n",
    "print('7. Conclusions:  From z-score table we find for a normal distribution with z0 = 1.96 \\n which is bigger than z_crit = 1.71. \\n Therefore we reject the H_0 hypothesis and conclude that true success rate is greater than 0.78, at alpha = 0.05.')\n",
    "\n",
    "\n",
    "## Alternative just use\n",
    "val = sm.stats.proportions_ztest([attended_linear_algebra_success, not_attended_linear_algebra_success], [attended_linear_algebra, not_attended_linear_algebra], value = None, alternative = 'larger')\n",
    "p_value = val[1]\n",
    "print(\"Test statistic: \"+repr(val[0]))\n",
    "print(\"P-value: \"+repr(val[1]))\n",
    "\n",
    "if p_value < alpha:\n",
    "    print(\"Reject since \" + repr(p_value) + ' < ' + repr(alpha))\n",
    "else:\n",
    "    print(\"Fail to reject since \" + repr(p_value) + ' > ' + repr(alpha))\n"
   ]
  },
  {
   "attachments": {},
   "cell_type": "markdown",
   "metadata": {},
   "source": [
    "**c)** Explain the meaning of the p-value obtained in question (a), i.e. what does this probability refer to?</br>\n",
    "We reject the $H_0$ hypothesis and conclude that the students that have taken linear algebra are more successful in their job \n",
    "<span style=\"color:red\">CHECK THIS AGAIN</span>"
   ]
  },
  {
   "attachments": {},
   "cell_type": "markdown",
   "metadata": {},
   "source": [
    "## Exam 2018 Assignment 4\n",
    "Two producers of batteries measure the longevity of 30 batteries of the same type, which were\n",
    "randomly chosen from a larger batch of such batteries. The lifetime (in hundreds of hours) is\n",
    "displayed “Batteries.xlsx”."
   ]
  },
  {
   "attachments": {},
   "cell_type": "markdown",
   "metadata": {},
   "source": [
    "**a)** Check the dataset for outliers and replace any outliers with the mean lifetime of the producer in question. Use this cleaned dataset in the following questions.</br>\n"
   ]
  },
  {
   "cell_type": "code",
   "execution_count": 55,
   "metadata": {},
   "outputs": [
    {
     "name": "stdout",
     "output_type": "stream",
     "text": [
      "    Producer 1\n",
      "25     21867.0\n",
      "29     43498.0\n",
      "[2.1162 2.5135 1.8137 0.8075 1.5554 0.7835 1.2408 2.5437 0.0104 1.9363\n",
      " 1.3427 3.6309 1.0839 1.7935 1.1715 2.2903 3.637  3.5418 2.4258 2.3523\n",
      " 2.2032 2.5672 0.8744 3.0823 0.5893 2.2649 0.9554 2.153 ]\n",
      "    Producer 2\n",
      "27     36006.0\n",
      "[1.1259 3.1725 2.4492 3.7766 4.4673 2.926  2.7876 2.8819 2.5765 1.7178\n",
      " 3.6318 2.903  2.0129 1.5625 0.6857 3.762  3.187  2.554  2.5884 3.2154\n",
      " 1.1242 0.6244 2.1114 3.0339 1.5689 2.456  2.3624 2.4093 2.1764]\n"
     ]
    }
   ],
   "source": [
    "df = pd.read_excel('~/SMP_Exercises/7_Hypothesis Testing/data/Batteries.xlsx', usecols=['Producer 1'])\n",
    "\n",
    "producer_1 = df['Producer 1']\n",
    "\n",
    "# Calculate the first and third quartiles and the IQR\n",
    "quatile1_producer_1 = producer_1.quantile(0.25)\n",
    "quatile3_producer_1 = producer_1.quantile(0.75)\n",
    "iqr = quatile3_producer_1 - quatile1_producer_1\n",
    "\n",
    "# Calculate the lower and upper bounds for outliers using Tukey's method\n",
    "lower_bound = quatile1_producer_1 - 1.5*iqr\n",
    "upper_bound = quatile3_producer_1 + 1.5*iqr\n",
    "\n",
    "# Identify the outliers\n",
    "outliers1 = df[(df['Producer 1'] < lower_bound) | (df['Producer 1'] > upper_bound)]\n",
    "\n",
    "cleaned_df = df[(df['Producer 1'] >= lower_bound) & (df['Producer 1'] <= upper_bound)]\n",
    "\n",
    "cleaned_producer1 = np.array(cleaned_df).flatten()\n",
    "\n",
    "print(outliers1)\n",
    "print(cleaned_producer1)\n",
    "\n",
    "df = pd.read_excel('~/SMP_Exercises/7_Hypothesis Testing/data/Batteries.xlsx', usecols=['Producer 2'])\n",
    "\n",
    "producer_2 = df['Producer 2']\n",
    "\n",
    "# Calculate the first and third quartiles and the IQR\n",
    "quatile1_producer_2 = producer_2.quantile(0.25)\n",
    "quatile3_producer_2 = producer_2.quantile(0.75)\n",
    "iqr = quatile3_producer_2 - quatile1_producer_2\n",
    "\n",
    "# Calculate the lower and upper bounds for outliers using Tukey's method\n",
    "lower_bound = quatile1_producer_2 - 1.5*iqr\n",
    "upper_bound = quatile3_producer_2 + 1.5*iqr\n",
    "\n",
    "# Identify the outliers\n",
    "outliers2 = df[(df['Producer 2'] < lower_bound) | (df['Producer 2'] > upper_bound)]\n",
    "\n",
    "cleaned_df = df[(df['Producer 2'] >= lower_bound) & (df['Producer 2'] <= upper_bound)]\n",
    "\n",
    "cleaned_producer2 = np.array(cleaned_df).flatten()\n",
    "\n",
    "print(outliers2)\n",
    "print(cleaned_producer2)\n"
   ]
  },
  {
   "attachments": {},
   "cell_type": "markdown",
   "metadata": {},
   "source": [
    "**b)** Determine estimates for the quartiles, average lifetime, standard deviation and variance of each producer’s battery.</br>\n"
   ]
  },
  {
   "cell_type": "code",
   "execution_count": 29,
   "metadata": {},
   "outputs": [
    {
     "data": {
      "text/latex": [
       "$\\displaystyle Mean (Machine A)= 1.9028714285714283$"
      ],
      "text/plain": [
       "<IPython.core.display.Math object>"
      ]
     },
     "metadata": {},
     "output_type": "display_data"
    },
    {
     "data": {
      "text/latex": [
       "$\\displaystyle Mean (Machine B)= 2.4776172413793103$"
      ],
      "text/plain": [
       "<IPython.core.display.Math object>"
      ]
     },
     "metadata": {},
     "output_type": "display_data"
    },
    {
     "data": {
      "text/latex": [
       "$\\displaystyle Standard Deviation (Producer 1)= 0.9440825806853123$"
      ],
      "text/plain": [
       "<IPython.core.display.Math object>"
      ]
     },
     "metadata": {},
     "output_type": "display_data"
    },
    {
     "data": {
      "text/latex": [
       "$\\displaystyle Standard Deviation (Producer 2)= 0.9285561191860363$"
      ],
      "text/plain": [
       "<IPython.core.display.Math object>"
      ]
     },
     "metadata": {},
     "output_type": "display_data"
    },
    {
     "data": {
      "text/latex": [
       "$\\displaystyle IQR 1 (Producer 1)= 1.2981250000000002$"
      ],
      "text/plain": [
       "<IPython.core.display.Math object>"
      ]
     },
     "metadata": {},
     "output_type": "display_data"
    },
    {
     "data": {
      "text/latex": [
       "$\\displaystyle IQR 2 (Producer 2)= 1.021$"
      ],
      "text/plain": [
       "<IPython.core.display.Math object>"
      ]
     },
     "metadata": {},
     "output_type": "display_data"
    }
   ],
   "source": [
    "\n",
    "## Mean deviation calculation\n",
    "mean_producer_1 = np.mean(cleaned_producer1)\n",
    "mean_producer_2 = np.mean(cleaned_producer2)\n",
    "\n",
    "display(Math(\"Mean (Machine A)= \" + repr(mean_producer_1)))\n",
    "display(Math(\"Mean (Machine B)= \" + repr(mean_producer_2)))\n",
    "\n",
    "## Standard deviation calculation\n",
    "std_producer_1 = np.std(cleaned_producer1, ddof=1)\n",
    "std_producer_2 = np.std(cleaned_producer2, ddof=1)\n",
    "\n",
    "display(Math(\"Standard Deviation (Producer 1)= \" + repr(std_producer_1)))\n",
    "display(Math(\"Standard Deviation (Producer 2)= \" + repr(std_producer_2)))\n",
    "\n",
    "## InterQuartile calculation\n",
    "quartile_1_producer_1= np.percentile(cleaned_producer1, 25)\n",
    "quartile_2_producer_1 = np.percentile(cleaned_producer1, 75)\n",
    "\n",
    "quartile_1_producer_2= np.percentile(cleaned_producer2, 25)\n",
    "quartile_2_producer_2 =  np.percentile(cleaned_producer2, 75)\n",
    "\n",
    "display(Math(\"IQR 1 (Producer 1)= \" + repr(quartile_2_producer_1-quartile_1_producer_1)))\n",
    "\n",
    "display(Math(\"IQR 2 (Producer 2)= \" + repr(quartile_2_producer_2-quartile_1_producer_2)))"
   ]
  },
  {
   "attachments": {},
   "cell_type": "markdown",
   "metadata": {},
   "source": [
    "**c)** Setup 95% confidence intervals for each mean battery lifetime from the two producers, and accompany the intervals with plots that display the rejection region."
   ]
  },
  {
   "cell_type": "code",
   "execution_count": 41,
   "metadata": {},
   "outputs": [
    {
     "name": "stdout",
     "output_type": "stream",
     "text": [
      "(array([1.53679442]), array([2.26894844]))\n"
     ]
    },
    {
     "data": {
      "image/png": "[encoded data removed]",
      "text/plain": [
       "<Figure size 640x480 with 1 Axes>"
      ]
     },
     "metadata": {},
     "output_type": "display_data"
    }
   ],
   "source": [
    "##Producer 1\n",
    "level_of_confidence = 0.95\n",
    "\n",
    "## array length\n",
    "arr_length= len(cleaned_producer1)\n",
    "\n",
    "## Degree of freedom\n",
    "ddof = arr_length-1\n",
    "\n",
    "## Mean deviation calculation\n",
    "sample_mean = np.mean(cleaned_producer1)\n",
    "\n",
    "## Standard error\n",
    "SE = stats.sem(cleaned_producer1)\n",
    "\n",
    "CI = stats.t.interval(level_of_confidence, df = ddof, loc = sample_mean, scale = SE)\n",
    "print(CI)\n",
    "# print('A ' + repr(level_of_confidence*100) + ' % confidence interval for the sample mean is [' + repr(round(CI[0],4)) + ' < miu_1 - miu_2 < '\n",
    "#       + repr(round(CI[1],4)) + ']')\n",
    "\n",
    "x = np.linspace(sample_mean-4*SE, sample_mean+4*SE, 1000)\n",
    "\n",
    "draw_z_score(x, (CI[0] <= x) & (x <= CI[1]), sample_mean, SE, '95 % CI')"
   ]
  },
  {
   "cell_type": "code",
   "execution_count": 42,
   "metadata": {},
   "outputs": [
    {
     "name": "stdout",
     "output_type": "stream",
     "text": [
      "(array([2.12441338]), array([2.8308211]))\n"
     ]
    },
    {
     "data": {
      "image/png": "[encoded data removed]",
      "text/plain": [
       "<Figure size 640x480 with 1 Axes>"
      ]
     },
     "metadata": {},
     "output_type": "display_data"
    }
   ],
   "source": [
    "##Producer 2\n",
    "level_of_confidence = 0.95\n",
    "\n",
    "## array length\n",
    "arr_length= len(cleaned_producer2)\n",
    "\n",
    "## Degree of freedom\n",
    "ddof = arr_length-1\n",
    "\n",
    "## Mean deviation calculation\n",
    "sample_mean = np.mean(cleaned_producer2)\n",
    "\n",
    "## Standard error\n",
    "SE = stats.sem(cleaned_producer2)\n",
    "\n",
    "CI = stats.t.interval(level_of_confidence, df = ddof, loc = sample_mean, scale = SE)\n",
    "print(CI)\n",
    "# print('A ' + repr(level_of_confidence*100) + ' % confidence interval for the sample mean is [' + repr(round(CI[0],4)) + ' < miu_1 - miu_2 < '\n",
    "#       + repr(round(CI[1],4)) + ']')\n",
    "\n",
    "x = np.linspace(sample_mean-4*SE, sample_mean+4*SE, 1000)\n",
    "\n",
    "draw_z_score(x, (CI[0] <= x) & (x <= CI[1]), sample_mean, SE, '95 % CI')"
   ]
  },
  {
   "attachments": {},
   "cell_type": "markdown",
   "metadata": {},
   "source": [
    "**d)** Is it reasonable to conclude that the lifetime of the two producer’s battery follow a normal distribution? Explain using plots and discussing skewness and kurtosis. </br>"
   ]
  },
  {
   "cell_type": "code",
   "execution_count": 56,
   "metadata": {},
   "outputs": [
    {
     "name": "stdout",
     "output_type": "stream",
     "text": [
      "[2.1162 2.5135 1.8137 0.8075 1.5554 0.7835 1.2408 2.5437 0.0104 1.9363\n",
      " 1.3427 3.6309 1.0839 1.7935 1.1715 2.2903 3.637  3.5418 2.4258 2.3523\n",
      " 2.2032 2.5672 0.8744 3.0823 0.5893 2.2649 0.9554 2.153 ]\n"
     ]
    },
    {
     "data": {
      "image/png": "[encoded data removed]",
      "text/plain": [
       "<Figure size 640x480 with 1 Axes>"
      ]
     },
     "metadata": {},
     "output_type": "display_data"
    },
    {
     "name": "stdout",
     "output_type": "stream",
     "text": [
      "Skewness = 0.1095\n",
      "Kurtosis = -0.6037\n"
     ]
    },
    {
     "data": {
      "text/plain": [
       "<Axes: title={'center': 'Distribution'}, ylabel='Density'>"
      ]
     },
     "execution_count": 56,
     "metadata": {},
     "output_type": "execute_result"
    },
    {
     "data": {
      "image/png": "[encoded data removed]",
      "text/plain": [
       "<Figure size 640x480 with 1 Axes>"
      ]
     },
     "metadata": {},
     "output_type": "display_data"
    }
   ],
   "source": [
    "##Producer 1\n",
    "print(cleaned_producer1)\n",
    "stats.probplot(cleaned_producer1, plot=plt)\n",
    "plt.ylabel('Battery lifetime')\n",
    "plt.show()\n",
    "print('Skewness = ' + repr(round(stats.skew(cleaned_producer1),4)))\n",
    "print('Kurtosis = ' + repr(round(stats.kurtosis(cleaned_producer1),4)))\n",
    "df = pd.DataFrame(cleaned_producer1)\n",
    "fig, ax = plt.subplots()\n",
    "df.plot.kde(ax=ax, legend=False, title='Distribution')"
   ]
  },
  {
   "cell_type": "code",
   "execution_count": 58,
   "metadata": {},
   "outputs": [
    {
     "data": {
      "image/png": "[encoded data removed]",
      "text/plain": [
       "<Figure size 640x480 with 1 Axes>"
      ]
     },
     "metadata": {},
     "output_type": "display_data"
    },
    {
     "name": "stdout",
     "output_type": "stream",
     "text": [
      "Skewness = -0.1791\n",
      "Kurtosis = -0.2837\n"
     ]
    },
    {
     "data": {
      "text/plain": [
       "<Axes: title={'center': 'Distribution'}, ylabel='Density'>"
      ]
     },
     "execution_count": 58,
     "metadata": {},
     "output_type": "execute_result"
    },
    {
     "data": {
      "image/png": "[encoded data removed]",
      "text/plain": [
       "<Figure size 640x480 with 1 Axes>"
      ]
     },
     "metadata": {},
     "output_type": "display_data"
    }
   ],
   "source": [
    "##Producer 2\n",
    "stats.probplot(cleaned_producer2, plot=plt)\n",
    "plt.ylabel('Speed')\n",
    "plt.show()\n",
    "print('Skewness = ' + repr(round(stats.skew(cleaned_producer2),4)))\n",
    "print('Kurtosis = ' + repr(round(stats.kurtosis(cleaned_producer2),4)))\n",
    "df = pd.DataFrame(cleaned_producer2)\n",
    "fig, ax = plt.subplots()\n",
    "df.plot.kde(ax=ax, legend=False, title='Distribution')"
   ]
  },
  {
   "attachments": {},
   "cell_type": "markdown",
   "metadata": {},
   "source": [
    "**e)** Setup a 95% confidence interval for the difference between the two producer’s battery, and accompany the intervals with plots that display the rejection region.</br>\n"
   ]
  },
  {
   "cell_type": "code",
   "execution_count": 64,
   "metadata": {},
   "outputs": [
    {
     "name": "stdout",
     "output_type": "stream",
     "text": [
      "(-1.278144438422573, 0.12865281280680907)\n"
     ]
    },
    {
     "data": {
      "image/png": "[encoded data removed]",
      "text/plain": [
       "<Figure size 640x480 with 1 Axes>"
      ]
     },
     "metadata": {},
     "output_type": "display_data"
    }
   ],
   "source": [
    "level_of_confidence = 0.95\n",
    "\n",
    "## array length\n",
    "arr1_length= len(cleaned_producer1)\n",
    "arr2_length= len(cleaned_producer2)\n",
    "\n",
    "## Degree of freedom\n",
    "ddof = arr1_length+arr2_length-2\n",
    "\n",
    "## Mean deviation calculation\n",
    "mean_design_producer_1 = np.mean(cleaned_producer1)\n",
    "mean_design_producer_2 = np.mean(cleaned_producer2)\n",
    "sample_mean = mean_design_producer_1 - mean_design_producer_2\n",
    "\n",
    "## Standard error\n",
    "SE_1 = stats.sem(cleaned_producer1)\n",
    "SE_2 = stats.sem(cleaned_producer2)\n",
    "SE = SE_1 + SE_2\n",
    "\n",
    "CI = stats.t.interval(level_of_confidence, df = ddof-1, loc = sample_mean, scale = SE)\n",
    "print(CI)\n",
    "# print('A ' + repr(level_of_confidence*100) + ' % confidence interval for the sample mean is [' + repr(round(CI[0],4)) + ' < miu_1 - miu_2 < '\n",
    "#       + repr(round(CI[1],4)) + ']')\n",
    "\n",
    "x = np.linspace(sample_mean-4*SE, sample_mean+4*SE, 1000)\n",
    "\n",
    "draw_z_score(x, (CI[0] <= x) & (x <= CI[1]), sample_mean, SE, '95 % CI')"
   ]
  },
  {
   "attachments": {},
   "cell_type": "markdown",
   "metadata": {},
   "source": [
    "**f)** Is there significant evidence to support the claim that the mean lifetime of the batteries from the two producers differ from one another? </br>\n",
    "**Tests on the Difference in Means, Variances Known**</br>\n",
    "**1.Parameter of interest: difference in the mean of the accidents after reducing labor hours**</br >\n",
    "**2.Null Hypothesis: $H_0:\\mu_1 = \\mu_2$** </br>\n",
    "**3.Alternative Hypothesis: $H_1: \\mu_1 \\neq \\mu_2$** We want to reject $H_0$ if the mean of accidents is not equal after introducing the safety program</br>\n",
    "**4.Test statistic: The test statistic is $Z_0=\\frac{\\overline{X_1}-\\overline{X_2}-\\Delta_0}{\\sqrt{\\frac{\\sigma_{1}^2}{n_1}-\\frac{\\sigma_{1}^2}{n_1}}}$** </br>\n",
    "**5.Reject $H_0$ if: $|Z_0| > Z_{\\frac{0.05}{2}}$** </br>\n",
    "**6.Computations: Reject $H_0$ if the P-value is bigger than 0.05** </br>\n",
    "BOOK Page 248"
   ]
  },
  {
   "cell_type": "code",
   "execution_count": 71,
   "metadata": {},
   "outputs": [
    {
     "data": {
      "text/latex": [
       "$\\displaystyle P-value=0.0256$"
      ],
      "text/plain": [
       "<IPython.core.display.Math object>"
      ]
     },
     "metadata": {},
     "output_type": "display_data"
    },
    {
     "name": "stdout",
     "output_type": "stream",
     "text": [
      "Reject since 0.02557516781100278 < 0.05\n"
     ]
    }
   ],
   "source": [
    "alpha = 0.05\n",
    "delta = 0\n",
    "\n",
    "arr1_length = len(cleaned_producer1)\n",
    "arr2_length = len(cleaned_producer2)\n",
    "\n",
    "mean_producer_1 = np.mean(cleaned_producer1)\n",
    "mean_producer_2 = np.mean(cleaned_producer2)\n",
    "\n",
    "\n",
    "## Standard deviation calculation\n",
    "std_producer_1 = np.std(cleaned_producer1, ddof=1)\n",
    "std_producer_2 = np.std(cleaned_producer2, ddof=1)\n",
    "\n",
    "## z_0 since we know std\n",
    "test_statistic = (mean_producer_1-mean_producer_2-delta)/(np.sqrt(std_producer_1/arr1_length + std_producer_1/arr2_length))\n",
    "\n",
    "## since it's 2 sided, multiply by 2\n",
    "p_value = 2 * norm.sf(np.abs(test_statistic))\n",
    "display(Math('P-value='+ latex(round(p_value,4))))\n",
    "\n",
    "if p_value < alpha:\n",
    "    print(\"Reject since \" + repr(p_value) + ' < ' + repr(alpha))\n",
    "else:\n",
    "    print(\"Fail to reject since \" + repr(p_value) + ' > ' + repr(alpha))"
   ]
  }
 ],
 "metadata": {
  "kernelspec": {
   "display_name": "Python 3",
   "language": "python",
   "name": "python3"
  },
  "language_info": {
   "codemirror_mode": {
    "name": "ipython",
    "version": 3
   },
   "file_extension": ".py",
   "mimetype": "text/x-python",
   "name": "python",
   "nbconvert_exporter": "python",
   "pygments_lexer": "ipython3",
   "version": "3.11.3"
  },
  "orig_nbformat": 4
 },
 "nbformat": 4,
 "nbformat_minor": 2
}
