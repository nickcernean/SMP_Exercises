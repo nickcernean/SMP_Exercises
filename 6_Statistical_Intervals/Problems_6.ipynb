{
 "cells": [
  {
   "cell_type": "code",
   "execution_count": 1,
   "metadata": {},
   "outputs": [],
   "source": [
    "from scipy.stats import binom\n",
    "from scipy.stats import geom\n",
    "from scipy.stats import hypergeom\n",
    "from scipy.stats import poisson\n",
    "from scipy.stats import nbinom\n",
    "import pandas as pd\n",
    "import sympy as sp\n",
    "from sympy import *\n",
    "sp.init_printing()\n",
    "import matplotlib.pyplot as plt\n",
    "import scipy.integrate as integrate\n",
    "import scipy.special as special\n",
    "from scipy.integrate import quad\n",
    "import numpy as np\n",
    "from scipy.misc import derivative\n",
    "import math\n",
    "from math import *\n",
    "from fractions import Fraction\n",
    "import fractions\n",
    "from sympy import Rational as R\n",
    "from IPython.display import display, Math, Latex\n",
    "%matplotlib inline\n",
    "from IPython.display import Image, HTML"
   ]
  },
  {
   "attachments": {},
   "cell_type": "markdown",
   "metadata": {},
   "source": [
    "## Problems 6\n",
    "The first five exercises er from today’s topics. Do these first. The rest is a bit of everything, including\n",
    "covariance and correlation which we did not do exercises in yet."
   ]
  },
  {
   "attachments": {},
   "cell_type": "markdown",
   "metadata": {},
   "source": [
    "## Exercise 1 Book(ASPE: 8.1.7) </br>\n",
    "A manufacturer produces piston rings for an automo-\n",
    "bile engine. It is known that ring diameter is normally distributed\n",
    "with σ = 0.001 millimeters. A random sample of 15 rings has a\n",
    "mean diameter of  $\\overline{x}$ = 74.036 millimeters. </br>\n",
    "n=15 ; $\\sigma$ = 0.001 mm ; $\\overline{x}$ = 74.036 mm"
   ]
  },
  {
   "attachments": {},
   "cell_type": "markdown",
   "metadata": {},
   "source": [
    "**a)** Construct a 99% two-sided confidence interval on the\n",
    "mean piston ring diameter. </br>\n",
    "\n",
    "Two sided CI formula </br>\n",
    "Upper: $\\overline{x}$ + z_(1- $\\frac{\\alpha}{2}$) *  $\\frac{\\sigma}{\\sqrt{n}}$\n",
    "Lower: $\\overline{x}$ - z_(1- $\\frac{\\alpha}{2}$) *  $\\frac{\\sigma}{\\sqrt{n}}$ \n"
   ]
  },
  {
   "cell_type": "code",
   "execution_count": null,
   "metadata": {},
   "outputs": [],
   "source": []
  }
 ],
 "metadata": {
  "kernelspec": {
   "display_name": "Python 3",
   "language": "python",
   "name": "python3"
  },
  "language_info": {
   "codemirror_mode": {
    "name": "ipython",
    "version": 3
   },
   "file_extension": ".py",
   "mimetype": "text/x-python",
   "name": "python",
   "nbconvert_exporter": "python",
   "pygments_lexer": "ipython3",
   "version": "3.9.6"
  },
  "orig_nbformat": 4
 },
 "nbformat": 4,
 "nbformat_minor": 2
}
