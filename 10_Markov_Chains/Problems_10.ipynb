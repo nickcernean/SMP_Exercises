{
 "cells": [
  {
   "cell_type": "code",
   "execution_count": 4,
   "metadata": {},
   "outputs": [],
   "source": [
    "from scipy import stats\n",
    "from scipy.stats import norm\n",
    "from scipy.stats import t\n",
    "from scipy.stats import binom\n",
    "from scipy.stats import geom\n",
    "from scipy.stats import hypergeom\n",
    "from scipy.stats import poisson\n",
    "from scipy.stats import nbinom\n",
    "import pandas as pd\n",
    "import numpy as np\n",
    "import sympy as sp\n",
    "from sympy import *\n",
    "sp.init_printing()\n",
    "import matplotlib.pyplot as plt\n",
    "import scipy.integrate as integrate\n",
    "import scipy.special as special\n",
    "from scipy.integrate import quad\n",
    "import numpy as np\n",
    "from scipy.misc import derivative\n",
    "import math\n",
    "from math import *\n",
    "from fractions import Fraction\n",
    "import fractions\n",
    "from sympy import Rational as R\n",
    "from sympy import Matrix as M\n",
    "from IPython.display import display, Math, Latex\n",
    "%matplotlib inline\n",
    "from IPython.display import Image, HTML\n",
    "import statsmodels.stats.power as smp\n",
    "import statsmodels.api as sm\n"
   ]
  },
  {
   "attachments": {},
   "cell_type": "markdown",
   "metadata": {},
   "source": [
    "## Class exercises</br>"
   ]
  },
  {
   "attachments": {},
   "cell_type": "markdown",
   "metadata": {},
   "source": [
    "## Example 1</br>"
   ]
  },
  {
   "cell_type": "code",
   "execution_count": 34,
   "metadata": {},
   "outputs": [
    {
     "data": {
      "text/html": [
       "<img src=\"../images/Session10_example1.png\" width=\"400\" height=\"200\" class=\"unconfined\"/>"
      ],
      "text/plain": [
       "<IPython.core.display.Image object>"
      ]
     },
     "metadata": {},
     "output_type": "display_data"
    },
    {
     "data": {
      "text/latex": [
       "$\\displaystyle \\left[\\begin{matrix}0.1 & 0.5 & 0.4 & 0 & 0 & 0\\\\0.2 & 0.3 & 0 & 0.1 & 0.4 & 0\\\\0.1 & 0 & 0.2 & 0 & 0 & 0.7\\\\0 & 0.3 & 0 & 0.2 & 0 & 0.5\\\\0 & 0.4 & 0 & 0 & 0.3 & 0.3\\\\0 & 0 & 0.2 & 0.2 & 0.2 & 0.4\\end{matrix}\\right]$"
      ],
      "text/plain": [
       "⎡0.1  0.5  0.4   0    0    0 ⎤\n",
       "⎢                            ⎥\n",
       "⎢0.2  0.3   0   0.1  0.4   0 ⎥\n",
       "⎢                            ⎥\n",
       "⎢0.1   0   0.2   0    0   0.7⎥\n",
       "⎢                            ⎥\n",
       "⎢ 0   0.3   0   0.2   0   0.5⎥\n",
       "⎢                            ⎥\n",
       "⎢ 0   0.4   0    0   0.3  0.3⎥\n",
       "⎢                            ⎥\n",
       "⎣ 0    0   0.2  0.2  0.2  0.4⎦"
      ]
     },
     "execution_count": 34,
     "metadata": {},
     "output_type": "execute_result"
    }
   ],
   "source": [
    "display(Image(url='../images/Session10_example1.png', width=400, height=200,unconfined=True))\n",
    "M([[0.1,0.5,0.4,0,0,0], [0.2,0.3,0,0.1,0.4,0], [0.1,0,0.2,0,0,0.7], [0,0.3,0,0.2,0,0.5], [0,0.4,0,0,0.3,0.3], [0,0,0.2,0.2,0.2,0.4]])"
   ]
  },
  {
   "cell_type": "markdown",
   "metadata": {},
   "source": [
    "## Example 2</br> \n",
    "<ul>\n",
    "<li>Suppose that new razor blades were introduced in the market by three companies at the same time. When they were introduced each company has an equal share of the market, but during the year the following changes took place:</li>\n",
    "<ul>\n",
    "<li>Company A retained 90% of it's customers and lost 3% to company B and 7% to company C.</li>\n",
    "<li>Company B retained 70% of it's customers and lost 10% to company A and 20% to company C.</li>\n",
    "<li>Company C retained 80% of it's customers and lost 10% to company A and 10% to company B.</li>\n",
    "</ul>\n",
    "<li>Find the State Transition Matrix and create transition diagram</li>\n",
    "</ul>"
   ]
  },
  {
   "cell_type": "code",
   "execution_count": 59,
   "metadata": {},
   "outputs": [
    {
     "name": "stdout",
     "output_type": "stream",
     "text": [
      "    A    B    C    \n",
      "A  0.9 0.03 0.07 \n",
      "B  0.1 0.7 0.2 \n",
      "C  0.1 0.1 0.8 \n"
     ]
    },
    {
     "data": {
      "text/latex": [
       "$\\displaystyle \\left[\\begin{matrix}0.9 & 0.03 & 0.07\\\\0.1 & 0.7 & 0.2\\\\0.1 & 0.1 & 0.8\\end{matrix}\\right]$"
      ],
      "text/plain": [
       "⎡0.9  0.03  0.07⎤\n",
       "⎢               ⎥\n",
       "⎢0.1  0.7   0.2 ⎥\n",
       "⎢               ⎥\n",
       "⎣0.1  0.1   0.8 ⎦"
      ]
     },
     "execution_count": 59,
     "metadata": {},
     "output_type": "execute_result"
    }
   ],
   "source": [
    "## Alternative \n",
    "A = np.array([[0.9,0.03,0.07], [0.1,0.7,0.2], [0.1,0.1,0.8]])\n",
    "\n",
    "# Define the row and column labels\n",
    "cols = ['A', 'B', 'C']\n",
    "rows =['A', 'B', 'C']\n",
    "# Display the matrix with labels\n",
    "print('    ', end='')\n",
    "for col in cols:\n",
    "    print(col, end='    ')\n",
    "print()\n",
    "for i, row in enumerate(rows):\n",
    "    print(row, end='  ')\n",
    "    for j in range(len(cols)):\n",
    "        print(A[i,j], end=' ')\n",
    "    print()\n",
    "\n",
    "## Usually will o with this\n",
    "M([[0.9,0.03,0.07], [0.1,0.7,0.2], [0.1,0.1,0.8]])"
   ]
  },
  {
   "attachments": {},
   "cell_type": "markdown",
   "metadata": {},
   "source": [
    "## Example 3</br> \n",
    "<ul>\n",
    "<li>A man either drives his car or takes train to work each day. Suppose he never takes the train two days in a row, but if he drives to work, then the next day he is just likely to drive again as he is to take the train. At the first day, he tosses a coin and if head comes then he takes a train to work otherwise he drives to work.</li>\n",
    "<ul>\n",
    "<li>Find the TPM</li>\n",
    "<li>Find the probability that he will use the car to go to work after two days ?</li>\n",
    "<li>Also, find the probability that the changes from going by train to driving in exactly in four days ?</li>\n",
    "</ul>\n",
    "</ul>"
   ]
  },
  {
   "attachments": {},
   "cell_type": "markdown",
   "metadata": {},
   "source": [
    "Transpose= $\\begin{bmatrix}a&b&c\\cr d&e&f\\cr g&h&i\\end{bmatrix}^T =\\begin{bmatrix}a&d&g\\cr b&e&h\\cr c&f&i\\end{bmatrix}$\n"
   ]
  },
  {
   "cell_type": "code",
   "execution_count": 96,
   "metadata": {},
   "outputs": [
    {
     "name": "stdout",
     "output_type": "stream",
     "text": [
      "    T   C   \n",
      "T   0   1   \n",
      "C   1/2   1/2   \n"
     ]
    },
    {
     "data": {
      "text/latex": [
       "$\\displaystyle \\left[\\begin{matrix}0 & 1\\\\\\frac{1}{2} & \\frac{1}{2}\\end{matrix}\\right]$"
      ],
      "text/plain": [
       "⎡ 0    1 ⎤\n",
       "⎢        ⎥\n",
       "⎣1/2  1/2⎦"
      ]
     },
     "metadata": {},
     "output_type": "display_data"
    },
    {
     "data": {
      "text/latex": [
       "$\\displaystyle \\left[\\begin{matrix}\\frac{1}{2} & \\frac{1}{2}\\end{matrix}\\right]$"
      ],
      "text/plain": [
       "[1/2  1/2]"
      ]
     },
     "execution_count": 96,
     "metadata": {},
     "output_type": "execute_result"
    }
   ],
   "source": [
    "## a)\n",
    "## Alternative \n",
    "A = np.array([[0,1], [R(1,2),R(1,2)]])\n",
    "\n",
    "# Define the row and column labels\n",
    "# \n",
    "cols = ['T', 'C']\n",
    "rows = ['T', 'C']\n",
    "\n",
    "# Display the matrix with labels\n",
    "print('    ', end='')\n",
    "for col in cols:\n",
    "    print(col, end='   ')\n",
    "print()\n",
    "for i, row in enumerate(rows):\n",
    "    print(row, end='   ')\n",
    "    for j in range(len(cols)):\n",
    "        print(A[i,j], end='   ')\n",
    "    print()\n",
    "\n",
    "## Usually will o with this\n",
    "M([[0,1], [R(1,2),R(1,2)]])\n",
    "\n",
    "display(M([[0,1], [R(1,2),R(1,2)]]))\n",
    "\n",
    "## Transpose\n",
    "a,b,c,d,e,f,g,h,i = symbols('a b c d e f g h i')\n",
    "M([[a,b,c], [e,f,g],[g,h,i] ]).T\n",
    "\n",
    "Pi_power_0=M([[R(1,2),R(1,2)]])"
   ]
  },
  {
   "attachments": {},
   "cell_type": "markdown",
   "metadata": {},
   "source": [
    "**b)** Find the probability that he will use the car to go to work after two days ?</br>\n",
    "$\\Pi^{(0)} * P^2 = \\begin{bmatrix}0.5&0.5\\end{bmatrix}* \\begin{bmatrix}0&1\\cr0.5&0.5\\end{bmatrix}^2$</br>\n",
    "$P^2(c) = \\frac{5}{8}$"
   ]
  },
  {
   "cell_type": "code",
   "execution_count": 103,
   "metadata": {},
   "outputs": [
    {
     "data": {
      "text/latex": [
       "$\\displaystyle \\left[\\begin{matrix}\\frac{3}{8} & \\frac{5}{8}\\end{matrix}\\right]$"
      ],
      "text/plain": [
       "[3/8  5/8]"
      ]
     },
     "metadata": {},
     "output_type": "display_data"
    }
   ],
   "source": [
    "Pi_power_0 = M([[R(1,2),R(1,2)]])\n",
    "P_power_2 = M([[0,1],[R(1,2),R(1,2)]]) \n",
    "result = Pi_power_0 * P_power_2**2\n",
    "display(result)\n",
    "## In our case we care about the value on index 1, implying that we count 0,1\n",
    "## Because the index 1 is the probability of the man to takes the car after two days. Index 0 is taking the train after two days."
   ]
  },
  {
   "attachments": {},
   "cell_type": "markdown",
   "metadata": {},
   "source": [
    "**c)** Also, find the probability that he changes from going by train to driving by car exactly in four days ?</br>\n",
    "$P^4 = \\begin{bmatrix}0&1\\cr0.5&0.5\\end{bmatrix}^4$"
   ]
  },
  {
   "cell_type": "code",
   "execution_count": 118,
   "metadata": {},
   "outputs": [
    {
     "data": {
      "text/latex": [
       "$\\displaystyle \\left[\\begin{matrix}\\frac{3}{8} & \\frac{5}{8}\\\\\\frac{5}{16} & \\frac{11}{16}\\end{matrix}\\right]$"
      ],
      "text/plain": [
       "⎡3/8   5/8⎤\n",
       "⎢         ⎥\n",
       "⎢      11 ⎥\n",
       "⎢5/16  ── ⎥\n",
       "⎣      16 ⎦"
      ]
     },
     "execution_count": 118,
     "metadata": {},
     "output_type": "execute_result"
    }
   ],
   "source": [
    "P_power_4 = M([[0,1],[R(1,2),R(1,2)]]) \n",
    "result = P_power_4**4\n",
    "result\n",
    "## In our case we care about the value on row 0 and column 1, implying that we count 0,1\n",
    "## Because the row 0 and column 1 is the probability of the man to changing from train to car after four days. Index on row 0 and column 1 is changing the train to car in four days."
   ]
  },
  {
   "attachments": {},
   "cell_type": "markdown",
   "metadata": {},
   "source": [
    "## Example 4</br> \n",
    "<ul>\n",
    "<li>In a certain market, there are three brands of LIPSTICKS A,B and C. Given that a lady last purchased lipstick of brand A there is</li>\n",
    "    <ul>\n",
    "    <li>70 % chance that she would continue with brand A, 20% and 10% chances that she would shift to brands B and C respectively</li>\n",
    "    </ul>\n",
    "<li>Given that a lady last purchased lipstick of brand B there is</li>\n",
    "    <ul>\n",
    "        <li>50 % chance that she would shift to brand A and 10% chance to brand C</li>\n",
    "    </ul>\n",
    "    <li>Given that a lady last purchased lipstick of brand C there is</li>\n",
    "    <ul>\n",
    "        <li>60%, 20% chance that she would shift to brand A and B respectively</li>\n",
    "    </ul>\n",
    "    <li>The present market share of the three brands A,B and C is 60%, 30% and 10% respectively.</li>\n",
    "    <ul>\n",
    "        <li>Find switch from currently in A to B in two periods</li>\n",
    "        <li>Switch from A to C in two periods</li>\n",
    "        <li>That C will retain it's customers after two periods</li>\n",
    "        <li>B switch to A after three periods</li>\n",
    "         <li>Customer will purchase brands A, B, C three periods from now.</li>\n",
    "    </ul>\n",
    "</ul>"
   ]
  },
  {
   "cell_type": "code",
   "execution_count": 117,
   "metadata": {},
   "outputs": [
    {
     "name": "stdout",
     "output_type": "stream",
     "text": [
      "     A     B     C     \n",
      "A   0.7   0.2   0.1   \n",
      "B   0.5   0.4   0.1   \n",
      "C   0.6   0.2   0.2   \n"
     ]
    },
    {
     "data": {
      "text/latex": [
       "$\\displaystyle \\left[\\begin{matrix}0.7 & 0.2 & 0.1\\\\0.5 & 0.4 & 0.1\\\\0.6 & 0.2 & 0.2\\end{matrix}\\right]$"
      ],
      "text/plain": [
       "⎡0.7  0.2  0.1⎤\n",
       "⎢             ⎥\n",
       "⎢0.5  0.4  0.1⎥\n",
       "⎢             ⎥\n",
       "⎣0.6  0.2  0.2⎦"
      ]
     },
     "metadata": {},
     "output_type": "display_data"
    }
   ],
   "source": [
    "## Alternative \n",
    "A = np.array([[0.7,0.2,0.1],[0.5,0.4,0.1],[0.6,0.2,0.2]])\n",
    "\n",
    "# Define the row and column labels\n",
    "# \n",
    "cols = ['A', 'B','C']\n",
    "rows = ['A', 'B','C']\n",
    "\n",
    "# Display the matrix with labels\n",
    "print('     ', end='')\n",
    "for col in cols:\n",
    "    print(col, end='     ')\n",
    "print()\n",
    "for i, row in enumerate(rows):\n",
    "    print(row, end='   ')\n",
    "    for j in range(len(cols)):\n",
    "        print(A[i,j], end='   ')\n",
    "    print()\n",
    "\n",
    "## Usually will go with this\n",
    "\n",
    "display(M([[0.7,0.2,0.1],[0.5,0.4,0.1],[0.6,0.2,0.2]]))\n"
   ]
  },
  {
   "attachments": {},
   "cell_type": "markdown",
   "metadata": {},
   "source": [
    "**a)** Find switch from currently in A to B in two periods</br>"
   ]
  },
  {
   "cell_type": "code",
   "execution_count": 119,
   "metadata": {},
   "outputs": [
    {
     "data": {
      "text/latex": [
       "$\\displaystyle \\left[\\begin{matrix}0.65 & 0.24 & 0.11\\\\0.61 & 0.28 & 0.11\\\\0.64 & 0.24 & 0.12\\end{matrix}\\right]$"
      ],
      "text/plain": [
       "⎡0.65  0.24  0.11⎤\n",
       "⎢                ⎥\n",
       "⎢0.61  0.28  0.11⎥\n",
       "⎢                ⎥\n",
       "⎣0.64  0.24  0.12⎦"
      ]
     },
     "execution_count": 119,
     "metadata": {},
     "output_type": "execute_result"
    }
   ],
   "source": [
    "P_power_2 = M([[0.7,0.2,0.1],[0.5,0.4,0.1],[0.6,0.2,0.2]])\n",
    "result = P_power_2**2\n",
    "result\n",
    "## In our case we care about the value on row 0 and column 1, implying that we count 0,1\n",
    "## Because the row 0 and column 1 is the probability of switching from A to B in two periods"
   ]
  },
  {
   "attachments": {},
   "cell_type": "markdown",
   "metadata": {},
   "source": [
    "**b)** Switch from A to C in two periods</br>"
   ]
  },
  {
   "cell_type": "code",
   "execution_count": 120,
   "metadata": {},
   "outputs": [
    {
     "data": {
      "text/latex": [
       "$\\displaystyle \\left[\\begin{matrix}0.65 & 0.24 & 0.11\\\\0.61 & 0.28 & 0.11\\\\0.64 & 0.24 & 0.12\\end{matrix}\\right]$"
      ],
      "text/plain": [
       "⎡0.65  0.24  0.11⎤\n",
       "⎢                ⎥\n",
       "⎢0.61  0.28  0.11⎥\n",
       "⎢                ⎥\n",
       "⎣0.64  0.24  0.12⎦"
      ]
     },
     "execution_count": 120,
     "metadata": {},
     "output_type": "execute_result"
    }
   ],
   "source": [
    "P_power_2 = M([[0.7,0.2,0.1],[0.5,0.4,0.1],[0.6,0.2,0.2]])\n",
    "result = P_power_2**2\n",
    "result\n",
    "## In our case we care about the value on row 0 and column 2, implying that we count 0,1,2 \n",
    "## Because the row 0 and column 2 is the probability of switching from A to C in two periods"
   ]
  },
  {
   "attachments": {},
   "cell_type": "markdown",
   "metadata": {},
   "source": [
    "**c)** That C will retain it's customers after two periods</br>"
   ]
  },
  {
   "cell_type": "code",
   "execution_count": null,
   "metadata": {},
   "outputs": [],
   "source": [
    "P_power_2 = M([[0.7,0.2,0.1],[0.5,0.4,0.1],[0.6,0.2,0.2]])\n",
    "result = P_power_2**2\n",
    "result\n",
    "## In our case we care about the value on row 2 and column 2, implying that we count 0,1,2 \n",
    "## Because the row 2 and column 2 is the probability of not switching from C to C in two periods"
   ]
  },
  {
   "attachments": {},
   "cell_type": "markdown",
   "metadata": {},
   "source": [
    "**d)** B switch to A after three periods</br>"
   ]
  },
  {
   "cell_type": "code",
   "execution_count": 121,
   "metadata": {},
   "outputs": [
    {
     "data": {
      "text/latex": [
       "$\\displaystyle \\left[\\begin{matrix}0.641 & 0.248 & 0.111\\\\0.633 & 0.256 & 0.111\\\\0.64 & 0.248 & 0.112\\end{matrix}\\right]$"
      ],
      "text/plain": [
       "⎡0.641  0.248  0.111⎤\n",
       "⎢                   ⎥\n",
       "⎢0.633  0.256  0.111⎥\n",
       "⎢                   ⎥\n",
       "⎣0.64   0.248  0.112⎦"
      ]
     },
     "execution_count": 121,
     "metadata": {},
     "output_type": "execute_result"
    }
   ],
   "source": [
    "P_power_3 = M([[0.7,0.2,0.1],[0.5,0.4,0.1],[0.6,0.2,0.2]])\n",
    "result = P_power_3**3\n",
    "result\n",
    "## In our case we care about the value on row 1 and column 0, implying that we count 0,1,2 \n",
    "## Because the row 1 and column 0 is the probability of switching from B to A in three periods."
   ]
  },
  {
   "attachments": {},
   "cell_type": "markdown",
   "metadata": {},
   "source": [
    "**e)** Customer will purchase brands A, B, C three periods from now.</br>"
   ]
  },
  {
   "cell_type": "code",
   "execution_count": 122,
   "metadata": {},
   "outputs": [
    {
     "data": {
      "text/latex": [
       "$\\displaystyle \\left[\\begin{matrix}0.6385 & 0.2504 & 0.1111\\end{matrix}\\right]$"
      ],
      "text/plain": [
       "[0.6385  0.2504  0.1111]"
      ]
     },
     "metadata": {},
     "output_type": "display_data"
    }
   ],
   "source": [
    "Pi_power_0 = M([[0.6,0.3,0.1]]) ## this is the initial state.\n",
    "P_power_3 = M([[0.7,0.2,0.1],[0.5,0.4,0.1],[0.6,0.2,0.2]])\n",
    "result = Pi_power_0 * P_power_3**3\n",
    "display(result)\n",
    "## In our case we care about the whole result matrix since we care about the customer buying all three brands"
   ]
  },
  {
   "attachments": {},
   "cell_type": "markdown",
   "metadata": {},
   "source": [
    "## Example 5 </br>\n",
    "A proffesor of Statistics not wanting to be predictable, decides on an innovative way of assigning homework based on probabilities. On the first day of the week, he draws a transiton diagram as shown below. The nodes represent full credit (F), half credit (H) and no credit (N) assignments. </br>\n",
    "Find: </br>\n",
    "$P(X_3=F | X_2 =N)$ </br>\n",
    "$P(X_2=F | X_1 =N)$ </br>\n",
    "$P(X_4=F | X_2 =F)$ </br>\n"
   ]
  },
  {
   "cell_type": "code",
   "execution_count": 124,
   "metadata": {},
   "outputs": [
    {
     "data": {
      "text/html": [
       "<img src=\"../images/Session10_example5.png\" width=\"400\" height=\"200\" class=\"unconfined\"/>"
      ],
      "text/plain": [
       "<IPython.core.display.Image object>"
      ]
     },
     "metadata": {},
     "output_type": "display_data"
    }
   ],
   "source": [
    "display(Image(url='../images/Session10_example5.png', width=400, height=200,unconfined=True))"
   ]
  },
  {
   "cell_type": "code",
   "execution_count": 130,
   "metadata": {},
   "outputs": [
    {
     "name": "stdout",
     "output_type": "stream",
     "text": [
      "    F      H      N      \n",
      "F   0.3   0.25   0.45   \n",
      "H   0.45   0.4   0.15   \n",
      "N   0.65   0.25   0.1   \n"
     ]
    },
    {
     "data": {
      "text/latex": [
       "$\\displaystyle \\left[\\begin{matrix}0.3 & 0.25 & 0.45\\\\0.45 & 0.4 & 0.15\\\\0.65 & 0.25 & 0.1\\end{matrix}\\right]$"
      ],
      "text/plain": [
       "⎡0.3   0.25  0.45⎤\n",
       "⎢                ⎥\n",
       "⎢0.45  0.4   0.15⎥\n",
       "⎢                ⎥\n",
       "⎣0.65  0.25  0.1 ⎦"
      ]
     },
     "metadata": {},
     "output_type": "display_data"
    }
   ],
   "source": [
    "## Alternative \n",
    "A = np.array([[0.3,0.25,0.45], [0.45,0.4,0.15], [0.65,0.25,0.10]])\n",
    "\n",
    "# Define the row and column labels\n",
    "# \n",
    "cols = ['F', 'H', 'N']\n",
    "rows = ['F', 'H', 'N']\n",
    "\n",
    "# Display the matrix with labels\n",
    "print('    ', end='')\n",
    "for col in cols:\n",
    "    print(col, end='      ')\n",
    "print()\n",
    "for i, row in enumerate(rows):\n",
    "    print(row, end='   ')\n",
    "    for j in range(len(cols)):\n",
    "        print(A[i,j], end='   ')\n",
    "    print()\n",
    "\n",
    "## Usually will o with this\n",
    "\n",
    "display(M([[0.3,0.25,0.45], [0.45,0.4,0.15], [0.65,0.25,0.10]]))"
   ]
  },
  {
   "attachments": {},
   "cell_type": "markdown",
   "metadata": {},
   "source": [
    "$P(X_3 = F | X_2 =N)$ </br>\n",
    "$P(X_{m+n} =j | X_m =i)=P^n$, in our case n=1 => </br>\n",
    "we are looking for the index in the matrix where transit from N to F"
   ]
  },
  {
   "cell_type": "code",
   "execution_count": 139,
   "metadata": {},
   "outputs": [
    {
     "data": {
      "text/latex": [
       "$\\displaystyle P(X_3 = F | X_2 = N) = 0.650000000000000$"
      ],
      "text/plain": [
       "<IPython.core.display.Math object>"
      ]
     },
     "metadata": {},
     "output_type": "display_data"
    }
   ],
   "source": [
    "P_power_1 = M([[0.3,0.25,0.45], [0.45,0.4,0.15], [0.65,0.25,0.10]])\n",
    "\n",
    "display(Math(\"P(X_3 = F | X_2 = N) = \" + repr(P_power_1.row(2)[0])))"
   ]
  },
  {
   "attachments": {},
   "cell_type": "markdown",
   "metadata": {},
   "source": [
    "$P(X_2 = N | X_1 = H)$ </br>\n",
    "$P(X_{m+n} =j | X_m =i)=P^n$, in our case n=1 => </br>\n",
    "we are looking for the index in the matrix where transit from H to N"
   ]
  },
  {
   "cell_type": "code",
   "execution_count": 140,
   "metadata": {},
   "outputs": [
    {
     "data": {
      "text/latex": [
       "$\\displaystyle P(X_2 = N | X_1 = H) = 0.150000000000000$"
      ],
      "text/plain": [
       "<IPython.core.display.Math object>"
      ]
     },
     "metadata": {},
     "output_type": "display_data"
    }
   ],
   "source": [
    "P_power_1 = M([[0.3,0.25,0.45], [0.45,0.4,0.15], [0.65,0.25,0.10]])\n",
    "\n",
    "display(Math(\"P(X_2 = N | X_1 = H) = \" + repr(P_power_1.row(1)[2])))"
   ]
  },
  {
   "attachments": {},
   "cell_type": "markdown",
   "metadata": {},
   "source": [
    "$P(X_4 = H | X_2 = F)$ </br>\n",
    "$P(X_{m+n} =j | X_m =i)=P^n$, in our case n=2, calculate $P^2$ => </br>\n",
    "we are looking for the index in the matrix where transit from F to H"
   ]
  },
  {
   "cell_type": "code",
   "execution_count": 143,
   "metadata": {},
   "outputs": [
    {
     "data": {
      "text/latex": [
       "$\\displaystyle P(X_4 = F | X_2 = H) = 0.287500000000000$"
      ],
      "text/plain": [
       "<IPython.core.display.Math object>"
      ]
     },
     "metadata": {},
     "output_type": "display_data"
    }
   ],
   "source": [
    "P_power_2 = M([[0.3,0.25,0.45], [0.45,0.4,0.15], [0.65,0.25,0.10]])**2\n",
    "\n",
    "display(Math(\"P(X_4 = F | X_2 = H) = \" + repr(P_power_2.row(0)[1])))"
   ]
  },
  {
   "attachments": {},
   "cell_type": "markdown",
   "metadata": {},
   "source": [
    "## Example 6 </br>\n",
    "A man either use his car(1) or takes the bus(2) or a train(3) to work. The TPM of this chain is</br>\n",
    "$P =\\begin{bmatrix}0.1&0.5&0.4\\cr 0.6&0.2&0.2\\cr 0.3&0.4&0.3\\end{bmatrix}$ </br>\n",
    "And the initial probability is $\\begin{bmatrix}0.7&0.2&0.1\\end{bmatrix}$ </br>\n",
    "$Find:$ </br>\n",
    "**a)** $P(X_2=3)$ </br>\n",
    "**b)** $P(X_3=2,X_2=3,X_1=3,X_0=2)$ </br>"
   ]
  },
  {
   "attachments": {},
   "cell_type": "markdown",
   "metadata": {},
   "source": [
    "**a)** Find $P(X_2=3)$ </br>\n",
    "$P(X_2=3)= \\Pi^{(0)} * P^2$"
   ]
  },
  {
   "cell_type": "code",
   "execution_count": 148,
   "metadata": {},
   "outputs": [
    {
     "data": {
      "text/latex": [
       "$\\displaystyle \\left[\\begin{matrix}0.279\\end{matrix}\\right]$"
      ],
      "text/plain": [
       "[0.279]"
      ]
     },
     "metadata": {},
     "output_type": "display_data"
    }
   ],
   "source": [
    "Pi_power_0 = M([[0.7,0.2,0.1]]) ## this is the initial state.\n",
    "P_power_2 = M([[0.1,0.5,0.4],[0.6,0.2,0.2],[0.3,0.4,0.3]])\n",
    "result = Pi_power_0 * P_power_2**2\n",
    "display(result.col(2))\n",
    "## In our case we care about the prebability of the man taking the train after 2 generations"
   ]
  },
  {
   "attachments": {},
   "cell_type": "markdown",
   "metadata": {},
   "source": [
    "**b)** Find $P(X_3=2,X_2=3,X_1=3,X_0=2)$ </br>\n",
    " $P(X_a=2j,X_b=i,X_c=k)$ Assume a>b>c (e.g. a= time 2, b= time 1, c = time 0) = > </br>\n",
    " $\\Pi^{(0)}_K= P_{ij}*P_{jk}$"
   ]
  },
  {
   "cell_type": "code",
   "execution_count": 163,
   "metadata": {},
   "outputs": [
    {
     "data": {
      "text/latex": [
       "$\\displaystyle  X_0 = 2:  Matrix([[0.2]])$"
      ],
      "text/plain": [
       "<IPython.core.display.Math object>"
      ]
     },
     "metadata": {},
     "output_type": "display_data"
    },
    {
     "data": {
      "text/latex": [
       "$\\displaystyle  X_1 = 3:  0.200000000000000$"
      ],
      "text/plain": [
       "<IPython.core.display.Math object>"
      ]
     },
     "metadata": {},
     "output_type": "display_data"
    },
    {
     "data": {
      "text/latex": [
       "$\\displaystyle  X_2 = 3:  0.300000000000000$"
      ],
      "text/plain": [
       "<IPython.core.display.Math object>"
      ]
     },
     "metadata": {},
     "output_type": "display_data"
    },
    {
     "data": {
      "text/latex": [
       "$\\displaystyle  X_3 = 2:  0.400000000000000$"
      ],
      "text/plain": [
       "<IPython.core.display.Math object>"
      ]
     },
     "metadata": {},
     "output_type": "display_data"
    },
    {
     "name": "stdout",
     "output_type": "stream",
     "text": [
      "Matrix([[0.00480000000000000]])\n"
     ]
    }
   ],
   "source": [
    "Pi_power_0 = M([[0.7,0.2,0.1]]) ## this is the initial state.\n",
    "P_power_0 = M([[0.1,0.5,0.4],[0.6,0.2,0.2],[0.3,0.4,0.3]])\n",
    "\n",
    "X_0_2 = Pi_power_0.col(1)\n",
    "display(Math(\" X_0 = 2:  \" + repr(Pi_power_0.col(1))))\n",
    "X_1_3 = P_power_0.row(1)[2]\n",
    "## from initial state in 2 to state 1 in 3\n",
    "display(Math(\" X_1 = 3:  \" + repr(P_power_0.row(1)[2])))\n",
    "X_2_3 = P_power_0.row(2)[2]\n",
    "## from state 1 in 3 to state 2 in 3\n",
    "display(Math(\" X_2 = 3:  \" + repr(P_power_0.row(2)[2])))\n",
    "X_3_2 = P_power_0.row(2)[1]\n",
    "## from state 2 in 3 to state 3 in 2\n",
    "display(Math(\" X_3 = 2:  \" + repr(P_power_0.row(2)[1])))\n",
    "\n",
    "result = X_0_2 * X_1_3 * X_2_3 * X_3_2\n",
    "print(result)"
   ]
  },
  {
   "attachments": {},
   "cell_type": "markdown",
   "metadata": {},
   "source": [
    "## PROBLEMS 10 </br>\n",
    "Consider the Markov chain with three states, *S = {1, 2, 3}, that has the following transition matrix </br>\n",
    "$P=\\begin{bmatrix}\\frac{1}{2}&\\frac{1}{4}&\\frac{1}{4}\\cr\\frac{1}{3}&0&\\frac{2}{3}\\cr\\frac{1}{2}&\\frac{1}{2}&0\\end{bmatrix}$"
   ]
  },
  {
   "attachments": {},
   "cell_type": "markdown",
   "metadata": {},
   "source": [
    "**a)** Draw the state transition diagram for this chain."
   ]
  },
  {
   "attachments": {},
   "cell_type": "markdown",
   "metadata": {},
   "source": [
    "**b)** If we know $P (X_1 = 1) = P (X_1 = 2) = 1\n",
    "4$ , find $P(X_1 = 3, X_2 = 2, X_3 = 1)$."
   ]
  },
  {
   "cell_type": "code",
   "execution_count": 6,
   "metadata": {},
   "outputs": [
    {
     "data": {
      "text/latex": [
       "$\\displaystyle  X_0 = 2:  Matrix([[0.2]])$"
      ],
      "text/plain": [
       "<IPython.core.display.Math object>"
      ]
     },
     "metadata": {},
     "output_type": "display_data"
    },
    {
     "data": {
      "text/latex": [
       "$\\displaystyle  X_1 = 3:  0.666666666666667$"
      ],
      "text/plain": [
       "<IPython.core.display.Math object>"
      ]
     },
     "metadata": {},
     "output_type": "display_data"
    },
    {
     "data": {
      "text/latex": [
       "$\\displaystyle  X_2 = 3:  0$"
      ],
      "text/plain": [
       "<IPython.core.display.Math object>"
      ]
     },
     "metadata": {},
     "output_type": "display_data"
    },
    {
     "data": {
      "text/latex": [
       "$\\displaystyle  X_3 = 2:  0.500000000000000$"
      ],
      "text/plain": [
       "<IPython.core.display.Math object>"
      ]
     },
     "metadata": {},
     "output_type": "display_data"
    },
    {
     "name": "stdout",
     "output_type": "stream",
     "text": [
      "Matrix([[0]])\n"
     ]
    }
   ],
   "source": [
    "Pi_power_0 = M([[0.7,0.2,0.1]]) ## this is the initial state.\n",
    "P_power_0 = M([[1/2,1/4,1/4],[1/3,0,2/3],[1/2,1/2,0]])\n",
    "\n",
    "X_0_2 = Pi_power_0.col(1)\n",
    "display(Math(\" X_0 = 2:  \" + repr(Pi_power_0.col(1))))\n",
    "X_1_3 = P_power_0.row(1)[2]\n",
    "## from initial state in 2 to state 1 in 3\n",
    "display(Math(\" X_1 = 3:  \" + repr(P_power_0.row(1)[2])))\n",
    "X_2_3 = P_power_0.row(2)[2]\n",
    "## from state 1 in 3 to state 2 in 3\n",
    "display(Math(\" X_2 = 3:  \" + repr(P_power_0.row(2)[2])))\n",
    "X_3_2 = P_power_0.row(2)[1]\n",
    "## from state 2 in 3 to state 3 in 2\n",
    "display(Math(\" X_3 = 2:  \" + repr(P_power_0.row(2)[1])))\n",
    "\n",
    "result = X_0_2 * X_1_3 * X_2_3 * X_3_2\n",
    "print(result)"
   ]
  }
 ],
 "metadata": {
  "kernelspec": {
   "display_name": "Python 3",
   "language": "python",
   "name": "python3"
  },
  "language_info": {
   "codemirror_mode": {
    "name": "ipython",
    "version": 3
   },
   "file_extension": ".py",
   "mimetype": "text/x-python",
   "name": "python",
   "nbconvert_exporter": "python",
   "pygments_lexer": "ipython3",
   "version": "3.11.3"
  },
  "orig_nbformat": 4
 },
 "nbformat": 4,
 "nbformat_minor": 2
}
