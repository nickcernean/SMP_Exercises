{
 "cells": [
  {
   "cell_type": "code",
   "execution_count": 1,
   "metadata": {},
   "outputs": [],
   "source": [
    "from scipy import stats\n",
    "from scipy.stats import norm\n",
    "from scipy.stats import t\n",
    "from scipy.stats import binom\n",
    "from scipy.stats import geom\n",
    "from scipy.stats import hypergeom\n",
    "from scipy.stats import poisson\n",
    "from scipy.stats import nbinom\n",
    "import pandas as pd\n",
    "import numpy as np\n",
    "import sympy as sp\n",
    "from sympy import *\n",
    "sp.init_printing()\n",
    "import matplotlib.pyplot as plt\n",
    "import scipy.integrate as integrate\n",
    "import scipy.special as special\n",
    "from scipy.integrate import quad\n",
    "import numpy as np\n",
    "from scipy.misc import derivative\n",
    "import math\n",
    "from math import *\n",
    "from fractions import Fraction\n",
    "import fractions\n",
    "from sympy import Rational as R\n",
    "from IPython.display import display, Math, Latex\n",
    "%matplotlib inline\n",
    "from IPython.display import Image, HTML"
   ]
  },
  {
   "attachments": {},
   "cell_type": "markdown",
   "metadata": {},
   "source": [
    "## Problems 3 (Book Exercises) </br>\n",
    "\n"
   ]
  },
  {
   "attachments": {},
   "cell_type": "markdown",
   "metadata": {},
   "source": [
    "## Exam  2014 (Assignmnent 1) </br >\n",
    "Let X denote a continuous stochastic variable with the following probability density function </br>\n",
    "$f(x)=\\begin{bmatrix}cx^4,for -1 \\leq x \\leq 1\\cr 0, otherwise\\end{bmatrix}$"
   ]
  },
  {
   "attachments": {},
   "cell_type": "markdown",
   "metadata": {},
   "source": [
    "**a)** Show that the cumulative probability function of X is </br>\n",
    "$f(x)=\\begin{bmatrix}0,for&x < -1 \\cr \\frac{1}{5}c(x^5+1),for -1 \\leq x \\leq 1\\cr 0, otherwise\\end{bmatrix}$ </br>\n",
    "Solve for: $ \\int_{-1}^x cx^4 dx$"
   ]
  },
  {
   "cell_type": "code",
   "execution_count": 2,
   "metadata": {},
   "outputs": [
    {
     "data": {
      "image/png": "[encoded data removed]",
      "text/latex": [
       "$\\displaystyle \\frac{c x^{5}}{5} + \\frac{c}{5}$"
      ],
      "text/plain": [
       "   5    \n",
       "c⋅x    c\n",
       "──── + ─\n",
       " 5     5"
      ]
     },
     "metadata": {},
     "output_type": "display_data"
    }
   ],
   "source": [
    "x, c = symbols('x c')\n",
    "\n",
    "\n",
    "fx = c*x**4\n",
    "Fx = sp.integrate(fx,(x, -1, x))\n",
    "\n",
    "display(Fx)\n",
    "##display(Math(\"F(x) =\"+ r\"\\begin{bmatrix}0,for&x < -1 \\cr %s ,for -1 \\leq x \\leq 1\\cr 0, otherwise\\end{bmatrix}\"%(Fx)))"
   ]
  },
  {
   "attachments": {},
   "cell_type": "markdown",
   "metadata": {},
   "source": [
    "**b)** Determine the constant c and restate both the probability density function and the cumulative probability function using the actual value of c. </br>\n",
    "Solution: </br>\n",
    "PDF: $f(x)=\\begin{bmatrix} \\frac{5}{2}x^4,for -1 \\leq x \\leq 1\\cr 0, otherwise\\end{bmatrix}$ </br>\n",
    "CDF: $f(x)=\\begin{bmatrix}0,for&x < -1 \\cr \\frac{1}{2}c(x^5+1),for -1 \\leq x \\leq 1\\cr 0, otherwise\\end{bmatrix}$ </br> \n",
    "Solve for: $ \\int_{-1}^1 cx^4 dx = 1$"
   ]
  },
  {
   "cell_type": "code",
   "execution_count": 3,
   "metadata": {},
   "outputs": [
    {
     "data": {
      "text/latex": [
       "$\\displaystyle c = \\frac{5}{2}$"
      ],
      "text/plain": [
       "<IPython.core.display.Math object>"
      ]
     },
     "metadata": {},
     "output_type": "display_data"
    }
   ],
   "source": [
    "x, c = symbols('x c')\n",
    "\n",
    "fx = c*x**4\n",
    "\n",
    "list = solve(sp.integrate(fx, (x, -1, 1))-1, c)\n",
    "\n",
    "display(Math(r'c = ' + latex(list[0])))\n"
   ]
  },
  {
   "attachments": {},
   "cell_type": "markdown",
   "metadata": {},
   "source": [
    "**c)** Compute 𝑃(−12<𝑋<12) and 𝑃(𝑋>0) </br>\n",
    "Solve for: $P(\\frac{-1}{2}<X<\\frac{1}{2})= \\int_{\\frac{-1}{2}}^{\\frac{1}{2}}\\frac{5}{2}*x^4 dx$ </br>\n",
    "Solve for: $P(X>0)= 1- (P(X=-1)+..+P(X=0))$ = </br> $\\int_{-1}^{0}\\frac{5}{2}*x^4 dx$"
   ]
  },
  {
   "cell_type": "code",
   "execution_count": 4,
   "metadata": {},
   "outputs": [
    {
     "data": {
      "text/latex": [
       "$\\displaystyle P(\\frac{-1}{2}<X<\\frac{1}{2}) = 1/32$"
      ],
      "text/plain": [
       "<IPython.core.display.Math object>"
      ]
     },
     "metadata": {},
     "output_type": "display_data"
    },
    {
     "data": {
      "text/latex": [
       "$\\displaystyle P(X>0) = 1/2$"
      ],
      "text/plain": [
       "<IPython.core.display.Math object>"
      ]
     },
     "metadata": {},
     "output_type": "display_data"
    }
   ],
   "source": [
    "x = symbols('x')\n",
    "\n",
    "fx = R(5, 2)*x**4\n",
    "\n",
    "Fx1 = sp.integrate(fx, (x, R(-1, 2), R(1, 2)))\n",
    "Fx2 = sp.integrate(fx, (x, -1, 0))\n",
    "\n",
    "display(Math(r'P(\\frac{-1}{2}<X<\\frac{1}{2}) = '+ '%s' % (Fx1)))\n",
    "display(Math(r'P(X>0) = '+ '%s' %(Fx2)))\n"
   ]
  },
  {
   "attachments": {},
   "cell_type": "markdown",
   "metadata": {},
   "source": [
    "**d)** Find the expected value and variance of X </br>\n",
    "E(x)= $\\int_{-oo}^{oo} xf(x) dx$ </br>\n",
    "Var(x)= $\\int_{-oo}^{oo} x^2f(x) - E([X])^2 dx$ </br>"
   ]
  },
  {
   "cell_type": "code",
   "execution_count": 5,
   "metadata": {},
   "outputs": [
    {
     "data": {
      "text/latex": [
       "$\\displaystyle E(X) = 0$"
      ],
      "text/plain": [
       "<IPython.core.display.Math object>"
      ]
     },
     "metadata": {},
     "output_type": "display_data"
    },
    {
     "data": {
      "text/latex": [
       "$\\displaystyle Var(X) = 5/7$"
      ],
      "text/plain": [
       "<IPython.core.display.Math object>"
      ]
     },
     "metadata": {},
     "output_type": "display_data"
    }
   ],
   "source": [
    "x = symbols('x')\n",
    "\n",
    "e_x = R(5, 2)*x**5\n",
    "\n",
    "EX = sp.integrate(e_x, (x, -1, 1))\n",
    "\n",
    "var_x =R(5, 2)*x**6\n",
    "\n",
    "VAR_X = sp.integrate(var_x, (x, -1, 1)) - EX**2\n",
    "\n",
    "\n",
    "display(Math(r'E(X) = '+ '%s' % (EX)))\n",
    "display(Math(r'Var(X) = '+ '%s' %(VAR_X)))"
   ]
  },
  {
   "attachments": {},
   "cell_type": "markdown",
   "metadata": {},
   "source": [
    "## Exam 2014 Assignment 3 (d-e)\n",
    "\n",
    "A central database server receives, on the average, 25 requests per second from its clients. Assuming that\n",
    "requests received by a database follow a Poisson distribution. </br>\n",
    "$f(x) = P(X=x)=\\frac{\\lambda^{x} e^{-\\lambda}}{x !}$ </br>"
   ]
  },
  {
   "attachments": {},
   "cell_type": "markdown",
   "metadata": {},
   "source": [
    "**Let T be the time in seconds between requests.** </br>\n",
    "**d)** What is the probability that less than or equal to 10-milliseconds seconds will elapse between job requests? => </br>\n",
    "$P(T \\leq \\frac {1}{100})$</br>\n",
    "Recalculate $\\lambda$ = 25/100 = 0.25 (10 milisecond interval) </br>\n",
    "$P(T)$\n"
   ]
  },
  {
   "cell_type": "code",
   "execution_count": 6,
   "metadata": {},
   "outputs": [
    {
     "data": {
      "text/latex": [
       "$\\displaystyle P(T \\leq \\frac {1}{100}) = 0.0078$"
      ],
      "text/plain": [
       "<IPython.core.display.Math object>"
      ]
     },
     "metadata": {},
     "output_type": "display_data"
    },
    {
     "data": {
      "text/latex": [
       "$\\displaystyle P(T \\leq \\frac{1}{100}) = 0.7788$"
      ],
      "text/plain": [
       "<IPython.core.display.Math object>"
      ]
     },
     "metadata": {},
     "output_type": "display_data"
    }
   ],
   "source": [
    "x = symbols('x')\n",
    "\n",
    "l = 25/100\n",
    "\n",
    "fx = (l**x*E**(-l))/(sp.factorial(x))\n",
    "\n",
    "FX = sp.integrate(fx, (x, 0, R(1,100)))\n",
    "\n",
    "display(Math(r'P(T \\leq \\frac {1}{100}) = '+  repr(round(FX,4))))\n",
    "\n",
    "t=1/100\n",
    "\n",
    "display(Math(r\"P(T \\leq \\frac{1}{100}) = \" + repr(round(poisson.cdf(t, l), 4))))\n"
   ]
  },
  {
   "attachments": {},
   "cell_type": "markdown",
   "metadata": {},
   "source": [
    "**Let T be the time in seconds between requests.** </br>\n",
    "**e)** What is the probability that more than 100-milliseconds will elapse between requests? => </br>\n",
    "$P(T > \\frac {1}{10}) = 1 - P(T \\leq \\frac {1}{10})$</br>\n",
    "Recalculate $\\lambda$ = 25/10 = 2.5 (100 milisecond interval) </br>\n",
    "\n"
   ]
  },
  {
   "cell_type": "code",
   "execution_count": 7,
   "metadata": {},
   "outputs": [
    {
     "data": {
      "text/latex": [
       "$\\displaystyle P(T \\leq \\frac {1}{100}) = 0.008828918205$"
      ],
      "text/plain": [
       "<IPython.core.display.Math object>"
      ]
     },
     "metadata": {},
     "output_type": "display_data"
    },
    {
     "data": {
      "text/latex": [
       "$\\displaystyle P(T \\leq \\frac{1}{1000}) = 0.9179$"
      ],
      "text/plain": [
       "<IPython.core.display.Math object>"
      ]
     },
     "metadata": {},
     "output_type": "display_data"
    }
   ],
   "source": [
    "x = symbols('x')\n",
    "\n",
    "l = 25/10\n",
    "\n",
    "fx = (l**x*E**(-l))/(sp.factorial(x))\n",
    "\n",
    "FX = sp.integrate(fx, (x, 0, R(1,10)))\n",
    "\n",
    "t=1/10\n",
    "display(Math(r'P(T \\leq \\frac {1}{100}) = '+  repr(round(FX,12))))\n",
    "\n",
    "display(Math(r\"P(T \\leq \\frac{1}{1000}) = \" + repr(round(1-poisson.cdf(t, l), 4))))\n"
   ]
  },
  {
   "attachments": {},
   "cell_type": "markdown",
   "metadata": {},
   "source": [
    "## Exam  2018 (Assignmnent 1) </br >\n",
    "Let X denote a continuous stochastic variable with the following probability density function </br>\n",
    "$f(x)=\\begin{bmatrix}c(1-x^2),for -1 < x < 1\\cr 0, otherwise\\end{bmatrix}$ "
   ]
  },
  {
   "attachments": {},
   "cell_type": "markdown",
   "metadata": {},
   "source": [
    "**a)** Determine the value of c and state the cumulative distribution function of X."
   ]
  },
  {
   "cell_type": "code",
   "execution_count": 8,
   "metadata": {},
   "outputs": [
    {
     "data": {
      "text/latex": [
       "$\\displaystyle c = \\frac{3}{4}$"
      ],
      "text/plain": [
       "<IPython.core.display.Math object>"
      ]
     },
     "metadata": {},
     "output_type": "display_data"
    },
    {
     "data": {
      "text/latex": [
       "$\\displaystyle F(x) = - \\frac{x^{3}}{4} + \\frac{3 x}{4} + \\frac{1}{2}$"
      ],
      "text/plain": [
       "<IPython.core.display.Math object>"
      ]
     },
     "metadata": {},
     "output_type": "display_data"
    }
   ],
   "source": [
    "x, c, u = symbols('x c u')\n",
    "\n",
    "fx = c*(1-x**2)\n",
    "list = solve(sp.integrate(fx, (x, -1, 1))-1, c)\n",
    "\n",
    "display(Math(r'c = ' + latex(list[0])))\n",
    "\n",
    "ux = list[0] *(1-u**2)\n",
    "cdf = sp.integrate(ux, (u,-1, x))\n",
    "\n",
    "display(Math(r'F(x) = '+ latex(cdf)))"
   ]
  },
  {
   "attachments": {},
   "cell_type": "markdown",
   "metadata": {},
   "source": [
    "**b)** Determine $𝑃(𝑋 \\leq \\frac{1}{2}) and 𝑃(𝑋 \\leq \\frac{-1}{4})$ </br>\n",
    "Solve for: $𝑃(𝑋 \\leq \\frac{1}{2})= \\int_{-1}^{\\frac{1}{2}}\\frac{3}{4}*(1-x^2) dx$ </br>\n",
    "Solve for: $𝑃(𝑋 \\leq \\frac{-1}{4}) = \\int_{-1}^{\\frac{-1}{4}}\\frac{3}{4}*(1-x^2) dx$"
   ]
  },
  {
   "cell_type": "code",
   "execution_count": 9,
   "metadata": {},
   "outputs": [
    {
     "data": {
      "text/latex": [
       "$\\displaystyle 𝑃(𝑋 \\leq \\frac{1}{2}) = 0.8438$"
      ],
      "text/plain": [
       "<IPython.core.display.Math object>"
      ]
     },
     "metadata": {},
     "output_type": "display_data"
    },
    {
     "data": {
      "text/latex": [
       "$\\displaystyle 𝑃(𝑋 \\leq \\frac{-1}{4}) = 0.3164$"
      ],
      "text/plain": [
       "<IPython.core.display.Math object>"
      ]
     },
     "metadata": {},
     "output_type": "display_data"
    }
   ],
   "source": [
    "x = symbols('x')\n",
    "\n",
    "fx = R(3, 4)*(1-x**2)\n",
    "\n",
    "Fx1 = sp.integrate(fx, (x, -1, R(1, 2)))\n",
    "Fx2 = sp.integrate(fx, (x, -1, R(-1, 4)))\n",
    "\n",
    "display(Math(r'𝑃(𝑋 \\leq \\frac{1}{2}) = '+ repr(round(Fx1,4))))\n",
    "display(Math(r'𝑃(𝑋 \\leq \\frac{-1}{4}) = '+ repr(round(Fx2,4))))\n"
   ]
  },
  {
   "attachments": {},
   "cell_type": "markdown",
   "metadata": {},
   "source": [
    "**c)** Determine the expected value and the variance of X. </br>\n",
    "E(x)= $\\int_{-oo}^{oo} xf(x) dx$ </br>\n",
    "Var(x)= $\\int_{-oo}^{oo} x^2f(x) - E([X])^2 dx$ </br>"
   ]
  },
  {
   "cell_type": "code",
   "execution_count": 10,
   "metadata": {},
   "outputs": [
    {
     "data": {
      "text/latex": [
       "$\\displaystyle E(X) = 0$"
      ],
      "text/plain": [
       "<IPython.core.display.Math object>"
      ]
     },
     "metadata": {},
     "output_type": "display_data"
    },
    {
     "data": {
      "text/latex": [
       "$\\displaystyle Var(X) = 1/5$"
      ],
      "text/plain": [
       "<IPython.core.display.Math object>"
      ]
     },
     "metadata": {},
     "output_type": "display_data"
    }
   ],
   "source": [
    "x = symbols('x')\n",
    "\n",
    "e_x = R(3, 4)*(1-x**2)*x\n",
    "\n",
    "EX = sp.integrate(e_x, (x, -1, 1))\n",
    "\n",
    "var_x = R(3, 4)*(1-x**2)*x**2\n",
    "\n",
    "VAR_X = sp.integrate(var_x, (x, -1, 1)) - EX**2\n",
    "\n",
    "\n",
    "display(Math(r'E(X) = '+ '%s' % (EX)))\n",
    "display(Math(r'Var(X) = '+ '%s' %(VAR_X)))"
   ]
  },
  {
   "attachments": {},
   "cell_type": "markdown",
   "metadata": {},
   "source": [
    "## Re-exam  2018 (Assignmnent 1) </br >\n",
    "Compute the expected value, E(X), if X has a density function as follows: </br>\n",
    "E(x)= $\\int_{-oo}^{oo} xf(x) dx$ </br>"
   ]
  },
  {
   "attachments": {},
   "cell_type": "markdown",
   "metadata": {},
   "source": [
    "**a)** $f(x)=\\begin{bmatrix} \\frac {1}{4}*x*e^{\\frac {-x}{2}},for & x>2\\cr 0, otherwise\\end{bmatrix}$"
   ]
  },
  {
   "cell_type": "code",
   "execution_count": 11,
   "metadata": {},
   "outputs": [
    {
     "data": {
      "text/latex": [
       "$\\displaystyle E(X) = 10*exp(-1)$"
      ],
      "text/plain": [
       "<IPython.core.display.Math object>"
      ]
     },
     "metadata": {},
     "output_type": "display_data"
    }
   ],
   "source": [
    "x = symbols('x')\n",
    "\n",
    "e_x = R(1, 4)*(x*E**(-x/2))*x\n",
    "\n",
    "EX = sp.integrate(e_x, (x, 2, oo))\n",
    "\n",
    "display(Math(r'E(X) = '+ '%s' % (EX)))"
   ]
  },
  {
   "attachments": {},
   "cell_type": "markdown",
   "metadata": {},
   "source": [
    "**b)** $f(x)=\\begin{bmatrix}5x^{-2},for & x>5\\cr 0, otherwise\\end{bmatrix}$"
   ]
  },
  {
   "cell_type": "code",
   "execution_count": 12,
   "metadata": {},
   "outputs": [
    {
     "data": {
      "text/latex": [
       "$\\displaystyle E(X) = oo$"
      ],
      "text/plain": [
       "<IPython.core.display.Math object>"
      ]
     },
     "metadata": {},
     "output_type": "display_data"
    }
   ],
   "source": [
    "x = symbols('x')\n",
    "\n",
    "e_x = 5*x**(-2)*x\n",
    "\n",
    "EX = sp.integrate(e_x, (x, 5, oo))\n",
    "\n",
    "display(Math(r'E(X) = '+ '%s' % (EX)))"
   ]
  },
  {
   "attachments": {},
   "cell_type": "markdown",
   "metadata": {},
   "source": [
    "**c)**  The density function of X is given by: </br> $f(x)=\\begin{bmatrix}a+bx^2,for & 0 \\leq x \\leq 1 \\cr 0, otherwise\\end{bmatrix}$ </br>\n",
    "If $E(X)=\\frac{3}{5}$, find a and b."
   ]
  },
  {
   "cell_type": "code",
   "execution_count": 13,
   "metadata": {},
   "outputs": [
    {
     "data": {
      "text/latex": [
       "$\\displaystyle F(X) = a + b/3$"
      ],
      "text/plain": [
       "<IPython.core.display.Math object>"
      ]
     },
     "metadata": {},
     "output_type": "display_data"
    },
    {
     "data": {
      "text/latex": [
       "$\\displaystyle E(X) = a/2 + b/4$"
      ],
      "text/plain": [
       "<IPython.core.display.Math object>"
      ]
     },
     "metadata": {},
     "output_type": "display_data"
    },
    {
     "data": {
      "text/latex": [
       "$\\displaystyle  \\left\\{ a : 0.6, \\  b : 1.2\\right\\}$"
      ],
      "text/plain": [
       "<IPython.core.display.Math object>"
      ]
     },
     "metadata": {},
     "output_type": "display_data"
    }
   ],
   "source": [
    "x, a, b = symbols('x a b')\n",
    "\n",
    "# CDF => F(x)=1\n",
    "fx = (a + b*x**2)\n",
    "FX = sp.integrate(fx, (x, 0, 1))\n",
    "\n",
    "display(Math(r'F(X) = ' + '%s' % (FX)))\n",
    "\n",
    "# CDF => E(x)=3/5\n",
    "ex = (a + b*x**2)*x\n",
    "EX = sp.integrate(ex, (x, 0, 1))\n",
    "\n",
    "display(Math(r'E(X) = ' + '%s' % (EX)))\n",
    "## solve for both\n",
    "eq1 = sp.Eq(FX, 1)  # Define the first equation\n",
    "eq2 = sp.Eq(EX, 3/5)  # Define the second equation\n",
    "\n",
    "sol = sp.solve((eq1, eq2), (a, b))\n",
    "\n",
    "display(Math(r' ' + latex(sol)))\n",
    "# display(Math(r'b = ' + latex(list[1])))\n"
   ]
  },
  {
   "attachments": {},
   "cell_type": "markdown",
   "metadata": {},
   "source": [
    "## Exam  2020 (Assignmnent 1) </br >\n",
    "The length of time X (in hours), needed by students in the SMP course to complete the three hour exam\n",
    "is a continuous random variable with the following density function: </br>\n",
    "$f(x)=\\begin{bmatrix} q(x^2 +x),for & 0 \\leq x \\leq 3 \\cr 0, otherwise\\end{bmatrix}$"
   ]
  },
  {
   "attachments": {},
   "cell_type": "markdown",
   "metadata": {},
   "source": [
    "**a)** Find the value q that makes f a probability density function.</br>\n",
    "CDF: F(x)=1"
   ]
  },
  {
   "cell_type": "code",
   "execution_count": 14,
   "metadata": {},
   "outputs": [
    {
     "data": {
      "text/latex": [
       "$\\displaystyle F(x) = \\frac{q x^{3}}{3} + \\frac{q x^{2}}{2}$"
      ],
      "text/plain": [
       "<IPython.core.display.Math object>"
      ]
     },
     "metadata": {},
     "output_type": "display_data"
    },
    {
     "data": {
      "text/latex": [
       "$\\displaystyle q = \\frac{1}{3 u \\left(u + 1\\right)}$"
      ],
      "text/plain": [
       "<IPython.core.display.Math object>"
      ]
     },
     "metadata": {},
     "output_type": "display_data"
    }
   ],
   "source": [
    "x, q = symbols('x q')\n",
    "\n",
    "# CDF => F(x)=1\n",
    "fx = q*(u**2 + u)\n",
    "\n",
    "cdf = sp.integrate(fx, (u,0, x))\n",
    "\n",
    "display(Math(r'F(x) = '+ latex(cdf)))\n",
    "\n",
    "## solve for c\n",
    "\n",
    "FX = sp.integrate(fx, (x, 0, 3))\n",
    "list = solve(sp.integrate(fx, (x, 0, 3))-1, q)\n",
    "\n",
    "display(Math(r'q = ' + latex(list[0])))"
   ]
  },
  {
   "attachments": {},
   "cell_type": "markdown",
   "metadata": {},
   "source": [
    "**b)** Find the cumulative distribution function. </br>"
   ]
  },
  {
   "cell_type": "code",
   "execution_count": 15,
   "metadata": {},
   "outputs": [
    {
     "data": {
      "text/latex": [
       "$\\displaystyle F(x) = \\frac{2 x^{3}}{81} + \\frac{x^{2}}{27}$"
      ],
      "text/plain": [
       "<IPython.core.display.Math object>"
      ]
     },
     "metadata": {},
     "output_type": "display_data"
    }
   ],
   "source": [
    "x = symbols('x')\n",
    "\n",
    "q = R(2,27)\n",
    "\n",
    "fx = q*(x**2 + x)\n",
    "\n",
    "cdf = sp.integrate(fx, (x,0, x))\n",
    "\n",
    "display(Math(r'F(x) = '+ latex(cdf)))"
   ]
  },
  {
   "attachments": {},
   "cell_type": "markdown",
   "metadata": {},
   "source": [
    "**c)** Find the probability that a student will complete the exam in"
   ]
  },
  {
   "attachments": {},
   "cell_type": "markdown",
   "metadata": {},
   "source": [
    "(i) less than an hour </br>\n",
    "$P(X \\leq 1 )$"
   ]
  },
  {
   "cell_type": "code",
   "execution_count": 16,
   "metadata": {},
   "outputs": [
    {
     "data": {
      "text/latex": [
       "$\\displaystyle P(X \\leq 1 ) = \\frac{5}{81}$"
      ],
      "text/plain": [
       "<IPython.core.display.Math object>"
      ]
     },
     "metadata": {},
     "output_type": "display_data"
    }
   ],
   "source": [
    "x = symbols('x')\n",
    "\n",
    "q = R(2,27)\n",
    "\n",
    "fx = q*(x**2 + x)\n",
    "\n",
    "cdf = sp.integrate(fx, (x,0, 1))\n",
    "\n",
    "display(Math(r'P(X \\leq 1 ) = '+ latex(cdf)))"
   ]
  },
  {
   "attachments": {},
   "cell_type": "markdown",
   "metadata": {},
   "source": [
    "(ii) less than an hour </br>\n",
    "$P(1 \\leq X \\leq 2 )$"
   ]
  },
  {
   "cell_type": "code",
   "execution_count": 31,
   "metadata": {},
   "outputs": [
    {
     "data": {
      "text/latex": [
       "$\\displaystyle P(1 \\leq X \\leq 2 ) = \\frac{23}{81}$"
      ],
      "text/plain": [
       "<IPython.core.display.Math object>"
      ]
     },
     "metadata": {},
     "output_type": "display_data"
    }
   ],
   "source": [
    "x = symbols('x')\n",
    "\n",
    "q = R(2,27)\n",
    "\n",
    "fx = q*(x**2 + x)\n",
    "\n",
    "cdf = sp.integrate(fx, (x,1, 2))\n",
    "display(Math(r'P(1 \\leq X \\leq 2 ) = '+ latex(cdf)))"
   ]
  },
  {
   "attachments": {},
   "cell_type": "markdown",
   "metadata": {},
   "source": [
    "(iii) less than an hour </br>\n",
    "$P( X \\geq 2 ) = 1- P(X \\leq 2)$"
   ]
  },
  {
   "cell_type": "code",
   "execution_count": 18,
   "metadata": {},
   "outputs": [
    {
     "data": {
      "text/latex": [
       "$\\displaystyle P( X \\geq 2 ) = \\frac{28}{81}$"
      ],
      "text/plain": [
       "<IPython.core.display.Math object>"
      ]
     },
     "metadata": {},
     "output_type": "display_data"
    }
   ],
   "source": [
    "x = symbols('x')\n",
    "\n",
    "q = R(2, 27)\n",
    "\n",
    "fx = q*(x**2 + x)\n",
    "\n",
    "cdf = 1-sp.integrate(fx, (x, 2, 3))\n",
    "\n",
    "display(Math(r'P( X \\geq 2 ) = ' + latex(cdf)))\n"
   ]
  },
  {
   "attachments": {},
   "cell_type": "markdown",
   "metadata": {},
   "source": [
    "(iii) less than an hour </br>\n",
    "$P( X \\geq \\frac {17}{6} )= 1 - P(X \\leq \\frac {17}{6})$"
   ]
  },
  {
   "cell_type": "code",
   "execution_count": 29,
   "metadata": {},
   "outputs": [
    {
     "data": {
      "text/latex": [
       "$\\displaystyle P( 0 \\leq  X \\leq 3 ) = \\frac{617}{4374}$"
      ],
      "text/plain": [
       "<IPython.core.display.Math object>"
      ]
     },
     "metadata": {},
     "output_type": "display_data"
    }
   ],
   "source": [
    "x = symbols('x')\n",
    "\n",
    "q = R(2, 27)\n",
    "\n",
    "fx = q*(x**2 + x)\n",
    "\n",
    "cdf = 1 - sp.integrate(fx, (x, 0, R(17,6)))\n",
    "display(Math(r'P( 0 \\leq  X \\leq 3 ) = ' + latex(cdf)))\n"
   ]
  },
  {
   "attachments": {},
   "cell_type": "markdown",
   "metadata": {},
   "source": [
    "**d)** Find the mean time needed to complete the three hour SMP exam.</br>\n",
    "E(x)= $\\int_{-oo}^{oo} xf(x) dx$ </br>"
   ]
  },
  {
   "cell_type": "code",
   "execution_count": 20,
   "metadata": {},
   "outputs": [
    {
     "data": {
      "text/latex": [
       "$\\displaystyle E(X) = 1$"
      ],
      "text/plain": [
       "<IPython.core.display.Math object>"
      ]
     },
     "metadata": {},
     "output_type": "display_data"
    }
   ],
   "source": [
    "x = symbols('x')\n",
    "q = R(2, 27)\n",
    "\n",
    "e_x = q*(x**2 + x)*x\n",
    "\n",
    "EX = sp.integrate(fx, (x, 0, 3))\n",
    "\n",
    "display(Math(r'E(X) = '+ '%s' % (EX)))"
   ]
  },
  {
   "attachments": {},
   "cell_type": "markdown",
   "metadata": {},
   "source": [
    "**d)** Find the variance time needed to complete the three hour SMP exam.</br>\n",
    "Var(x)= $\\int_{-oo}^{oo} x^2f(x) - E([X])^2 dx$ </br>"
   ]
  },
  {
   "cell_type": "code",
   "execution_count": 21,
   "metadata": {},
   "outputs": [
    {
     "data": {
      "text/latex": [
       "$\\displaystyle Var(X) = 41/10$"
      ],
      "text/plain": [
       "<IPython.core.display.Math object>"
      ]
     },
     "metadata": {},
     "output_type": "display_data"
    }
   ],
   "source": [
    "x = symbols('x')\n",
    "q = R(2, 27)\n",
    "\n",
    "var_x = q*(x**2 + x)*x**2\n",
    "\n",
    "VAR_X = sp.integrate(var_x, (x, 0, 3)) - EX**2\n",
    "display(Math(r'Var(X) = '+ '%s' %(VAR_X)))"
   ]
  }
 ],
 "metadata": {
  "kernelspec": {
   "display_name": "Python 3",
   "language": "python",
   "name": "python3"
  },
  "language_info": {
   "codemirror_mode": {
    "name": "ipython",
    "version": 3
   },
   "file_extension": ".py",
   "mimetype": "text/x-python",
   "name": "python",
   "nbconvert_exporter": "python",
   "pygments_lexer": "ipython3",
   "version": "3.9.6"
  },
  "orig_nbformat": 4
 },
 "nbformat": 4,
 "nbformat_minor": 2
}
