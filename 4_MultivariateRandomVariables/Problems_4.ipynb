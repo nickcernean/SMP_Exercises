{
 "cells": [
  {
   "cell_type": "code",
   "execution_count": 1,
   "metadata": {},
   "outputs": [],
   "source": [
    "from scipy import stats\n",
    "from scipy.stats import norm\n",
    "from scipy.stats import t\n",
    "from scipy.stats import binom\n",
    "from scipy.stats import geom\n",
    "from scipy.stats import hypergeom\n",
    "from scipy.stats import poisson\n",
    "from scipy.stats import nbinom\n",
    "import pandas as pd\n",
    "import numpy as np\n",
    "import sympy as sp\n",
    "from sympy import *\n",
    "sp.init_printing()\n",
    "import matplotlib.pyplot as plt\n",
    "import scipy.integrate as integrate\n",
    "import scipy.special as special\n",
    "from scipy.integrate import quad\n",
    "import numpy as np\n",
    "from scipy.misc import derivative\n",
    "import math\n",
    "from math import *\n",
    "from fractions import Fraction\n",
    "import fractions\n",
    "from sympy import Rational as R\n",
    "from sympy import Matrix as M\n",
    "from IPython.display import display, Math, Latex\n",
    "%matplotlib inline\n",
    "from IPython.display import Image, HTML\n",
    "import statsmodels.stats.power as smp\n",
    "import statsmodels.api as sm\n"
   ]
  },
  {
   "attachments": {},
   "cell_type": "markdown",
   "metadata": {},
   "source": [
    "## Exercise 1 </br>\n",
    "Let the simultaneous probability mass function (also called simultaneous probability density function or\n",
    "pdf) for the two discreet random variables X and Y be given by the table"
   ]
  },
  {
   "attachments": {},
   "cell_type": "markdown",
   "metadata": {},
   "source": [
    "**a.** Find the marginal PMFs of X and Y. <br>\n",
    "done in the copybook"
   ]
  },
  {
   "attachments": {},
   "cell_type": "markdown",
   "metadata": {},
   "source": [
    "**b.** Find EX, EY, E[XY] </br>\n",
    "done in the copybook/ done by hand / long calculation"
   ]
  },
  {
   "attachments": {},
   "cell_type": "markdown",
   "metadata": {},
   "source": [
    "**c.** Specify whether X and Y are independent </br>\n",
    "Based on some formula, refer to copybook, to see how it has been solved. </br>\n",
    "Starting from this premise, we are stating that.\n",
    "$P(Y=6|X=1)= P(Y=6)$ </br>\n",
    "$\\frac{P(Y=6|X=1)}{P(X=1)}= P(Y=6)$ </br>\n",
    "Calculations... </br>\n",
    "2=2 => they are dependent."
   ]
  },
  {
   "attachments": {},
   "cell_type": "markdown",
   "metadata": {},
   "source": [
    "## Exercise 3 </br>\n",
    "Consider the following PDF:\n",
    "$f_{X|Y}=x*e^{-xy}, for y>0$ </br>\n",
    "Find P(Y<2 | X=2) and E(Y|X =2) "
   ]
  },
  {
   "cell_type": "code",
   "execution_count": 4,
   "metadata": {},
   "outputs": [
    {
     "data": {
      "image/png": "[encoded data removed]",
      "text/latex": [
       "$\\displaystyle 1 - e^{-4}$"
      ],
      "text/plain": [
       "     -4\n",
       "1 - ℯ  "
      ]
     },
     "metadata": {},
     "output_type": "display_data"
    },
    {
     "data": {
      "image/png": "[encoded data removed]",
      "text/latex": [
       "$\\displaystyle \\frac{1}{2}$"
      ],
      "text/plain": [
       "1/2"
      ]
     },
     "metadata": {},
     "output_type": "display_data"
    }
   ],
   "source": [
    "x, y = symbols('x y')\n",
    "\n",
    "fx_given_y = x*sp.E**(-x*y)\n",
    "## since we have to find y<2 | x=2 => integral from 0 to 2 from 2*x power(-2y) =>\n",
    "\n",
    "f_calc = 2*sp.E**(-2*y)\n",
    "Fx = sp.integrate(f_calc,(y, 0, 2))\n",
    "\n",
    "display(Fx)\n",
    "## apply the formula for Expected value => \n",
    "f_calc = y*2*sp.E**(-2*y)\n",
    "Fx = sp.integrate(f_calc,(y, 0, sp.oo))\n",
    "\n",
    "display(Fx)"
   ]
  },
  {
   "attachments": {},
   "cell_type": "markdown",
   "metadata": {},
   "source": [
    "## Exercise 4"
   ]
  },
  {
   "cell_type": "code",
   "execution_count": 7,
   "metadata": {},
   "outputs": [
    {
     "data": {
      "text/html": [
       "<img src=\"../images/Screenshot 2023-06-04 at 18.24.02.png\" width=\"600\" height=\"200\" class=\"unconfined\"/>"
      ],
      "text/plain": [
       "<IPython.core.display.Image object>"
      ]
     },
     "metadata": {},
     "output_type": "display_data"
    }
   ],
   "source": [
    "display(Image(url='../images/Screenshot 2023-06-04 at 18.24.02.png', width=600, height=200,unconfined=True))"
   ]
  },
  {
   "cell_type": "code",
   "execution_count": null,
   "metadata": {},
   "outputs": [],
   "source": [
    "## technicallly take each combination of possible number based on the prob function and that's it P(1,1) +P(1,2) + P(1,3)+ ... P(3,1) = 11/16"
   ]
  },
  {
   "attachments": {},
   "cell_type": "markdown",
   "metadata": {},
   "source": [
    "## Exercise 5 </br> \n"
   ]
  },
  {
   "cell_type": "code",
   "execution_count": 10,
   "metadata": {},
   "outputs": [
    {
     "data": {
      "text/html": [
       "<img src=\"../images/Screenshot 2023-06-04 at 18.32.14.png\" width=\"600\" height=\"300\" class=\"unconfined\"/>"
      ],
      "text/plain": [
       "<IPython.core.display.Image object>"
      ]
     },
     "metadata": {},
     "output_type": "display_data"
    }
   ],
   "source": [
    "display(Image(url='../images/Screenshot 2023-06-04 at 18.32.14.png', width=600, height=300,unconfined=True))"
   ]
  },
  {
   "cell_type": "code",
   "execution_count": 22,
   "metadata": {},
   "outputs": [
    {
     "data": {
      "text/latex": [
       "$\\displaystyle c = \\left[ 1.0\\right]$"
      ],
      "text/plain": [
       "<IPython.core.display.Math object>"
      ]
     },
     "metadata": {},
     "output_type": "display_data"
    },
    {
     "data": {
      "image/png": "[encoded data removed]",
      "text/latex": [
       "$\\displaystyle \\left[ 1.0\\right]$"
      ],
      "text/plain": [
       "[1.0]"
      ]
     },
     "metadata": {},
     "output_type": "display_data"
    },
    {
     "data": {
      "text/latex": [
       "$\\displaystyle P(0<X<1, 0<Y<1/2)= \\frac{5}{16} - \\frac{1}{4 e}$"
      ],
      "text/plain": [
       "<IPython.core.display.Math object>"
      ]
     },
     "metadata": {},
     "output_type": "display_data"
    },
    {
     "data": {
      "text/latex": [
       "$\\displaystyle P(0<X<1)= 0.75 - \\frac{0.5}{e}$"
      ],
      "text/plain": [
       "<IPython.core.display.Math object>"
      ]
     },
     "metadata": {},
     "output_type": "display_data"
    }
   ],
   "source": [
    "## a) Starting from the premise that Total probability: The integral of the joint PDF over the entire domain is equal to 1.\n",
    "x, y, c = symbols('x y c')\n",
    "\n",
    "f_x_y = 1/2 * sp.E**(-x) + c*y/((1+x)**2)\n",
    "\n",
    "Fx = solve(sp.integrate(f_x_y, (y, 0, 1),(x, 0, sp.oo))-1,c)\n",
    "\n",
    "display(Math(r'c = ' + latex(Fx)))\n",
    "display(Fx)\n",
    "\n",
    "\n",
    "## b)  P(0<X<1, 0<Y<1/2)\n",
    "\n",
    "x, y = symbols('x y')\n",
    "\n",
    "f_x_y = 1/2 * sp.E**(-x) + y/((1+x)**2)\n",
    "\n",
    "Fx = sp.integrate(f_x_y, (y, 0, R(1,2)),(x, 0, 1))\n",
    "\n",
    "display(Math(r'P(0<X<1, 0<Y<1/2)= ' + latex(Fx)))\n",
    "\n",
    "## c)  P(0<X<1)\n",
    "\n",
    "x, y = symbols('x y')\n",
    "\n",
    "f_x_y = 1/2 * sp.E**(-x) + y/((1+x)**2)\n",
    "\n",
    "Fx = sp.integrate(f_x_y, (y, 0, 1),(x, 0, 1))\n",
    "\n",
    "display(Math(r'P(0<X<1)= ' + latex(Fx)))\n"
   ]
  },
  {
   "attachments": {},
   "cell_type": "markdown",
   "metadata": {},
   "source": [
    "## Exercise 6 </br>"
   ]
  },
  {
   "cell_type": "code",
   "execution_count": 25,
   "metadata": {},
   "outputs": [
    {
     "data": {
      "text/html": [
       "<img src=\"../images/Screenshot 2023-06-04 at 19.32.37.png\" width=\"700\" height=\"300\" class=\"unconfined\"/>"
      ],
      "text/plain": [
       "<IPython.core.display.Image object>"
      ]
     },
     "metadata": {},
     "output_type": "display_data"
    }
   ],
   "source": [
    "display(Image(url='../images/Screenshot 2023-06-04 at 19.32.37.png', width=700, height=300,unconfined=True))"
   ]
  },
  {
   "cell_type": "code",
   "execution_count": 38,
   "metadata": {},
   "outputs": [
    {
     "data": {
      "text/latex": [
       "$\\displaystyle  Marginal PDF X =\\begin{cases} \\frac{1}{x} & \\text{for}\\: \\left|{\\arg{\\left(x \\right)}}\\right| < \\frac{\\pi}{2} \\\\\\int\\limits_{0}^{\\infty} e^{- x y}\\, dy & \\text{otherwise} \\end{cases}$"
      ],
      "text/plain": [
       "<IPython.core.display.Math object>"
      ]
     },
     "metadata": {},
     "output_type": "display_data"
    },
    {
     "data": {
      "text/latex": [
       "$\\displaystyle  Marginal PDF Y =\\begin{cases} - \\frac{e^{- e y}}{y} + \\frac{e^{- y}}{y} & \\text{for}\\: y > -\\infty \\wedge y < \\infty \\wedge y \\neq 0 \\\\-1 + e & \\text{otherwise} \\end{cases}$"
      ],
      "text/plain": [
       "<IPython.core.display.Math object>"
      ]
     },
     "metadata": {},
     "output_type": "display_data"
    },
    {
     "data": {
      "text/latex": [
       "$\\displaystyle  Marginal PDF X =0.5 - \\operatorname{Ei}{\\left(1.64872127070013 e^{i \\pi} \\right)} + \\operatorname{Ei}{\\left(e^{i \\pi} \\right)}$"
      ],
      "text/plain": [
       "<IPython.core.display.Math object>"
      ]
     },
     "metadata": {},
     "output_type": "display_data"
    }
   ],
   "source": [
    "##a marginal pdf\n",
    "x, y = symbols('x y')\n",
    "\n",
    "f_x_y = sp.E**(-x*y)\n",
    "\n",
    "marginal_pdf_x = sp.integrate(f_x_y, (y, 0, sp.oo))\n",
    "marginal_pdf_y = sp.integrate(f_x_y, (x, 1, sp.E))\n",
    "\n",
    "## take just the value from this calculation, weird representation\n",
    "display(Math(r' Marginal PDF X =' + latex(marginal_pdf_x)))\n",
    "display(Math(r' Marginal PDF Y =' + latex(marginal_pdf_y)))\n",
    "\n",
    "## b) P(0<Y<1,1<X<sqrt(e))\n",
    "x, y = symbols('x y')\n",
    "\n",
    "f_x_y = sp.E**(-x*y)\n",
    "\n",
    "Fx= sp.integrate(f_x_y, (y, 0, 1),(x, 1, sp.sqrt(e)))\n",
    "\n",
    "display(Math(r' Marginal PDF X =' + latex(Fx)))\n"
   ]
  },
  {
   "attachments": {},
   "cell_type": "markdown",
   "metadata": {},
   "source": [
    "## Exercise 7 </br >"
   ]
  },
  {
   "cell_type": "code",
   "execution_count": 34,
   "metadata": {},
   "outputs": [
    {
     "data": {
      "text/html": [
       "<img src=\"../images/Screenshot 2023-06-04 at 19.48.54.png\" width=\"900\" height=\"400\" class=\"unconfined\"/>"
      ],
      "text/plain": [
       "<IPython.core.display.Image object>"
      ]
     },
     "metadata": {},
     "output_type": "display_data"
    }
   ],
   "source": [
    "display(Image(url='../images/Screenshot 2023-06-04 at 19.48.54.png', width=900, height=400,unconfined=True))"
   ]
  },
  {
   "cell_type": "code",
   "execution_count": 49,
   "metadata": {},
   "outputs": [
    {
     "data": {
      "text/latex": [
       "$\\displaystyle  Marginal PDF X =0.5 x^{2} + 0.333333333333333$"
      ],
      "text/plain": [
       "<IPython.core.display.Math object>"
      ]
     },
     "metadata": {},
     "output_type": "display_data"
    },
    {
     "data": {
      "text/latex": [
       "$\\displaystyle  Marginal PDF Y =0.333333333333333 y + 0.166666666666667$"
      ],
      "text/plain": [
       "<IPython.core.display.Math object>"
      ]
     },
     "metadata": {},
     "output_type": "display_data"
    },
    {
     "data": {
      "text/latex": [
       "$\\displaystyle  P(X>0, Y < 1 ) =0.166666666666667$"
      ],
      "text/plain": [
       "<IPython.core.display.Math object>"
      ]
     },
     "metadata": {},
     "output_type": "display_data"
    },
    {
     "data": {
      "text/latex": [
       "$\\displaystyle  P(X>0 or Y < 1 ) =0.666666666666667$"
      ],
      "text/plain": [
       "<IPython.core.display.Math object>"
      ]
     },
     "metadata": {},
     "output_type": "display_data"
    },
    {
     "data": {
      "text/latex": [
       "$\\displaystyle  P(X>0 | Y < 1 ) =0.5$"
      ],
      "text/plain": [
       "<IPython.core.display.Math object>"
      ]
     },
     "metadata": {},
     "output_type": "display_data"
    },
    {
     "data": {
      "text/latex": [
       "$\\displaystyle  P( X + Y > 0 ) =0.909722222222222$"
      ],
      "text/plain": [
       "<IPython.core.display.Math object>"
      ]
     },
     "metadata": {},
     "output_type": "display_data"
    }
   ],
   "source": [
    "##a marginal pdf\n",
    "x, y = symbols('x y')\n",
    "\n",
    "f_x_y = 1/4*x**2 + 1/6*y\n",
    "\n",
    "marginal_pdf_x = sp.integrate(f_x_y, (y, 0, 2))\n",
    "marginal_pdf_y = sp.integrate(f_x_y, (x, -1, 1))\n",
    "\n",
    "## take just the value from this calculation, weird representation\n",
    "display(Math(r' Marginal PDF X =' + latex(marginal_pdf_x)))\n",
    "display(Math(r' Marginal PDF Y =' + latex(marginal_pdf_y)))\n",
    "\n",
    "## b) P(X>0, Y < 1 )\n",
    "x, y = symbols('x y')\n",
    "\n",
    "f_x_y = 1/4*x**2 + 1/6*y\n",
    "\n",
    "Fx = sp.integrate(f_x_y, (y, 0, 1),(x, 0, 1))\n",
    "\n",
    "display(Math(r' P(X>0, Y < 1 ) =' + latex(Fx)))\n",
    "\n",
    "## c) P(X > 0 or Y < 1 )= 1 - P(X < 0 and Y>1)\n",
    "x, y = symbols('x y')\n",
    "\n",
    "f_x_y = 1/4*x**2 + 1/6*y\n",
    "\n",
    "Fx = 1 - sp.integrate(f_x_y, (y, 1, 2),(x, -1, 0))\n",
    "\n",
    "display(Math(r' P(X>0 or Y < 1 ) =' + latex(Fx)))\n",
    "\n",
    "## d) P(X > 0 | Y < 1 )= P(X>0 and Y<1)/ P(Y<1)\n",
    "x, y = symbols('x y')\n",
    "\n",
    "f_x_y = 1/4*x**2 + 1/6*y\n",
    "\n",
    "F_x_and_y = sp.integrate(f_x_y, (y, 0, 1),(x, 0, 1))\n",
    "\n",
    "F_y = sp.integrate(f_x_y, (y, 1, 2),(x, -1, 0))\n",
    "\n",
    "result = F_x_and_y / F_y\n",
    "\n",
    "display(Math(r' P(X>0 | Y < 1 ) =' + latex(result)))\n",
    "\n",
    "##  if you do not understand, reference the copybook \n",
    "# e) P(X + Y > 0 )= \n",
    "x, y = symbols('x y')\n",
    "\n",
    "f_x_y = 1/4*x**2 + 1/6*y\n",
    "\n",
    "## for x +y >0 prob1, when both are bigger than 0\n",
    "F_x_1 = sp.integrate(f_x_y, (y, 0, 2),(x, 0, 1))\n",
    "\n",
    "## for x + y >0, prob2 take in consideration all the negative x, which are -1 to 0, and for y lower boundary from inverse of x to upper boundary of the domain\n",
    "F_x_2 = sp.integrate(f_x_y, (y, -x, 2),(x, -1, 0))\n",
    "\n",
    "result = F_x_1 + F_x_2\n",
    "display(Math(r' P( X + Y > 0 ) =' + latex(result)))"
   ]
  }
 ],
 "metadata": {
  "kernelspec": {
   "display_name": "Python 3",
   "language": "python",
   "name": "python3"
  },
  "language_info": {
   "codemirror_mode": {
    "name": "ipython",
    "version": 3
   },
   "file_extension": ".py",
   "mimetype": "text/x-python",
   "name": "python",
   "nbconvert_exporter": "python",
   "pygments_lexer": "ipython3",
   "version": "3.11.3"
  },
  "orig_nbformat": 4
 },
 "nbformat": 4,
 "nbformat_minor": 2
}
