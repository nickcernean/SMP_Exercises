{
 "cells": [
  {
   "cell_type": "code",
   "execution_count": 5,
   "metadata": {},
   "outputs": [],
   "source": [
    "from scipy.stats import binom\n",
    "from scipy.stats import geom\n",
    "from scipy.stats import hypergeom\n",
    "from scipy.stats import poisson\n",
    "from scipy.stats import nbinom\n",
    "import pandas as pd\n",
    "import sympy as sp\n",
    "from sympy import *\n",
    "sp.init_printing()\n",
    "import matplotlib.pyplot as plt\n",
    "import scipy.integrate as integrate\n",
    "import scipy.special as special\n",
    "from scipy.integrate import quad\n",
    "import numpy as np\n",
    "from scipy.misc import derivative\n",
    "import math\n",
    "from math import *\n",
    "from fractions import Fraction\n",
    "import fractions\n",
    "from IPython.display import display, Math, Latex\n",
    "%matplotlib inline\n",
    "from IPython.display import Image, HTML"
   ]
  },
  {
   "attachments": {},
   "cell_type": "markdown",
   "metadata": {},
   "source": [
    "##  PROBLEMS 1"
   ]
  },
  {
   "attachments": {},
   "cell_type": "markdown",
   "metadata": {},
   "source": [
    "## Exercise 1\n",
    "Heart failures are due to either natural occurrences (87%) or outside factors (13%).  Outside factors arerelated to induced substances (73%) or foreign objects (27%).  Natural occurrences are caused by arterialblockage (56%), disease (27%), and infection (e.g., staph infection) (17%)."
   ]
  },
  {
   "attachments": {},
   "cell_type": "markdown",
   "metadata": {},
   "source": [
    "**a)** Determine the probability that a failure is due to an induced substance."
   ]
  },
  {
   "attachments": {},
   "cell_type": "markdown",
   "metadata": {},
   "source": [
    "$P(IS)$ = induced substance\n",
    "$P(OF)$ = outside factors\n",
    "$P(IS|OF)$ = $\\frac{P(IS \\cap OF)}{P(OF)}$ => \n",
    "$P(IS \\cap OF)$ = $P(IS|OF)$ * $P(OF)$ = $P(IS)$ * $P(OF)$"
   ]
  },
  {
   "cell_type": "code",
   "execution_count": 6,
   "metadata": {},
   "outputs": [
    {
     "data": {
      "text/latex": [
       "$\\displaystyle P(IS|OF) = 0.0949$"
      ],
      "text/plain": [
       "<IPython.core.display.Math object>"
      ]
     },
     "metadata": {},
     "output_type": "display_data"
    }
   ],
   "source": [
    "p_is= 13/100\n",
    "p_of= 73/100\n",
    "\n",
    "display(Math(\"P(IS|OF) = \" + repr(round(p_is*p_of, 4))))"
   ]
  },
  {
   "attachments": {},
   "cell_type": "markdown",
   "metadata": {},
   "source": [
    "**a)** Determine the probability that a failure is due to to a disease or infection."
   ]
  },
  {
   "attachments": {},
   "cell_type": "markdown",
   "metadata": {},
   "source": [
    "$P(FD)$ = failure/disease <br/>\n",
    "$P(FI)$ = failure/infection<br/>\n",
    "$P(NO)$ = natural occurences <br/>\n",
    "$P((FD \\cup FI)|NO)$ = $\\frac{P((FD \\cup FI) \\cap NO)}{P(NO)}$ =>  <br/>\n",
    "$P((FD \\cup FI) \\cap NO)$ = $P((FD \\cup FI)|NO)$ * $P(NO)$ = $P(FD \\cup FI)$ * $P(NO)$"
   ]
  },
  {
   "cell_type": "code",
   "execution_count": 8,
   "metadata": {},
   "outputs": [
    {
     "data": {
      "text/latex": [
       "$\\displaystyle P((FD \\cup FI)|NO) = 0.3828$"
      ],
      "text/plain": [
       "<IPython.core.display.Math object>"
      ]
     },
     "metadata": {},
     "output_type": "display_data"
    }
   ],
   "source": [
    "p_is_cup_p_fi= (27 +17)/100\n",
    "p_no= 87/100\n",
    "\n",
    "display(Math(\"P((FD \\cup FI)|NO) = \" + repr(round(p_is_cup_p_fi*p_no, 4))))"
   ]
  },
  {
   "attachments": {},
   "cell_type": "markdown",
   "metadata": {},
   "source": [
    "## Exercise 2\n",
    "Computer  keyboard  failures  are  due  to  faulty  electrical  connects  (12%)  or  mechanical  defects  (88%).Mechanical  defects  are  related  to  loose  keys  (27%)  or  improper  assembly  (73%).   Electrical  connectdefects are caused by defective wires (35%), improper connections (13%), or poorly welded wires (52%)."
   ]
  },
  {
   "attachments": {},
   "cell_type": "markdown",
   "metadata": {},
   "source": [
    "**a)** Find the probability that a failure is due to loose keys."
   ]
  },
  {
   "attachments": {},
   "cell_type": "markdown",
   "metadata": {},
   "source": [
    "$P(LK)$ = loose keys = 27 % <br/>\n",
    "$P(MD)$ = mechanical defects = 88 % <br/>\n",
    "$P(LK | MD )$ = $P(LK \\cup MD) * P(MD)$ = $P(LK)$ * $P(MD)$"
   ]
  },
  {
   "cell_type": "code",
   "execution_count": 9,
   "metadata": {},
   "outputs": [
    {
     "data": {
      "text/latex": [
       "$\\displaystyle P(LK | MD) = 0.2376$"
      ],
      "text/plain": [
       "<IPython.core.display.Math object>"
      ]
     },
     "metadata": {},
     "output_type": "display_data"
    }
   ],
   "source": [
    "p_lk= 27/100\n",
    "p_md= 88/100\n",
    "\n",
    "display(Math(\"P(LK | MD) = \" + repr(round(p_lk*p_md, 4))))"
   ]
  },
  {
   "attachments": {},
   "cell_type": "markdown",
   "metadata": {},
   "source": [
    "**b)** Find the probability that a failure is due to improperly connected or poorly welded wires."
   ]
  },
  {
   "attachments": {},
   "cell_type": "markdown",
   "metadata": {},
   "source": [
    "$P(IC)$ = loose keys = 13 % <br/>\n",
    "$P(WW)$ = poorly wleded wires = 52 % <br/>\n",
    "$P(EC)$ = electrical connects = 12 % <br/>\n",
    "$P((IC \\cup WW)|EC)$ = $\\frac{P((IC \\cup WW) \\cap EC)}{P(EC)}$ => <br/>\n",
    "$P((IC \\cup WW) \\cap EC)$ = $P((IC \\cup WW)|EC)$ * $P(EC)$ = $P(IC \\cup WW)$ * $P(EC)$"
   ]
  },
  {
   "cell_type": "code",
   "execution_count": 10,
   "metadata": {},
   "outputs": [
    {
     "data": {
      "text/latex": [
       "$\\displaystyle P((IC \\cup WW)|EC) = 0.078$"
      ],
      "text/plain": [
       "<IPython.core.display.Math object>"
      ]
     },
     "metadata": {},
     "output_type": "display_data"
    }
   ],
   "source": [
    "p_ic_cup_p_ec= (13 + 52)/100\n",
    "p_ec= 12/100\n",
    "\n",
    "display(Math(\"P((IC \\cup WW)|EC) = \" + repr(round(p_ic_cup_p_ec*p_ec, 4))))"
   ]
  },
  {
   "attachments": {},
   "cell_type": "markdown",
   "metadata": {},
   "source": [
    "## Exercise 3\n",
    "Two teamsAandBplay a football match, and we are interested in the winner. The sample space canbe defined as:<br/>\n",
    "S={a, b, d}  <br/>\n",
    "a:shows the outcome that A wins, <br/>\n",
    "b:shows the outcome that B wins  <br/>\n",
    "d:shows the outcomethat they draw. <br/>\n",
    "Suppose that we know that \n",
    "<br/>(1) the probability thatAwins isP(a) =P({a}) = 0.5\n",
    "<br/>(2) the probability of a draw is P(d) =P({d}) = 0.25."
   ]
  },
  {
   "attachments": {},
   "cell_type": "markdown",
   "metadata": {},
   "source": [
    "**a)** Find the probability that B wins.<br/>\n",
    "$P(B)$ = 1- $P( \\overline{A} \\cup B)$ <br/>\n",
    "\n"
   ]
  },
  {
   "cell_type": "code",
   "execution_count": 11,
   "metadata": {},
   "outputs": [
    {
     "data": {
      "text/latex": [
       "$\\displaystyle P(B) = 0.25$"
      ],
      "text/plain": [
       "<IPython.core.display.Math object>"
      ]
     },
     "metadata": {},
     "output_type": "display_data"
    }
   ],
   "source": [
    "p_not_a= 50/100\n",
    "p_b= 25/100\n",
    "\n",
    "display(Math(\"P(B) = \" + repr(round(1-(p_not_a+p_b), 4))))"
   ]
  },
  {
   "attachments": {},
   "cell_type": "markdown",
   "metadata": {},
   "source": [
    "**b)** Find the probability that B wins or a draw occurs.<br/>\n",
    "$P(B \\cup D)$ =$P(B)+P(B)$ <br/>"
   ]
  },
  {
   "cell_type": "code",
   "execution_count": 12,
   "metadata": {},
   "outputs": [
    {
     "data": {
      "text/latex": [
       "$\\displaystyle P(B) = 0.5$"
      ],
      "text/plain": [
       "<IPython.core.display.Math object>"
      ]
     },
     "metadata": {},
     "output_type": "display_data"
    }
   ],
   "source": [
    "p_b= 25/100\n",
    "p_d= 25/100\n",
    "\n",
    "display(Math(\"P(B) = \" + repr(round(p_b+p_d, 4))))"
   ]
  },
  {
   "attachments": {},
   "cell_type": "markdown",
   "metadata": {},
   "source": [
    "## Exercise 4\n",
    "LetA andB be two events such that:<br/>\n",
    "$P(A)$ = 0.4<br/>\n",
    "$P(B)$ = 0.7<br/>\n",
    "$P(A \\cup B)$ =0.9"
   ]
  },
  {
   "cell_type": "code",
   "execution_count": 55,
   "metadata": {},
   "outputs": [
    {
     "data": {
      "text/latex": [
       "$\\displaystyle a) P(A \\cap B)$ =$P(B)+P(B)$ -$P(A \\cap B) = 0.2$"
      ],
      "text/plain": [
       "<IPython.core.display.Math object>"
      ]
     },
     "metadata": {},
     "output_type": "display_data"
    },
    {
     "data": {
      "text/latex": [
       "$\\displaystyle b) P(\\overline{A} \\cap B)$ =$P(B-A)=P(B)$ -$P(A \\cap B) = 0.5$"
      ],
      "text/plain": [
       "<IPython.core.display.Math object>"
      ]
     },
     "metadata": {},
     "output_type": "display_data"
    },
    {
     "data": {
      "text/latex": [
       "$\\displaystyle c) P(A - B)$ =$P(A) - P(A\\cap B)= 0.2$"
      ],
      "text/plain": [
       "<IPython.core.display.Math object>"
      ]
     },
     "metadata": {},
     "output_type": "display_data"
    },
    {
     "data": {
      "text/latex": [
       "$\\displaystyle d) P(\\overline{A} - B)$ =$P(\\overline{A}) - P(\\overline{A} \\cap B)= 1-P(A)- (P(B)$ -$P(A \\cap B) ) = 0.1$"
      ],
      "text/plain": [
       "<IPython.core.display.Math object>"
      ]
     },
     "metadata": {},
     "output_type": "display_data"
    },
    {
     "data": {
      "text/latex": [
       "$\\displaystyle e) P(\\overline{A} \\cup B) =P(\\overline{A})+P(B) -P(\\overline{A} \\cap B) = 0.8$"
      ],
      "text/plain": [
       "<IPython.core.display.Math object>"
      ]
     },
     "metadata": {},
     "output_type": "display_data"
    },
    {
     "data": {
      "text/latex": [
       "$\\displaystyle f) P(A \\cap (B \\cup \\overline{A})) =P(A \\cap B) \\cup P(A \\cap \\overline{A}) = 0.2$"
      ],
      "text/plain": [
       "<IPython.core.display.Math object>"
      ]
     },
     "metadata": {},
     "output_type": "display_data"
    }
   ],
   "source": [
    "p_a = 40/100\n",
    "p_b = 70/100\n",
    "p_a_cup_b= 90/100\n",
    "p_a_cap_b= 20/100\n",
    "\n",
    "display(Math(\"$a) P(A \\cap B)$ =$P(B)+P(B)$ -$P(A \\cap B) = \" + repr(round( p_a+p_b-p_a_cup_b, 4)))) \n",
    "\n",
    "display(Math(\"$b) P(\\overline{A} \\cap B)$ =$P(B-A)=P(B)$ -$P(A \\cap B) = \" + repr(round(p_b-p_a_cap_b, 4))))\n",
    "\n",
    "display(Math(\"$c) P(A - B)$ =$P(A) - P(A\\cap B)= \" + repr(round( p_a-p_a_cap_b, 4))))\n",
    "\n",
    "display(Math(\"$d) P(\\overline{A} - B)$ =$P(\\overline{A}) - P(\\overline{A} \\cap B)= 1-P(A)- (P(B)$ -$P(A \\cap B) ) = \" + repr(round(1-p_a- (p_b - p_a_cap_b), 4))))\n",
    "\n",
    "display(Math(\"e) P(\\overline{A} \\cup B) =P(\\overline{A})+P(B) -P(\\overline{A} \\cap B) = \" + repr(round(1-p_a +p_b- 5/10, 4))))\n",
    "\n",
    "display(Math(\"f) P(A \\cap (B \\cup \\overline{A})) =P(A \\cap B) \\cup P(A \\cap \\overline{A}) = \" + repr(round(p_a_cap_b+0, 4))))"
   ]
  },
  {
   "attachments": {},
   "cell_type": "markdown",
   "metadata": {},
   "source": [
    "## Exercise 5\n",
    "Consider a random experiment with a sample space.</br>\n",
    "S= {1,2,3...} </br>\n",
    "Suppose that we know: P(k) =P({k}) =$\\frac{c}{3^k}$ for k= 1,2,...   where c is a constant number.\n"
   ]
  },
  {
   "attachments": {},
   "cell_type": "markdown",
   "metadata": {},
   "source": [
    "**a)** \n",
    "Find c </br>\n",
    "Ratio formula: $r= \\frac{a_n}{a_(n-1)}$ </br>\n",
    "Sequence => $a_n= a*r^(n-1)$ </br>\n",
    "Sum of n term (finite), geometric sequence: $a+ar^2+ ar^3+...++ ar^n=\\frac{a(1-r^n)}{1-r}$, $r\\neq1$ </br>\n",
    "Sum of n term (infite), geometric sequence: $\\frac{a}{1-r}$, $r<1$ =></br>\n",
    "r=$\\frac{\\frac{c}{3^2}}{\\frac{c}{3}} = \\frac{c}{3^2} * \\frac{3}{c} =\\frac{1}{3}$ </br>\n",
    "P({K})=1, where P({K})= $\\frac{c}{3}+\\frac{c}{3^2}+\\frac{c}{3^3}+...+\\frac{c}{3^k}$=</br>\n",
    "=c*($\\frac{c}{3}+\\frac{c}{3^2}+\\frac{c}{3^3}+...\\frac{c}{3^k}$) =</br>\n",
    "=$\\frac{\\frac{1}{3}}{ 1-\\frac{1}{3}}= \\frac{c}{2}$= </br>\n",
    "=>$\\frac{c}{2}=1 => c=2$"
   ]
  },
  {
   "attachments": {},
   "cell_type": "markdown",
   "metadata": {},
   "source": [
    "**b)** \n",
    "Find P({2,4,6})</br>\n",
    "$2(\\frac{1}{3^2}+\\frac{1}{3^4}+\\frac{1}{3^6})=\\frac{2}{9}(\\frac{1-(\\frac{1}{3^2})^3}{1-\\frac{1}{3}})$ = </br>\n",
    "$=\\frac{156}{486}=0.32098$"
   ]
  },
  {
   "attachments": {},
   "cell_type": "markdown",
   "metadata": {},
   "source": [
    "**c)** Find P({3,4,5,...})</br>\n",
    "$\\frac{a}{1-r}= \\frac{\\frac{2}{3^3}}{1-\\frac{1}{3}}=\\frac{1}{9}$"
   ]
  },
  {
   "attachments": {},
   "cell_type": "markdown",
   "metadata": {},
   "source": [
    "## Exercise 6\n",
    "Let T be the time needed to complete a job at a certain factory. By using the historical data, we know that</br>\n",
    "$P(T \\leq t) = \\frac{t^2}{16}, for ---  0 \\leq t \\leq 4  //--- 1,for---t > 4$"
   ]
  },
  {
   "attachments": {},
   "cell_type": "markdown",
   "metadata": {},
   "source": [
    " **a)** Find the probability that the job is completed in less than one hour, i.e., find $P(T\\leq 1)$  </br>\n",
    " For $P(T \\leq 1)= \\frac{t^2}{16} =>P(T \\leq 1)= \\frac{1}{16}$"
   ]
  },
  {
   "attachments": {},
   "cell_type": "markdown",
   "metadata": {},
   "source": [
    " **b)** Find the probability that the job needs more than 2 hours. </br>\n",
    " For $P(T \\geq 2)=1- P(T < 2)=1-  \\frac{4}{16}=\\frac{3}{4}$"
   ]
  },
  {
   "attachments": {},
   "cell_type": "markdown",
   "metadata": {},
   "source": [
    " **c)** Find the probability that $1\\leq T\\leq 3$ </br>\n",
    " For $P(1 \\leq T \\leq 3)=P(T \\leq 3) -P(T < 1) =\\frac{3^2}{16}-\\frac{1}{16}=\\frac{1}{2}$"
   ]
  },
  {
   "attachments": {},
   "cell_type": "markdown",
   "metadata": {},
   "source": [
    "## Exercise 7\n",
    "You choose a point (A, B) uniformly at random in the unit square {(x,y): $0 \\leq x,y \\leq 1 $} </br>\n",
    "What is the probability that the equation $AX^2+X+B=0$ has real solutions ?"
   ]
  },
  {
   "attachments": {},
   "cell_type": "markdown",
   "metadata": {},
   "source": [
    "$ AX^2+X+B=0 $ </br>\n",
    "$\\Delta = 1^2 - 4AB,\\Delta \\geq 0 $ </br>\n",
    "Calculate the probability that $ P(1-4AB \\geq 0) =>  P(AB \\leq \\frac{1}{4})$ </br>\n",
    "Assume there is a point x,y that is equal to => xy= $\\frac{1}{4}$ => $y = \\frac{1}{4x}$ </br>\n",
    "Calculate the Area = $\\frac{1}{4x} +\\int_\\frac{1}{4}^4 \\frac{1}{4x} dx $"
   ]
  },
  {
   "cell_type": "code",
   "execution_count": 56,
   "metadata": {},
   "outputs": [
    {
     "data": {
      "text/latex": [
       "$\\displaystyle Area=0.1172$"
      ],
      "text/plain": [
       "<IPython.core.display.Math object>"
      ]
     },
     "metadata": {},
     "output_type": "display_data"
    }
   ],
   "source": [
    "x = sp.Symbol('x')\n",
    "f = 1/4*x\n",
    "display(Math(\"Area=\" + repr(round(sp.integrate(f, (x, 1/4, 1)), 4))))"
   ]
  }
 ],
 "metadata": {
  "kernelspec": {
   "display_name": "Python 3",
   "language": "python",
   "name": "python3"
  },
  "language_info": {
   "codemirror_mode": {
    "name": "ipython",
    "version": 3
   },
   "file_extension": ".py",
   "mimetype": "text/x-python",
   "name": "python",
   "nbconvert_exporter": "python",
   "pygments_lexer": "ipython3",
   "version": "3.9.6"
  },
  "orig_nbformat": 4
 },
 "nbformat": 4,
 "nbformat_minor": 2
}
