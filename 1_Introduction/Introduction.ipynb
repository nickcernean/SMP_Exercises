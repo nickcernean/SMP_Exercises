{
 "cells": [
  {
   "cell_type": "code",
   "execution_count": 58,
   "metadata": {},
   "outputs": [],
   "source": [
    "from scipy.stats import binom\n",
    "from scipy.stats import geom\n",
    "from scipy.stats import hypergeom\n",
    "from scipy.stats import poisson\n",
    "from scipy.stats import nbinom\n",
    "import pandas as pd\n",
    "import sympy as sp\n",
    "from sympy import *\n",
    "sp.init_printing()\n",
    "import matplotlib.pyplot as plt\n",
    "import scipy.integrate as integrate\n",
    "import scipy.special as special\n",
    "from scipy.integrate import quad\n",
    "import numpy as np\n",
    "from scipy.misc import derivative\n",
    "import math\n",
    "from math import *\n",
    "from fractions import Fraction\n",
    "import fractions\n",
    "from sympy import Rational as R\n",
    "from IPython.display import display, Math, Latex\n",
    "%matplotlib inline\n",
    "from IPython.display import Image, HTML"
   ]
  },
  {
   "attachments": {},
   "cell_type": "markdown",
   "metadata": {},
   "source": [
    "##  PROBLEMS 1"
   ]
  },
  {
   "attachments": {},
   "cell_type": "markdown",
   "metadata": {},
   "source": [
    "## Exercise 1\n",
    "Heart failures are due to either natural occurrences (87%) or outside factors (13%).  Outside factors arerelated to induced substances (73%) or foreign objects (27%).  Natural occurrences are caused by arterialblockage (56%), disease (27%), and infection (e.g., staph infection) (17%)."
   ]
  },
  {
   "attachments": {},
   "cell_type": "markdown",
   "metadata": {},
   "source": [
    "**a)** Determine the probability that a failure is due to an induced substance."
   ]
  },
  {
   "attachments": {},
   "cell_type": "markdown",
   "metadata": {},
   "source": [
    "$P(IS)$ = induced substance\n",
    "$P(OF)$ = outside factors\n",
    "$P(IS|OF)$ = $\\frac{P(IS \\cap OF)}{P(OF)}$ => \n",
    "$P(IS \\cap OF)$ = $P(IS|OF)$ * $P(OF)$ = $P(IS)$ * $P(OF)$"
   ]
  },
  {
   "cell_type": "code",
   "execution_count": 6,
   "metadata": {},
   "outputs": [
    {
     "data": {
      "text/latex": [
       "$\\displaystyle P(IS|OF) = 0.0949$"
      ],
      "text/plain": [
       "<IPython.core.display.Math object>"
      ]
     },
     "metadata": {},
     "output_type": "display_data"
    }
   ],
   "source": [
    "p_is= 13/100\n",
    "p_of= 73/100\n",
    "\n",
    "display(Math(\"P(IS|OF) = \" + repr(round(p_is*p_of, 4))))"
   ]
  },
  {
   "attachments": {},
   "cell_type": "markdown",
   "metadata": {},
   "source": [
    "**a)** Determine the probability that a failure is due to to a disease or infection."
   ]
  },
  {
   "attachments": {},
   "cell_type": "markdown",
   "metadata": {},
   "source": [
    "$P(FD)$ = failure/disease <br/>\n",
    "$P(FI)$ = failure/infection<br/>\n",
    "$P(NO)$ = natural occurences <br/>\n",
    "$P((FD \\cup FI)|NO)$ = $\\frac{P((FD \\cup FI) \\cap NO)}{P(NO)}$ =>  <br/>\n",
    "$P((FD \\cup FI) \\cap NO)$ = $P((FD \\cup FI)|NO)$ * $P(NO)$ = $P(FD \\cup FI)$ * $P(NO)$"
   ]
  },
  {
   "cell_type": "code",
   "execution_count": 8,
   "metadata": {},
   "outputs": [
    {
     "data": {
      "text/latex": [
       "$\\displaystyle P((FD \\cup FI)|NO) = 0.3828$"
      ],
      "text/plain": [
       "<IPython.core.display.Math object>"
      ]
     },
     "metadata": {},
     "output_type": "display_data"
    }
   ],
   "source": [
    "p_is_cup_p_fi= (27 +17)/100\n",
    "p_no= 87/100\n",
    "\n",
    "display(Math(\"P((FD \\cup FI)|NO) = \" + repr(round(p_is_cup_p_fi*p_no, 4))))"
   ]
  },
  {
   "attachments": {},
   "cell_type": "markdown",
   "metadata": {},
   "source": [
    "## Exercise 2\n",
    "Computer  keyboard  failures  are  due  to  faulty  electrical  connects  (12%)  or  mechanical  defects  (88%).Mechanical  defects  are  related  to  loose  keys  (27%)  or  improper  assembly  (73%).   Electrical  connectdefects are caused by defective wires (35%), improper connections (13%), or poorly welded wires (52%)."
   ]
  },
  {
   "attachments": {},
   "cell_type": "markdown",
   "metadata": {},
   "source": [
    "**a)** Find the probability that a failure is due to loose keys."
   ]
  },
  {
   "attachments": {},
   "cell_type": "markdown",
   "metadata": {},
   "source": [
    "$P(LK)$ = loose keys = 27 % <br/>\n",
    "$P(MD)$ = mechanical defects = 88 % <br/>\n",
    "$P(LK | MD )$ = $P(LK \\cup MD) * P(MD)$ = $P(LK)$ * $P(MD)$"
   ]
  },
  {
   "cell_type": "code",
   "execution_count": 9,
   "metadata": {},
   "outputs": [
    {
     "data": {
      "text/latex": [
       "$\\displaystyle P(LK | MD) = 0.2376$"
      ],
      "text/plain": [
       "<IPython.core.display.Math object>"
      ]
     },
     "metadata": {},
     "output_type": "display_data"
    }
   ],
   "source": [
    "p_lk= 27/100\n",
    "p_md= 88/100\n",
    "\n",
    "display(Math(\"P(LK | MD) = \" + repr(round(p_lk*p_md, 4))))"
   ]
  },
  {
   "attachments": {},
   "cell_type": "markdown",
   "metadata": {},
   "source": [
    "**b)** Find the probability that a failure is due to improperly connected or poorly welded wires."
   ]
  },
  {
   "attachments": {},
   "cell_type": "markdown",
   "metadata": {},
   "source": [
    "$P(IC)$ = loose keys = 13 % <br/>\n",
    "$P(WW)$ = poorly wleded wires = 52 % <br/>\n",
    "$P(EC)$ = electrical connects = 12 % <br/>\n",
    "$P((IC \\cup WW)|EC)$ = $\\frac{P((IC \\cup WW) \\cap EC)}{P(EC)}$ => <br/>\n",
    "$P((IC \\cup WW) \\cap EC)$ = $P((IC \\cup WW)|EC)$ * $P(EC)$ = $P(IC \\cup WW)$ * $P(EC)$"
   ]
  },
  {
   "cell_type": "code",
   "execution_count": 10,
   "metadata": {},
   "outputs": [
    {
     "data": {
      "text/latex": [
       "$\\displaystyle P((IC \\cup WW)|EC) = 0.078$"
      ],
      "text/plain": [
       "<IPython.core.display.Math object>"
      ]
     },
     "metadata": {},
     "output_type": "display_data"
    }
   ],
   "source": [
    "p_ic_cup_p_ec= (13 + 52)/100\n",
    "p_ec= 12/100\n",
    "\n",
    "display(Math(\"P((IC \\cup WW)|EC) = \" + repr(round(p_ic_cup_p_ec*p_ec, 4))))"
   ]
  },
  {
   "attachments": {},
   "cell_type": "markdown",
   "metadata": {},
   "source": [
    "## Exercise 3\n",
    "Two teamsAandBplay a football match, and we are interested in the winner. The sample space canbe defined as:<br/>\n",
    "S={a, b, d}  <br/>\n",
    "a:shows the outcome that A wins, <br/>\n",
    "b:shows the outcome that B wins  <br/>\n",
    "d:shows the outcomethat they draw. <br/>\n",
    "Suppose that we know that \n",
    "<br/>(1) the probability thatAwins isP(a) =P({a}) = 0.5\n",
    "<br/>(2) the probability of a draw is P(d) =P({d}) = 0.25."
   ]
  },
  {
   "attachments": {},
   "cell_type": "markdown",
   "metadata": {},
   "source": [
    "**a)** Find the probability that B wins.<br/>\n",
    "$P(B)$ = 1- $P( \\overline{A} \\cup B)$ <br/>\n",
    "\n"
   ]
  },
  {
   "cell_type": "code",
   "execution_count": 11,
   "metadata": {},
   "outputs": [
    {
     "data": {
      "text/latex": [
       "$\\displaystyle P(B) = 0.25$"
      ],
      "text/plain": [
       "<IPython.core.display.Math object>"
      ]
     },
     "metadata": {},
     "output_type": "display_data"
    }
   ],
   "source": [
    "p_not_a= 50/100\n",
    "p_b= 25/100\n",
    "\n",
    "display(Math(\"P(B) = \" + repr(round(1-(p_not_a+p_b), 4))))"
   ]
  },
  {
   "attachments": {},
   "cell_type": "markdown",
   "metadata": {},
   "source": [
    "**b)** Find the probability that B wins or a draw occurs.<br/>\n",
    "$P(B \\cup D)$ =$P(B)+P(B)$ <br/>"
   ]
  },
  {
   "cell_type": "code",
   "execution_count": 12,
   "metadata": {},
   "outputs": [
    {
     "data": {
      "text/latex": [
       "$\\displaystyle P(B) = 0.5$"
      ],
      "text/plain": [
       "<IPython.core.display.Math object>"
      ]
     },
     "metadata": {},
     "output_type": "display_data"
    }
   ],
   "source": [
    "p_b= 25/100\n",
    "p_d= 25/100\n",
    "\n",
    "display(Math(\"P(B) = \" + repr(round(p_b+p_d, 4))))"
   ]
  },
  {
   "attachments": {},
   "cell_type": "markdown",
   "metadata": {},
   "source": [
    "## Exercise 4\n",
    "LetA andB be two events such that:<br/>\n",
    "$P(A)$ = 0.4<br/>\n",
    "$P(B)$ = 0.7<br/>\n",
    "$P(A \\cup B)$ =0.9"
   ]
  },
  {
   "cell_type": "code",
   "execution_count": 55,
   "metadata": {},
   "outputs": [
    {
     "data": {
      "text/latex": [
       "$\\displaystyle a) P(A \\cap B)$ =$P(B)+P(B)$ -$P(A \\cap B) = 0.2$"
      ],
      "text/plain": [
       "<IPython.core.display.Math object>"
      ]
     },
     "metadata": {},
     "output_type": "display_data"
    },
    {
     "data": {
      "text/latex": [
       "$\\displaystyle b) P(\\overline{A} \\cap B)$ =$P(B-A)=P(B)$ -$P(A \\cap B) = 0.5$"
      ],
      "text/plain": [
       "<IPython.core.display.Math object>"
      ]
     },
     "metadata": {},
     "output_type": "display_data"
    },
    {
     "data": {
      "text/latex": [
       "$\\displaystyle c) P(A - B)$ =$P(A) - P(A\\cap B)= 0.2$"
      ],
      "text/plain": [
       "<IPython.core.display.Math object>"
      ]
     },
     "metadata": {},
     "output_type": "display_data"
    },
    {
     "data": {
      "text/latex": [
       "$\\displaystyle d) P(\\overline{A} - B)$ =$P(\\overline{A}) - P(\\overline{A} \\cap B)= 1-P(A)- (P(B)$ -$P(A \\cap B) ) = 0.1$"
      ],
      "text/plain": [
       "<IPython.core.display.Math object>"
      ]
     },
     "metadata": {},
     "output_type": "display_data"
    },
    {
     "data": {
      "text/latex": [
       "$\\displaystyle e) P(\\overline{A} \\cup B) =P(\\overline{A})+P(B) -P(\\overline{A} \\cap B) = 0.8$"
      ],
      "text/plain": [
       "<IPython.core.display.Math object>"
      ]
     },
     "metadata": {},
     "output_type": "display_data"
    },
    {
     "data": {
      "text/latex": [
       "$\\displaystyle f) P(A \\cap (B \\cup \\overline{A})) =P(A \\cap B) \\cup P(A \\cap \\overline{A}) = 0.2$"
      ],
      "text/plain": [
       "<IPython.core.display.Math object>"
      ]
     },
     "metadata": {},
     "output_type": "display_data"
    }
   ],
   "source": [
    "p_a = 40/100\n",
    "p_b = 70/100\n",
    "p_a_cup_b= 90/100\n",
    "p_a_cap_b= 20/100\n",
    "\n",
    "display(Math(\"$a) P(A \\cap B)$ =$P(B)+P(B)$ -$P(A \\cap B) = \" + repr(round( p_a+p_b-p_a_cup_b, 4)))) \n",
    "\n",
    "display(Math(\"$b) P(\\overline{A} \\cap B)$ =$P(B-A)=P(B)$ -$P(A \\cap B) = \" + repr(round(p_b-p_a_cap_b, 4))))\n",
    "\n",
    "display(Math(\"$c) P(A - B)$ =$P(A) - P(A\\cap B)= \" + repr(round( p_a-p_a_cap_b, 4))))\n",
    "\n",
    "display(Math(\"$d) P(\\overline{A} - B)$ =$P(\\overline{A}) - P(\\overline{A} \\cap B)= 1-P(A)- (P(B)$ -$P(A \\cap B) ) = \" + repr(round(1-p_a- (p_b - p_a_cap_b), 4))))\n",
    "\n",
    "display(Math(\"e) P(\\overline{A} \\cup B) =P(\\overline{A})+P(B) -P(\\overline{A} \\cap B) = \" + repr(round(1-p_a +p_b- 5/10, 4))))\n",
    "\n",
    "display(Math(\"f) P(A \\cap (B \\cup \\overline{A})) =P(A \\cap B) \\cup P(A \\cap \\overline{A}) = \" + repr(round(p_a_cap_b+0, 4))))"
   ]
  },
  {
   "attachments": {},
   "cell_type": "markdown",
   "metadata": {},
   "source": [
    "## Exercise 5\n",
    "Consider a random experiment with a sample space.</br>\n",
    "S= {1,2,3...} </br>\n",
    "Suppose that we know: P(k) =P({k}) =$\\frac{c}{3^k}$ for k= 1,2,...   where c is a constant number.\n"
   ]
  },
  {
   "attachments": {},
   "cell_type": "markdown",
   "metadata": {},
   "source": [
    "**a)** \n",
    "Find c </br>\n",
    "Ratio formula: $r= \\frac{a_n}{a_(n-1)}$ </br>\n",
    "Sequence => $a_n= a*r^(n-1)$ </br>\n",
    "Sum of n term (finite), geometric sequence: $a+ar^2+ ar^3+...++ ar^n=\\frac{a(1-r^n)}{1-r}$, $r\\neq1$ </br>\n",
    "Sum of n term (infite), geometric sequence: $\\frac{a}{1-r}$, $r<1$ =></br>\n",
    "r=$\\frac{\\frac{c}{3^2}}{\\frac{c}{3}} = \\frac{c}{3^2} * \\frac{3}{c} =\\frac{1}{3}$ </br>\n",
    "P({K})=1, where P({K})= $\\frac{c}{3}+\\frac{c}{3^2}+\\frac{c}{3^3}+...+\\frac{c}{3^k}$=</br>\n",
    "=c*($\\frac{c}{3}+\\frac{c}{3^2}+\\frac{c}{3^3}+...\\frac{c}{3^k}$) =</br>\n",
    "=$\\frac{\\frac{1}{3}}{ 1-\\frac{1}{3}}= \\frac{c}{2}$= </br>\n",
    "=>$\\frac{c}{2}=1 => c=2$"
   ]
  },
  {
   "attachments": {},
   "cell_type": "markdown",
   "metadata": {},
   "source": [
    "**b)** \n",
    "Find P({2,4,6})</br>\n",
    "$2(\\frac{1}{3^2}+\\frac{1}{3^4}+\\frac{1}{3^6})=\\frac{2}{9}(\\frac{1-(\\frac{1}{3^2})^3}{1-\\frac{1}{3}})$ = </br>\n",
    "$=\\frac{156}{486}=0.32098$"
   ]
  },
  {
   "attachments": {},
   "cell_type": "markdown",
   "metadata": {},
   "source": [
    "**c)** Find P({3,4,5,...})</br>\n",
    "$\\frac{a}{1-r}= \\frac{\\frac{2}{3^3}}{1-\\frac{1}{3}}=\\frac{1}{9}$"
   ]
  },
  {
   "attachments": {},
   "cell_type": "markdown",
   "metadata": {},
   "source": [
    "## Exercise 6\n",
    "Let T be the time needed to complete a job at a certain factory. By using the historical data, we know that</br>\n",
    "$P(T \\leq t) = \\frac{t^2}{16}, for ---  0 \\leq t \\leq 4  //--- 1,for---t > 4$"
   ]
  },
  {
   "attachments": {},
   "cell_type": "markdown",
   "metadata": {},
   "source": [
    " **a)** Find the probability that the job is completed in less than one hour, i.e., find $P(T\\leq 1)$  </br>\n",
    " For $P(T \\leq 1)= \\frac{t^2}{16} =>P(T \\leq 1)= \\frac{1}{16}$"
   ]
  },
  {
   "attachments": {},
   "cell_type": "markdown",
   "metadata": {},
   "source": [
    " **b)** Find the probability that the job needs more than 2 hours. </br>\n",
    " For $P(T \\geq 2)=1- P(T < 2)=1-  \\frac{4}{16}=\\frac{3}{4}$"
   ]
  },
  {
   "attachments": {},
   "cell_type": "markdown",
   "metadata": {},
   "source": [
    " **c)** Find the probability that $1\\leq T\\leq 3$ </br>\n",
    " For $P(1 \\leq T \\leq 3)=P(T \\leq 3) -P(T < 1) =\\frac{3^2}{16}-\\frac{1}{16}=\\frac{1}{2}$"
   ]
  },
  {
   "attachments": {},
   "cell_type": "markdown",
   "metadata": {},
   "source": [
    "## Exercise 7\n",
    "You choose a point (A, B) uniformly at random in the unit square {(x,y): $0 \\leq x,y \\leq 1 $} </br>\n",
    "What is the probability that the equation $AX^2+X+B=0$ has real solutions ?"
   ]
  },
  {
   "attachments": {},
   "cell_type": "markdown",
   "metadata": {},
   "source": [
    "$ AX^2+X+B=0 $ </br>\n",
    "$\\Delta = 1^2 - 4AB,\\Delta \\geq 0 $ </br>\n",
    "Calculate the probability that $ P(1-4AB \\geq 0) =>  P(AB \\leq \\frac{1}{4})$ </br>\n",
    "Assume there is a point x,y that is equal to => xy= $\\frac{1}{4}$ => $y = \\frac{1}{4x}$ </br>\n",
    "Calculate the Area = $\\frac{1}{4x} +\\int_\\frac{1}{4}^4 \\frac{1}{4x} dx $"
   ]
  },
  {
   "cell_type": "code",
   "execution_count": 56,
   "metadata": {},
   "outputs": [
    {
     "data": {
      "text/latex": [
       "$\\displaystyle Area=0.1172$"
      ],
      "text/plain": [
       "<IPython.core.display.Math object>"
      ]
     },
     "metadata": {},
     "output_type": "display_data"
    }
   ],
   "source": [
    "x = sp.Symbol('x')\n",
    "f = 1/4*x\n",
    "display(Math(\"Area=\" + repr(round(sp.integrate(f, (x, 1/4, 1)), 4))))"
   ]
  },
  {
   "attachments": {},
   "cell_type": "markdown",
   "metadata": {},
   "source": [
    "## Exam 2014 Assignment 2 (a,b)\n",
    "An IT company receives its printed circuit boards from two different suppliers, 1 and 2. Records show that 5% of the circuit boards from supplier 1 and 3% of the circuit boards from supplier 2 are defective. 60% of the company’s current circuit boards come from supplier 2, and the remaining from supplier 1. The company usually keeps a stock of 2000 circuit boards"
   ]
  },
  {
   "attachments": {},
   "cell_type": "markdown",
   "metadata": {},
   "source": [
    "**a)** Based on this information, construct a contingency table of the company’s circuit board stock. </br>\n"
   ]
  },
  {
   "cell_type": "code",
   "execution_count": 68,
   "metadata": {},
   "outputs": [
    {
     "data": {
      "text/html": [
       "<div>\n",
       "<style scoped>\n",
       "    .dataframe tbody tr th:only-of-type {\n",
       "        vertical-align: middle;\n",
       "    }\n",
       "\n",
       "    .dataframe tbody tr th {\n",
       "        vertical-align: top;\n",
       "    }\n",
       "\n",
       "    .dataframe thead th {\n",
       "        text-align: right;\n",
       "    }\n",
       "</style>\n",
       "<table border=\"1\" class=\"dataframe\">\n",
       "  <thead>\n",
       "    <tr style=\"text-align: right;\">\n",
       "      <th></th>\n",
       "      <th>1</th>\n",
       "      <th>2</th>\n",
       "      <th>3</th>\n",
       "    </tr>\n",
       "  </thead>\n",
       "  <tbody>\n",
       "    <tr>\n",
       "      <th>1</th>\n",
       "      <td>40</td>\n",
       "      <td>760</td>\n",
       "      <td>800</td>\n",
       "    </tr>\n",
       "    <tr>\n",
       "      <th>2</th>\n",
       "      <td>36</td>\n",
       "      <td>1164</td>\n",
       "      <td>1200</td>\n",
       "    </tr>\n",
       "    <tr>\n",
       "      <th>3</th>\n",
       "      <td>76</td>\n",
       "      <td>1924</td>\n",
       "      <td>2000</td>\n",
       "    </tr>\n",
       "  </tbody>\n",
       "</table>\n",
       "</div>"
      ],
      "text/plain": [
       "    1     2     3\n",
       "1  40   760   800\n",
       "2  36  1164  1200\n",
       "3  76  1924  2000"
      ]
     },
     "execution_count": 68,
     "metadata": {},
     "output_type": "execute_result"
    }
   ],
   "source": [
    "## Index 1 = Supplier 1\n",
    "## Index 2 = Supplier 2\n",
    "## Index 3 = Total\n",
    "\n",
    "## Column 1 = Defective\n",
    "## Column 2 = Non-defective\n",
    "## Column 3 = Total\n",
    "Index = [1, 2, 3]\n",
    "Columns = {1: [40, 36, 76], 2: [760, 1164, 1924], 3: [800,1200,2000]}\n",
    "df = pd.DataFrame(data=Columns, index = Index)\n",
    "df"
   ]
  },
  {
   "attachments": {},
   "cell_type": "markdown",
   "metadata": {},
   "source": [
    "**b)** If a randomly chosen circuit board from the company’s stock is chosen and turns out to be defective, what is the probability that the circuit board is from supplier 1. </br>\n",
    "$P(Supplier 1 | Defective) = \\frac{ P(Supplier \\cap Defective)}{P(Defective)}$"
   ]
  },
  {
   "cell_type": "code",
   "execution_count": 71,
   "metadata": {},
   "outputs": [
    {
     "data": {
      "text/latex": [
       "$\\displaystyle P(Supplier 1 | Defective)=1.0526$"
      ],
      "text/plain": [
       "<IPython.core.display.Math object>"
      ]
     },
     "metadata": {},
     "output_type": "display_data"
    }
   ],
   "source": [
    "p_sup1_cap_def = 40/1000\n",
    "p_def = 76/2000\n",
    "\n",
    "display(Math(\"P(Supplier 1 | Defective)=\" + repr(round(p_sup1_cap_def/p_def, 4))))"
   ]
  },
  {
   "attachments": {},
   "cell_type": "markdown",
   "metadata": {},
   "source": [
    "## Exam 2015 Assignment 2 (a,b)\n",
    "A batch of 1000 hard drives from three suppliers were tested. 2% of the hard drives from Toshiba and 2% of the hard drives from Seagate were defective, and in the entire batch there were 3% defectives in total. In the batch, 50% were Western Digital hard drives and 30% were Toshibas."
   ]
  },
  {
   "attachments": {},
   "cell_type": "markdown",
   "metadata": {},
   "source": [
    "**a)** Based on this information, create a 3 x 2 contingency table"
   ]
  },
  {
   "cell_type": "code",
   "execution_count": 72,
   "metadata": {},
   "outputs": [
    {
     "data": {
      "text/html": [
       "<div>\n",
       "<style scoped>\n",
       "    .dataframe tbody tr th:only-of-type {\n",
       "        vertical-align: middle;\n",
       "    }\n",
       "\n",
       "    .dataframe tbody tr th {\n",
       "        vertical-align: top;\n",
       "    }\n",
       "\n",
       "    .dataframe thead th {\n",
       "        text-align: right;\n",
       "    }\n",
       "</style>\n",
       "<table border=\"1\" class=\"dataframe\">\n",
       "  <thead>\n",
       "    <tr style=\"text-align: right;\">\n",
       "      <th></th>\n",
       "      <th>1</th>\n",
       "      <th>2</th>\n",
       "      <th>3</th>\n",
       "    </tr>\n",
       "  </thead>\n",
       "  <tbody>\n",
       "    <tr>\n",
       "      <th>1</th>\n",
       "      <td>6</td>\n",
       "      <td>294</td>\n",
       "      <td>300</td>\n",
       "    </tr>\n",
       "    <tr>\n",
       "      <th>2</th>\n",
       "      <td>4</td>\n",
       "      <td>196</td>\n",
       "      <td>200</td>\n",
       "    </tr>\n",
       "    <tr>\n",
       "      <th>3</th>\n",
       "      <td>20</td>\n",
       "      <td>480</td>\n",
       "      <td>500</td>\n",
       "    </tr>\n",
       "    <tr>\n",
       "      <th>4</th>\n",
       "      <td>30</td>\n",
       "      <td>970</td>\n",
       "      <td>1000</td>\n",
       "    </tr>\n",
       "  </tbody>\n",
       "</table>\n",
       "</div>"
      ],
      "text/plain": [
       "    1    2     3\n",
       "1   6  294   300\n",
       "2   4  196   200\n",
       "3  20  480   500\n",
       "4  30  970  1000"
      ]
     },
     "execution_count": 72,
     "metadata": {},
     "output_type": "execute_result"
    }
   ],
   "source": [
    "## Index 1 = Toshiba\n",
    "## Index 2 = Seagate\n",
    "## Index 3 = Western Digital\n",
    "## Index 4 = Total\n",
    "\n",
    "## Column 1 = Defective\n",
    "## Column 2 = Non-defective\n",
    "## Column 3 = Total\n",
    "Index = [1, 2, 3,4]\n",
    "Columns = {1: [6, 4, 20,30], 2: [294, 196, 480,970], 3: [300,200,500,1000]}\n",
    "df = pd.DataFrame(data=Columns, index = Index)\n",
    "df"
   ]
  },
  {
   "attachments": {},
   "cell_type": "markdown",
   "metadata": {},
   "source": [
    "**b)** What is the probability that a defective product came from Seagate? </br>\n",
    "$P(Seagate | Defective) = \\frac{ P(Seagate \\cap Defective)}{P(Defective)}$"
   ]
  },
  {
   "cell_type": "code",
   "execution_count": 74,
   "metadata": {},
   "outputs": [
    {
     "data": {
      "text/latex": [
       "$\\displaystyle P(Seagate | Defective)=0.1333$"
      ],
      "text/plain": [
       "<IPython.core.display.Math object>"
      ]
     },
     "metadata": {},
     "output_type": "display_data"
    }
   ],
   "source": [
    "p_seagate_cap_def = 4/1000\n",
    "p_def = 30/1000\n",
    "\n",
    "display(Math(\"P(Seagate | Defective)=\" + repr(round(p_seagate_cap_def/p_def, 4))))"
   ]
  },
  {
   "attachments": {},
   "cell_type": "markdown",
   "metadata": {},
   "source": [
    "**c)** What is the probability of randomly selecting a Western Digital hard drive from the entire batch? </br>\n",
    "$P(Western Digital) = \\frac{ Western Digital }{Total}$"
   ]
  },
  {
   "cell_type": "code",
   "execution_count": 76,
   "metadata": {},
   "outputs": [
    {
     "data": {
      "text/latex": [
       "$\\displaystyle P(Western Digital)=0.5$"
      ],
      "text/plain": [
       "<IPython.core.display.Math object>"
      ]
     },
     "metadata": {},
     "output_type": "display_data"
    }
   ],
   "source": [
    "wd = 500\n",
    "total = 1000\n",
    "\n",
    "display(Math(\"P(Western Digital)=\" + repr(round(wd/total, 4))))"
   ]
  },
  {
   "attachments": {},
   "cell_type": "markdown",
   "metadata": {},
   "source": [
    "## Re-Exam 2015 Assignment 2 (a,c,d)\n",
    "A batch of 1000 hard drives from three suppliers were tested. 2% of the hard drives from Toshiba and 2% of the hard drives from Seagate were defective, and in the entire batch there were 3% defectives in total. In the batch, 50% were Western Digital hard drives and 30% were Toshibas."
   ]
  },
  {
   "cell_type": "code",
   "execution_count": 78,
   "metadata": {},
   "outputs": [
    {
     "data": {
      "text/html": [
       "<div>\n",
       "<style scoped>\n",
       "    .dataframe tbody tr th:only-of-type {\n",
       "        vertical-align: middle;\n",
       "    }\n",
       "\n",
       "    .dataframe tbody tr th {\n",
       "        vertical-align: top;\n",
       "    }\n",
       "\n",
       "    .dataframe thead th {\n",
       "        text-align: right;\n",
       "    }\n",
       "</style>\n",
       "<table border=\"1\" class=\"dataframe\">\n",
       "  <thead>\n",
       "    <tr style=\"text-align: right;\">\n",
       "      <th></th>\n",
       "      <th>1</th>\n",
       "      <th>2</th>\n",
       "      <th>3</th>\n",
       "    </tr>\n",
       "  </thead>\n",
       "  <tbody>\n",
       "    <tr>\n",
       "      <th>12</th>\n",
       "      <td>6</td>\n",
       "      <td>294</td>\n",
       "      <td>300</td>\n",
       "    </tr>\n",
       "    <tr>\n",
       "      <th>10</th>\n",
       "      <td>4</td>\n",
       "      <td>196</td>\n",
       "      <td>200</td>\n",
       "    </tr>\n",
       "    <tr>\n",
       "      <th>7</th>\n",
       "      <td>20</td>\n",
       "      <td>480</td>\n",
       "      <td>500</td>\n",
       "    </tr>\n",
       "    <tr>\n",
       "      <th>2</th>\n",
       "      <td>30</td>\n",
       "      <td>970</td>\n",
       "      <td>1000</td>\n",
       "    </tr>\n",
       "  </tbody>\n",
       "</table>\n",
       "</div>"
      ],
      "text/plain": [
       "     1    2     3\n",
       "12   6  294   300\n",
       "10   4  196   200\n",
       "7   20  480   500\n",
       "2   30  970  1000"
      ]
     },
     "execution_count": 78,
     "metadata": {},
     "output_type": "execute_result"
    }
   ],
   "source": [
    "## Index 1 = Toshiba\n",
    "## Index 2 = Seagate\n",
    "## Index 3 = Western Digital\n",
    "## Index 4 = Total\n",
    "\n",
    "## Column 1 = Defective\n",
    "## Column 2 = Non-defective\n",
    "## Column 3 = Total\n",
    "Index = [12, 10, 7, 2]\n",
    "Columns = {1: [6, 4, 20,30], 2: [294, 196, 480,970], 3: [300,200,500,1000]}\n",
    "df = pd.DataFrame(data=Columns, index = Index)\n",
    "df"
   ]
  },
  {
   "attachments": {},
   "cell_type": "markdown",
   "metadata": {},
   "source": [
    "**a)** If a randomly chosen student from the ALI1 course is chosen and turns out to have received a 12 in ALI1, what is the probability that this student also received a 12 in SMP1? </br>\n",
    "$P(SMP12 | ALI12) = \\frac{ P(SMP12 \\cap ALI12)}{P(ALI12)}$"
   ]
  },
  {
   "cell_type": "code",
   "execution_count": 79,
   "metadata": {},
   "outputs": [
    {
     "data": {
      "text/latex": [
       "$\\displaystyle P(Western Digital)=0.4098$"
      ],
      "text/plain": [
       "<IPython.core.display.Math object>"
      ]
     },
     "metadata": {},
     "output_type": "display_data"
    }
   ],
   "source": [
    "p_smp_12_cap_ali_12= 25/214\n",
    "p_ali_12= (25+6+17+13)/214\n",
    "\n",
    "display(Math(\"P(SMP12 | ALI12)=\" + repr(round(p_smp_12_cap_ali_12/p_ali_12, 4))))"
   ]
  },
  {
   "attachments": {},
   "cell_type": "markdown",
   "metadata": {},
   "source": [
    "**c)** What is the probability that a person will receive a 12 in SMP1, given that they received less than 7 in ALI? </br>\n",
    "$P(SMP12 | ALIother) = \\frac{ P(SMP12 \\cap ALIother)}{P(ALIother)}$"
   ]
  },
  {
   "cell_type": "code",
   "execution_count": 80,
   "metadata": {},
   "outputs": [
    {
     "data": {
      "text/latex": [
       "$\\displaystyle P(Western Digital)=0.2041$"
      ],
      "text/plain": [
       "<IPython.core.display.Math object>"
      ]
     },
     "metadata": {},
     "output_type": "display_data"
    }
   ],
   "source": [
    "p_smp_12_cap_ali_other= 10/214\n",
    "p_ali_other= (10+8+11+20)/214\n",
    "\n",
    "display(Math(\"P(SMP12 | ALIother)=\" + repr(round(p_smp_12_cap_ali_other/p_ali_other, 4))))"
   ]
  },
  {
   "attachments": {},
   "cell_type": "markdown",
   "metadata": {},
   "source": [
    "**d)** What is the probability of receiving a 12 in ALI1 or a 12 in SMP?</br>\n",
    "$P(SMP12 \\cup ALI12) = \\frac{(25+6+17+13)}{Total}+ \\frac{(25+17+18+10)}{Total}$"
   ]
  },
  {
   "cell_type": "code",
   "execution_count": 82,
   "metadata": {},
   "outputs": [
    {
     "data": {
      "text/latex": [
       "$\\displaystyle P(SMP12 \\cup ALI12)=0.6121$"
      ],
      "text/plain": [
       "<IPython.core.display.Math object>"
      ]
     },
     "metadata": {},
     "output_type": "display_data"
    }
   ],
   "source": [
    "p_smp_12= (25+6+17+13)/214\n",
    "p_ali_12= (25+17+18+10)/214\n",
    "\n",
    "display(Math(\"P(SMP12 \\cup ALI12)=\" + repr(round(p_smp_12+p_ali_12, 4))))"
   ]
  },
  {
   "attachments": {},
   "cell_type": "markdown",
   "metadata": {},
   "source": [
    "## Exam 2016 New Test Assignment 2 \n",
    "The probability that a regularly scheduled flight departs on time is 0.83; the probability that it arrives on time is 0.82; and the probability that it departs and arrives on time is 0.78. Find the probability that a plane.</br>\n",
    "(a) probability departs on time = 0.83 </br>\n",
    "(b) probability arrives on time = 0.82 </br>\n",
    "(c) probability arrives an departs on time = 0.78 </br>"
   ]
  },
  {
   "attachments": {},
   "cell_type": "markdown",
   "metadata": {},
   "source": [
    "**a)** Arrives on time, given that it departed on time. </br>\n",
    "$P(b | a) = \\frac{ P(b \\cap a)}{P(a)}$"
   ]
  },
  {
   "cell_type": "code",
   "execution_count": 85,
   "metadata": {},
   "outputs": [
    {
     "data": {
      "text/latex": [
       "$\\displaystyle P(b | a)=0.9398$"
      ],
      "text/plain": [
       "<IPython.core.display.Math object>"
      ]
     },
     "metadata": {},
     "output_type": "display_data"
    }
   ],
   "source": [
    "p_a = 83/100\n",
    "p_b =82/100\n",
    "p_a_and_b=78/100\n",
    "\n",
    "display(Math(\"P(b | a)=\" + repr(round(p_a_and_b/p_a, 4))))"
   ]
  },
  {
   "attachments": {},
   "cell_type": "markdown",
   "metadata": {},
   "source": [
    "**b)** Departed on time, given that it has arrived on time </br>\n",
    "$P(a | b) = \\frac{ P(a \\cap b)}{P(a)}$"
   ]
  },
  {
   "cell_type": "code",
   "execution_count": 86,
   "metadata": {},
   "outputs": [
    {
     "data": {
      "text/latex": [
       "$\\displaystyle P(a | b)=0.9512$"
      ],
      "text/plain": [
       "<IPython.core.display.Math object>"
      ]
     },
     "metadata": {},
     "output_type": "display_data"
    }
   ],
   "source": [
    "display(Math(\"P(a | b)=\" + repr(round(p_a_and_b/p_b, 4))))"
   ]
  },
  {
   "attachments": {},
   "cell_type": "markdown",
   "metadata": {},
   "source": [
    "**c)** Departed on time, given that it has arrived on time </br>\n",
    "$P(b | \\overline{a}) = \\frac{ P(b \\cap \\overline{a})}{P(\\overline{a})} = \\frac{P(b)-P( b \\cap a)}{ 1- P(a)}$"
   ]
  },
  {
   "cell_type": "code",
   "execution_count": 87,
   "metadata": {},
   "outputs": [
    {
     "data": {
      "text/latex": [
       "$\\displaystyle P(b | \\overline{a})=0.2353$"
      ],
      "text/plain": [
       "<IPython.core.display.Math object>"
      ]
     },
     "metadata": {},
     "output_type": "display_data"
    }
   ],
   "source": [
    "display(Math(\"P(b | \\overline{a})=\" + repr(round( (p_b-p_a_and_b)/(1- p_a), 4))))"
   ]
  },
  {
   "attachments": {},
   "cell_type": "markdown",
   "metadata": {},
   "source": [
    "## Re-Exam 2016 Assignment 2 \n",
    "The probability that a regularly scheduled flight departs on time is 0.81; the probability that it arrives on time is 0.80; and the probability that it departs and arrives on time is 0.76 </br>\n",
    "(a) probability departs on time = 0.81 </br>\n",
    "(b) probability arrives on time = 0.80 </br>\n",
    "(c) probability arrives an departs on time = 0.76 </br>"
   ]
  },
  {
   "attachments": {},
   "cell_type": "markdown",
   "metadata": {},
   "source": [
    "Find the probability that a plane arrives on time, given that it did not depart on time\n",
    "$P(b | \\overline{a}) = \\frac{ P(b \\cap \\overline{a})}{P(\\overline{a})} = \\frac{P(b)-P( b \\cap a)}{ 1- P(a)}$"
   ]
  },
  {
   "cell_type": "code",
   "execution_count": 88,
   "metadata": {},
   "outputs": [
    {
     "data": {
      "text/latex": [
       "$\\displaystyle P(b | \\overline{a})=0.2105$"
      ],
      "text/plain": [
       "<IPython.core.display.Math object>"
      ]
     },
     "metadata": {},
     "output_type": "display_data"
    }
   ],
   "source": [
    "p_a =81/100 \n",
    "p_b = 80/100\n",
    "p_a_and_b=76/100\n",
    "\n",
    "display(Math(\"P(b | \\overline{a})=\" + repr(round( (p_b-p_a_and_b)/(1- p_a), 4))))"
   ]
  }
 ],
 "metadata": {
  "kernelspec": {
   "display_name": "Python 3",
   "language": "python",
   "name": "python3"
  },
  "language_info": {
   "codemirror_mode": {
    "name": "ipython",
    "version": 3
   },
   "file_extension": ".py",
   "mimetype": "text/x-python",
   "name": "python",
   "nbconvert_exporter": "python",
   "pygments_lexer": "ipython3",
   "version": "3.9.6"
  },
  "orig_nbformat": 4
 },
 "nbformat": 4,
 "nbformat_minor": 2
}
